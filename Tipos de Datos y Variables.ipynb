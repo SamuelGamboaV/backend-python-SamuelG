{
 "cells": [
  {
   "cell_type": "markdown",
   "id": "e507a57c",
   "metadata": {},
   "source": [
    "# Panorama\n",
    "\n",
    "int - Integer/Enteros\n",
    "\n",
    "float - Float/Números con Decimales\n",
    "\n",
    "complex - Complex/Complejos (Números con una parte real y una imaginaria)\n",
    "\n",
    "bool - Boolean (True/False) /Valores Lógicos (Verdadero/Falso)\n",
    "\n",
    "str - Strings / Cadenas, Textos"
   ]
  },
  {
   "cell_type": "markdown",
   "id": "9cf74d80",
   "metadata": {},
   "source": [
    "# int - Integers/Enteros"
   ]
  },
  {
   "cell_type": "code",
   "execution_count": null,
   "id": "9299c65e",
   "metadata": {},
   "outputs": [],
   "source": [
    "my_integer = 11\n",
    "print(\"El valor de my_integer es: \", my_integer)\n",
    "print(\"El tipo de dato de my_integer es: \", type(my_integer))"
   ]
  },
  {
   "cell_type": "code",
   "execution_count": null,
   "id": "adf765ed",
   "metadata": {},
   "outputs": [],
   "source": [
    "my_integer = 2022\n",
    "print(\"El valor de my_integer es: \", my_integer)\n",
    "print(\"El tipo de dato de my_integer es: \", type(my_integer))"
   ]
  },
  {
   "cell_type": "code",
   "execution_count": null,
   "id": "4bbcec91",
   "metadata": {},
   "outputs": [],
   "source": [
    "my_integer = 57831\n",
    "print(\"El valor de my_integer es: \", my_integer)\n",
    "print(\"El tipo de dato de my_integer es: \", type(my_integer))"
   ]
  },
  {
   "cell_type": "code",
   "execution_count": null,
   "id": "e5c77421",
   "metadata": {},
   "outputs": [],
   "source": [
    "# error\n",
    "my_integer = 57831d\n",
    "print(\"El valor de my_integer es: \", my_integer)\n",
    "print(\"El tipo de dato de my_integer es: \", type(my_integer))"
   ]
  },
  {
   "cell_type": "code",
   "execution_count": null,
   "id": "4354063b",
   "metadata": {},
   "outputs": [],
   "source": [
    "# error\n",
    "my_integer = 57831@\n",
    "print(\"El valor de my_integer es: \", my_integer)\n",
    "print(\"El tipo de dato de my_integer es: \", type(my_integer))"
   ]
  },
  {
   "cell_type": "markdown",
   "id": "d3c239d5",
   "metadata": {},
   "source": [
    "# float - Float/Números con Decimales"
   ]
  },
  {
   "cell_type": "code",
   "execution_count": null,
   "id": "286af15b",
   "metadata": {},
   "outputs": [],
   "source": [
    "my_float = 11.1\n",
    "print(\"El valor de my_float es: \", my_float)\n",
    "print(\"El tipo de dato de my_float es: \", type(my_float))"
   ]
  },
  {
   "cell_type": "code",
   "execution_count": null,
   "id": "00745963",
   "metadata": {},
   "outputs": [],
   "source": [
    "my_float = 11.0\n",
    "print(\"El valor de my_float es: \", my_float)\n",
    "print(\"El tipo de dato de my_float es: \", type(my_float))"
   ]
  },
  {
   "cell_type": "code",
   "execution_count": null,
   "id": "4b103ef0",
   "metadata": {},
   "outputs": [],
   "source": [
    "my_float = 11.0h\n",
    "print(\"El valor de my_float es: \", my_float)\n",
    "print(\"El tipo de dato de my_float es: \", type(my_float))"
   ]
  },
  {
   "cell_type": "code",
   "execution_count": null,
   "id": "84cf1f8c",
   "metadata": {},
   "outputs": [],
   "source": [
    "# Notación científica\n",
    "my_float = 2e3 # 2.0*10**3\n",
    "print(\"El valor de my_float es: \", my_float)\n",
    "print(\"El tipo de dato de my_float es: \", type(my_float))"
   ]
  },
  {
   "cell_type": "code",
   "execution_count": null,
   "id": "046c7a7c",
   "metadata": {},
   "outputs": [],
   "source": [
    "1.1"
   ]
  },
  {
   "cell_type": "code",
   "execution_count": null,
   "id": "a863a055",
   "metadata": {},
   "outputs": [],
   "source": [
    "1.1e0 # 1.1*10**0"
   ]
  },
  {
   "cell_type": "code",
   "execution_count": null,
   "id": "78b5d736",
   "metadata": {},
   "outputs": [],
   "source": [
    "1.1e1 # 1.1*10**1"
   ]
  },
  {
   "cell_type": "code",
   "execution_count": null,
   "id": "a8526329",
   "metadata": {},
   "outputs": [],
   "source": [
    "1.1e2 # 1.1*10**2"
   ]
  },
  {
   "cell_type": "code",
   "execution_count": null,
   "id": "edee6675",
   "metadata": {},
   "outputs": [],
   "source": [
    "1.1e3 # 1.1*10**3"
   ]
  },
  {
   "cell_type": "code",
   "execution_count": null,
   "id": "73f59573",
   "metadata": {},
   "outputs": [],
   "source": [
    "8e-2 # 8*10**-2"
   ]
  },
  {
   "cell_type": "markdown",
   "id": "60dcfcbf",
   "metadata": {},
   "source": [
    "# complex - Complex/Complejos (Números con una parte real y una imaginaria)\n",
    "\n",
    "complex = x + yj\n",
    "\n",
    "x = parte real\n",
    "yj = parte imaginaria"
   ]
  },
  {
   "cell_type": "code",
   "execution_count": null,
   "id": "45a9558a",
   "metadata": {},
   "outputs": [],
   "source": [
    "my_complex = 3+9j\n",
    "print(\"El valor de my_complex es: \", my_complex)\n",
    "print(\"El tipo de dato de my_complex es: \", type(my_complex))"
   ]
  },
  {
   "cell_type": "code",
   "execution_count": null,
   "id": "87ad6c59",
   "metadata": {},
   "outputs": [],
   "source": [
    "my_complex = 2+5j\n",
    "print(\"El valor de my_complex es: \", my_complex)\n",
    "print(\"El tipo de dato de my_complex es: \", type(my_complex))"
   ]
  },
  {
   "cell_type": "markdown",
   "id": "0b583f44",
   "metadata": {},
   "source": [
    "# bool - Boolean (True/False) /Valores Lógicos (Verdadero/Falso)"
   ]
  },
  {
   "cell_type": "code",
   "execution_count": null,
   "id": "a2fe8985",
   "metadata": {},
   "outputs": [],
   "source": [
    "my_boolean = False\n",
    "print(\"El valor de my_boolean es: \", my_boolean)\n",
    "print(\"El tipo de dato de my_boolean es: \", type(my_boolean))"
   ]
  },
  {
   "cell_type": "code",
   "execution_count": null,
   "id": "32f6be16",
   "metadata": {},
   "outputs": [],
   "source": [
    "my_boolean = True\n",
    "print(\"El valor de my_boolean es: \", my_boolean)\n",
    "print(\"El tipo de dato de my_boolean es: \", type(my_boolean))"
   ]
  },
  {
   "cell_type": "code",
   "execution_count": null,
   "id": "bb934303",
   "metadata": {},
   "outputs": [],
   "source": [
    "# True = 1\n",
    "# False = 0"
   ]
  },
  {
   "cell_type": "code",
   "execution_count": null,
   "id": "7d5dbf10",
   "metadata": {},
   "outputs": [],
   "source": [
    "# 3\n",
    "print(True+True+True)"
   ]
  },
  {
   "cell_type": "code",
   "execution_count": null,
   "id": "6c79758b",
   "metadata": {},
   "outputs": [],
   "source": [
    "# 0\n",
    "print(False+False+False)"
   ]
  },
  {
   "cell_type": "code",
   "execution_count": null,
   "id": "7d45e571",
   "metadata": {},
   "outputs": [],
   "source": [
    "# 2\n",
    "print(True+True+False)"
   ]
  },
  {
   "cell_type": "code",
   "execution_count": null,
   "id": "1f97b655",
   "metadata": {},
   "outputs": [],
   "source": [
    "# 1\n",
    "print(True-True+True)"
   ]
  },
  {
   "cell_type": "code",
   "execution_count": null,
   "id": "cb6fe39b",
   "metadata": {},
   "outputs": [],
   "source": [
    "# -2\n",
    "print(False-True-True)"
   ]
  },
  {
   "cell_type": "markdown",
   "id": "f87bf8b9",
   "metadata": {},
   "source": [
    "# str - Strings / Cadenas, Textos"
   ]
  },
  {
   "cell_type": "code",
   "execution_count": null,
   "id": "3b0bbfcf",
   "metadata": {},
   "outputs": [],
   "source": [
    "my_string = \"Backend Python\"\n",
    "print(\"El valor de my_string es: \", my_string)\n",
    "print(\"El tipo de dato de my_string es: \", type(my_string))"
   ]
  },
  {
   "cell_type": "code",
   "execution_count": null,
   "id": "645aea31",
   "metadata": {},
   "outputs": [],
   "source": [
    "my_string = \"Curso de EBAC\"\n",
    "print(\"El valor de my_string es: \", my_string)\n",
    "print(\"El tipo de dato de my_string es: \", type(my_string))"
   ]
  },
  {
   "cell_type": "code",
   "execution_count": null,
   "id": "6a80a28a",
   "metadata": {},
   "outputs": [],
   "source": [
    "my_string = \"Aprendiendo a usar strings/cadenas/textos\"\n",
    "print(\"El valor de my_string es: \", my_string)\n",
    "print(\"El tipo de dato de my_string es: \", type(my_string))"
   ]
  },
  {
   "cell_type": "code",
   "execution_count": null,
   "id": "0210c141",
   "metadata": {},
   "outputs": [],
   "source": [
    "my_string = 'You're amazing\n",
    "print(\"El valor de my_string es: \", my_string)\n",
    "print(\"El tipo de dato de my_string es: \", type(my_string))"
   ]
  },
  {
   "cell_type": "code",
   "execution_count": null,
   "id": "fa2ac4a5",
   "metadata": {},
   "outputs": [],
   "source": [
    "my_string = \"\"\"\n",
    "Es una cadena con múltiples líneas \\n\n",
    "Como puedes ver es genial para textos más largos \\n\n",
    "¿Puedes imaginar cuántas cosas podrías hacer manejando texto de Internet?\"\"\"\n",
    "print(\"El valor de my_string es: \", my_string)\n",
    "print(\"El tipo de dato de my_string es: \", type(my_string))"
   ]
  },
  {
   "cell_type": "markdown",
   "id": "a83b1433",
   "metadata": {},
   "source": [
    "# Variables\n",
    "\n",
    "### ¿Qué es una variable?\n",
    "- Son un espacio temporal para guardar un valor con un nombre expecífico\n",
    "- No hay necesidad de declarar el tipo de dato explícitamente\n",
    "- Python es un lenguaje tipado dinámicamente, lo que quiere decir que el tipo de dato se define mientras corre el programa\n",
    "- Las variables en Python funcionan diferente que otros Lenguajes de Programación\n",
    "- NO necesitamos crear variable, solo asignamos un nombre a un valor usando el operador de asignación\n",
    "\n",
    "### Tipos de variables:\n",
    "- Variables Globales: aquellas que se utilizarán para todo el programa\n",
    "- Variables Locales: aquellas que se van a utilizar sólo en un bloque específico"
   ]
  },
  {
   "cell_type": "markdown",
   "id": "5e207bfb",
   "metadata": {},
   "source": [
    "# Variables Globales\n",
    "- Declaramos variables globales afuera de funciones\n",
    "- El valor de la variable puede ser constante para todo el programa\n",
    "- Cualquier función podrá acceder a estas variables\n",
    "- Podemos decir que las Variables Globales tienen un alcance global\n",
    "- Normalmente son más usadas para constantes\n",
    "- Las Variables Globales mantienen sus valores a través de la ejecución completa de tu programa\n",
    "- Una Variable Global puede ser accesada por cualquier función"
   ]
  },
  {
   "cell_type": "code",
   "execution_count": null,
   "id": "e2f609db",
   "metadata": {},
   "outputs": [],
   "source": [
    "# Variable Global\n",
    "my_global_variable=50\n",
    "\n",
    "def my_function_1():\n",
    "    pass\n",
    "\n",
    "def my_function_2():\n",
    "    pass"
   ]
  },
  {
   "cell_type": "code",
   "execution_count": null,
   "id": "ea0b03eb",
   "metadata": {},
   "outputs": [],
   "source": [
    "# Variables Locales\n",
    "\n",
    "def my_function_1():\n",
    "    my_local_variable=5\n",
    "    \n",
    "def my_function_2():\n",
    "    my_local_variable=35"
   ]
  },
  {
   "cell_type": "code",
   "execution_count": null,
   "id": "7f2bcb34",
   "metadata": {},
   "outputs": [],
   "source": [
    "# Variable Global\n",
    "my_global_variable=50\n",
    "\n",
    "def my_function_1():\n",
    "    print(\"my_function_1 - el valor de my_global_variable es: \", my_global_variable)\n",
    "def my_function_2():\n",
    "    print(\"my_function_2 - el valor de my_global_variable es: \", my_global_variable)"
   ]
  },
  {
   "cell_type": "code",
   "execution_count": null,
   "id": "c7799c63",
   "metadata": {},
   "outputs": [],
   "source": [
    "my_function_1()"
   ]
  },
  {
   "cell_type": "code",
   "execution_count": null,
   "id": "e64f6086",
   "metadata": {},
   "outputs": [],
   "source": [
    "my_function_2()"
   ]
  },
  {
   "cell_type": "code",
   "execution_count": null,
   "id": "98a8a441",
   "metadata": {},
   "outputs": [],
   "source": [
    "# Preferencia al valor local, y después al global\n",
    "my_variable=50 #Global\n",
    "\n",
    "def my_function_1():\n",
    "    my_variable=10 # Local\n",
    "    print(\"my_function_1 - el valor de my_variable es: \", my_variable)\n",
    "    \n",
    "def my_function_2():\n",
    "    my_variable=20 # Local\n",
    "    print(\"my_function_2 - el valor de my_variable es: \", my_variable)\n",
    "    \n",
    "def my_function_3():\n",
    "    print(\"my_function_3 - el valor de my_variable es: \", my_variable)"
   ]
  },
  {
   "cell_type": "code",
   "execution_count": null,
   "id": "589a3286",
   "metadata": {},
   "outputs": [],
   "source": [
    "my_function_1()"
   ]
  },
  {
   "cell_type": "code",
   "execution_count": null,
   "id": "e08d9a19",
   "metadata": {},
   "outputs": [],
   "source": [
    "my_function_2()"
   ]
  },
  {
   "cell_type": "code",
   "execution_count": null,
   "id": "68906775",
   "metadata": {},
   "outputs": [],
   "source": [
    "my_function_3()"
   ]
  },
  {
   "cell_type": "markdown",
   "id": "305ec946",
   "metadata": {},
   "source": [
    "# Variables Locales\n",
    "- Podemos usarlas dentro de una función\n",
    "- Podemos tener una restricción al acceder a una variable local desde otra función\n",
    "- No podemos usarlas durante todo el programa\n",
    "- El alcance y visibilidad se limita al interior de la función\n",
    "- Lo que dure la función será lo que dure el alcance de nuestra variable"
   ]
  },
  {
   "cell_type": "code",
   "execution_count": null,
   "id": "6bec911f",
   "metadata": {},
   "outputs": [],
   "source": [
    "# Variable Global\n",
    "my_global_variable=50\n",
    "\n",
    "def my_function_1():\n",
    "    pass\n",
    "\n",
    "def my_function_2():\n",
    "    pass"
   ]
  },
  {
   "cell_type": "code",
   "execution_count": null,
   "id": "193f314a",
   "metadata": {},
   "outputs": [],
   "source": [
    "# Variables Locales\n",
    "\n",
    "def my_function_1():\n",
    "    my_local_variable=5\n",
    "    \n",
    "def my_function_2():\n",
    "    my_local_variable=35"
   ]
  },
  {
   "cell_type": "code",
   "execution_count": 2,
   "id": "1176038c",
   "metadata": {},
   "outputs": [],
   "source": [
    "def my_function_1():\n",
    "    my_variable=10 # Local\n",
    "    print(\"my_function_1 - el valor de my_variable es: \", my_variable)\n",
    "    \n",
    "def my_function_2():\n",
    "    my_variable=20 # Local\n",
    "    print(\"my_function_2 - el valor de my_variable es: \", my_variable)\n",
    "    \n",
    "def my_function_3():\n",
    "    print(\"my_function_3 - el valor de my_variable es: \", my_variable)"
   ]
  },
  {
   "cell_type": "code",
   "execution_count": 3,
   "id": "28cc0f98",
   "metadata": {},
   "outputs": [
    {
     "name": "stdout",
     "output_type": "stream",
     "text": [
      "my_function_1 - el valor de my_variable es:  10\n"
     ]
    }
   ],
   "source": [
    "my_function_1()"
   ]
  },
  {
   "cell_type": "code",
   "execution_count": 4,
   "id": "b20f305c",
   "metadata": {},
   "outputs": [
    {
     "name": "stdout",
     "output_type": "stream",
     "text": [
      "my_function_2 - el valor de my_variable es:  20\n"
     ]
    }
   ],
   "source": [
    "my_function_2()"
   ]
  },
  {
   "cell_type": "code",
   "execution_count": 6,
   "id": "302c35d8",
   "metadata": {},
   "outputs": [
    {
     "ename": "NameError",
     "evalue": "name 'my_variable' is not defined",
     "output_type": "error",
     "traceback": [
      "\u001b[1;31m---------------------------------------------------------------------------\u001b[0m",
      "\u001b[1;31mNameError\u001b[0m                                 Traceback (most recent call last)",
      "Cell \u001b[1;32mIn[6], line 2\u001b[0m\n\u001b[0;32m      1\u001b[0m \u001b[38;5;66;03m# error\u001b[39;00m\n\u001b[1;32m----> 2\u001b[0m my_function_3()\n",
      "Cell \u001b[1;32mIn[2], line 10\u001b[0m, in \u001b[0;36mmy_function_3\u001b[1;34m()\u001b[0m\n\u001b[0;32m      9\u001b[0m \u001b[38;5;28;01mdef\u001b[39;00m \u001b[38;5;21mmy_function_3\u001b[39m():\n\u001b[1;32m---> 10\u001b[0m     \u001b[38;5;28mprint\u001b[39m(\u001b[38;5;124m\"\u001b[39m\u001b[38;5;124mmy_function_3 - el valor de my_variable es: \u001b[39m\u001b[38;5;124m\"\u001b[39m, my_variable)\n",
      "\u001b[1;31mNameError\u001b[0m: name 'my_variable' is not defined"
     ]
    }
   ],
   "source": [
    "# error\n",
    "my_function_3()"
   ]
  },
  {
   "cell_type": "markdown",
   "id": "718e7ff5",
   "metadata": {},
   "source": [
    "# Palabra reservada \"global\""
   ]
  },
  {
   "cell_type": "code",
   "execution_count": 11,
   "id": "af0a9d77",
   "metadata": {},
   "outputs": [],
   "source": [
    "def my_function_1():\n",
    "    my_variable=10 # Local\n",
    "    print(\"my_function_1 - el valor de my_variable es: \", my_variable)\n",
    "    \n",
    "def my_function_2():\n",
    "    global my_variable # Global\n",
    "    my_variable=20\n",
    "    print(\"my_function_2 - el valor de my_variable es: \", my_variable)\n",
    "    \n",
    "def my_function_3():\n",
    "    print(\"my_function_3 - el valor de my_variable es: \", my_variable)"
   ]
  },
  {
   "cell_type": "code",
   "execution_count": 12,
   "id": "60e6622a",
   "metadata": {},
   "outputs": [
    {
     "name": "stdout",
     "output_type": "stream",
     "text": [
      "my_function_1 - el valor de my_variable es:  10\n"
     ]
    }
   ],
   "source": [
    "my_function_1()"
   ]
  },
  {
   "cell_type": "code",
   "execution_count": 13,
   "id": "1109c806",
   "metadata": {},
   "outputs": [
    {
     "name": "stdout",
     "output_type": "stream",
     "text": [
      "my_function_2 - el valor de my_variable es:  20\n"
     ]
    }
   ],
   "source": [
    "my_function_2()"
   ]
  },
  {
   "cell_type": "code",
   "execution_count": 14,
   "id": "f7801ed7",
   "metadata": {},
   "outputs": [
    {
     "name": "stdout",
     "output_type": "stream",
     "text": [
      "my_function_3 - el valor de my_variable es:  20\n"
     ]
    }
   ],
   "source": [
    "my_function_3()"
   ]
  },
  {
   "cell_type": "code",
   "execution_count": 15,
   "id": "63e346bb",
   "metadata": {},
   "outputs": [],
   "source": [
    "def my_function_1():\n",
    "    my_variable=10 # Local\n",
    "    print(\"my_function_1 - el valor de my_variable es: \", my_variable)\n",
    "    \n",
    "def my_function_2():\n",
    "    global a, b , c, d, e # Global\n",
    "    a=10\n",
    "    b=20\n",
    "    c=30\n",
    "    d=40\n",
    "    e=50\n",
    "    print(\"my_function_2 - el valor de a es: \", a)\n",
    "    print(\"my_function_2 - el valor de b es: \", b)\n",
    "    print(\"my_function_2 - el valor de c es: \", c)\n",
    "    print(\"my_function_2 - el valor de d es: \", d)\n",
    "    print(\"my_function_2 - el valor de e es: \", e)\n",
    "    \n",
    "def my_function_3():\n",
    "    print(\"my_function_3 - el valor de a es: \", a)\n",
    "    print(\"my_function_3 - el valor de b es: \", b)\n",
    "    print(\"my_function_3 - el valor de c es: \", c)\n",
    "    print(\"my_function_3 - el valor de d es: \", d)\n",
    "    print(\"my_function_3 - el valor de e es: \", e)"
   ]
  },
  {
   "cell_type": "code",
   "execution_count": 16,
   "id": "7ed73e07",
   "metadata": {},
   "outputs": [
    {
     "name": "stdout",
     "output_type": "stream",
     "text": [
      "my_function_1 - el valor de my_variable es:  10\n"
     ]
    }
   ],
   "source": [
    "my_function_1()"
   ]
  },
  {
   "cell_type": "code",
   "execution_count": 17,
   "id": "758b1d3a",
   "metadata": {},
   "outputs": [
    {
     "name": "stdout",
     "output_type": "stream",
     "text": [
      "my_function_2 - el valor de a es:  10\n",
      "my_function_2 - el valor de b es:  20\n",
      "my_function_2 - el valor de c es:  30\n",
      "my_function_2 - el valor de d es:  40\n",
      "my_function_2 - el valor de e es:  50\n"
     ]
    }
   ],
   "source": [
    "my_function_2()"
   ]
  },
  {
   "cell_type": "code",
   "execution_count": 18,
   "id": "439cf1d5",
   "metadata": {},
   "outputs": [
    {
     "name": "stdout",
     "output_type": "stream",
     "text": [
      "my_function_3 - el valor de a es:  10\n",
      "my_function_3 - el valor de b es:  20\n",
      "my_function_3 - el valor de c es:  30\n",
      "my_function_3 - el valor de d es:  40\n",
      "my_function_3 - el valor de e es:  50\n"
     ]
    }
   ],
   "source": [
    "my_function_3()"
   ]
  },
  {
   "cell_type": "markdown",
   "id": "36306966",
   "metadata": {},
   "source": [
    "# Tipos de Enteros\n",
    "- Forma Decimal\n",
    "- Forma Binaria\n",
    "- Forma Octal\n",
    "- Forma Hexadecimal"
   ]
  },
  {
   "cell_type": "markdown",
   "id": "ff85c718",
   "metadata": {},
   "source": [
    "# Forma Decimal"
   ]
  },
  {
   "cell_type": "code",
   "execution_count": 19,
   "id": "be9d7c10",
   "metadata": {},
   "outputs": [
    {
     "name": "stdout",
     "output_type": "stream",
     "text": [
      "El valor de my_decimal_number es:  55\n"
     ]
    }
   ],
   "source": [
    "my_decimal_number = 55\n",
    "print (\"El valor de my_decimal_number es: \", my_decimal_number)"
   ]
  },
  {
   "cell_type": "code",
   "execution_count": 20,
   "id": "937c0825",
   "metadata": {},
   "outputs": [
    {
     "name": "stdout",
     "output_type": "stream",
     "text": [
      "El valor de my_decimal_number es:  518619198198198\n"
     ]
    }
   ],
   "source": [
    "my_decimal_number = 518619198198198\n",
    "print (\"El valor de my_decimal_number es: \", my_decimal_number)"
   ]
  },
  {
   "cell_type": "code",
   "execution_count": 22,
   "id": "502190cf",
   "metadata": {},
   "outputs": [
    {
     "ename": "SyntaxError",
     "evalue": "invalid decimal literal (2805538574.py, line 2)",
     "output_type": "error",
     "traceback": [
      "\u001b[1;36m  Cell \u001b[1;32mIn[22], line 2\u001b[1;36m\u001b[0m\n\u001b[1;33m    my_decimal_number = 55d\u001b[0m\n\u001b[1;37m                         ^\u001b[0m\n\u001b[1;31mSyntaxError\u001b[0m\u001b[1;31m:\u001b[0m invalid decimal literal\n"
     ]
    }
   ],
   "source": [
    "# error\n",
    "my_decimal_number = 55d\n",
    "print (\"El valor de my_decimal_number es: \", my_decimal_number)"
   ]
  },
  {
   "cell_type": "code",
   "execution_count": 23,
   "id": "608bbde4",
   "metadata": {},
   "outputs": [
    {
     "ename": "SyntaxError",
     "evalue": "invalid syntax (3068666279.py, line 2)",
     "output_type": "error",
     "traceback": [
      "\u001b[1;36m  Cell \u001b[1;32mIn[23], line 2\u001b[1;36m\u001b[0m\n\u001b[1;33m    my_decimal_number = 55@\u001b[0m\n\u001b[1;37m                           ^\u001b[0m\n\u001b[1;31mSyntaxError\u001b[0m\u001b[1;31m:\u001b[0m invalid syntax\n"
     ]
    }
   ],
   "source": [
    "# error\n",
    "my_decimal_number = 55@\n",
    "print (\"El valor de my_decimal_number es: \", my_decimal_number)"
   ]
  },
  {
   "cell_type": "markdown",
   "id": "ffe39cf0",
   "metadata": {},
   "source": [
    "# Forma Binaria\n",
    "- Código organizado en bytes\n",
    "- Lenguaje Binario\n",
    "- Lenguaje de las Máquinas (1 y 0)\n",
    "\n",
    "## Valor Base: 2\n",
    "- Solamente acepta dos dígitos (1 y 0)\n",
    "- Usamos el prefijo '0b' o '0B'"
   ]
  },
  {
   "cell_type": "code",
   "execution_count": 27,
   "id": "8c67c5ed",
   "metadata": {},
   "outputs": [
    {
     "name": "stdout",
     "output_type": "stream",
     "text": [
      "El valor de my_decimal_number es:  11\n"
     ]
    }
   ],
   "source": [
    "my_decimal_number = 11\n",
    "print (\"El valor de my_decimal_number es: \", my_decimal_number)"
   ]
  },
  {
   "cell_type": "code",
   "execution_count": 26,
   "id": "e3fe00d7",
   "metadata": {},
   "outputs": [
    {
     "name": "stdout",
     "output_type": "stream",
     "text": [
      "El valor de my_binary_number es:  3\n"
     ]
    }
   ],
   "source": [
    "my_binary_number = 0b11 # 1*2**1 + 1*2**0\n",
    "print (\"El valor de my_binary_number es: \", my_binary_number)"
   ]
  },
  {
   "cell_type": "code",
   "execution_count": 28,
   "id": "a11f3557",
   "metadata": {},
   "outputs": [
    {
     "name": "stdout",
     "output_type": "stream",
     "text": [
      "El valor de my_decimal_number es:  111\n"
     ]
    }
   ],
   "source": [
    "my_decimal_number = 111\n",
    "print (\"El valor de my_decimal_number es: \", my_decimal_number)"
   ]
  },
  {
   "cell_type": "code",
   "execution_count": 29,
   "id": "c6398f5f",
   "metadata": {},
   "outputs": [
    {
     "name": "stdout",
     "output_type": "stream",
     "text": [
      "El valor de my_binary_number es:  7\n"
     ]
    }
   ],
   "source": [
    "my_binary_number = 0B111 # 1*2**2 1*2**1 + 1*2**0\n",
    "print (\"El valor de my_binary_number es: \", my_binary_number)"
   ]
  },
  {
   "cell_type": "markdown",
   "id": "493ef08e",
   "metadata": {},
   "source": [
    "# Forma Octal\n",
    "\n",
    "### Valor Base: 8\n",
    "- solamente acepta dígitos del 0 al 7\n",
    "- Usamos el prefijo '0o' o '0O'"
   ]
  },
  {
   "cell_type": "code",
   "execution_count": 30,
   "id": "fe668f36",
   "metadata": {},
   "outputs": [
    {
     "name": "stdout",
     "output_type": "stream",
     "text": [
      "El valor de my_decimal_number es:  17\n"
     ]
    }
   ],
   "source": [
    "my_decimal_number = 17\n",
    "print (\"El valor de my_decimal_number es: \", my_decimal_number)"
   ]
  },
  {
   "cell_type": "code",
   "execution_count": 33,
   "id": "5827a1a0",
   "metadata": {},
   "outputs": [
    {
     "name": "stdout",
     "output_type": "stream",
     "text": [
      "El valor de my_octal_number es:  15\n"
     ]
    }
   ],
   "source": [
    "my_octal_number = 0O17 # 1*8**1 + 7*8**0\n",
    "print (\"El valor de my_octal_number es: \", my_octal_number)"
   ]
  },
  {
   "cell_type": "code",
   "execution_count": 34,
   "id": "98bf64dc",
   "metadata": {},
   "outputs": [
    {
     "name": "stdout",
     "output_type": "stream",
     "text": [
      "El valor de my_decimal_number es:  153\n"
     ]
    }
   ],
   "source": [
    "my_decimal_number = 153\n",
    "print (\"El valor de my_decimal_number es: \", my_decimal_number)"
   ]
  },
  {
   "cell_type": "code",
   "execution_count": 36,
   "id": "52060602",
   "metadata": {},
   "outputs": [
    {
     "name": "stdout",
     "output_type": "stream",
     "text": [
      "El valor de my_octal_number es:  107\n"
     ]
    }
   ],
   "source": [
    "my_octal_number = 0O153 # 1*8**2 + 5*8**1 + 3*8**0\n",
    "print (\"El valor de my_octal_number es: \", my_octal_number)"
   ]
  },
  {
   "cell_type": "markdown",
   "id": "d79343dc",
   "metadata": {},
   "source": [
    "# Forma Hexadecimal\n",
    "\n",
    "### Valor Base: 16\n",
    "- Acepta dígitos del 0 al 9\n",
    "- Acepta letras de la 'a/A' a la 'f/F'\n",
    "- Usamos el prefijo '0x' o '0X'\n",
    "\n",
    "- 0\n",
    "- 1\n",
    "- 2\n",
    "- 3\n",
    "- 4\n",
    "- 5\n",
    "- 6\n",
    "- 7\n",
    "- 8\n",
    "- 9\n",
    "- A = 10\n",
    "- B = 11\n",
    "- C = 12\n",
    "- D = 13\n",
    "- E = 14\n",
    "- F = 15"
   ]
  },
  {
   "cell_type": "code",
   "execution_count": 37,
   "id": "056bba33",
   "metadata": {},
   "outputs": [
    {
     "name": "stdout",
     "output_type": "stream",
     "text": [
      "El valor de my_decimal_number es:  17\n"
     ]
    }
   ],
   "source": [
    "my_decimal_number = 17\n",
    "print (\"El valor de my_decimal_number es: \", my_decimal_number)"
   ]
  },
  {
   "cell_type": "code",
   "execution_count": 38,
   "id": "3fbdc991",
   "metadata": {},
   "outputs": [
    {
     "name": "stdout",
     "output_type": "stream",
     "text": [
      "El valor de my_hex_number es:  23\n"
     ]
    }
   ],
   "source": [
    "my_hex_number = 0x17 # 1*16**11 + 7*16**0\n",
    "print (\"El valor de my_hex_number es: \", my_hex_number)"
   ]
  },
  {
   "cell_type": "code",
   "execution_count": 39,
   "id": "abd5e585",
   "metadata": {},
   "outputs": [
    {
     "name": "stdout",
     "output_type": "stream",
     "text": [
      "El valor de my_hex_number es:  28\n"
     ]
    }
   ],
   "source": [
    "my_hex_number = 0x1C # 1*16**11 + 12*16**0\n",
    "print (\"El valor de my_hex_number es: \", my_hex_number)"
   ]
  },
  {
   "cell_type": "code",
   "execution_count": null,
   "id": "cf8fa0b9",
   "metadata": {},
   "outputs": [],
   "source": []
  }
 ],
 "metadata": {
  "kernelspec": {
   "display_name": "Python 3 (ipykernel)",
   "language": "python",
   "name": "python3"
  },
  "language_info": {
   "codemirror_mode": {
    "name": "ipython",
    "version": 3
   },
   "file_extension": ".py",
   "mimetype": "text/x-python",
   "name": "python",
   "nbconvert_exporter": "python",
   "pygments_lexer": "ipython3",
   "version": "3.11.3"
  }
 },
 "nbformat": 4,
 "nbformat_minor": 5
}
