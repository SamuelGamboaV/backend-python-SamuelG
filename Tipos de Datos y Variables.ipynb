{
 "cells": [
  {
   "cell_type": "markdown",
   "id": "e507a57c",
   "metadata": {},
   "source": [
    "# Panorama\n",
    "\n",
    "int - Integer/Enteros\n",
    "\n",
    "float - Float/Números con Decimales\n",
    "\n",
    "complex - Complex/Complejos (Números con una parte real y una imaginaria)\n",
    "\n",
    "bool - Boolean (True/False) /Valores Lógicos (Verdadero/Falso)\n",
    "\n",
    "str - Strings / Cadenas, Textos"
   ]
  },
  {
   "cell_type": "markdown",
   "id": "9cf74d80",
   "metadata": {},
   "source": [
    "# int - Integers/Enteros"
   ]
  },
  {
   "cell_type": "code",
   "execution_count": null,
   "id": "9299c65e",
   "metadata": {},
   "outputs": [],
   "source": [
    "my_integer = 11\n",
    "print(\"El valor de my_integer es: \", my_integer)\n",
    "print(\"El tipo de dato de my_integer es: \", type(my_integer))"
   ]
  },
  {
   "cell_type": "code",
   "execution_count": null,
   "id": "adf765ed",
   "metadata": {},
   "outputs": [],
   "source": [
    "my_integer = 2022\n",
    "print(\"El valor de my_integer es: \", my_integer)\n",
    "print(\"El tipo de dato de my_integer es: \", type(my_integer))"
   ]
  },
  {
   "cell_type": "code",
   "execution_count": null,
   "id": "4bbcec91",
   "metadata": {},
   "outputs": [],
   "source": [
    "my_integer = 57831\n",
    "print(\"El valor de my_integer es: \", my_integer)\n",
    "print(\"El tipo de dato de my_integer es: \", type(my_integer))"
   ]
  },
  {
   "cell_type": "code",
   "execution_count": null,
   "id": "e5c77421",
   "metadata": {},
   "outputs": [],
   "source": [
    "# error\n",
    "my_integer = 57831d\n",
    "print(\"El valor de my_integer es: \", my_integer)\n",
    "print(\"El tipo de dato de my_integer es: \", type(my_integer))"
   ]
  },
  {
   "cell_type": "code",
   "execution_count": null,
   "id": "4354063b",
   "metadata": {},
   "outputs": [],
   "source": [
    "# error\n",
    "my_integer = 57831@\n",
    "print(\"El valor de my_integer es: \", my_integer)\n",
    "print(\"El tipo de dato de my_integer es: \", type(my_integer))"
   ]
  },
  {
   "cell_type": "markdown",
   "id": "d3c239d5",
   "metadata": {},
   "source": [
    "# float - Float/Números con Decimales"
   ]
  },
  {
   "cell_type": "code",
   "execution_count": null,
   "id": "286af15b",
   "metadata": {},
   "outputs": [],
   "source": [
    "my_float = 11.1\n",
    "print(\"El valor de my_float es: \", my_float)\n",
    "print(\"El tipo de dato de my_float es: \", type(my_float))"
   ]
  },
  {
   "cell_type": "code",
   "execution_count": null,
   "id": "00745963",
   "metadata": {},
   "outputs": [],
   "source": [
    "my_float = 11.0\n",
    "print(\"El valor de my_float es: \", my_float)\n",
    "print(\"El tipo de dato de my_float es: \", type(my_float))"
   ]
  },
  {
   "cell_type": "code",
   "execution_count": null,
   "id": "4b103ef0",
   "metadata": {},
   "outputs": [],
   "source": [
    "my_float = 11.0h\n",
    "print(\"El valor de my_float es: \", my_float)\n",
    "print(\"El tipo de dato de my_float es: \", type(my_float))"
   ]
  },
  {
   "cell_type": "code",
   "execution_count": null,
   "id": "84cf1f8c",
   "metadata": {},
   "outputs": [],
   "source": [
    "# Notación científica\n",
    "my_float = 2e3 # 2.0*10**3\n",
    "print(\"El valor de my_float es: \", my_float)\n",
    "print(\"El tipo de dato de my_float es: \", type(my_float))"
   ]
  },
  {
   "cell_type": "code",
   "execution_count": null,
   "id": "046c7a7c",
   "metadata": {},
   "outputs": [],
   "source": [
    "1.1"
   ]
  },
  {
   "cell_type": "code",
   "execution_count": null,
   "id": "a863a055",
   "metadata": {},
   "outputs": [],
   "source": [
    "1.1e0 # 1.1*10**0"
   ]
  },
  {
   "cell_type": "code",
   "execution_count": null,
   "id": "78b5d736",
   "metadata": {},
   "outputs": [],
   "source": [
    "1.1e1 # 1.1*10**1"
   ]
  },
  {
   "cell_type": "code",
   "execution_count": null,
   "id": "a8526329",
   "metadata": {},
   "outputs": [],
   "source": [
    "1.1e2 # 1.1*10**2"
   ]
  },
  {
   "cell_type": "code",
   "execution_count": null,
   "id": "edee6675",
   "metadata": {},
   "outputs": [],
   "source": [
    "1.1e3 # 1.1*10**3"
   ]
  },
  {
   "cell_type": "code",
   "execution_count": null,
   "id": "73f59573",
   "metadata": {},
   "outputs": [],
   "source": [
    "8e-2 # 8*10**-2"
   ]
  },
  {
   "cell_type": "markdown",
   "id": "3591bb82",
   "metadata": {},
   "source": [
    "# complex - Complex/Complejos (Números con una parte real y una imaginaria)\n",
    "\n",
    "complex = x + yj\n",
    "\n",
    "x = parte real\n",
    "yj = parte imaginaria"
   ]
  },
  {
   "cell_type": "code",
   "execution_count": null,
   "id": "f636402e",
   "metadata": {},
   "outputs": [],
   "source": [
    "my_complex = 3+9j\n",
    "print(\"El valor de my_complex es: \", my_complex)\n",
    "print(\"El tipo de dato de my_complex es: \", type(my_complex))"
   ]
  },
  {
   "cell_type": "code",
   "execution_count": null,
   "id": "3c14d781",
   "metadata": {},
   "outputs": [],
   "source": [
    "my_complex = 2+5j\n",
    "print(\"El valor de my_complex es: \", my_complex)\n",
    "print(\"El tipo de dato de my_complex es: \", type(my_complex))"
   ]
  },
  {
   "cell_type": "markdown",
   "id": "eef6405f",
   "metadata": {},
   "source": [
    "# bool - Boolean (True/False) /Valores Lógicos (Verdadero/Falso)"
   ]
  },
  {
   "cell_type": "code",
   "execution_count": null,
   "id": "d4de315e",
   "metadata": {},
   "outputs": [],
   "source": [
    "my_boolean = False\n",
    "print(\"El valor de my_boolean es: \", my_boolean)\n",
    "print(\"El tipo de dato de my_boolean es: \", type(my_boolean))"
   ]
  },
  {
   "cell_type": "code",
   "execution_count": null,
   "id": "7d0f3059",
   "metadata": {},
   "outputs": [],
   "source": [
    "my_boolean = True\n",
    "print(\"El valor de my_boolean es: \", my_boolean)\n",
    "print(\"El tipo de dato de my_boolean es: \", type(my_boolean))"
   ]
  },
  {
   "cell_type": "code",
   "execution_count": null,
   "id": "32658545",
   "metadata": {},
   "outputs": [],
   "source": [
    "# True = 1\n",
    "# False = 0"
   ]
  },
  {
   "cell_type": "code",
   "execution_count": null,
   "id": "1f3cea09",
   "metadata": {},
   "outputs": [],
   "source": [
    "# 3\n",
    "print(True+True+True)"
   ]
  },
  {
   "cell_type": "code",
   "execution_count": null,
   "id": "3fe78828",
   "metadata": {},
   "outputs": [],
   "source": [
    "# 0\n",
    "print(False+False+False)"
   ]
  },
  {
   "cell_type": "code",
   "execution_count": null,
   "id": "7910de5a",
   "metadata": {},
   "outputs": [],
   "source": [
    "# 2\n",
    "print(True+True+False)"
   ]
  },
  {
   "cell_type": "code",
   "execution_count": null,
   "id": "675aebe2",
   "metadata": {},
   "outputs": [],
   "source": [
    "# 1\n",
    "print(True-True+True)"
   ]
  },
  {
   "cell_type": "code",
   "execution_count": null,
   "id": "d52430bd",
   "metadata": {},
   "outputs": [],
   "source": [
    "# -2\n",
    "print(False-True-True)"
   ]
  },
  {
   "cell_type": "markdown",
   "id": "e5768583",
   "metadata": {},
   "source": [
    "# str - Strings / Cadenas, Textos"
   ]
  },
  {
   "cell_type": "code",
   "execution_count": null,
   "id": "c70b4304",
   "metadata": {},
   "outputs": [],
   "source": [
    "my_string = \"Backend Python\"\n",
    "print(\"El valor de my_string es: \", my_string)\n",
    "print(\"El tipo de dato de my_string es: \", type(my_string))"
   ]
  },
  {
   "cell_type": "code",
   "execution_count": null,
   "id": "976170cd",
   "metadata": {},
   "outputs": [],
   "source": [
    "my_string = \"Curso de EBAC\"\n",
    "print(\"El valor de my_string es: \", my_string)\n",
    "print(\"El tipo de dato de my_string es: \", type(my_string))"
   ]
  },
  {
   "cell_type": "code",
   "execution_count": null,
   "id": "7bdab4e3",
   "metadata": {},
   "outputs": [],
   "source": [
    "my_string = \"Aprendiendo a usar strings/cadenas/textos\"\n",
    "print(\"El valor de my_string es: \", my_string)\n",
    "print(\"El tipo de dato de my_string es: \", type(my_string))"
   ]
  },
  {
   "cell_type": "code",
   "execution_count": null,
   "id": "f20d119f",
   "metadata": {},
   "outputs": [],
   "source": [
    "my_string = 'You're amazing\n",
    "print(\"El valor de my_string es: \", my_string)\n",
    "print(\"El tipo de dato de my_string es: \", type(my_string))"
   ]
  },
  {
   "cell_type": "code",
   "execution_count": 42,
   "id": "b39b8eaf",
   "metadata": {},
   "outputs": [
    {
     "name": "stdout",
     "output_type": "stream",
     "text": [
      "El valor de my_string es:  \n",
      "Es una cadena con múltiples líneas \n",
      "\n",
      "Como puedes ver es genial para textos más largos \n",
      "\n",
      "¿Puedes imaginar cuántas cosas podrías hacer manejando texto de Internet?\n",
      "El tipo de dato de my_string es:  <class 'str'>\n"
     ]
    }
   ],
   "source": [
    "my_string = \"\"\"\n",
    "Es una cadena con múltiples líneas \\n\n",
    "Como puedes ver es genial para textos más largos \\n\n",
    "¿Puedes imaginar cuántas cosas podrías hacer manejando texto de Internet?\"\"\"\n",
    "print(\"El valor de my_string es: \", my_string)\n",
    "print(\"El tipo de dato de my_string es: \", type(my_string))"
   ]
  },
  {
   "cell_type": "markdown",
   "id": "8a3e04d6",
   "metadata": {},
   "source": [
    "# Variables\n",
    "\n",
    "### ¿Qué es una variable?\n",
    "- Son un espacio temporal para guardar un valor con un nombre expecífico\n",
    "- No hay necesidad de declarar el tipo de dato explícitamente\n",
    "- Python es un lenguaje tipado dinámicamente, lo que quiere decir que el tipo de dato se define mientras corre el programa\n",
    "- Las variables en Python funcionan diferente que otros Lenguajes de Programación\n",
    "- NO necesitamos crear variable, solo asignamos un nombre a un valor usando el operador de asignación\n",
    "\n",
    "### Tipos de variables:\n",
    "- Variables Globales: aquellas que se utilizarán para todo el programa\n",
    "- Variables Locales: aquellas que se van a utilizar sólo en un bloque específico"
   ]
  },
  {
   "cell_type": "markdown",
   "id": "a8dd0d8e",
   "metadata": {},
   "source": [
    "# Variables Globales\n",
    "- Declaramos variables globales afuera de funciones\n",
    "- El valor de la variable puede ser constante para todo el programa\n",
    "- Cualquier función podrá acceder a estas variables\n",
    "- Podemos decir que las Variables Globales tienen un alcance global\n",
    "- Normalmente son más usadas para constantes\n",
    "- Las Variables Globales mantienen sus valores a través de la ejecución completa de tu programa\n",
    "- Una Variable Global puede ser accesada por cualquier función"
   ]
  },
  {
   "cell_type": "code",
   "execution_count": null,
   "id": "ab0bf924",
   "metadata": {},
   "outputs": [],
   "source": [
    "# Variable Global\n",
    "my_global_variable=50\n",
    "\n",
    "def my_function_1():\n",
    "    pass\n",
    "\n",
    "def my_function_2():\n",
    "    pass"
   ]
  },
  {
   "cell_type": "code",
   "execution_count": null,
   "id": "c3056dcc",
   "metadata": {},
   "outputs": [],
   "source": [
    "# Variables Locales\n",
    "\n",
    "def my_function_1():\n",
    "    my_local_variable=5\n",
    "    \n",
    "def my_function_2():\n",
    "    my_local_variable=35"
   ]
  },
  {
   "cell_type": "code",
   "execution_count": null,
   "id": "7336d2f5",
   "metadata": {},
   "outputs": [],
   "source": [
    "# Variable Global\n",
    "my_global_variable=50\n",
    "\n",
    "def my_function_1():\n",
    "    print(\"my_function_1 - el valor de my_global_variable es: \", my_global_variable)\n",
    "def my_function_2():\n",
    "    print(\"my_function_2 - el valor de my_global_variable es: \", my_global_variable)"
   ]
  },
  {
   "cell_type": "code",
   "execution_count": null,
   "id": "aae49c98",
   "metadata": {},
   "outputs": [],
   "source": [
    "my_function_1()"
   ]
  },
  {
   "cell_type": "code",
   "execution_count": null,
   "id": "2be05c27",
   "metadata": {},
   "outputs": [],
   "source": [
    "my_function_2()"
   ]
  },
  {
   "cell_type": "code",
   "execution_count": null,
   "id": "ae9a99f7",
   "metadata": {},
   "outputs": [],
   "source": [
    "# Preferencia al valor local, y después al global\n",
    "my_variable=50 #Global\n",
    "\n",
    "def my_function_1():\n",
    "    my_variable=10 # Local\n",
    "    print(\"my_function_1 - el valor de my_variable es: \", my_variable)\n",
    "    \n",
    "def my_function_2():\n",
    "    my_variable=20 # Local\n",
    "    print(\"my_function_2 - el valor de my_variable es: \", my_variable)\n",
    "    \n",
    "def my_function_3():\n",
    "    print(\"my_function_3 - el valor de my_variable es: \", my_variable)"
   ]
  },
  {
   "cell_type": "code",
   "execution_count": null,
   "id": "8d533fdc",
   "metadata": {},
   "outputs": [],
   "source": [
    "my_function_1()"
   ]
  },
  {
   "cell_type": "code",
   "execution_count": null,
   "id": "c1109869",
   "metadata": {},
   "outputs": [],
   "source": [
    "my_function_2()"
   ]
  },
  {
   "cell_type": "code",
   "execution_count": null,
   "id": "08e99a4e",
   "metadata": {},
   "outputs": [],
   "source": [
    "my_function_3()"
   ]
  },
  {
   "cell_type": "markdown",
   "id": "f39a3829",
   "metadata": {},
   "source": [
    "# Variables Locales\n",
    "- Podemos usarlas dentro de una función\n",
    "- Podemos tener una restricción al acceder a una variable local desde otra función\n",
    "- No podemos usarlas durante todo el programa\n",
    "- El alcance y visibilidad se limita al interior de la función\n",
    "- Lo que dure la función será lo que dure el alcance de nuestra variable"
   ]
  },
  {
   "cell_type": "code",
   "execution_count": null,
   "id": "42bd5cbe",
   "metadata": {},
   "outputs": [],
   "source": [
    "# Variable Global\n",
    "my_global_variable=50\n",
    "\n",
    "def my_function_1():\n",
    "    pass\n",
    "\n",
    "def my_function_2():\n",
    "    pass"
   ]
  },
  {
   "cell_type": "code",
   "execution_count": null,
   "id": "295c14d9",
   "metadata": {},
   "outputs": [],
   "source": [
    "# Variables Locales\n",
    "\n",
    "def my_function_1():\n",
    "    my_local_variable=5\n",
    "    \n",
    "def my_function_2():\n",
    "    my_local_variable=35"
   ]
  },
  {
   "cell_type": "code",
   "execution_count": 2,
   "id": "dfbd5b80",
   "metadata": {},
   "outputs": [],
   "source": [
    "def my_function_1():\n",
    "    my_variable=10 # Local\n",
    "    print(\"my_function_1 - el valor de my_variable es: \", my_variable)\n",
    "    \n",
    "def my_function_2():\n",
    "    my_variable=20 # Local\n",
    "    print(\"my_function_2 - el valor de my_variable es: \", my_variable)\n",
    "    \n",
    "def my_function_3():\n",
    "    print(\"my_function_3 - el valor de my_variable es: \", my_variable)"
   ]
  },
  {
   "cell_type": "code",
   "execution_count": 3,
   "id": "543f3c60",
   "metadata": {},
   "outputs": [
    {
     "name": "stdout",
     "output_type": "stream",
     "text": [
      "my_function_1 - el valor de my_variable es:  10\n"
     ]
    }
   ],
   "source": [
    "my_function_1()"
   ]
  },
  {
   "cell_type": "code",
   "execution_count": 4,
   "id": "2db4a80c",
   "metadata": {},
   "outputs": [
    {
     "name": "stdout",
     "output_type": "stream",
     "text": [
      "my_function_2 - el valor de my_variable es:  20\n"
     ]
    }
   ],
   "source": [
    "my_function_2()"
   ]
  },
  {
   "cell_type": "code",
   "execution_count": 6,
   "id": "3277f531",
   "metadata": {},
   "outputs": [
    {
     "ename": "NameError",
     "evalue": "name 'my_variable' is not defined",
     "output_type": "error",
     "traceback": [
      "\u001b[1;31m---------------------------------------------------------------------------\u001b[0m",
      "\u001b[1;31mNameError\u001b[0m                                 Traceback (most recent call last)",
      "Cell \u001b[1;32mIn[6], line 2\u001b[0m\n\u001b[0;32m      1\u001b[0m \u001b[38;5;66;03m# error\u001b[39;00m\n\u001b[1;32m----> 2\u001b[0m my_function_3()\n",
      "Cell \u001b[1;32mIn[2], line 10\u001b[0m, in \u001b[0;36mmy_function_3\u001b[1;34m()\u001b[0m\n\u001b[0;32m      9\u001b[0m \u001b[38;5;28;01mdef\u001b[39;00m \u001b[38;5;21mmy_function_3\u001b[39m():\n\u001b[1;32m---> 10\u001b[0m     \u001b[38;5;28mprint\u001b[39m(\u001b[38;5;124m\"\u001b[39m\u001b[38;5;124mmy_function_3 - el valor de my_variable es: \u001b[39m\u001b[38;5;124m\"\u001b[39m, my_variable)\n",
      "\u001b[1;31mNameError\u001b[0m: name 'my_variable' is not defined"
     ]
    }
   ],
   "source": [
    "# error\n",
    "my_function_3()"
   ]
  },
  {
   "cell_type": "markdown",
   "id": "4642afca",
   "metadata": {},
   "source": [
    "# Palabra reservada \"global\""
   ]
  },
  {
   "cell_type": "code",
   "execution_count": 11,
   "id": "23b2d51d",
   "metadata": {},
   "outputs": [],
   "source": [
    "def my_function_1():\n",
    "    my_variable=10 # Local\n",
    "    print(\"my_function_1 - el valor de my_variable es: \", my_variable)\n",
    "    \n",
    "def my_function_2():\n",
    "    global my_variable # Global\n",
    "    my_variable=20\n",
    "    print(\"my_function_2 - el valor de my_variable es: \", my_variable)\n",
    "    \n",
    "def my_function_3():\n",
    "    print(\"my_function_3 - el valor de my_variable es: \", my_variable)"
   ]
  },
  {
   "cell_type": "code",
   "execution_count": 12,
   "id": "17852e3f",
   "metadata": {},
   "outputs": [
    {
     "name": "stdout",
     "output_type": "stream",
     "text": [
      "my_function_1 - el valor de my_variable es:  10\n"
     ]
    }
   ],
   "source": [
    "my_function_1()"
   ]
  },
  {
   "cell_type": "code",
   "execution_count": 13,
   "id": "276ab080",
   "metadata": {},
   "outputs": [
    {
     "name": "stdout",
     "output_type": "stream",
     "text": [
      "my_function_2 - el valor de my_variable es:  20\n"
     ]
    }
   ],
   "source": [
    "my_function_2()"
   ]
  },
  {
   "cell_type": "code",
   "execution_count": 14,
   "id": "509a2b59",
   "metadata": {},
   "outputs": [
    {
     "name": "stdout",
     "output_type": "stream",
     "text": [
      "my_function_3 - el valor de my_variable es:  20\n"
     ]
    }
   ],
   "source": [
    "my_function_3()"
   ]
  },
  {
   "cell_type": "code",
   "execution_count": 15,
   "id": "0a87b37f",
   "metadata": {},
   "outputs": [],
   "source": [
    "def my_function_1():\n",
    "    my_variable=10 # Local\n",
    "    print(\"my_function_1 - el valor de my_variable es: \", my_variable)\n",
    "    \n",
    "def my_function_2():\n",
    "    global a, b , c, d, e # Global\n",
    "    a=10\n",
    "    b=20\n",
    "    c=30\n",
    "    d=40\n",
    "    e=50\n",
    "    print(\"my_function_2 - el valor de a es: \", a)\n",
    "    print(\"my_function_2 - el valor de b es: \", b)\n",
    "    print(\"my_function_2 - el valor de c es: \", c)\n",
    "    print(\"my_function_2 - el valor de d es: \", d)\n",
    "    print(\"my_function_2 - el valor de e es: \", e)\n",
    "    \n",
    "def my_function_3():\n",
    "    print(\"my_function_3 - el valor de a es: \", a)\n",
    "    print(\"my_function_3 - el valor de b es: \", b)\n",
    "    print(\"my_function_3 - el valor de c es: \", c)\n",
    "    print(\"my_function_3 - el valor de d es: \", d)\n",
    "    print(\"my_function_3 - el valor de e es: \", e)"
   ]
  },
  {
   "cell_type": "code",
   "execution_count": 16,
   "id": "1ac2a7da",
   "metadata": {},
   "outputs": [
    {
     "name": "stdout",
     "output_type": "stream",
     "text": [
      "my_function_1 - el valor de my_variable es:  10\n"
     ]
    }
   ],
   "source": [
    "my_function_1()"
   ]
  },
  {
   "cell_type": "code",
   "execution_count": 17,
   "id": "ffa8a1aa",
   "metadata": {},
   "outputs": [
    {
     "name": "stdout",
     "output_type": "stream",
     "text": [
      "my_function_2 - el valor de a es:  10\n",
      "my_function_2 - el valor de b es:  20\n",
      "my_function_2 - el valor de c es:  30\n",
      "my_function_2 - el valor de d es:  40\n",
      "my_function_2 - el valor de e es:  50\n"
     ]
    }
   ],
   "source": [
    "my_function_2()"
   ]
  },
  {
   "cell_type": "code",
   "execution_count": 18,
   "id": "29d7c60b",
   "metadata": {},
   "outputs": [
    {
     "name": "stdout",
     "output_type": "stream",
     "text": [
      "my_function_3 - el valor de a es:  10\n",
      "my_function_3 - el valor de b es:  20\n",
      "my_function_3 - el valor de c es:  30\n",
      "my_function_3 - el valor de d es:  40\n",
      "my_function_3 - el valor de e es:  50\n"
     ]
    }
   ],
   "source": [
    "my_function_3()"
   ]
  },
  {
   "cell_type": "markdown",
   "id": "0165754e",
   "metadata": {},
   "source": [
    "# Tipos de Enteros\n",
    "- Forma Decimal\n",
    "- Forma Binaria\n",
    "- Forma Octal\n",
    "- Forma Hexadecimal"
   ]
  },
  {
   "cell_type": "markdown",
   "id": "50aa8d96",
   "metadata": {},
   "source": [
    "# Forma Decimal"
   ]
  },
  {
   "cell_type": "code",
   "execution_count": 19,
   "id": "e7bae8e6",
   "metadata": {},
   "outputs": [
    {
     "name": "stdout",
     "output_type": "stream",
     "text": [
      "El valor de my_decimal_number es:  55\n"
     ]
    }
   ],
   "source": [
    "my_decimal_number = 55\n",
    "print (\"El valor de my_decimal_number es: \", my_decimal_number)"
   ]
  },
  {
   "cell_type": "code",
   "execution_count": 20,
   "id": "9df13506",
   "metadata": {},
   "outputs": [
    {
     "name": "stdout",
     "output_type": "stream",
     "text": [
      "El valor de my_decimal_number es:  518619198198198\n"
     ]
    }
   ],
   "source": [
    "my_decimal_number = 518619198198198\n",
    "print (\"El valor de my_decimal_number es: \", my_decimal_number)"
   ]
  },
  {
   "cell_type": "code",
   "execution_count": 22,
   "id": "cd7fe23b",
   "metadata": {},
   "outputs": [
    {
     "ename": "SyntaxError",
     "evalue": "invalid decimal literal (2805538574.py, line 2)",
     "output_type": "error",
     "traceback": [
      "\u001b[1;36m  Cell \u001b[1;32mIn[22], line 2\u001b[1;36m\u001b[0m\n\u001b[1;33m    my_decimal_number = 55d\u001b[0m\n\u001b[1;37m                         ^\u001b[0m\n\u001b[1;31mSyntaxError\u001b[0m\u001b[1;31m:\u001b[0m invalid decimal literal\n"
     ]
    }
   ],
   "source": [
    "# error\n",
    "my_decimal_number = 55d\n",
    "print (\"El valor de my_decimal_number es: \", my_decimal_number)"
   ]
  },
  {
   "cell_type": "code",
   "execution_count": 23,
   "id": "d1227fca",
   "metadata": {},
   "outputs": [
    {
     "ename": "SyntaxError",
     "evalue": "invalid syntax (3068666279.py, line 2)",
     "output_type": "error",
     "traceback": [
      "\u001b[1;36m  Cell \u001b[1;32mIn[23], line 2\u001b[1;36m\u001b[0m\n\u001b[1;33m    my_decimal_number = 55@\u001b[0m\n\u001b[1;37m                           ^\u001b[0m\n\u001b[1;31mSyntaxError\u001b[0m\u001b[1;31m:\u001b[0m invalid syntax\n"
     ]
    }
   ],
   "source": [
    "# error\n",
    "my_decimal_number = 55@\n",
    "print (\"El valor de my_decimal_number es: \", my_decimal_number)"
   ]
  },
  {
   "cell_type": "markdown",
   "id": "efdfe75d",
   "metadata": {},
   "source": [
    "# Forma Binaria\n",
    "- Código organizado en bytes\n",
    "- Lenguaje Binario\n",
    "- Lenguaje de las Máquinas (1 y 0)\n",
    "\n",
    "## Valor Base: 2\n",
    "- Solamente acepta dos dígitos (1 y 0)\n",
    "- Usamos el prefijo '0b' o '0B'"
   ]
  },
  {
   "cell_type": "code",
   "execution_count": 27,
   "id": "59d4eac8",
   "metadata": {},
   "outputs": [
    {
     "name": "stdout",
     "output_type": "stream",
     "text": [
      "El valor de my_decimal_number es:  11\n"
     ]
    }
   ],
   "source": [
    "my_decimal_number = 11\n",
    "print (\"El valor de my_decimal_number es: \", my_decimal_number)"
   ]
  },
  {
   "cell_type": "code",
   "execution_count": 26,
   "id": "192cde92",
   "metadata": {},
   "outputs": [
    {
     "name": "stdout",
     "output_type": "stream",
     "text": [
      "El valor de my_binary_number es:  3\n"
     ]
    }
   ],
   "source": [
    "my_binary_number = 0b11 # 1*2**1 + 1*2**0\n",
    "print (\"El valor de my_binary_number es: \", my_binary_number)"
   ]
  },
  {
   "cell_type": "code",
   "execution_count": 28,
   "id": "447c3895",
   "metadata": {},
   "outputs": [
    {
     "name": "stdout",
     "output_type": "stream",
     "text": [
      "El valor de my_decimal_number es:  111\n"
     ]
    }
   ],
   "source": [
    "my_decimal_number = 111\n",
    "print (\"El valor de my_decimal_number es: \", my_decimal_number)"
   ]
  },
  {
   "cell_type": "code",
   "execution_count": 29,
   "id": "b9a2a197",
   "metadata": {},
   "outputs": [
    {
     "name": "stdout",
     "output_type": "stream",
     "text": [
      "El valor de my_binary_number es:  7\n"
     ]
    }
   ],
   "source": [
    "my_binary_number = 0B111 # 1*2**2 1*2**1 + 1*2**0\n",
    "print (\"El valor de my_binary_number es: \", my_binary_number)"
   ]
  },
  {
   "cell_type": "markdown",
   "id": "1da56bc6",
   "metadata": {},
   "source": [
    "# Forma Octal\n",
    "\n",
    "### Valor Base: 8\n",
    "- solamente acepta dígitos del 0 al 7\n",
    "- Usamos el prefijo '0o' o '0O'"
   ]
  },
  {
   "cell_type": "code",
   "execution_count": 30,
   "id": "009a32b1",
   "metadata": {},
   "outputs": [
    {
     "name": "stdout",
     "output_type": "stream",
     "text": [
      "El valor de my_decimal_number es:  17\n"
     ]
    }
   ],
   "source": [
    "my_decimal_number = 17\n",
    "print (\"El valor de my_decimal_number es: \", my_decimal_number)"
   ]
  },
  {
   "cell_type": "code",
   "execution_count": 33,
   "id": "5f818980",
   "metadata": {},
   "outputs": [
    {
     "name": "stdout",
     "output_type": "stream",
     "text": [
      "El valor de my_octal_number es:  15\n"
     ]
    }
   ],
   "source": [
    "my_octal_number = 0O17 # 1*8**1 + 7*8**0\n",
    "print (\"El valor de my_octal_number es: \", my_octal_number)"
   ]
  },
  {
   "cell_type": "code",
   "execution_count": 34,
   "id": "330ead85",
   "metadata": {},
   "outputs": [
    {
     "name": "stdout",
     "output_type": "stream",
     "text": [
      "El valor de my_decimal_number es:  153\n"
     ]
    }
   ],
   "source": [
    "my_decimal_number = 153\n",
    "print (\"El valor de my_decimal_number es: \", my_decimal_number)"
   ]
  },
  {
   "cell_type": "code",
   "execution_count": 36,
   "id": "875fabc4",
   "metadata": {},
   "outputs": [
    {
     "name": "stdout",
     "output_type": "stream",
     "text": [
      "El valor de my_octal_number es:  107\n"
     ]
    }
   ],
   "source": [
    "my_octal_number = 0O153 # 1*8**2 + 5*8**1 + 3*8**0\n",
    "print (\"El valor de my_octal_number es: \", my_octal_number)"
   ]
  },
  {
   "cell_type": "markdown",
   "id": "ea14a644",
   "metadata": {},
   "source": [
    "# Forma Hexadecimal\n",
    "\n",
    "### Valor Base: 16\n",
    "- Acepta dígitos del 0 al 9\n",
    "- Acepta letras de la 'a/A' a la 'f/F'\n",
    "- Usamos el prefijo '0x' o '0X'\n",
    "\n",
    "- 0\n",
    "- 1\n",
    "- 2\n",
    "- 3\n",
    "- 4\n",
    "- 5\n",
    "- 6\n",
    "- 7\n",
    "- 8\n",
    "- 9\n",
    "- A = 10\n",
    "- B = 11\n",
    "- C = 12\n",
    "- D = 13\n",
    "- E = 14\n",
    "- F = 15"
   ]
  },
  {
   "cell_type": "code",
   "execution_count": 37,
   "id": "0c47c42a",
   "metadata": {},
   "outputs": [
    {
     "name": "stdout",
     "output_type": "stream",
     "text": [
      "El valor de my_decimal_number es:  17\n"
     ]
    }
   ],
   "source": [
    "my_decimal_number = 17\n",
    "print (\"El valor de my_decimal_number es: \", my_decimal_number)"
   ]
  },
  {
   "cell_type": "code",
   "execution_count": 38,
   "id": "fcabd490",
   "metadata": {},
   "outputs": [
    {
     "name": "stdout",
     "output_type": "stream",
     "text": [
      "El valor de my_hex_number es:  23\n"
     ]
    }
   ],
   "source": [
    "my_hex_number = 0x17 # 1*16**11 + 7*16**0\n",
    "print (\"El valor de my_hex_number es: \", my_hex_number)"
   ]
  },
  {
   "cell_type": "code",
   "execution_count": 39,
   "id": "b72417d5",
   "metadata": {},
   "outputs": [
    {
     "name": "stdout",
     "output_type": "stream",
     "text": [
      "El valor de my_hex_number es:  28\n"
     ]
    }
   ],
   "source": [
    "my_hex_number = 0x1C # 1*16**11 + 12*16**0\n",
    "print (\"El valor de my_hex_number es: \", my_hex_number)"
   ]
  },
  {
   "cell_type": "code",
   "execution_count": null,
   "id": "3e5cb65f",
   "metadata": {},
   "outputs": [],
   "source": []
  },
  {
   "cell_type": "code",
   "execution_count": null,
   "id": "023dd5f8",
   "metadata": {},
   "outputs": [],
   "source": []
  }
 ],
 "metadata": {
  "kernelspec": {
   "display_name": "Python 3 (ipykernel)",
   "language": "python",
   "name": "python3"
  },
  "language_info": {
   "codemirror_mode": {
    "name": "ipython",
    "version": 3
   },
   "file_extension": ".py",
   "mimetype": "text/x-python",
   "name": "python",
   "nbconvert_exporter": "python",
   "pygments_lexer": "ipython3",
   "version": "3.11.3"
  }
 },
 "nbformat": 4,
 "nbformat_minor": 5
}
