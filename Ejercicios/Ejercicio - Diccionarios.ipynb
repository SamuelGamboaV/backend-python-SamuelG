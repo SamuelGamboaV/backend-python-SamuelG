{
 "cells": [
  {
   "cell_type": "code",
   "execution_count": 19,
   "id": "fe86955a",
   "metadata": {},
   "outputs": [
    {
     "name": "stdout",
     "output_type": "stream",
     "text": [
      "Enter the name of a Pokémon\n",
      "\n",
      "vulpix\n",
      "ID:  37\n",
      "Name:  vulpix\n",
      "Height:  6\n",
      "Weight:  99\n",
      "Error: HTTP request failed with status code 404\n"
     ]
    }
   ],
   "source": [
    "import pokebase as pb\n",
    "import requests\n",
    "\n",
    "# Get user input for the English Pokémon name\n",
    "pokemon_to_search = input(\"Enter the name of a Pokémon\\n\\n\").lower()\n",
    "\n",
    "data = pb.pokemon(pokemon_to_search).__dict__\n",
    "id_ = data.get('id_')\n",
    "name = data.get('name')\n",
    "height = data.get('height')\n",
    "weight = data.get('weight')\n",
    "\n",
    "print(\"ID: \", id_)\n",
    "print(\"Name: \", name)\n",
    "print(\"Height: \", height)\n",
    "print(\"Weight: \", weight)\n",
    "\n",
    "url = \"https://pokeapi.co/api/v2/characteristic/{id}/\".format(id=id_)\n",
    "response = requests.get(url)\n",
    "if response.status_code == 200:\n",
    "    try:\n",
    "        data = response.json()\n",
    "        for description_dict in data.get(\"descriptions\"):\n",
    "            if description_dict.get(\"language\", {}).get(\"name\") == \"es\":\n",
    "                description = description_dict.get(\"description\")\n",
    "                print(\"Description (in Spanish): \", description)\n",
    "    except json.JSONDecodeError:\n",
    "        print(\"Error: Invalid JSON response\")\n",
    "else:\n",
    "    print(\"Error: HTTP request failed with status code\", response.status_code)"
   ]
  },
  {
   "cell_type": "code",
   "execution_count": null,
   "id": "ff406c18",
   "metadata": {},
   "outputs": [],
   "source": []
  }
 ],
 "metadata": {
  "kernelspec": {
   "display_name": "Python 3 (ipykernel)",
   "language": "python",
   "name": "python3"
  },
  "language_info": {
   "codemirror_mode": {
    "name": "ipython",
    "version": 3
   },
   "file_extension": ".py",
   "mimetype": "text/x-python",
   "name": "python",
   "nbconvert_exporter": "python",
   "pygments_lexer": "ipython3",
   "version": "3.11.3"
  }
 },
 "nbformat": 4,
 "nbformat_minor": 5
}
