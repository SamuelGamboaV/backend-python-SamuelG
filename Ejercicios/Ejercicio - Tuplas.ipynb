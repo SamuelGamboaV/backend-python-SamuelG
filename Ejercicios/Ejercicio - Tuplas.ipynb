{
 "cells": [
  {
   "cell_type": "code",
   "execution_count": 14,
   "id": "1d9b83ba",
   "metadata": {},
   "outputs": [
    {
     "name": "stdout",
     "output_type": "stream",
     "text": [
      "Lista de Reproducción\n",
      "\n",
      "Ingresa la palabra que te gustaría\n",
      "Ejemplo: 'rock', y obtendrás un playlist de canciones o artistas que incluyan la palabra rock\n",
      "clasica\n",
      "['classic', 'Lofly']\n",
      "['Classic', 'Adrian Gurvitz']\n",
      "['Música de la Vieja Escuela', 'Clasica']\n",
      "['Melodía Para liberar tensión y estrés', 'Clasica']\n",
      "['Melodía para escuchar en la Playa', 'Clasica']\n",
      "['A Pesar Del Tiempo', 'Salsa Clásica']\n",
      "['Música Clásica', 'Radio Musica Clasica & Classical New Age Piano Music']\n",
      "['Tu Me Vuelves Loco', 'Salsa Clásica']\n",
      "['En Barranquilla Me Quedo', 'Salsa Clásica']\n",
      "['Intermezzo (Cavalleria Rusticana)', 'Stjepan Hauser']\n",
      "['Caruso', 'Stjepan Hauser']\n",
      "['Classic', 'Lady Donli']\n",
      "['Clásico', 'Warrior Rapper School']\n",
      "['Rachmaninov 2nd Piano Concerto', 'Stjepan Hauser']\n",
      "['Air on a G String', 'Stjepan Hauser']\n",
      "['Clásico', 'Orlando Netti']\n",
      "[\"Lascia Ch' io Pianga\", 'Stjepan Hauser']\n",
      "['Clasicada', 'Yuyuey Produciendo']\n",
      "['Clásico', 'Afaz Natural']\n",
      "['Swan Lake', 'Stjepan Hauser']\n",
      "['Piano Concerto No. 21', 'Stjepan Hauser']\n",
      "['Clásico (Radio Edit)', 'Diez Arenas']\n",
      "['River Flows in You', 'Stjepan Hauser']\n",
      "['The Nutcracker Suite', 'Stjepan Hauser']\n",
      "['Clásico', 'Moenia']\n"
     ]
    }
   ],
   "source": [
    "import requests\n",
    "\n",
    "print(\"Lista de Reproducción\\n\")\n",
    "\n",
    "# Referencia: https://www.deezer.com/en/channels/explore\n",
    "\n",
    "print(\"Ingresa la palabra que te gustaría\")\n",
    "print(\"Ejemplo: 'rock', y obtendrás un playlist de canciones o artistas que incluyan la palabra rock\")\n",
    "\n",
    "word_to_search = input()\n",
    "\n",
    "url = \"https://deezerdevs-deezer.p.rapidapi.com/search\"\n",
    "querystring = {\"q\":word_to_search}\n",
    "headers = {\n",
    "\"X-RapidAPI-Key\": \"3ed98f551fmshe4e6260228c4eadp13db17jsn8c893e1194da\",\n",
    "\"X-RapidAPI-Host\": \"deezerdevs-deezer.p.rapidapi.com\"\n",
    "}\n",
    "response = requests.request(\"GET\", url, headers=headers, params=querystring).json()\n",
    "for element in response['data']:\n",
    "    my_list = [element['title'], element['artist']['name']]\n",
    "    print(my_list)"
   ]
  },
  {
   "cell_type": "code",
   "execution_count": null,
   "id": "d9759b74",
   "metadata": {},
   "outputs": [],
   "source": []
  }
 ],
 "metadata": {
  "kernelspec": {
   "display_name": "Python 3 (ipykernel)",
   "language": "python",
   "name": "python3"
  },
  "language_info": {
   "codemirror_mode": {
    "name": "ipython",
    "version": 3
   },
   "file_extension": ".py",
   "mimetype": "text/x-python",
   "name": "python",
   "nbconvert_exporter": "python",
   "pygments_lexer": "ipython3",
   "version": "3.11.3"
  }
 },
 "nbformat": 4,
 "nbformat_minor": 5
}
