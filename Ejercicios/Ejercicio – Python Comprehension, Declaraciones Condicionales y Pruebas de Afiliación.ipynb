{
 "cells": [
  {
   "cell_type": "code",
   "execution_count": 18,
   "id": "5b2434d0",
   "metadata": {},
   "outputs": [
    {
     "name": "stdout",
     "output_type": "stream",
     "text": [
      "Lista de Reproducción\n",
      "\n",
      "Ingresa la palabra que te gustaría\n",
      "\n",
      "Ejemplo: 'rock', y obtendrás un playlist de canciones o artistas que incluyan la palabra rock\n",
      "\n",
      "Tu palabra aquí: Pokemon\n",
      "Title: Pokemon Theme, Artist: Pokémon\n",
      "Title: Pikachu (I Choose You), Artist: Pokémon\n",
      "Title: Double Trouble, Artist: Pokémon\n",
      "Title: Pokémon Theme, Artist: Pokémon\n",
      "Title: Pokerap, Artist: Pokémon\n",
      "Title: Pokemon World, Artist: Pokémon\n",
      "Title: The Journey Starts Today (Theme from Pokémon Journeys), Artist: Walk Off The Earth\n",
      "Title: Pokémon, Artist: Yvan Dans Ton Écran\n",
      "Title: Pokemon, Artist: HBz\n",
      "Title: Song Of Jigglypuff, Artist: Pokémon\n",
      "Title: Pokémon (Attrapez-les tous !), Artist: Le Club des Juniors\n",
      "Title: Pokémon (Attrapez-les tous !), Artist: Bob Patline\n",
      "Title: Pokemony, Artist: Tymek\n",
      "Title: With You, Artist: Echosmith\n",
      "Title: Pomemon Johto, Artist: Pokémon\n",
      "Title: Pokemon (J&E Remix), Artist: Portion Boys\n",
      "Title: Battle Frontier, Artist: Pokémon\n",
      "Title: Together Forever, Artist: Pokémon\n",
      "Title: Pokemoon, Artist: Les 12 Salopards\n",
      "Title: Pokerap Gs, Artist: Pokémon\n",
      "Title: Stay Together, Artist: Pokémon\n",
      "Title: Pokémon Theme (Mewtwo Mix), Artist: Pokémon\n",
      "Title: Born To Be A Winner, Artist: Pokémon\n",
      "Title: I Want To Be A Hero, Artist: Pokémon\n",
      "Title: Go Pokemon Go, Artist: Pokémon\n"
     ]
    }
   ],
   "source": [
    "import requests\n",
    "\n",
    "print(\"Lista de Reproducción\\n\")\n",
    "\n",
    "# Referencia: https://www.deezer.com/en/channels/explore\n",
    "\n",
    "print(\"Ingresa la palabra que te gustaría\\n\")\n",
    "print(\"Ejemplo: 'rock', y obtendrás un playlist de canciones o artistas que incluyan la palabra rock\\n\")\n",
    "\n",
    "word_to_search = input(\"Tu palabra aquí: \")\n",
    "\n",
    "url = \"https://deezerdevs-deezer.p.rapidapi.com/search\"\n",
    "querystring = {\"q\":word_to_search}\n",
    "headers = {\n",
    "    \"X-RapidAPI-Key\": \"3ed98f551fmshe4e6260228c4eadp13db17jsn8c893e1194da\",\n",
    "    \"X-RapidAPI-Host\": \"deezerdevs-deezer.p.rapidapi.com\"\n",
    "}\n",
    "response = requests.request(\"GET\", url, headers=headers, params=querystring).json()\n",
    "#print(response)\n",
    "\n",
    "result_list = []\n",
    "for element in response.get('data', []):\n",
    "    title = element.get('title', 'Unknown Title')\n",
    "    artist_name = element['artist']['name'] if 'artist' in element else 'Unknown Artist'\n",
    "    result_list.append({'title': title, 'artist': artist_name})\n",
    "\n",
    "for item in result_list:\n",
    "    print(f\"Title: {item['title']}, Artist: {item['artist']}\")"
   ]
  },
  {
   "cell_type": "code",
   "execution_count": null,
   "id": "1a1cd3f4",
   "metadata": {},
   "outputs": [],
   "source": []
  }
 ],
 "metadata": {
  "kernelspec": {
   "display_name": "Python 3 (ipykernel)",
   "language": "python",
   "name": "python3"
  },
  "language_info": {
   "codemirror_mode": {
    "name": "ipython",
    "version": 3
   },
   "file_extension": ".py",
   "mimetype": "text/x-python",
   "name": "python",
   "nbconvert_exporter": "python",
   "pygments_lexer": "ipython3",
   "version": "3.11.3"
  }
 },
 "nbformat": 4,
 "nbformat_minor": 5
}
