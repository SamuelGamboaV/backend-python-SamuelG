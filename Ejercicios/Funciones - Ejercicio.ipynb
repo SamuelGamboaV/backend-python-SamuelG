{
 "cells": [
  {
   "cell_type": "code",
   "execution_count": 80,
   "id": "212dd283",
   "metadata": {},
   "outputs": [],
   "source": [
    "# Creando la disponibilidad de los productos de mi tiendita virtual\n",
    "productos_tiendita = {\n",
    "    'manzana': 20.50,\n",
    "    'cereal': 60.00,\n",
    "    'sabritas': 25.50,\n",
    "    'pan bimbo': 47.50,\n",
    "    'huevos': 45.00,\n",
    "    'plátano': 5.90,\n",
    "    'chicles': 5.00,\n",
    "    'galletas': 35.00,\n",
    "    'papel toilet': 75.00,\n",
    "    'harina de pancakes': 15.00,\n",
    "}\n",
    "\n",
    "carrito_de_compras = []"
   ]
  },
  {
   "cell_type": "code",
   "execution_count": 81,
   "id": "b26af7bc",
   "metadata": {},
   "outputs": [],
   "source": [
    "# Primera función -> Muestra los artículos disponibles en la tiendita virtual\n",
    "def disponibles(productos=productos_tiendita):\n",
    "    for producto, precio in productos.items():\n",
    "        print(f'{producto}: ${precio:.2f}')"
   ]
  },
  {
   "cell_type": "code",
   "execution_count": 82,
   "id": "11433eb9",
   "metadata": {},
   "outputs": [
    {
     "name": "stdout",
     "output_type": "stream",
     "text": [
      "manzana: $20.50\n",
      "cereal: $60.00\n",
      "sabritas: $25.50\n",
      "pan bimbo: $47.50\n",
      "huevos: $45.00\n",
      "plátano: $5.90\n",
      "chicles: $5.00\n",
      "galletas: $35.00\n",
      "papel toilet: $75.00\n",
      "harina de pancakes: $15.00\n"
     ]
    }
   ],
   "source": [
    "disponibles()"
   ]
  },
  {
   "cell_type": "code",
   "execution_count": 83,
   "id": "5cb5567f",
   "metadata": {},
   "outputs": [
    {
     "name": "stdout",
     "output_type": "stream",
     "text": [
      "Artículos disponibles en la tiendita virtual: \n",
      "manzana: $20.50\n",
      "cereal: $60.00\n",
      "sabritas: $25.50\n",
      "pan bimbo: $47.50\n",
      "huevos: $45.00\n",
      "plátano: $5.90\n",
      "chicles: $5.00\n",
      "galletas: $35.00\n",
      "papel toilet: $75.00\n",
      "harina de pancakes: $15.00\n",
      "\n",
      "Selecciona el artículo a remover: manzana\n",
      "manzana ha sido removido. \n",
      "\n",
      "cereal: $60.00\n",
      "sabritas: $25.50\n",
      "pan bimbo: $47.50\n",
      "huevos: $45.00\n",
      "plátano: $5.90\n",
      "chicles: $5.00\n",
      "galletas: $35.00\n",
      "papel toilet: $75.00\n",
      "harina de pancakes: $15.00\n"
     ]
    }
   ],
   "source": [
    "# Segunda función -> Remover un artículo de la lista de disponibles en la tiendita virtual\n",
    "\n",
    "def remover(productos):\n",
    "    print(\"Artículos disponibles en la tiendita virtual: \")\n",
    "    disponibles(productos)\n",
    "    \n",
    "    art_remove = input(\"\\nSelecciona el artículo a remover: \").lower()\n",
    "\n",
    "    if art_remove in productos:\n",
    "        del productos[art_remove]\n",
    "        print(f\"{art_remove} ha sido removido. \\n\")\n",
    "    else:\n",
    "        print(f\"{art_remove} no está disponible. \\n\")\n",
    "\n",
    "# ejemplo\n",
    "remover(productos_tiendita)\n",
    "\n",
    "# imprimiendo productos_tiendita actualizado\n",
    "disponibles()\n"
   ]
  },
  {
   "cell_type": "code",
   "execution_count": 84,
   "id": "0ede57ea",
   "metadata": {},
   "outputs": [
    {
     "name": "stdout",
     "output_type": "stream",
     "text": [
      "Artículos disponibles en la tiendita virtual:\n",
      "cereal: $60.00\n",
      "sabritas: $25.50\n",
      "pan bimbo: $47.50\n",
      "huevos: $45.00\n",
      "plátano: $5.90\n",
      "chicles: $5.00\n",
      "galletas: $35.00\n",
      "papel toilet: $75.00\n",
      "harina de pancakes: $15.00\n",
      "\n",
      "Ingrese el nombre del artículo a actualizar: cereal\n",
      "Ingrese el nuevo precio para cereal: 200\n",
      "\n",
      "El precio de cereal ha sido actualizado a $200.00.\n",
      "\n",
      "cereal: $200.00\n",
      "sabritas: $25.50\n",
      "pan bimbo: $47.50\n",
      "huevos: $45.00\n",
      "plátano: $5.90\n",
      "chicles: $5.00\n",
      "galletas: $35.00\n",
      "papel toilet: $75.00\n",
      "harina de pancakes: $15.00\n"
     ]
    }
   ],
   "source": [
    "# Tercera función -> Actualizar precios\n",
    "def actualizar_precio(productos):\n",
    "    \"\"\"\n",
    "    Actualiza el precio de un producto en el diccionario de productos.\n",
    "    - productos: Diccionario que contiene los productos y sus precios.\n",
    "    \"\"\"\n",
    "    # Mostrar artículos disponibles\n",
    "    print(\"Artículos disponibles en la tiendita virtual:\")\n",
    "    disponibles()\n",
    "    \n",
    "    # Obtener el nombre del artículo a actualizar\n",
    "    producto = input(\"\\nIngrese el nombre del artículo a actualizar: \").lower()\n",
    "\n",
    "    # Verificar si el artículo está en la lista\n",
    "    if producto in productos:\n",
    "        # Obtener el nuevo precio del usuario\n",
    "        nuevo_precio = float(input(f\"Ingrese el nuevo precio para {producto}: \"))\n",
    "        \n",
    "        # Actualizar el precio del artículo\n",
    "        productos[producto] = nuevo_precio\n",
    "        print(f\"\\nEl precio de {producto} ha sido actualizado a ${nuevo_precio:.2f}.\\n\")\n",
    "    else:\n",
    "        print(f\"\\n{producto} no está en la lista de productos.\\n\")\n",
    "\n",
    "# Ejemplo de uso\n",
    "actualizar_precio(productos_tiendita)\n",
    "\n",
    "# Imprimir productos_tiendita actualizado\n",
    "disponibles(productos_tiendita)\n"
   ]
  },
  {
   "cell_type": "code",
   "execution_count": 85,
   "id": "fc13d337",
   "metadata": {},
   "outputs": [
    {
     "name": "stdout",
     "output_type": "stream",
     "text": [
      "Artículos disponibles en la tiendita virtual:\n",
      "cereal: $200.00\n",
      "sabritas: $25.50\n",
      "pan bimbo: $47.50\n",
      "huevos: $45.00\n",
      "plátano: $5.90\n",
      "chicles: $5.00\n",
      "galletas: $35.00\n",
      "papel toilet: $75.00\n",
      "harina de pancakes: $15.00\n",
      "\n",
      "Ingrese el nombre del artículo a agregar al carrito: cereal\n",
      "cereal ha sido agregado al carrito de compras con un precio de $200.00.\n",
      "\n",
      "Carrito de compras actualizado:\n",
      "cereal: $200.00\n"
     ]
    }
   ],
   "source": [
    "# Cuarta función -> Agregar a carrito de compras\n",
    "def agregar_al_carrito(productos, carrito):\n",
    "    \"\"\"\n",
    "    Agrega un artículo seleccionado por el usuario al carrito de compras.\n",
    "    - productos: Diccionario que contiene los productos y sus precios.\n",
    "    - carrito: Lista que representa el carrito de compras.\n",
    "    \"\"\"\n",
    "    # Mostrar artículos disponibles\n",
    "    print(\"Artículos disponibles en la tiendita virtual:\")\n",
    "    disponibles(productos)\n",
    "    \n",
    "    # Obtener el nombre del artículo a agregar al carrito\n",
    "    producto = input(\"\\nIngrese el nombre del artículo a agregar al carrito: \").lower()\n",
    "\n",
    "    # Verificar si el artículo está en la lista\n",
    "    if producto in productos:\n",
    "        # Obtener el precio del artículo\n",
    "        precio = productos[producto]\n",
    "        \n",
    "        # Agregar el artículo y su precio al carrito\n",
    "        carrito.append({'producto': producto, 'precio': precio})\n",
    "        print(f\"{producto} ha sido agregado al carrito de compras con un precio de ${precio:.2f}.\\n\")\n",
    "        \n",
    "        # Mostrar el carrito de compras actualizado\n",
    "        print(\"Carrito de compras actualizado:\")\n",
    "        for item in carrito:\n",
    "            print(f\"{item['producto']}: ${item['precio']:.2f}\")\n",
    "    else:\n",
    "        print(f\"{producto} no está en la lista de productos.\\n\")\n",
    "\n",
    "agregar_al_carrito(productos_tiendita, carrito_de_compras)"
   ]
  },
  {
   "cell_type": "code",
   "execution_count": 86,
   "id": "14e5592e",
   "metadata": {},
   "outputs": [
    {
     "name": "stdout",
     "output_type": "stream",
     "text": [
      "Carrito de compras actualizado:\n",
      "1. cereal: $200.00\n",
      "\n",
      "Ingrese el número del artículo a quitar: 0\n",
      "Número de artículo no válido.\n",
      "\n"
     ]
    }
   ],
   "source": [
    "# Quinta función -> Quitar producto del carrito\n",
    "def quitar_del_carrito(carrito):\n",
    "    \"\"\"\n",
    "    Quita un artículo seleccionado por el usuario del carrito de compras.\n",
    "    - carrito: Lista que representa el carrito de compras.\n",
    "    \"\"\"\n",
    "    # Verificar si el carrito está vacío\n",
    "    if not carrito:\n",
    "        print(\"El carrito de compras está vacío.\\n\")\n",
    "        return\n",
    "    \n",
    "    # Mostrar el carrito de compras actualizado\n",
    "    print(\"Carrito de compras actualizado:\")\n",
    "    for idx, item in enumerate(carrito, start=1):\n",
    "        print(f\"{idx}. {item['producto']}: ${item['precio']:.2f}\")\n",
    "\n",
    "    try:\n",
    "        # Obtener la posición del artículo a quitar\n",
    "        posicion_a_quitar = int(input(\"\\nIngrese el número del artículo a quitar: \")) - 1\n",
    "\n",
    "        # Verificar si la posición es válida\n",
    "        if 0 <= posicion_a_quitar < len(carrito):\n",
    "            item_quitar = carrito.pop(posicion_a_quitar)\n",
    "            print(f\"{item_quitar['producto']} ha sido quitado del carrito de compras.\\n\")\n",
    "        else:\n",
    "            print(\"Número de artículo no válido.\\n\")\n",
    "    except ValueError:\n",
    "        print(\"Por favor, ingrese un número válido.\\n\")\n",
    "\n",
    "quitar_del_carrito(carrito_de_compras)"
   ]
  },
  {
   "cell_type": "code",
   "execution_count": 87,
   "id": "b8db2947",
   "metadata": {},
   "outputs": [
    {
     "name": "stdout",
     "output_type": "stream",
     "text": [
      "\n",
      "Desglose del carrito de compras:\n",
      "cereal: $200.00\n",
      "\n",
      "El total del carrito de compras es: $200.00\n",
      "\n"
     ]
    }
   ],
   "source": [
    "# Sexta función -> Total del carrito\n",
    "def calcular_total(carrito):\n",
    "    \"\"\"\n",
    "    Calcula el total de los artículos en el carrito de compras e imprime un desglose detallado.\n",
    "\n",
    "    Parameters:\n",
    "    - carrito: Lista que representa el carrito de compras.\n",
    "    \"\"\"\n",
    "    if not carrito:\n",
    "        print(\"El carrito de compras está vacío.\\n\")\n",
    "        return\n",
    "\n",
    "    print(\"\\nDesglose del carrito de compras:\")\n",
    "    for item in carrito:\n",
    "        print(f\"{item['producto']}: ${item['precio']:.2f}\")\n",
    "\n",
    "    total = sum(item['precio'] for item in carrito)\n",
    "    print(f\"\\nEl total del carrito de compras es: ${total:.2f}\\n\")\n",
    "\n",
    "calcular_total(carrito_de_compras)"
   ]
  },
  {
   "cell_type": "code",
   "execution_count": 88,
   "id": "dbeeb850",
   "metadata": {},
   "outputs": [
    {
     "name": "stdout",
     "output_type": "stream",
     "text": [
      "Artículos disponibles en la tiendita virtual:\n",
      "cereal: $200.00\n",
      "sabritas: $25.50\n",
      "pan bimbo: $47.50\n",
      "huevos: $45.00\n",
      "plátano: $5.90\n",
      "chicles: $5.00\n",
      "galletas: $35.00\n",
      "papel toilet: $75.00\n",
      "harina de pancakes: $15.00\n",
      "\n",
      "Ingrese el nombre del artículo a duplicar: sabritas\n",
      "Se ha duplicado la cantidad de sabritas en la tiendita.\n",
      "\n",
      "Productos en la tiendita después de duplicar:\n",
      "cereal: $200.00\n",
      "sabritas: $51.00\n",
      "pan bimbo: $47.50\n",
      "huevos: $45.00\n",
      "plátano: $5.90\n",
      "chicles: $5.00\n",
      "galletas: $35.00\n",
      "papel toilet: $75.00\n",
      "harina de pancakes: $15.00\n"
     ]
    }
   ],
   "source": [
    "# Séptima función -> Duplicando precio de producto por inflación\n",
    "def duplicar_producto(productos):\n",
    "    \"\"\"\n",
    "    Duplica la cantidad de un producto en el diccionario de productos.\n",
    "\n",
    "    Parameters:\n",
    "    - productos: Diccionario que contiene los productos y sus precios.\n",
    "    \"\"\"\n",
    "    # Mostrar artículos disponibles\n",
    "    print(\"Artículos disponibles en la tiendita virtual:\")\n",
    "    disponibles(productos)\n",
    "    \n",
    "    # Obtener el nombre del artículo a duplicar\n",
    "    producto = input(\"\\nIngrese el nombre del artículo a duplicar: \").lower()\n",
    "\n",
    "    # Verificar si el artículo está en la lista\n",
    "    if producto in productos:\n",
    "        # Duplicar la cantidad del producto\n",
    "        productos[producto] *= 2\n",
    "        print(f\"Se ha duplicado la cantidad de {producto} en la tiendita.\\n\")\n",
    "        \n",
    "        # Mostrar productos_tiendita actualizado\n",
    "        print(\"Productos en la tiendita después de duplicar:\")\n",
    "        disponibles(productos)\n",
    "    else:\n",
    "        print(f\"{producto} no está en la lista de productos.\\n\")\n",
    "\n",
    "duplicar_producto(productos_tiendita)\n"
   ]
  }
 ],
 "metadata": {
  "kernelspec": {
   "display_name": "Python 3 (ipykernel)",
   "language": "python",
   "name": "python3"
  },
  "language_info": {
   "codemirror_mode": {
    "name": "ipython",
    "version": 3
   },
   "file_extension": ".py",
   "mimetype": "text/x-python",
   "name": "python",
   "nbconvert_exporter": "python",
   "pygments_lexer": "ipython3",
   "version": "3.11.3"
  }
 },
 "nbformat": 4,
 "nbformat_minor": 5
}
