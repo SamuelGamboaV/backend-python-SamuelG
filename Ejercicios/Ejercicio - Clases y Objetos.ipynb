{
 "cells": [
  {
   "cell_type": "code",
   "execution_count": 47,
   "id": "c763e52e",
   "metadata": {},
   "outputs": [],
   "source": [
    "class Product: # Molde\n",
    "    opus = 0\n",
    "    total = 0\n",
    "    \n",
    "    def __init__(self, name, manufacturer, provider, price, shelflife): # Constructor\n",
    "        Product.opus += 1\n",
    "        self.name = name\n",
    "        self.manufacturer = manufacturer\n",
    "        self.provider = provider\n",
    "        self.price = price\n",
    "        self.shelflife = shelflife\n",
    "        print(\"Un producto se ha agregado al inventario de la tienda\")\n",
    "        \n",
    "    def __del__(self): # Borrador\n",
    "        Product.total -= 1\n",
    "        \n",
    "    def print_attributes(self): # Atributos\n",
    "        print(\"Nombre: \", self.name)\n",
    "        print(\"Manufacturadora: \", self.manufacturer)\n",
    "        print(\"Proveedor: \", self.provider)\n",
    "        print(\"Precio: \", self.price)\n",
    "        print(\"Fecha de expiración: \", self.shelflife)\n",
    "\n",
    "class DiscountProduct(Product): # Clase Hija\n",
    "    def __init__(self, name, manufacturer, provider, price, shelflife, discount): #Atributos hijos\n",
    "        super().__init__(name, manufacturer, provider, price, shelflife)\n",
    "        self.discount = discount\n",
    "    \n",
    "    def apply_discount(self): # Métodos hijos\n",
    "        discount_amount = self.price * (self.discount / 100)\n",
    "        discounted_price = self.price - discount_amount\n",
    "        print(f\"El precio del producto {self.name} con descuento del {self.discount}% es: {discounted_price}\")"
   ]
  },
  {
   "cell_type": "code",
   "execution_count": 48,
   "id": "cb6876bf",
   "metadata": {},
   "outputs": [
    {
     "name": "stdout",
     "output_type": "stream",
     "text": [
      "Un producto se ha agregado al inventario de la tienda\n"
     ]
    }
   ],
   "source": [
    "product1 = Product(\"Mayonesa\",\"McCormick\",\"Productos de México\",15.00,\"12/31/2023\")"
   ]
  },
  {
   "cell_type": "code",
   "execution_count": 49,
   "id": "befdf392",
   "metadata": {},
   "outputs": [
    {
     "name": "stdout",
     "output_type": "stream",
     "text": [
      "Nombre:  Mayonesa\n",
      "Manufacturadora:  McCormick\n",
      "Proveedor:  Productos de México\n",
      "Precio:  15.0\n",
      "Fecha de expiración:  12/31/2023\n"
     ]
    }
   ],
   "source": [
    "product1.print_attributes()"
   ]
  },
  {
   "cell_type": "code",
   "execution_count": 50,
   "id": "71ae8751",
   "metadata": {},
   "outputs": [
    {
     "name": "stdout",
     "output_type": "stream",
     "text": [
      "Hay  1  productos creados\n"
     ]
    }
   ],
   "source": [
    "print(\"Hay \", Product.opus, \" productos creados\")"
   ]
  },
  {
   "cell_type": "code",
   "execution_count": 51,
   "id": "1f246165",
   "metadata": {},
   "outputs": [
    {
     "name": "stdout",
     "output_type": "stream",
     "text": [
      "Un producto se ha agregado al inventario de la tienda\n",
      "El precio del producto Gel de Afeitar con descuento del 60% es: 200.0\n"
     ]
    }
   ],
   "source": [
    "discounted_item = DiscountProduct(\"Gel de Afeitar\", \"Gillete\", \"Cosméticos de México\", 500, \"2024-12-31\", 60)\n",
    "discounted_item.apply_discount()"
   ]
  },
  {
   "cell_type": "code",
   "execution_count": 52,
   "id": "066903e3",
   "metadata": {},
   "outputs": [
    {
     "name": "stdout",
     "output_type": "stream",
     "text": [
      "Nombre:  Mayonesa\n",
      "Manufacturadora:  McCormick\n",
      "Proveedor:  Productos de México\n",
      "Precio:  15.0\n",
      "Fecha de expiración:  12/31/2023\n"
     ]
    }
   ],
   "source": [
    "product1.print_attributes()"
   ]
  },
  {
   "cell_type": "code",
   "execution_count": 53,
   "id": "30bdeae0",
   "metadata": {},
   "outputs": [
    {
     "name": "stdout",
     "output_type": "stream",
     "text": [
      "Nombre:  Gel de Afeitar\n",
      "Manufacturadora:  Gillete\n",
      "Proveedor:  Cosméticos de México\n",
      "Precio:  500\n",
      "Fecha de expiración:  2024-12-31\n"
     ]
    }
   ],
   "source": [
    "discounted_item.print_attributes()"
   ]
  },
  {
   "cell_type": "code",
   "execution_count": null,
   "id": "6a76983e",
   "metadata": {},
   "outputs": [],
   "source": []
  }
 ],
 "metadata": {
  "kernelspec": {
   "display_name": "Python 3 (ipykernel)",
   "language": "python",
   "name": "python3"
  },
  "language_info": {
   "codemirror_mode": {
    "name": "ipython",
    "version": 3
   },
   "file_extension": ".py",
   "mimetype": "text/x-python",
   "name": "python",
   "nbconvert_exporter": "python",
   "pygments_lexer": "ipython3",
   "version": "3.11.3"
  }
 },
 "nbformat": 4,
 "nbformat_minor": 5
}
