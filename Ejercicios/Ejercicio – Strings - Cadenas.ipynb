{
 "cells": [
  {
   "cell_type": "code",
   "execution_count": null,
   "id": "4ec6867e",
   "metadata": {},
   "outputs": [],
   "source": []
  },
  {
   "cell_type": "code",
   "execution_count": 16,
   "id": "8be6a7ce",
   "metadata": {},
   "outputs": [
    {
     "name": "stdout",
     "output_type": "stream",
     "text": [
      "Ingresa tu reseña del producto / servicio:Es un producto bueno, excelente y bastante útil\n",
      "\n",
      "Analizador de sentimientos\n",
      "\n",
      "my_string: Es un producto bueno, excelente y bastante útil\n",
      "score: 3 \n",
      "resultado: Positivo\n"
     ]
    }
   ],
   "source": [
    "# Ejemplo positivo\n",
    "my_string = input(\"Ingresa tu reseña del producto / servicio:\" )\n",
    "positive_words = [\"bueno\", \"excelente\", \"maravilloso\", \"padre\", \"cool\", \"útil\", \"versátil\"]\n",
    "negative_words = [\"defectuoso\", \"malo\", \"horrible\", \"feo\", \"débil\", \"no recomendable\", \"inútil\"]\n",
    "score = 0\n",
    "for positive_word in positive_words:\n",
    " score = score + my_string.count(positive_word)\n",
    "\n",
    "for negative_word in negative_words:\n",
    " score = score - my_string.count(negative_word)\n",
    "\n",
    "if score == 0:\n",
    " result = \"Neutro\"\n",
    "if score > 0:\n",
    " result = \"Positivo\"\n",
    "if score < 0:\n",
    " result = \"Negativo\"\n",
    "\n",
    "print(\"\\nAnalizador de sentimientos\\n\")\n",
    "print(\"my_string: {}\\nscore: {} \\nresultado: {}\".format(my_string, score, result))"
   ]
  },
  {
   "cell_type": "code",
   "execution_count": 18,
   "id": "0f390be1",
   "metadata": {},
   "outputs": [
    {
     "name": "stdout",
     "output_type": "stream",
     "text": [
      "Ingresa tu reseña del producto / servicio: Es un servicio feo, malo y no recomendable\n",
      "\n",
      "Analizador de sentimientos\n",
      "\n",
      "my_string: Es un servicio feo, malo y no recomendable\n",
      "score: -3 \n",
      "resultado: Negativo\n"
     ]
    }
   ],
   "source": [
    "# Ejemplo negativo\n",
    "my_string = input(\"Ingresa tu reseña del producto / servicio: \" )\n",
    "positive_words = [\"bueno\", \"excelente\", \"maravilloso\", \"padre\", \"cool\", \"útil\", \"versátil\"]\n",
    "negative_words = [\"defectuoso\", \"malo\", \"horrible\", \"feo\", \"débil\", \"no recomendable\", \"inútil\"]\n",
    "score = 0\n",
    "for positive_word in positive_words:\n",
    " score = score + my_string.count(positive_word)\n",
    "\n",
    "for negative_word in negative_words:\n",
    " score = score - my_string.count(negative_word)\n",
    "\n",
    "if score == 0:\n",
    " result = \"Neutro\"\n",
    "if score > 0:\n",
    " result = \"Positivo\"\n",
    "if score < 0:\n",
    " result = \"Negativo\"\n",
    "\n",
    "print(\"\\nAnalizador de sentimientos\\n\")\n",
    "print(\"my_string: {}\\nscore: {} \\nresultado: {}\".format(my_string, score, result))"
   ]
  },
  {
   "cell_type": "code",
   "execution_count": 29,
   "id": "7cd29380",
   "metadata": {},
   "outputs": [
    {
     "name": "stdout",
     "output_type": "stream",
     "text": [
      "Ingresa tu reseña del producto / servicio: Es útil pero malo\n",
      "\n",
      "Analizador de sentimientos\n",
      "\n",
      "my_string: Es útil pero malo\n",
      "score: 0 \n",
      "resultado: Neutro\n"
     ]
    }
   ],
   "source": [
    "# Ejemplo neutral\n",
    "my_string = input(\"Ingresa tu reseña del producto / servicio: \" )\n",
    "positive_words = [\"bueno\", \"excelente\", \"maravilloso\", \"padre\", \"cool\", \"útil\", \"versátil\"]\n",
    "negative_words = [\"defectuoso\", \"malo\", \"horrible\", \"feo\", \"débil\", \"no recomendable\", \"inútil\", \"inutil\"]\n",
    "score = 0\n",
    "for positive_word in positive_words:\n",
    " score = score + my_string.count(positive_word)\n",
    "\n",
    "for negative_word in negative_words:\n",
    " score = score - my_string.count(negative_word)\n",
    "\n",
    "if score == 0:\n",
    " result = \"Neutro\"\n",
    "if score > 0:\n",
    " result = \"Positivo\"\n",
    "if score < 0:\n",
    " result = \"Negativo\"\n",
    "\n",
    "print(\"\\nAnalizador de sentimientos\\n\")\n",
    "print(\"my_string: {}\\nscore: {} \\nresultado: {}\".format(my_string, score, result))"
   ]
  },
  {
   "cell_type": "code",
   "execution_count": null,
   "id": "3d457c02",
   "metadata": {},
   "outputs": [],
   "source": []
  }
 ],
 "metadata": {
  "kernelspec": {
   "display_name": "Python 3 (ipykernel)",
   "language": "python",
   "name": "python3"
  },
  "language_info": {
   "codemirror_mode": {
    "name": "ipython",
    "version": 3
   },
   "file_extension": ".py",
   "mimetype": "text/x-python",
   "name": "python",
   "nbconvert_exporter": "python",
   "pygments_lexer": "ipython3",
   "version": "3.11.3"
  }
 },
 "nbformat": 4,
 "nbformat_minor": 5
}
