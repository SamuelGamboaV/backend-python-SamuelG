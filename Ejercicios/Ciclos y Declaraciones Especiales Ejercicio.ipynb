{
 "cells": [
  {
   "cell_type": "code",
   "execution_count": null,
   "id": "5cb31be9",
   "metadata": {},
   "outputs": [
    {
     "name": "stdout",
     "output_type": "stream",
     "text": [
      "\n",
      "        Selecciona una opción para usar el cronómetro:\n",
      "\n",
      "        1) Countdown\n",
      "        2) Countup\n",
      "        3) Salir\n",
      "        \n",
      "Elige una opción: 2\n",
      "Selecciona el número de segundos a contar: 5\n",
      "stop5\n",
      "\n",
      "        Selecciona una opción para usar el cronómetro:\n",
      "\n",
      "        1) Countdown\n",
      "        2) Countup\n",
      "        3) Salir\n",
      "        \n"
     ]
    }
   ],
   "source": [
    "import time\n",
    "\n",
    "my_option = 0\n",
    "\n",
    "def countdown(time_sec):\n",
    "    while time_sec:\n",
    "        mins, secs = divmod(time_sec, 60)\n",
    "        timeformat = '{:02d}:{:02d}'.format(mins, secs)\n",
    "        print(timeformat, end='\\r')\n",
    "        time.sleep(1)\n",
    "        time_sec -= 1\n",
    "    print(\"stop\")\n",
    "\n",
    "def countup(counter):\n",
    "    current_count = 0  # Iniciar cuenta en 0 (cero)\n",
    "\n",
    "    while current_count <= counter:\n",
    "        mins, secs = divmod(current_count, 60)\n",
    "        timeformat = '{:02d}:{:02d}'.format(mins, secs)\n",
    "        print(timeformat, end='\\r')\n",
    "        time.sleep(1)\n",
    "        current_count += 1\n",
    "\n",
    "    print(\"stop\")\n",
    "\n",
    "while my_option != 3:\n",
    "    print(\"\"\"\n",
    "        Selecciona una opción para usar el cronómetro:\n",
    "\n",
    "        1) Countdown\n",
    "        2) Countup\n",
    "        3) Salir\n",
    "        \"\"\")\n",
    "    my_option = int(input(\"Elige una opción: \"))\n",
    "    \n",
    "    if my_option > 3:\n",
    "        print(\"Esa opción no está disponible\")\n",
    "    elif my_option == 1 or my_option == 2:\n",
    "        counter = int(input(\"Selecciona el número de segundos a contar: \"))\n",
    "        \n",
    "        if my_option == 1:\n",
    "            countdown(counter)\n",
    "        elif my_option == 2:\n",
    "            countup(counter)"
   ]
  },
  {
   "cell_type": "code",
   "execution_count": null,
   "id": "f735559e",
   "metadata": {},
   "outputs": [],
   "source": []
  }
 ],
 "metadata": {
  "kernelspec": {
   "display_name": "Python 3 (ipykernel)",
   "language": "python",
   "name": "python3"
  },
  "language_info": {
   "codemirror_mode": {
    "name": "ipython",
    "version": 3
   },
   "file_extension": ".py",
   "mimetype": "text/x-python",
   "name": "python",
   "nbconvert_exporter": "python",
   "pygments_lexer": "ipython3",
   "version": "3.11.3"
  }
 },
 "nbformat": 4,
 "nbformat_minor": 5
}
