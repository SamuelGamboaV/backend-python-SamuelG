{
 "cells": [
  {
   "cell_type": "code",
   "execution_count": 8,
   "id": "01af1325",
   "metadata": {},
   "outputs": [
    {
     "name": "stdout",
     "output_type": "stream",
     "text": [
      "{'7A7A', '33CC', 'C3C3', 'CC55', '7B77', 'A11A', '55BB', 'A999', '00A0', 'DD8D', 'CCC8', 'DDD3', '5AAA', 'C00C', 'BB44', '4B4B', 'D11D', '9D9D', 'CC11', 'AA22', 'D111', '00AA', 'CC33', 'DD4D', '33C3', 'D3D3', '0C00', 'B999', 'C3CC', 'DD2D', 'C7CC', '0DD0', '8AA8', '44A4', '6A6A', '9CC9', '77CC', '7C7C', '8CC8', '00CC', '66D6', 'A5A5', '888D', '666C', '1111', '11D1', 'D666', 'BB5B', 'BB8B', '777B', 'CCC5', '66A6', '4DD4', '222C', 'D0DD', '7CCC', '22BB', 'AAAA', 'AA11', 'BBB1', '8B88', 'DD22', 'BBB2', '444A', 'AAA7', 'B77B', 'A77A', '0B00', 'CC1C', 'D4D4', '111A', 'A8AA', 'B111', '5C55', '11AA', 'B9B9', 'BB4B', 'AA7A', 'A4AA', 'B6BB', 'B666', 'BBB5', '4C44', 'D22D', 'C666', '11C1', '7777', '1D11', '3CCC', 'BBB9', 'AAA9', 'D9DD', 'BB3B', 'D6D6', 'A5AA', 'C6C6', '444B', 'D8D8', 'BB88', 'C777', 'A88A', '0D0D', 'B7BB', '666B', '8D8D', '6CC6', 'A6AA', 'AA8A', '0A00', '00B0', 'C333', 'C0C0', 'A33A', 'BB55', '999C', '3C3C', '55B5', 'A444', 'B66B', '7A77', '1CCC', '9B99', 'D0D0', '0C0C', 'C2CC', '1BB1', 'B5BB', '444D', '6AAA', 'C1CC', '8CCC', 'AAA3', 'A22A', 'DD3D', '4CCC', 'BBB4', '8C8C', '2BB2', '9999', '888A', '6666', 'CC44', '9C9C', '1D1D', 'DDD2', '000C', 'AA0A', '22AA', '2AAA', 'B11B', 'B2BB', 'D777', 'CC3C', 'C4C4', '0000', '1A11', 'AA2A', '33A3', '55DD', '44BB', '88DD', '2B2B', '111D', '8C88', 'D66D', '7D77', '4CC4', '333A', '6C66', '2C2C', '99A9', 'AA00', '1AA1', 'B33B', '11A1', '66C6', '9A9A', '222B', '5D5D', '3DDD', '6D66', 'A44A', 'D222', '2BBB', 'B55B', '5BBB', '0AA0', 'DDD7', 'BB00', 'C8CC', 'DDD1', 'B0BB', '5A55', 'C9C9', '7DDD', '4D44', '0BB0', 'CC6C', '3A33', 'DD11', 'B99B', '6CCC', 'CCC0', '66DD', 'C99C', '2222', 'DD77', 'D9D9', 'A666', 'A7AA', '77D7', 'CC0C', 'D999', '555C', 'AA44', 'AA66', 'CC00', '1DD1', 'A3A3', '8D88', '99AA', '5CC5', '5AA5', '9DDD', 'B8B8', 'BBB8', 'A7A7', '33AA', '3CC3', '0DDD', 'BB66', 'BBB0', '2DDD', '2DD2', 'BB6B', '2A2A', 'CC77', 'AA1A', 'A66A', 'A111', 'C111', '22B2', '55AA', '4BBB', 'A55A', '88AA', '1C11', '1B1B', '9A99', '77A7', 'A1A1', 'DDD6', 'AAA4', 'D99D', 'DDD9', 'CCC3', '00C0', 'CCCC', '00DD', '777A', '111B', '77BB', '8DD8', '11BB', '3BB3', '22DD', '00D0', 'C0CC', '0B0B', 'AAA6', '666A', 'AA9A', 'D6DD', 'D33D', 'D77D', '9CCC', 'DD44', '5C5C', 'B1BB', '44D4', '4BB4', 'C7C7', '1A1A', '88D8', 'DDD4', '666D', '0CCC', '3C33', '9B9B', 'AAA5', 'CC99', '55C5', 'A000', 'DD88', 'D1DD', '222D', 'B3B3', '88A8', 'B333', '2CCC', 'AAA2', '4DDD', 'C5CC', 'B222', 'AA99', 'C88C', '44B4', '4AA4', '88BB', 'DD9D', 'D3DD', 'C2C2', '7B7B', '4444', '3333', 'D555', 'C33C', '8A8A', 'B3BB', 'C66C', '4D4D', '11CC', 'B777', '55A5', 'C8C8', '5A5A', 'B4BB', '555A', 'AA3A', 'A2A2', '0D00', 'A2AA', 'BB2B', 'B2B2', '9BB9', 'A222', 'CC8C', 'BBB3', 'A8A8', 'DDD5', '777C', '333C', 'A9AA', 'CC5C', '1AAA', 'DD0D', '33BB', '8888', 'CCC1', 'D888', 'D8DD', 'A9A9', 'BB99', '8BBB', '8A88', 'C4CC', 'A6A6', 'C999', '8B8B', '7BBB', '4AAA', 'BB7B', '999D', 'C555', 'CC4C', 'B444', '7BB7', 'C888', '5555', '5B55', 'BB22', '6C6C', '8AAA', '3DD3', 'D000', '77B7', '3AA3', 'D7D7', '999A', '1B11', '7D7D', '44DD', '2B22', 'D2D2', '6DD6', 'A0A0', '2CC2', 'D2DD', '66BB', '22C2', '4A44', 'B00B', '5D55', '2AA2', '000A', '6BB6', 'DD1D', 'D444', '1CC1', 'BB11', 'A1AA', 'DD7D', '7AA7', '22A2', '444C', '9AA9', 'B88B', '3A3A', '5CCC', '7AAA', 'DDDD', '0AAA', '99CC', 'CCC7', 'DD99', '77DD', '99D9', '999B', 'A0AA', '5B5B', 'D4DD', '99DD', 'AAA1', '5DD5', '44AA', '99C9', 'C222', 'AA77', '6A66', '3AAA', 'D1D1', 'A00A', '22CC', 'D333', '0A0A', 'D88D', 'D44D', 'BB33', '66B6', 'CC66', '3B3B', 'D00D', '2D22', 'CCC4', 'CCC6', '44CC', '000B', '00BB', 'C11C', '3D33', '77C7', 'A3AA', 'AA55', '6DDD', 'B22B', 'AAA8', '6D6D', 'BB9B', 'A555', '0CC0', '222A', 'CC88', 'A888', 'C1C1', '77AA', '2C22', '4B44', 'C000', 'D55D', '8DDD', 'CC22', 'D5DD', 'DD6D', '888B', '88B8', '111C', '3D3D', 'D7DD', '8BB8', 'B8BB', '66AA', 'C77C', '777D', 'DDD0', 'B4B4', '9D99', 'AA33', '33DD', 'A333', 'C6CC', 'B1B1', '9BBB', 'DDD8', '55D5', '6BBB', 'DD00', 'BBBB', '11B1', 'DD66', '5BB5', '1DDD', 'BBB6', 'BB77', '11DD', 'DD55', 'CCC9', '3BBB', '555D', '44C4', '6B6B', 'B6B6', 'BB0B', 'C9CC', 'D5D5', 'C44C', '333B', 'B000', '0BBB', '4A4A', 'BB1B', '1C1C', 'AAA0', 'C5C5', 'C444', 'A777', '3B33', '6AA6', 'B9BB', '1BBB', '9C99', '9DD9', 'B0B0', '55CC', 'C22C', '4C4C', 'BBB7', '2D2D', '555B', 'C55C', '88CC', '5DDD', '7CC7', '7C77', '99B9', 'AA5A', 'B44B', '7DD7', '88C8', '6B66', '2A22', 'CC2C', '99BB', '888C', 'CC9C', 'B5B5', 'DD5D', '000D', 'AA4A', 'A4A4', '66CC', '33B3', 'CCC2', 'B555', '9AAA', 'AA6A', '33D3', 'B888', 'DD33', '333D', 'B7B7', 'A99A', 'CC7C', '22D2', 'AA88'}\n"
     ]
    }
   ],
   "source": [
    "numbers = ['0', '1', '2', '3', '4', '5', '6', '7', '8', '9']\n",
    "letters = ['A', 'B', 'C','D']\n",
    "\n",
    "unique_permutations = set()\n",
    "for number in numbers:\n",
    "    for letter in letters:\n",
    "        unique_permutations.add(\"{}{}{}{}\".format(number, number, number, number))\n",
    "        unique_permutations.add(\"{}{}{}{}\".format(number, number, number, letter))\n",
    "        unique_permutations.add(\"{}{}{}{}\".format(number, number, letter, number))\n",
    "        unique_permutations.add(\"{}{}{}{}\".format(number, number, letter, letter))\n",
    "        unique_permutations.add(\"{}{}{}{}\".format(number, letter, number, number))\n",
    "        unique_permutations.add(\"{}{}{}{}\".format(number, letter, number, letter))\n",
    "        unique_permutations.add(\"{}{}{}{}\".format(number, letter, letter, number))\n",
    "        unique_permutations.add(\"{}{}{}{}\".format(number, letter, letter, letter))\n",
    "        unique_permutations.add(\"{}{}{}{}\".format(letter, number, number, number))\n",
    "        unique_permutations.add(\"{}{}{}{}\".format(letter, number, number, letter))\n",
    "        unique_permutations.add(\"{}{}{}{}\".format(letter, number, letter, number))\n",
    "        unique_permutations.add(\"{}{}{}{}\".format(letter, number, letter, letter))\n",
    "        unique_permutations.add(\"{}{}{}{}\".format(letter, letter, number, number))\n",
    "        unique_permutations.add(\"{}{}{}{}\".format(letter, letter, number, letter))\n",
    "        unique_permutations.add(\"{}{}{}{}\".format(letter, letter, letter, number))\n",
    "        unique_permutations.add(\"{}{}{}{}\".format(letter, letter, letter, letter))\n",
    "        \n",
    "print(unique_permutations)"
   ]
  }
 ],
 "metadata": {
  "kernelspec": {
   "display_name": "Python 3 (ipykernel)",
   "language": "python",
   "name": "python3"
  },
  "language_info": {
   "codemirror_mode": {
    "name": "ipython",
    "version": 3
   },
   "file_extension": ".py",
   "mimetype": "text/x-python",
   "name": "python",
   "nbconvert_exporter": "python",
   "pygments_lexer": "ipython3",
   "version": "3.11.3"
  }
 },
 "nbformat": 4,
 "nbformat_minor": 5
}
