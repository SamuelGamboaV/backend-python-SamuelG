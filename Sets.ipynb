{
 "cells": [
  {
   "cell_type": "markdown",
   "id": "6ac690fd",
   "metadata": {},
   "source": [
    "## Creando y Modificando sets"
   ]
  },
  {
   "cell_type": "code",
   "execution_count": 2,
   "id": "9285697b",
   "metadata": {},
   "outputs": [
    {
     "name": "stdout",
     "output_type": "stream",
     "text": [
      "<class 'set'>\n",
      "1\n",
      "{'python'}\n"
     ]
    }
   ],
   "source": [
    "my_set = set()\n",
    "my_set.add(\"python\")\n",
    "print(type(my_set))\n",
    "print(len(my_set))\n",
    "print(my_set)"
   ]
  },
  {
   "cell_type": "code",
   "execution_count": 3,
   "id": "f48a4666",
   "metadata": {},
   "outputs": [],
   "source": [
    "# Listas - []\n",
    "# Tuplas - ()\n",
    "# Sets - {}"
   ]
  },
  {
   "cell_type": "code",
   "execution_count": 5,
   "id": "eac137f2",
   "metadata": {},
   "outputs": [
    {
     "name": "stdout",
     "output_type": "stream",
     "text": [
      "<class 'set'>\n",
      "4\n",
      "{'Backend', 'python', 3.1416, 23}\n"
     ]
    }
   ],
   "source": [
    "my_set = set()\n",
    "my_set.add(\"python\")\n",
    "my_set.update((23,\"Backend\", 3.1416))\n",
    "\n",
    "print(type(my_set))\n",
    "print(len(my_set))\n",
    "print(my_set)"
   ]
  },
  {
   "cell_type": "code",
   "execution_count": 6,
   "id": "90f8ca7b",
   "metadata": {},
   "outputs": [
    {
     "name": "stdout",
     "output_type": "stream",
     "text": [
      "<class 'set'>\n",
      "4\n",
      "{'Backend', 'python', 3.1416, 23}\n"
     ]
    }
   ],
   "source": [
    "my_set = set()\n",
    "my_set.add(\"python\")\n",
    "my_set.update((23,\"Backend\", 3.1416))\n",
    "\n",
    "my_set.add(\"python\")\n",
    "my_set.add(\"python\")\n",
    "my_set.add(\"python\")\n",
    "my_set.add(23)\n",
    "my_set.add(23)\n",
    "my_set.add(23)\n",
    "my_set.add(3.1416)\n",
    "my_set.add(3.1416)\n",
    "my_set.add(3.1416)\n",
    "\n",
    "print(type(my_set))\n",
    "print(len(my_set))\n",
    "print(my_set)"
   ]
  },
  {
   "cell_type": "code",
   "execution_count": 8,
   "id": "05f5426a",
   "metadata": {},
   "outputs": [
    {
     "name": "stdout",
     "output_type": "stream",
     "text": [
      "<class 'set'>\n",
      "4\n",
      "{'Backend', 'python', 3.1416, 23}\n"
     ]
    }
   ],
   "source": [
    "my_set = {'Backend', 'python', 3.1416, 23}\n",
    "print(type(my_set))\n",
    "print(len(my_set))\n",
    "print(my_set)"
   ]
  },
  {
   "cell_type": "markdown",
   "id": "4e50c070",
   "metadata": {},
   "source": [
    "# Métodos para manipulación de sets"
   ]
  },
  {
   "cell_type": "markdown",
   "id": "75185489",
   "metadata": {},
   "source": [
    "### add\n",
    "Agregar un elemento a un set"
   ]
  },
  {
   "cell_type": "code",
   "execution_count": 9,
   "id": "a9702a89",
   "metadata": {},
   "outputs": [
    {
     "name": "stdout",
     "output_type": "stream",
     "text": [
      "<class 'set'>\n",
      "4\n",
      "{1, 11, 5, 23}\n"
     ]
    }
   ],
   "source": [
    "my_set = {1,11,5, 23}\n",
    "print(type(my_set))\n",
    "print(len(my_set))\n",
    "print(my_set)"
   ]
  },
  {
   "cell_type": "code",
   "execution_count": 11,
   "id": "ca92e1e2",
   "metadata": {},
   "outputs": [
    {
     "name": "stdout",
     "output_type": "stream",
     "text": [
      "<class 'set'>\n",
      "6\n",
      "{1, 2, 3, 5, 11, 23}\n"
     ]
    }
   ],
   "source": [
    "my_set.add(1)\n",
    "my_set.add(2)\n",
    "my_set.add(3)\n",
    "\n",
    "print(type(my_set))\n",
    "print(len(my_set))\n",
    "print(my_set)"
   ]
  },
  {
   "cell_type": "markdown",
   "id": "198668d0",
   "metadata": {},
   "source": [
    "### clear\n",
    "Remueve todos los elementos del set"
   ]
  },
  {
   "cell_type": "code",
   "execution_count": 13,
   "id": "92964060",
   "metadata": {},
   "outputs": [
    {
     "name": "stdout",
     "output_type": "stream",
     "text": [
      "<class 'set'>\n",
      "4\n",
      "{1, 11, 5, 23} \n",
      "\n",
      "<class 'set'>\n",
      "0\n",
      "set()\n"
     ]
    }
   ],
   "source": [
    "my_set = {1,11,5, 23}\n",
    "\n",
    "print(type(my_set))\n",
    "print(len(my_set))\n",
    "print(my_set,\"\\n\")\n",
    "\n",
    "my_set.clear()\n",
    "\n",
    "print(type(my_set))\n",
    "print(len(my_set))\n",
    "print(my_set)"
   ]
  },
  {
   "cell_type": "markdown",
   "id": "4215ce95",
   "metadata": {},
   "source": [
    "### copy\n",
    "Copia los elementos en un nuevo set"
   ]
  },
  {
   "cell_type": "code",
   "execution_count": 17,
   "id": "1b5e8a6a",
   "metadata": {},
   "outputs": [
    {
     "name": "stdout",
     "output_type": "stream",
     "text": [
      "<class 'set'>\n",
      "4\n",
      "{1, 11, 5, 23} \n",
      "\n",
      "<class 'set'>\n",
      "4\n",
      "{1, 11, 5, 23} \n",
      "\n",
      "<class 'set'>\n",
      "4\n",
      "{1, 11, 5, 23} \n",
      "\n",
      "<class 'set'>\n",
      "0\n",
      "set() \n",
      "\n"
     ]
    }
   ],
   "source": [
    "my_set = {1,11,5, 23}\n",
    "my_set_2 = my_set.copy()\n",
    "\n",
    "print(type(my_set))\n",
    "print(len(my_set))\n",
    "print(my_set,\"\\n\")\n",
    "\n",
    "print(type(my_set_2))\n",
    "print(len(my_set_2))\n",
    "print(my_set_2,\"\\n\")\n",
    "\n",
    "my_set_2.clear()\n",
    "\n",
    "print(type(my_set))\n",
    "print(len(my_set))\n",
    "print(my_set,\"\\n\")\n",
    "\n",
    "print(type(my_set_2))\n",
    "print(len(my_set_2))\n",
    "print(my_set_2,\"\\n\")"
   ]
  },
  {
   "cell_type": "code",
   "execution_count": 18,
   "id": "e28b7418",
   "metadata": {},
   "outputs": [
    {
     "name": "stdout",
     "output_type": "stream",
     "text": [
      "<class 'set'>\n",
      "4\n",
      "{1, 11, 5, 23} \n",
      "\n",
      "<class 'set'>\n",
      "4\n",
      "{1, 11, 5, 23} \n",
      "\n",
      "<class 'set'>\n",
      "0\n",
      "set() \n",
      "\n",
      "<class 'set'>\n",
      "0\n",
      "set() \n",
      "\n"
     ]
    }
   ],
   "source": [
    "my_set = {1,11,5, 23}\n",
    "my_set_2 = my_set\n",
    "\n",
    "print(type(my_set))\n",
    "print(len(my_set))\n",
    "print(my_set,\"\\n\")\n",
    "\n",
    "print(type(my_set_2))\n",
    "print(len(my_set_2))\n",
    "print(my_set_2,\"\\n\")\n",
    "\n",
    "my_set_2.clear()\n",
    "\n",
    "print(type(my_set))\n",
    "print(len(my_set))\n",
    "print(my_set,\"\\n\")\n",
    "\n",
    "print(type(my_set_2))\n",
    "print(len(my_set_2))\n",
    "print(my_set_2,\"\\n\")"
   ]
  },
  {
   "cell_type": "markdown",
   "id": "5896f69a",
   "metadata": {},
   "source": [
    "### difference\n",
    "Obtiene los valores presentes en el primer set y faltantes en el segundo set"
   ]
  },
  {
   "cell_type": "code",
   "execution_count": 19,
   "id": "607fe840",
   "metadata": {},
   "outputs": [
    {
     "name": "stdout",
     "output_type": "stream",
     "text": [
      "{8, 2, 4, 6}\n",
      "{9, 3, 5}\n"
     ]
    }
   ],
   "source": [
    "set_a = {1,3,5,7,9}\n",
    "set_b = {1,2,4,6,7,8}\n",
    "\n",
    "#valores que hay en set_b faltantes en set_a\n",
    "print(set_b.difference(set_a))\n",
    "\n",
    "#valores que hay en set_a faltantes en set_b\n",
    "print(set_a.difference(set_b))"
   ]
  },
  {
   "cell_type": "markdown",
   "id": "45e9e87e",
   "metadata": {},
   "source": [
    "### difference_update\n",
    "Conserva solo los valores diferentes entre el set solcitado y el que es mandado como parámetro"
   ]
  },
  {
   "cell_type": "code",
   "execution_count": 21,
   "id": "70e4f577",
   "metadata": {},
   "outputs": [
    {
     "name": "stdout",
     "output_type": "stream",
     "text": [
      "{2, 4, 6, 8}\n",
      "{1, 3, 5, 7, 9}\n"
     ]
    }
   ],
   "source": [
    "set_a = {1,3,5,7,9}\n",
    "set_b = {1,2,4,6,7,8}\n",
    "\n",
    "#valores que hay en set_b faltantes en set_a\n",
    "set_b.difference_update(set_a)\n",
    "print(set_b)\n",
    "\n",
    "#valores que hay en set_a faltantes en set_b\n",
    "set_a.difference_update(set_b)\n",
    "print(set_a)"
   ]
  },
  {
   "cell_type": "code",
   "execution_count": 24,
   "id": "1208a603",
   "metadata": {},
   "outputs": [
    {
     "name": "stdout",
     "output_type": "stream",
     "text": [
      "{3, 5, 9}\n",
      "{1, 2, 4, 6, 7, 8}\n"
     ]
    }
   ],
   "source": [
    "set_a = {1,3,5,7,9}\n",
    "set_b = {1,2,4,6,7,8}\n",
    "\n",
    "#valores que hay en set_b faltantes en set_a\n",
    "set_a.difference_update(set_b)\n",
    "print(set_a)\n",
    "\n",
    "#valores que hay en set_a faltantes en set_b\n",
    "set_b.difference_update(set_a)\n",
    "print(set_b)"
   ]
  },
  {
   "cell_type": "markdown",
   "id": "340cc727",
   "metadata": {},
   "source": [
    "### discard\n",
    "Eleimina un elemento del set si está presente"
   ]
  },
  {
   "cell_type": "code",
   "execution_count": 25,
   "id": "2f4979fa",
   "metadata": {},
   "outputs": [
    {
     "name": "stdout",
     "output_type": "stream",
     "text": [
      "<class 'set'>\n",
      "4\n",
      "{'Javascript', 'Scala', 'Go', 'Python'} \n",
      "\n",
      "<class 'set'>\n",
      "3\n",
      "{'Javascript', 'Scala', 'Python'} \n",
      "\n",
      "<class 'set'>\n",
      "3\n",
      "{'Javascript', 'Scala', 'Python'} \n",
      "\n"
     ]
    }
   ],
   "source": [
    "my_set = {\"Python\", \"Javascript\",\"Go\",\"Scala\"}\n",
    "\n",
    "print(type(my_set))\n",
    "print(len(my_set))\n",
    "print(my_set,\"\\n\")\n",
    "\n",
    "my_set.discard(\"Go\")\n",
    "print(type(my_set))\n",
    "print(len(my_set))\n",
    "print(my_set,\"\\n\")\n",
    "\n",
    "# No importa que el valor no esté presente\n",
    "my_set.discard(\"Go\")\n",
    "print(type(my_set))\n",
    "print(len(my_set))\n",
    "print(my_set,\"\\n\")"
   ]
  },
  {
   "cell_type": "markdown",
   "id": "18b36955",
   "metadata": {},
   "source": [
    "### intersection\n",
    "Obtiene los valores en común en 2 sets"
   ]
  },
  {
   "cell_type": "code",
   "execution_count": 26,
   "id": "2fc059c9",
   "metadata": {},
   "outputs": [
    {
     "name": "stdout",
     "output_type": "stream",
     "text": [
      "{1, 7}\n",
      "{1, 7}\n"
     ]
    }
   ],
   "source": [
    "set_a = {1,3,5,7,9}\n",
    "set_b = {1,2,4,6,7,8}\n",
    "\n",
    "print(set_b.intersection(set_a))\n",
    "print(set_a.intersection(set_b))"
   ]
  },
  {
   "cell_type": "markdown",
   "id": "1db32b3c",
   "metadata": {},
   "source": [
    "### intersection_update\n",
    "Obtiene los valores en común en 2 sets y los asigna al set que manda a llamar el método"
   ]
  },
  {
   "cell_type": "code",
   "execution_count": 28,
   "id": "ee90907b",
   "metadata": {},
   "outputs": [
    {
     "name": "stdout",
     "output_type": "stream",
     "text": [
      "<class 'set'>\n",
      "2\n",
      "{1, 7} \n",
      "\n",
      "<class 'set'>\n",
      "6\n",
      "{1, 2, 4, 6, 7, 8} \n",
      "\n"
     ]
    }
   ],
   "source": [
    "set_a = {1,3,5,7,9}\n",
    "set_b = {1,2,4,6,7,8}\n",
    "\n",
    "set_a.intersection_update(set_b)\n",
    "\n",
    "print(type(set_a))\n",
    "print(len(set_a))\n",
    "print(set_a,\"\\n\")\n",
    "\n",
    "print(type(set_b))\n",
    "print(len(set_b))\n",
    "print(set_b,\"\\n\")\n",
    "# set_a.intersection_update(set_b)"
   ]
  },
  {
   "cell_type": "markdown",
   "id": "aaab44c9",
   "metadata": {},
   "source": [
    "### isdisjoint\n",
    "\n",
    "True: si no hay valores compartidos por ambos sets\n",
    "\n",
    "False: si hay por lo menos un valor compartido por ambos sets"
   ]
  },
  {
   "cell_type": "code",
   "execution_count": 29,
   "id": "2da0b750",
   "metadata": {},
   "outputs": [
    {
     "name": "stdout",
     "output_type": "stream",
     "text": [
      "False\n"
     ]
    }
   ],
   "source": [
    "set_a = {1,3,5,7,9}\n",
    "set_b = {1,2,4,6,7,8}\n",
    "\n",
    "print(set_a.isdisjoint(set_b))"
   ]
  },
  {
   "cell_type": "code",
   "execution_count": 30,
   "id": "f265e238",
   "metadata": {},
   "outputs": [
    {
     "name": "stdout",
     "output_type": "stream",
     "text": [
      "False\n"
     ]
    }
   ],
   "source": [
    "set_a = {1,3}\n",
    "set_b = {1,2,4,6,7,8}\n",
    "\n",
    "print(set_a.isdisjoint(set_b))"
   ]
  },
  {
   "cell_type": "code",
   "execution_count": 31,
   "id": "d14af2b6",
   "metadata": {},
   "outputs": [
    {
     "name": "stdout",
     "output_type": "stream",
     "text": [
      "True\n"
     ]
    }
   ],
   "source": [
    "set_a = {0,3}\n",
    "set_b = {1,2,4,6,7,8}\n",
    "\n",
    "print(set_a.isdisjoint(set_b))"
   ]
  },
  {
   "cell_type": "markdown",
   "id": "25da0baa",
   "metadata": {},
   "source": [
    "### issubset\n",
    "True: si todos los valores del set llamado están el set pasado como parámetro\n",
    "\n"
   ]
  },
  {
   "cell_type": "code",
   "execution_count": 34,
   "id": "d3a6a1d6",
   "metadata": {},
   "outputs": [
    {
     "name": "stdout",
     "output_type": "stream",
     "text": [
      "True\n"
     ]
    }
   ],
   "source": [
    "set_a = {1,8}\n",
    "set_b = {1,2,4,6,7,8}\n",
    "\n",
    "print(set_a.issubset(set_b))"
   ]
  },
  {
   "cell_type": "code",
   "execution_count": 35,
   "id": "69ca23eb",
   "metadata": {},
   "outputs": [
    {
     "name": "stdout",
     "output_type": "stream",
     "text": [
      "False\n"
     ]
    }
   ],
   "source": [
    "set_a = {1,3,8}\n",
    "set_b = {1,2,4,6,7,8}\n",
    "\n",
    "print(set_a.issubset(set_b))"
   ]
  },
  {
   "cell_type": "markdown",
   "id": "cbc69599",
   "metadata": {},
   "source": [
    "### issuperset\n",
    "\n",
    "- En cierta forma es opuesto a issubset\n",
    "- Analiza si todos los valores del set pasado como parámetro están en el set llamado"
   ]
  },
  {
   "cell_type": "code",
   "execution_count": 37,
   "id": "543bc43f",
   "metadata": {},
   "outputs": [
    {
     "name": "stdout",
     "output_type": "stream",
     "text": [
      "True\n"
     ]
    }
   ],
   "source": [
    "set_a = {1,8}\n",
    "set_b = {1,2,4,6,7,8}\n",
    "\n",
    "print(set_b.issuperset(set_a))"
   ]
  },
  {
   "cell_type": "code",
   "execution_count": 38,
   "id": "99de3086",
   "metadata": {},
   "outputs": [
    {
     "name": "stdout",
     "output_type": "stream",
     "text": [
      "False\n"
     ]
    }
   ],
   "source": [
    "set_a = {1,8}\n",
    "set_b = {1,2,4,6,7,8}\n",
    "\n",
    "print(set_a.issuperset(set_b))"
   ]
  },
  {
   "cell_type": "markdown",
   "id": "c7a82d73",
   "metadata": {},
   "source": [
    "### pop\n",
    "Elimina el primer elemento del set"
   ]
  },
  {
   "cell_type": "code",
   "execution_count": 43,
   "id": "e6900fdc",
   "metadata": {},
   "outputs": [
    {
     "name": "stdout",
     "output_type": "stream",
     "text": [
      "<class 'set'>\n",
      "6\n",
      "{1, 2, 4, 6, 7, 8} \n",
      "\n",
      "1\n",
      "2\n",
      "4 \n",
      "\n",
      "<class 'set'>\n",
      "3\n",
      "{6, 7, 8}\n"
     ]
    }
   ],
   "source": [
    "my_set = {1,2,4,6,7,8}\n",
    "\n",
    "print(type(my_set))\n",
    "print(len(my_set))\n",
    "print(my_set,\"\\n\")\n",
    "\n",
    "print(my_set.pop())\n",
    "print(my_set.pop())\n",
    "print(my_set.pop(),\"\\n\")\n",
    "\n",
    "print(type(my_set))\n",
    "print(len(my_set))\n",
    "print(my_set)"
   ]
  },
  {
   "cell_type": "markdown",
   "id": "33748a0f",
   "metadata": {},
   "source": [
    "### remove\n",
    "elimina el elemento pasado como parámetro; debe estar presente en el set o mandará un error"
   ]
  },
  {
   "cell_type": "code",
   "execution_count": 44,
   "id": "c235ce93",
   "metadata": {},
   "outputs": [
    {
     "name": "stdout",
     "output_type": "stream",
     "text": [
      "<class 'set'>\n",
      "6\n",
      "{1, 2, 4, 6, 7, 8} \n",
      "\n",
      "<class 'set'>\n",
      "5\n",
      "{1, 2, 6, 7, 8} \n",
      "\n"
     ]
    },
    {
     "ename": "KeyError",
     "evalue": "3",
     "output_type": "error",
     "traceback": [
      "\u001b[1;31m---------------------------------------------------------------------------\u001b[0m",
      "\u001b[1;31mKeyError\u001b[0m                                  Traceback (most recent call last)",
      "Cell \u001b[1;32mIn[44], line 13\u001b[0m\n\u001b[0;32m     10\u001b[0m \u001b[38;5;28mprint\u001b[39m(\u001b[38;5;28mlen\u001b[39m(my_set))\n\u001b[0;32m     11\u001b[0m \u001b[38;5;28mprint\u001b[39m(my_set,\u001b[38;5;124m\"\u001b[39m\u001b[38;5;130;01m\\n\u001b[39;00m\u001b[38;5;124m\"\u001b[39m)\n\u001b[1;32m---> 13\u001b[0m my_set\u001b[38;5;241m.\u001b[39mremove(\u001b[38;5;241m3\u001b[39m)\n\u001b[0;32m     15\u001b[0m \u001b[38;5;28mprint\u001b[39m(\u001b[38;5;28mtype\u001b[39m(my_set))\n\u001b[0;32m     16\u001b[0m \u001b[38;5;28mprint\u001b[39m(\u001b[38;5;28mlen\u001b[39m(my_set))\n",
      "\u001b[1;31mKeyError\u001b[0m: 3"
     ]
    }
   ],
   "source": [
    "my_set = {1,2,4,6,7,8}\n",
    "\n",
    "print(type(my_set))\n",
    "print(len(my_set))\n",
    "print(my_set,\"\\n\")\n",
    "\n",
    "my_set.remove(4)\n",
    "\n",
    "print(type(my_set))\n",
    "print(len(my_set))\n",
    "print(my_set,\"\\n\")\n",
    "\n",
    "my_set.remove(3)\n",
    "\n",
    "print(type(my_set))\n",
    "print(len(my_set))\n",
    "print(my_set,\"\\n\")"
   ]
  },
  {
   "cell_type": "markdown",
   "id": "1f4fc3f8",
   "metadata": {},
   "source": [
    "### union\n",
    "combina 2 sets"
   ]
  },
  {
   "cell_type": "code",
   "execution_count": 45,
   "id": "94a6bc7d",
   "metadata": {},
   "outputs": [
    {
     "name": "stdout",
     "output_type": "stream",
     "text": [
      "{1, 2, 3, 4, 6, 7, 8}\n"
     ]
    }
   ],
   "source": [
    "set_a = {1,3,8}\n",
    "set_b = {1,2,4,6,7,8}\n",
    "\n",
    "set_c = set_a.union(set_b)\n",
    "print(set_c)"
   ]
  },
  {
   "cell_type": "markdown",
   "id": "a9355705",
   "metadata": {},
   "source": [
    "### update\n",
    "Añade los valores del set pasado como parámetro"
   ]
  },
  {
   "cell_type": "code",
   "execution_count": 47,
   "id": "3792cb2d",
   "metadata": {},
   "outputs": [
    {
     "name": "stdout",
     "output_type": "stream",
     "text": [
      "{1, 2, 3, 4, 6, 7, 8}\n",
      "{1, 2, 4, 6, 7, 8}\n"
     ]
    }
   ],
   "source": [
    "set_a = {1,3,8}\n",
    "set_b = {1,2,4,6,7,8}\n",
    "\n",
    "set_a.update(set_b)\n",
    "print(set_a)\n",
    "print(set_b)"
   ]
  },
  {
   "cell_type": "markdown",
   "id": "6ab94d16",
   "metadata": {},
   "source": [
    "### symmetric_difference\n",
    "Obtiene las diferencias en ambos sets"
   ]
  },
  {
   "cell_type": "code",
   "execution_count": 48,
   "id": "a69645e5",
   "metadata": {},
   "outputs": [
    {
     "name": "stdout",
     "output_type": "stream",
     "text": [
      "{2, 3, 4, 6, 7}\n",
      "{2, 3, 4, 6, 7}\n"
     ]
    }
   ],
   "source": [
    "set_a = {1,3,8}\n",
    "set_b = {1,2,4,6,7,8}\n",
    "\n",
    "print(set_a.symmetric_difference(set_b))\n",
    "print(set_b.symmetric_difference(set_a))"
   ]
  },
  {
   "cell_type": "markdown",
   "id": "27935711",
   "metadata": {},
   "source": [
    "### symmetric_difference_update\n",
    "Obtiene las diferencias en ambos sets y asigna los valores al set llamado"
   ]
  },
  {
   "cell_type": "code",
   "execution_count": 49,
   "id": "ba1378f9",
   "metadata": {},
   "outputs": [
    {
     "name": "stdout",
     "output_type": "stream",
     "text": [
      "{2, 3, 4, 6, 7}\n",
      "{1, 2, 4, 6, 7, 8}\n"
     ]
    }
   ],
   "source": [
    "set_a = {1,3,8}\n",
    "set_b = {1,2,4,6,7,8}\n",
    "\n",
    "set_a.symmetric_difference_update(set_b)\n",
    "print(set_a)\n",
    "print(set_b)"
   ]
  },
  {
   "cell_type": "markdown",
   "id": "040c2c1d",
   "metadata": {},
   "source": [
    "# Conversión de Sets"
   ]
  },
  {
   "cell_type": "markdown",
   "id": "496815f2",
   "metadata": {},
   "source": [
    "### Cadena a Set"
   ]
  },
  {
   "cell_type": "code",
   "execution_count": 51,
   "id": "e3651227",
   "metadata": {},
   "outputs": [
    {
     "name": "stdout",
     "output_type": "stream",
     "text": [
      "<class 'str'>\n",
      "Backend Python \n",
      "\n",
      "<class 'set'>\n",
      "{'y', 'B', 't', 'h', 'o', 'P', 'c', 'k', 'd', 'n', 'a', 'e', ' '} \n",
      "\n"
     ]
    }
   ],
   "source": [
    "my_string = \"Backend Python\"\n",
    "my_set = set(my_string)\n",
    "\n",
    "print(type(my_string))\n",
    "print(my_string,\"\\n\")\n",
    "\n",
    "print(type(my_set))\n",
    "print(my_set,\"\\n\")"
   ]
  },
  {
   "cell_type": "markdown",
   "id": "337e11df",
   "metadata": {},
   "source": [
    "### Lista a Set"
   ]
  },
  {
   "cell_type": "code",
   "execution_count": 52,
   "id": "6d68c68d",
   "metadata": {},
   "outputs": [
    {
     "name": "stdout",
     "output_type": "stream",
     "text": [
      "<class 'list'>\n",
      "[1, 1, 1, 2, 2, 2, 3, 3, 3, 4, 4, 4, 5, 5, 5] \n",
      "\n",
      "<class 'set'>\n",
      "{1, 2, 3, 4, 5} \n",
      "\n"
     ]
    }
   ],
   "source": [
    "my_list = [1,1,1,2,2,2,3,3,3,4,4,4,5,5,5]\n",
    "my_set = set(my_list)\n",
    "\n",
    "print(type(my_list))\n",
    "print(my_list,\"\\n\")\n",
    "\n",
    "print(type(my_set))\n",
    "print(my_set,\"\\n\")"
   ]
  },
  {
   "cell_type": "markdown",
   "id": "29455ace",
   "metadata": {},
   "source": [
    "### Tupla a set"
   ]
  },
  {
   "cell_type": "code",
   "execution_count": 53,
   "id": "d4fc601d",
   "metadata": {},
   "outputs": [
    {
     "name": "stdout",
     "output_type": "stream",
     "text": [
      "<class 'tuple'>\n",
      "(1, 1, 1, 2, 2, 2, 3, 3, 3, 4, 4, 4, 5, 5, 5) \n",
      "\n",
      "<class 'set'>\n",
      "{1, 2, 3, 4, 5} \n",
      "\n"
     ]
    }
   ],
   "source": [
    "my_tuple = (1,1,1,2,2,2,3,3,3,4,4,4,5,5,5)\n",
    "my_set = set(my_list)\n",
    "\n",
    "print(type(my_tuple))\n",
    "print(my_tuple,\"\\n\")\n",
    "\n",
    "print(type(my_set))\n",
    "print(my_set,\"\\n\")"
   ]
  },
  {
   "cell_type": "markdown",
   "id": "af24e9a2",
   "metadata": {},
   "source": [
    "### Set a cadena"
   ]
  },
  {
   "cell_type": "code",
   "execution_count": 57,
   "id": "6c056875",
   "metadata": {},
   "outputs": [
    {
     "name": "stdout",
     "output_type": "stream",
     "text": [
      "<class 'set'>\n",
      "{'o', 'y', 't', 'B', 'P', 'c', 'k', ' ', 'd', 'n', 'a', 'e', 'h'} \n",
      "\n",
      "<class 'str'>\n",
      "oytBPck dnaeh \n",
      "\n"
     ]
    }
   ],
   "source": [
    "my_set = {'y', 'B', 't', 'h', 'o', 'P', 'c', 'k', 'd', 'n', 'a', 'e', ' '} \n",
    "my_string = \"\".join(my_set)\n",
    "\n",
    "print(type(my_set))\n",
    "print(my_set,\"\\n\")\n",
    "\n",
    "print(type(my_string))\n",
    "print(my_string,\"\\n\")"
   ]
  },
  {
   "cell_type": "markdown",
   "id": "4754e4a7",
   "metadata": {},
   "source": [
    "### Set a lista"
   ]
  },
  {
   "cell_type": "code",
   "execution_count": 58,
   "id": "b8ccf756",
   "metadata": {},
   "outputs": [
    {
     "name": "stdout",
     "output_type": "stream",
     "text": [
      "<class 'set'>\n",
      "{1, 2, 3, 4, 5} \n",
      "\n",
      "<class 'list'>\n",
      "[1, 2, 3, 4, 5] \n",
      "\n"
     ]
    }
   ],
   "source": [
    "my_set = {1, 2, 3, 4, 5} \n",
    "my_list = list(my_set)\n",
    "\n",
    "print(type(my_set))\n",
    "print(my_set,\"\\n\")\n",
    "\n",
    "print(type(my_list))\n",
    "print(my_list,\"\\n\")"
   ]
  },
  {
   "cell_type": "markdown",
   "id": "9eaa9d32",
   "metadata": {},
   "source": [
    "### Set a tupla"
   ]
  },
  {
   "cell_type": "code",
   "execution_count": 59,
   "id": "d0df9c5f",
   "metadata": {},
   "outputs": [
    {
     "name": "stdout",
     "output_type": "stream",
     "text": [
      "<class 'set'>\n",
      "{1, 2, 3, 4, 5} \n",
      "\n",
      "<class 'tuple'>\n",
      "(1, 2, 3, 4, 5) \n",
      "\n"
     ]
    }
   ],
   "source": [
    "my_set = {1, 2, 3, 4, 5} \n",
    "my_tuple = tuple(my_set)\n",
    "\n",
    "print(type(my_set))\n",
    "print(my_set,\"\\n\")\n",
    "\n",
    "print(type(my_tuple))\n",
    "print(my_tuple,\"\\n\")"
   ]
  },
  {
   "cell_type": "code",
   "execution_count": null,
   "id": "470ea4ff",
   "metadata": {},
   "outputs": [],
   "source": []
  }
 ],
 "metadata": {
  "kernelspec": {
   "display_name": "Python 3 (ipykernel)",
   "language": "python",
   "name": "python3"
  },
  "language_info": {
   "codemirror_mode": {
    "name": "ipython",
    "version": 3
   },
   "file_extension": ".py",
   "mimetype": "text/x-python",
   "name": "python",
   "nbconvert_exporter": "python",
   "pygments_lexer": "ipython3",
   "version": "3.11.3"
  }
 },
 "nbformat": 4,
 "nbformat_minor": 5
}
