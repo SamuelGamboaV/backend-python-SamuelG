{
 "cells": [
  {
   "cell_type": "markdown",
   "id": "0bcd0f3d",
   "metadata": {},
   "source": [
    "# Módulo 2 // FUNDAMENTOS"
   ]
  },
  {
   "cell_type": "markdown",
   "id": "cb2758ca",
   "metadata": {},
   "source": [
    "### Alumno: Samuel Iván Gamboa Vázquez"
   ]
  },
  {
   "cell_type": "markdown",
   "id": "cc4364c7",
   "metadata": {},
   "source": [
    "#### Instrucción: Escribe un programa en un Jupyter Notebook pidiéndole al usuario un entero, un float y una cadena"
   ]
  },
  {
   "cell_type": "code",
   "execution_count": 5,
   "id": "ca110664",
   "metadata": {},
   "outputs": [
    {
     "name": "stdout",
     "output_type": "stream",
     "text": [
      "Ingresa un número entero (ejemplo: 108, 1, 55): 5\n",
      "5\n",
      "<class 'int'>\n",
      "Ingresa un número con decimales (ejemplo: 10.5, 11.2, 3.7): 5.2\n",
      "5.2\n",
      "<class 'float'>\n",
      "Ingresa una cadena de texto (ejemplo: Hola, Samuel, Adiós): 5\n",
      "5\n",
      "<class 'str'>\n"
     ]
    }
   ],
   "source": [
    "ent = eval(input(\"Ingresa un número entero (ejemplo: 108, 1, 55): \"))\n",
    "print(ent)\n",
    "print(type(ent))\n",
    "flt = eval(input(\"Ingresa un número con decimales (ejemplo: 10.5, 11.2, 3.7): \"))\n",
    "print(flt)\n",
    "print(type(flt))\n",
    "cad = input(\"Ingresa una cadena de texto (ejemplo: Hola, Samuel, Adiós): \")\n",
    "print(cad)\n",
    "print(type(cad))"
   ]
  },
  {
   "cell_type": "code",
   "execution_count": null,
   "id": "dbdfbf8b",
   "metadata": {},
   "outputs": [],
   "source": []
  }
 ],
 "metadata": {
  "kernelspec": {
   "display_name": "Python 3 (ipykernel)",
   "language": "python",
   "name": "python3"
  },
  "language_info": {
   "codemirror_mode": {
    "name": "ipython",
    "version": 3
   },
   "file_extension": ".py",
   "mimetype": "text/x-python",
   "name": "python",
   "nbconvert_exporter": "python",
   "pygments_lexer": "ipython3",
   "version": "3.11.3"
  }
 },
 "nbformat": 4,
 "nbformat_minor": 5
}
