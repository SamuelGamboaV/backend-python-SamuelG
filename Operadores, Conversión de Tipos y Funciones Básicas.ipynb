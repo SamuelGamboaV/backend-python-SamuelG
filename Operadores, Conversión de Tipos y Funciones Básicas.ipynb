{
 "cells": [
  {
   "cell_type": "markdown",
   "id": "f9fef1d8",
   "metadata": {},
   "source": [
    "# Operadores y Tipos de Operadores"
   ]
  },
  {
   "cell_type": "markdown",
   "id": "89c1dc96",
   "metadata": {},
   "source": [
    "¿Qué son los operadores\n",
    "- Son un conjunto de símbolos para un lenguaje de programación\n",
    "- Pueden decirle al compilador o intérprete que ejecute ciertas acciones para producit un resultado final\n",
    "- Pueden ser usados para aplicar operaciones en variables o valores\n",
    "- Pueden ser clasificados según su tipo (aritméticos, relaciones, de asignación, lógicos, afiliación y de identidad)"
   ]
  },
  {
   "cell_type": "markdown",
   "id": "25b9fdee",
   "metadata": {},
   "source": [
    "Tipos de operadores:\n",
    "- Aritméticos\n",
    "- Relacionales\n",
    "- De Asignación\n",
    "- Lógicos\n",
    "- De Afiliación\n",
    "- De Identidad"
   ]
  },
  {
   "cell_type": "markdown",
   "id": "bce869a7",
   "metadata": {},
   "source": [
    "### Operadores aritméticos\n",
    "- \"+\": suma\n",
    "- \"-\": resta\n",
    "- \"*\": multiplicación\n",
    "- \"/\": división\n",
    "- \"//\": división con redondeo hacia abajo\n",
    "- \"**\": exponente"
   ]
  },
  {
   "cell_type": "code",
   "execution_count": 2,
   "id": "b0bb3006",
   "metadata": {},
   "outputs": [
    {
     "name": "stdout",
     "output_type": "stream",
     "text": [
      "El resultado de num_1+num_2 es: 800\n"
     ]
    }
   ],
   "source": [
    "# \"+\": suma\n",
    "num_1 = 500\n",
    "num_2 = 300\n",
    "print(\"El resultado de num_1+num_2 es:\",num_1+num_2)"
   ]
  },
  {
   "cell_type": "code",
   "execution_count": 3,
   "id": "330df335",
   "metadata": {},
   "outputs": [
    {
     "name": "stdout",
     "output_type": "stream",
     "text": [
      "El resultado de num_1-num_2 es: 200\n"
     ]
    }
   ],
   "source": [
    "# \"-\": resta\n",
    "num_1 = 500\n",
    "num_2 = 300\n",
    "print(\"El resultado de num_1-num_2 es:\",num_1-num_2)"
   ]
  },
  {
   "cell_type": "code",
   "execution_count": 4,
   "id": "3d03d8e8",
   "metadata": {},
   "outputs": [
    {
     "name": "stdout",
     "output_type": "stream",
     "text": [
      "El resultado de num_1-num_2 es: -700\n"
     ]
    }
   ],
   "source": [
    "# \"-\": resta\n",
    "num_1 = 200\n",
    "num_2 = 900\n",
    "print(\"El resultado de num_1-num_2 es:\",num_1-num_2)"
   ]
  },
  {
   "cell_type": "code",
   "execution_count": 5,
   "id": "bd614d46",
   "metadata": {},
   "outputs": [
    {
     "name": "stdout",
     "output_type": "stream",
     "text": [
      "El resultado de num_1*num_2 es: 150000\n"
     ]
    }
   ],
   "source": [
    "# \"*\": multiplicación\n",
    "num_1 = 500\n",
    "num_2 = 300\n",
    "print(\"El resultado de num_1*num_2 es:\",num_1*num_2)"
   ]
  },
  {
   "cell_type": "code",
   "execution_count": 6,
   "id": "70506d08",
   "metadata": {},
   "outputs": [
    {
     "name": "stdout",
     "output_type": "stream",
     "text": [
      "El resultado de num_1*num_2 es: 180000\n"
     ]
    }
   ],
   "source": [
    "# \"*\": multiplicación\n",
    "num_1 = 200\n",
    "num_2 = 900\n",
    "print(\"El resultado de num_1*num_2 es:\",num_1*num_2)"
   ]
  },
  {
   "cell_type": "code",
   "execution_count": 7,
   "id": "45593474",
   "metadata": {},
   "outputs": [
    {
     "name": "stdout",
     "output_type": "stream",
     "text": [
      "El resultado de num_1/num_2 es: 1.6666666666666667\n"
     ]
    }
   ],
   "source": [
    "# \"/\": división\n",
    "num_1 = 500\n",
    "num_2 = 300\n",
    "print(\"El resultado de num_1/num_2 es:\",num_1/num_2)"
   ]
  },
  {
   "cell_type": "code",
   "execution_count": 8,
   "id": "c204ebb4",
   "metadata": {},
   "outputs": [
    {
     "name": "stdout",
     "output_type": "stream",
     "text": [
      "El resultado de num_1/num_2 es: 0.2222222222222222\n"
     ]
    }
   ],
   "source": [
    "# \"/\": división\n",
    "num_1 = 200\n",
    "num_2 = 900\n",
    "print(\"El resultado de num_1/num_2 es:\",num_1/num_2)"
   ]
  },
  {
   "cell_type": "code",
   "execution_count": 10,
   "id": "f4eb8610",
   "metadata": {},
   "outputs": [
    {
     "name": "stdout",
     "output_type": "stream",
     "text": [
      "El resultado de num_1//num_2 es: 1\n"
     ]
    }
   ],
   "source": [
    "# \"//\": división con redondeo hacia abajo, la parte entera del resultado\n",
    "num_1 = 500\n",
    "num_2 = 300\n",
    "print(\"El resultado de num_1//num_2 es:\",num_1//num_2)"
   ]
  },
  {
   "cell_type": "code",
   "execution_count": 11,
   "id": "f239183e",
   "metadata": {},
   "outputs": [
    {
     "name": "stdout",
     "output_type": "stream",
     "text": [
      "El resultado de num_1//num_2 es: 0\n"
     ]
    }
   ],
   "source": [
    "# \"//\": división con redondeo hacia abajo, la parte entera del resultado\n",
    "num_1 = 200\n",
    "num_2 = 900\n",
    "print(\"El resultado de num_1//num_2 es:\",num_1//num_2)"
   ]
  },
  {
   "cell_type": "code",
   "execution_count": 13,
   "id": "73a2faea",
   "metadata": {},
   "outputs": [
    {
     "name": "stdout",
     "output_type": "stream",
     "text": [
      "El resultado de num_1**num_2 es: 32\n"
     ]
    }
   ],
   "source": [
    "# \"**\": exponente (Elevar a un exponente)\n",
    "num_1 = 2\n",
    "num_2 = 5\n",
    "print(\"El resultado de num_1**num_2 es:\",num_1**num_2) # 2*2*2*2*2"
   ]
  },
  {
   "cell_type": "code",
   "execution_count": 14,
   "id": "3a35e85c",
   "metadata": {},
   "outputs": [
    {
     "name": "stdout",
     "output_type": "stream",
     "text": [
      "El resultado de num_1**num_2 es: 27\n"
     ]
    }
   ],
   "source": [
    "# \"**\": exponente (Elevar a un exponente)\n",
    "num_1 = 3\n",
    "num_2 = 3\n",
    "print(\"El resultado de num_1**num_2 es:\",num_1**num_2) # 3*3*3"
   ]
  },
  {
   "cell_type": "markdown",
   "id": "eb48cc6e",
   "metadata": {},
   "source": [
    "### Operadores Relacionales"
   ]
  },
  {
   "cell_type": "markdown",
   "id": "8aefb5bc",
   "metadata": {},
   "source": [
    "¿Qué son los operadores relacionales?\n",
    "- Son también conocidos como Operadores de Comparación\n",
    "- Regresan un valor booleano (Verdadero o Falso)\n",
    "- En Python, son usados para comparar o relacionar los valores\n",
    "- Verdadero/True, es el resultado cuando la condición es exitosa\n",
    "- Falso/False, es el resultado cuando la condición no se cumple\n",
    "- Estos operadores se encargan de las operaciones de comparación"
   ]
  },
  {
   "cell_type": "markdown",
   "id": "02b46228",
   "metadata": {},
   "source": [
    "Tipos de Operadores Relacionales\n",
    "- \"==\": igual a\n",
    "- \"!=\": diferente a\n",
    "- \">\": mayor que\n",
    "- \">=\": mayor o igual que\n",
    "- \"<\": menor que\n",
    "- \"<=\": menor o igual que"
   ]
  },
  {
   "cell_type": "code",
   "execution_count": 15,
   "id": "ed643bbb",
   "metadata": {},
   "outputs": [],
   "source": [
    "# \"==\": igual a"
   ]
  },
  {
   "cell_type": "code",
   "execution_count": 19,
   "id": "a9152ba8",
   "metadata": {},
   "outputs": [
    {
     "name": "stdout",
     "output_type": "stream",
     "text": [
      "El resultado de num1==num2 es: False\n"
     ]
    }
   ],
   "source": [
    "num_1 = 570 # asignación\n",
    "num_2 = 420\n",
    "print(\"El resultado de num_1==num_2 es:\",num_1==num_2)"
   ]
  },
  {
   "cell_type": "code",
   "execution_count": 20,
   "id": "14bcab24",
   "metadata": {},
   "outputs": [
    {
     "name": "stdout",
     "output_type": "stream",
     "text": [
      "El resultado de num1==num2 es: True\n"
     ]
    }
   ],
   "source": [
    "num_1 = 570 # asignación\n",
    "num_2 = 570\n",
    "print(\"El resultado de num_1==num_2 es:\",num_1==num_2)"
   ]
  },
  {
   "cell_type": "code",
   "execution_count": 24,
   "id": "a263dc30",
   "metadata": {},
   "outputs": [
    {
     "name": "stdout",
     "output_type": "stream",
     "text": [
      "El resultado de str_1==str_2 es: True\n"
     ]
    }
   ],
   "source": [
    "str_1 = \"Empanada\" # asignación\n",
    "str_2 = \"Empanada\"\n",
    "str_1 = \"Empanada\" # asignación\n",
    "str_2 = \"Empanada\""
   ]
  },
  {
   "cell_type": "code",
   "execution_count": 25,
   "id": "31a2d2c8",
   "metadata": {},
   "outputs": [
    {
     "name": "stdout",
     "output_type": "stream",
     "text": [
      "El resultado de str_1==str_2 es: False\n"
     ]
    }
   ],
   "source": [
    "str_1 = \"Empanada\" # asignación\n",
    "str_2 = \"EmpanadA\"\n",
    "print(\"El resultado de str_1==str_2 es:\",str_1==str_2)"
   ]
  },
  {
   "cell_type": "code",
   "execution_count": 26,
   "id": "8a865c11",
   "metadata": {},
   "outputs": [],
   "source": [
    "# \"!=\": diferente a"
   ]
  },
  {
   "cell_type": "code",
   "execution_count": 27,
   "id": "c739f60e",
   "metadata": {},
   "outputs": [
    {
     "name": "stdout",
     "output_type": "stream",
     "text": [
      "El resultado de num_1!=num_2 es: True\n"
     ]
    }
   ],
   "source": [
    "num_1 = 570 # asignación\n",
    "num_2 = 420\n",
    "print(\"El resultado de num_1!=num_2 es:\",num_1!=num_2)"
   ]
  },
  {
   "cell_type": "code",
   "execution_count": 28,
   "id": "b8c81ecc",
   "metadata": {},
   "outputs": [
    {
     "name": "stdout",
     "output_type": "stream",
     "text": [
      "El resultado de num_1!=num_2 es: False\n"
     ]
    }
   ],
   "source": [
    "num_1 = 570 # asignación\n",
    "num_2 = 570\n",
    "print(\"El resultado de num_1!=num_2 es:\",num_1!=num_2)"
   ]
  },
  {
   "cell_type": "code",
   "execution_count": 29,
   "id": "8d26ed42",
   "metadata": {},
   "outputs": [
    {
     "name": "stdout",
     "output_type": "stream",
     "text": [
      "El resultado de str_1!=str_2 es: False\n"
     ]
    }
   ],
   "source": [
    "str_1 = \"Empanada\" # asignación\n",
    "str_2 = \"Empanada\"\n",
    "print(\"El resultado de str_1!=str_2 es:\",str_1!=str_2)"
   ]
  },
  {
   "cell_type": "code",
   "execution_count": 30,
   "id": "6bf671fc",
   "metadata": {},
   "outputs": [
    {
     "name": "stdout",
     "output_type": "stream",
     "text": [
      "El resultado de str_1!=str_2 es: True\n"
     ]
    }
   ],
   "source": [
    "str_1 = \"Empanada\" # asignación\n",
    "str_2 = \"EmpanadA\"\n",
    "print(\"El resultado de str_1!=str_2 es:\",str_1!=str_2)"
   ]
  },
  {
   "cell_type": "code",
   "execution_count": 31,
   "id": "25c80621",
   "metadata": {},
   "outputs": [],
   "source": [
    "# \">\": mayor que"
   ]
  },
  {
   "cell_type": "code",
   "execution_count": 32,
   "id": "7862df35",
   "metadata": {},
   "outputs": [
    {
     "name": "stdout",
     "output_type": "stream",
     "text": [
      "El resultado de num_1>num_2 es: True\n"
     ]
    }
   ],
   "source": [
    "num_1 = 570 # asignación\n",
    "num_2 = 420\n",
    "print(\"El resultado de num_1>num_2 es:\",num_1>num_2)"
   ]
  },
  {
   "cell_type": "code",
   "execution_count": 33,
   "id": "1ee2e60f",
   "metadata": {},
   "outputs": [
    {
     "name": "stdout",
     "output_type": "stream",
     "text": [
      "El resultado de num_1>num_2 es: False\n"
     ]
    }
   ],
   "source": [
    "num_1 = 570 # asignación\n",
    "num_2 = 820\n",
    "print(\"El resultado de num_1>num_2 es:\",num_1>num_2)"
   ]
  },
  {
   "cell_type": "code",
   "execution_count": 34,
   "id": "8c451d52",
   "metadata": {},
   "outputs": [
    {
     "name": "stdout",
     "output_type": "stream",
     "text": [
      "El resultado de num_1>num_2 es: False\n"
     ]
    }
   ],
   "source": [
    "num_1 = 820 # asignación\n",
    "num_2 = 820\n",
    "print(\"El resultado de num_1>num_2 es:\",num_1>num_2)"
   ]
  },
  {
   "cell_type": "code",
   "execution_count": 35,
   "id": "dd21434f",
   "metadata": {},
   "outputs": [],
   "source": [
    "# \">=\": mayor o igual que"
   ]
  },
  {
   "cell_type": "code",
   "execution_count": 36,
   "id": "cb0404ad",
   "metadata": {},
   "outputs": [
    {
     "name": "stdout",
     "output_type": "stream",
     "text": [
      "El resultado de num_1>=num_2 es: True\n"
     ]
    }
   ],
   "source": [
    "num_1 = 570 # asignación\n",
    "num_2 = 420\n",
    "print(\"El resultado de num_1>=num_2 es:\",num_1>=num_2)"
   ]
  },
  {
   "cell_type": "code",
   "execution_count": 37,
   "id": "e6593cff",
   "metadata": {},
   "outputs": [
    {
     "name": "stdout",
     "output_type": "stream",
     "text": [
      "El resultado de num_1>=num_2 es: True\n"
     ]
    }
   ],
   "source": [
    "num_1 = 820 # asignación\n",
    "num_2 = 820\n",
    "print(\"El resultado de num_1>=num_2 es:\",num_1>=num_2)"
   ]
  },
  {
   "cell_type": "code",
   "execution_count": 39,
   "id": "2f2170ba",
   "metadata": {},
   "outputs": [
    {
     "name": "stdout",
     "output_type": "stream",
     "text": [
      "El resultado de num_1>=num_2 es: False\n"
     ]
    }
   ],
   "source": [
    "num_1 = 520 # asignación\n",
    "num_2 = 820\n",
    "print(\"El resultado de num_1>=num_2 es:\",num_1>=num_2)"
   ]
  },
  {
   "cell_type": "code",
   "execution_count": 40,
   "id": "dcabb9c6",
   "metadata": {},
   "outputs": [],
   "source": [
    "# \">\": menor que"
   ]
  },
  {
   "cell_type": "code",
   "execution_count": 41,
   "id": "2c1c9a79",
   "metadata": {},
   "outputs": [
    {
     "name": "stdout",
     "output_type": "stream",
     "text": [
      "El resultado de num_1<num_2 es: False\n"
     ]
    }
   ],
   "source": [
    "num_1 = 570 # asignación\n",
    "num_2 = 420\n",
    "print(\"El resultado de num_1<num_2 es:\",num_1<num_2)"
   ]
  },
  {
   "cell_type": "code",
   "execution_count": 42,
   "id": "dce0a44b",
   "metadata": {},
   "outputs": [
    {
     "name": "stdout",
     "output_type": "stream",
     "text": [
      "El resultado de num_1<num_2 es: True\n"
     ]
    }
   ],
   "source": [
    "num_1 = 570 # asignación\n",
    "num_2 = 820\n",
    "print(\"El resultado de num_1<num_2 es:\",num_1<num_2)"
   ]
  },
  {
   "cell_type": "code",
   "execution_count": 43,
   "id": "9e521be3",
   "metadata": {},
   "outputs": [
    {
     "name": "stdout",
     "output_type": "stream",
     "text": [
      "El resultado de num_1<num_2 es: False\n"
     ]
    }
   ],
   "source": [
    "num_1 = 570 # asignación\n",
    "num_2 = 570\n",
    "print(\"El resultado de num_1<num_2 es:\",num_1<num_2)"
   ]
  },
  {
   "cell_type": "code",
   "execution_count": 44,
   "id": "a353b30c",
   "metadata": {},
   "outputs": [],
   "source": [
    "# \"<=\": menor o igual que"
   ]
  },
  {
   "cell_type": "code",
   "execution_count": 45,
   "id": "7a6d30a1",
   "metadata": {},
   "outputs": [
    {
     "name": "stdout",
     "output_type": "stream",
     "text": [
      "El resultado de num_1<=num_2 es: False\n"
     ]
    }
   ],
   "source": [
    "num_1 = 570 # asignación\n",
    "num_2 = 420\n",
    "print(\"El resultado de num_1<=num_2 es:\",num_1<=num_2)"
   ]
  },
  {
   "cell_type": "code",
   "execution_count": 46,
   "id": "9b8404d9",
   "metadata": {},
   "outputs": [
    {
     "name": "stdout",
     "output_type": "stream",
     "text": [
      "El resultado de num_1<=num_2 es: True\n"
     ]
    }
   ],
   "source": [
    "num_1 = 570 # asignación\n",
    "num_2 = 570\n",
    "print(\"El resultado de num_1<=num_2 es:\",num_1<=num_2)"
   ]
  },
  {
   "cell_type": "code",
   "execution_count": 47,
   "id": "b0be749f",
   "metadata": {},
   "outputs": [
    {
     "name": "stdout",
     "output_type": "stream",
     "text": [
      "El resultado de num_1<=num_2 es: True\n"
     ]
    }
   ],
   "source": [
    "num_1 = 570 # asignación\n",
    "num_2 = 890\n",
    "print(\"El resultado de num_1<=num_2 es:\",num_1<=num_2)"
   ]
  },
  {
   "cell_type": "markdown",
   "id": "a6de0c35",
   "metadata": {},
   "source": [
    "### Operadores de Asignación"
   ]
  },
  {
   "cell_type": "markdown",
   "id": "38af4cc8",
   "metadata": {},
   "source": [
    "¿Qué son los Operadores de Asignación?\n",
    "- En Python son usados para asignar valores a variables\n",
    "- Incluyen al operador de asignación que es el signo de igual (=)"
   ]
  },
  {
   "cell_type": "markdown",
   "id": "0bc09448",
   "metadata": {},
   "source": [
    "Tipos de Operadores de Asignación:\n",
    "- \"=\": Operador de Asignación\n",
    "- \"+=\": Sumar y Asignar\n",
    "- \"-=\": Restar y Asignar\n",
    "- \"*=\": Multiplicar y Asignar\n",
    "- \"/=\": Dividir y Asignar\n",
    "- \"//=\": Dividir con redondeo hacia abajo y Asignar\n",
    "- \"%=\": Módulo y Asignar\n",
    "- \"**=\": Exponente y Asignar"
   ]
  },
  {
   "cell_type": "code",
   "execution_count": 48,
   "id": "aba618f9",
   "metadata": {},
   "outputs": [],
   "source": [
    "# \"=\": Operador de Asignación"
   ]
  },
  {
   "cell_type": "code",
   "execution_count": 49,
   "id": "d4b7e94f",
   "metadata": {},
   "outputs": [],
   "source": [
    "num_1 = 20\n",
    "num_2 = 3"
   ]
  },
  {
   "cell_type": "code",
   "execution_count": 50,
   "id": "96702360",
   "metadata": {},
   "outputs": [],
   "source": [
    "# \"+=\": Sumar y Asignar"
   ]
  },
  {
   "cell_type": "code",
   "execution_count": 51,
   "id": "231563c5",
   "metadata": {},
   "outputs": [
    {
     "name": "stdout",
     "output_type": "stream",
     "text": [
      "num_1 antes de la operación:  20\n",
      "num_1 después de la operación:  23\n"
     ]
    }
   ],
   "source": [
    "num_1 = 20\n",
    "num_2 = 3\n",
    "print(\"num_1 antes de la operación: \", num_1)\n",
    "num_1 += num_2 # num_1 = num_1 + num_2\n",
    "print(\"num_1 después de la operación: \", num_1)"
   ]
  },
  {
   "cell_type": "code",
   "execution_count": null,
   "id": "fd3963c7",
   "metadata": {},
   "outputs": [],
   "source": [
    "# \"-=\": Restar y Asignar"
   ]
  },
  {
   "cell_type": "code",
   "execution_count": 52,
   "id": "1141aa75",
   "metadata": {},
   "outputs": [
    {
     "name": "stdout",
     "output_type": "stream",
     "text": [
      "num_1 antes de la operación:  20\n",
      "num_1 después de la operación:  17\n"
     ]
    }
   ],
   "source": [
    "num_1 = 20\n",
    "num_2 = 3\n",
    "print(\"num_1 antes de la operación: \", num_1)\n",
    "num_1 -= num_2 # num_1 = num_1 - num_2\n",
    "print(\"num_1 después de la operación: \", num_1)"
   ]
  },
  {
   "cell_type": "code",
   "execution_count": null,
   "id": "3cf5e35e",
   "metadata": {},
   "outputs": [],
   "source": [
    "# \"*=\": Multiplicar y Asignar"
   ]
  },
  {
   "cell_type": "code",
   "execution_count": 53,
   "id": "468837fd",
   "metadata": {},
   "outputs": [
    {
     "name": "stdout",
     "output_type": "stream",
     "text": [
      "num_1 antes de la operación:  20\n",
      "num_1 después de la operación:  60\n"
     ]
    }
   ],
   "source": [
    "num_1 = 20\n",
    "num_2 = 3\n",
    "print(\"num_1 antes de la operación: \", num_1)\n",
    "num_1 *= num_2 # num_1 = num_1 * num_2\n",
    "print(\"num_1 después de la operación: \", num_1)"
   ]
  },
  {
   "cell_type": "code",
   "execution_count": 54,
   "id": "ddb2cbe2",
   "metadata": {},
   "outputs": [],
   "source": [
    "# \"/=\": Dividir y Asignar"
   ]
  },
  {
   "cell_type": "code",
   "execution_count": 55,
   "id": "c0874594",
   "metadata": {},
   "outputs": [
    {
     "name": "stdout",
     "output_type": "stream",
     "text": [
      "num_1 antes de la operación:  20\n",
      "num_1 después de la operación:  6.666666666666667\n"
     ]
    }
   ],
   "source": [
    "num_1 = 20\n",
    "num_2 = 3\n",
    "print(\"num_1 antes de la operación: \", num_1)\n",
    "num_1 /= num_2 # num_1 = num_1 / num_2\n",
    "print(\"num_1 después de la operación: \", num_1)"
   ]
  },
  {
   "cell_type": "code",
   "execution_count": 56,
   "id": "c84d23c1",
   "metadata": {},
   "outputs": [],
   "source": [
    "# \"%=\": Modular y Asignar - El número que queda después de haber dividio, residuo."
   ]
  },
  {
   "cell_type": "code",
   "execution_count": 57,
   "id": "464fe63d",
   "metadata": {},
   "outputs": [
    {
     "name": "stdout",
     "output_type": "stream",
     "text": [
      "num_1 antes de la operación:  20\n",
      "num_1 después de la operación:  2\n"
     ]
    }
   ],
   "source": [
    "num_1 = 20\n",
    "num_2 = 3\n",
    "print(\"num_1 antes de la operación: \", num_1)\n",
    "num_1 %= num_2 # num_1 = num_1 % num_2\n",
    "print(\"num_1 después de la operación: \", num_1)"
   ]
  },
  {
   "cell_type": "code",
   "execution_count": 58,
   "id": "b1013e86",
   "metadata": {},
   "outputs": [
    {
     "name": "stdout",
     "output_type": "stream",
     "text": [
      "num_1 antes de la operación:  20\n",
      "num_1 después de la operación:  8000\n"
     ]
    }
   ],
   "source": [
    "# \"**=\": Exponente y Asignar\n",
    "num_1 = 20\n",
    "num_2 = 3\n",
    "print(\"num_1 antes de la operación: \", num_1)\n",
    "num_1 **= num_2 # num_1 = num_1 ** num_2\n",
    "# 20*20*20\n",
    "print(\"num_1 después de la operación: \", num_1)"
   ]
  },
  {
   "cell_type": "markdown",
   "id": "cdb4a480",
   "metadata": {},
   "source": [
    "### Operadores Lógicos"
   ]
  },
  {
   "cell_type": "markdown",
   "id": "2431adac",
   "metadata": {},
   "source": [
    "¿Qué son los Operadores Lógicos?\n",
    "- Son usados principalmente para declaraciones condicionales\n",
    "- SOn indicadores estructurales\n",
    "- También se les conoce como Conectores Lógicos\n",
    "- Hay 3 (tres) tipos de Operadores Lógicos\n",
    "    - AND (y) - regresa True/Verdadero si ambas operaciones son verdaderas\n",
    "    - OR (o) - regresa True/Verdadero si una de las operaciones son verdaderas\n",
    "    - NOT (lo opuesto) - regresa True/Verdadero si la operación es False/Falso"
   ]
  },
  {
   "cell_type": "code",
   "execution_count": 59,
   "id": "60f3e738",
   "metadata": {},
   "outputs": [],
   "source": [
    "# AND (y)\n",
    "# Todas las condiciones deben ser Verdaderas"
   ]
  },
  {
   "cell_type": "code",
   "execution_count": 60,
   "id": "fd5531ae",
   "metadata": {},
   "outputs": [
    {
     "name": "stdout",
     "output_type": "stream",
     "text": [
      "num_1<=num_2 and num_1!=num_2 True\n"
     ]
    }
   ],
   "source": [
    "num_1 = 11\n",
    "num_2 = 55\n",
    "# num_1<=num_2: True/Verdadero\n",
    "# num_1!=num_2: True/Verdadero\n",
    "print(\"num_1<=num_2 and num_1!=num_2\",num_1<=num_2 and num_1!=num_2)"
   ]
  },
  {
   "cell_type": "code",
   "execution_count": 61,
   "id": "7fb6ad0f",
   "metadata": {},
   "outputs": [
    {
     "name": "stdout",
     "output_type": "stream",
     "text": [
      "num_1<=num_2 and num_1!=num_2 False\n"
     ]
    }
   ],
   "source": [
    "num_1 = 11\n",
    "num_2 = 11\n",
    "# num_1<=num_2: True/Verdadero\n",
    "# num_1!=num_2: False/Falso\n",
    "print(\"num_1<=num_2 and num_1!=num_2\",num_1<=num_2 and num_1!=num_2)"
   ]
  },
  {
   "cell_type": "code",
   "execution_count": 62,
   "id": "96583f72",
   "metadata": {},
   "outputs": [
    {
     "name": "stdout",
     "output_type": "stream",
     "text": [
      "num_1<=num_2 and num_1!=num_2 num_1>10 True\n"
     ]
    }
   ],
   "source": [
    "num_1 = 11\n",
    "num_2 = 55\n",
    "# num_1<=num_2: True/Verdadero\n",
    "# num_1!=num_2: True/Verdadero\n",
    "# num_1>10: True/Verdadero\n",
    "print(\"num_1<=num_2 and num_1!=num_2 and num_1>10\",num_1<=num_2 and num_1!=num_2 and num_1>10)"
   ]
  },
  {
   "cell_type": "code",
   "execution_count": 63,
   "id": "35ea7571",
   "metadata": {},
   "outputs": [
    {
     "name": "stdout",
     "output_type": "stream",
     "text": [
      "num_1<=num_2 and num_1!=num_2 num_1>10 False\n"
     ]
    }
   ],
   "source": [
    "num_1 = 11\n",
    "num_2 = 11\n",
    "# num_1<=num_2: True/Verdadero\n",
    "# num_1!=num_2: False/Falso\n",
    "# num_1>10: True/Verdadero\n",
    "print(\"num_1<=num_2 and num_1!=num_2 and num_1>10\",num_1<=num_2 and num_1!=num_2 and num_1>10)"
   ]
  },
  {
   "cell_type": "code",
   "execution_count": 64,
   "id": "0165f7f2",
   "metadata": {},
   "outputs": [],
   "source": [
    "# OR (o) - Con que una de las condicines se cumpla regresa True"
   ]
  },
  {
   "cell_type": "code",
   "execution_count": 66,
   "id": "748c69e7",
   "metadata": {},
   "outputs": [
    {
     "name": "stdout",
     "output_type": "stream",
     "text": [
      "num_1<=num_2 or num_1!=num_2 True\n"
     ]
    }
   ],
   "source": [
    "num_1 = 11\n",
    "num_2 = 55\n",
    "# num_1<=num_2: True/Verdadero\n",
    "# num_1!=num_2: True/Verdadero\n",
    "print(\"num_1<=num_2 or num_1!=num_2\",num_1<=num_2 or num_1!=num_2)"
   ]
  },
  {
   "cell_type": "code",
   "execution_count": 67,
   "id": "d7fb8757",
   "metadata": {},
   "outputs": [
    {
     "name": "stdout",
     "output_type": "stream",
     "text": [
      "num_1<=num_2 or num_1!=num_2 True\n"
     ]
    }
   ],
   "source": [
    "num_1 = 11\n",
    "num_2 = 11\n",
    "# num_1<=num_2: True/Verdadero\n",
    "# num_1!=num_2: False/Falso\n",
    "print(\"num_1<=num_2 or num_1!=num_2\",num_1<=num_2 or num_1!=num_2)"
   ]
  },
  {
   "cell_type": "code",
   "execution_count": 68,
   "id": "73b0b112",
   "metadata": {},
   "outputs": [
    {
     "name": "stdout",
     "output_type": "stream",
     "text": [
      "num_1<=num_2 or num_1!=num_2 or num_1>10 True\n"
     ]
    }
   ],
   "source": [
    "num_1 = 11\n",
    "num_2 = 55\n",
    "# num_1<=num_2: True/Verdadero\n",
    "# num_1!=num_2: True/Verdadero\n",
    "# num_1>10: True/Verdadero\n",
    "print(\"num_1<=num_2 or num_1!=num_2 or num_1>10\",num_1<=num_2 or num_1!=num_2 or num_1>10)"
   ]
  },
  {
   "cell_type": "code",
   "execution_count": 69,
   "id": "3a3f0033",
   "metadata": {},
   "outputs": [
    {
     "name": "stdout",
     "output_type": "stream",
     "text": [
      "num_1<=num_2 or num_1!=num_2 or num_1>10 True\n"
     ]
    }
   ],
   "source": [
    "num_1 = 11\n",
    "num_2 = 11\n",
    "# num_1<=num_2: True/Verdadero\n",
    "# num_1!=num_2: False/Falso\n",
    "# num_1>10: True/Verdadero\n",
    "print(\"num_1<=num_2 or num_1!=num_2 or num_1>10\",num_1<=num_2 or num_1!=num_2 or num_1>10)"
   ]
  },
  {
   "cell_type": "code",
   "execution_count": 70,
   "id": "66ddd8fc",
   "metadata": {},
   "outputs": [],
   "source": [
    "# NOT (Lo opuesto)\n",
    "# La condición debe ser falsa"
   ]
  },
  {
   "cell_type": "code",
   "execution_count": 71,
   "id": "b4ad4af5",
   "metadata": {},
   "outputs": [
    {
     "name": "stdout",
     "output_type": "stream",
     "text": [
      "not num_1<=num_2 False\n"
     ]
    }
   ],
   "source": [
    "num_1 = 11\n",
    "num_2 = 55\n",
    "# num_1<=num_2: True/Verdadero\n",
    "print(\"not num_1<=num_2\", not num_1<=num_2)"
   ]
  },
  {
   "cell_type": "code",
   "execution_count": 72,
   "id": "28da287a",
   "metadata": {},
   "outputs": [
    {
     "name": "stdout",
     "output_type": "stream",
     "text": [
      "not num_1!=num_2 False\n"
     ]
    }
   ],
   "source": [
    "num_1 = 11\n",
    "num_2 = 55\n",
    "# num_1!=num_2: True/Verdadero\n",
    "print(\"not num_1!=num_2\", not num_1!=num_2)"
   ]
  },
  {
   "cell_type": "code",
   "execution_count": 73,
   "id": "0aa2c3f5",
   "metadata": {},
   "outputs": [
    {
     "name": "stdout",
     "output_type": "stream",
     "text": [
      "not num_1>num_2 True\n"
     ]
    }
   ],
   "source": [
    "num_1 = 11\n",
    "num_2 = 55\n",
    "# num_1>num_2: False/Falso\n",
    "print(\"not num_1>num_2\", not num_1>num_2)"
   ]
  },
  {
   "cell_type": "markdown",
   "id": "f880aa57",
   "metadata": {},
   "source": [
    "### Operadores de Afiliación"
   ]
  },
  {
   "cell_type": "markdown",
   "id": "8b044b0c",
   "metadata": {},
   "source": [
    "¿Qué son los operadores de afiliación?\n",
    "- Son usados para validad los elementos en listas, cadenas y tuplas\n",
    "- Validan si una variable está presente en una secuencia\n",
    "- Regresan un valor Booleano con el resultado True/False\n",
    "- Regresan True/Verdadero si el valor está presente en la secuencia\n",
    "- Regresan False/Falso si el valor no está presente en la secuencia\n",
    "- Hay 2 (Dos) operadores de afiliación:\n",
    "    - IN - el valor está en la secuencia\n",
    "    - NOT IN - el valor no está en la secuencia"
   ]
  },
  {
   "cell_type": "code",
   "execution_count": 74,
   "id": "122e6752",
   "metadata": {},
   "outputs": [],
   "source": [
    "# IN: ¿El valor está presente en la secuencia?\""
   ]
  },
  {
   "cell_type": "code",
   "execution_count": 75,
   "id": "bdf42af3",
   "metadata": {},
   "outputs": [
    {
     "name": "stdout",
     "output_type": "stream",
     "text": [
      "'a' in my_string True\n"
     ]
    }
   ],
   "source": [
    "my_string = \"Backend Python\"\n",
    "print(\"'a' in my_string\",'a' in my_string)"
   ]
  },
  {
   "cell_type": "code",
   "execution_count": 76,
   "id": "6d09f663",
   "metadata": {},
   "outputs": [
    {
     "name": "stdout",
     "output_type": "stream",
     "text": [
      "'i' in my_string False\n"
     ]
    }
   ],
   "source": [
    "my_string = \"Backend Python\"\n",
    "print(\"'i' in my_string\",'i' in my_string)"
   ]
  },
  {
   "cell_type": "code",
   "execution_count": 77,
   "id": "e51577fc",
   "metadata": {},
   "outputs": [
    {
     "name": "stdout",
     "output_type": "stream",
     "text": [
      "5 in my_list False\n"
     ]
    }
   ],
   "source": [
    "my_list = [1, 154, 321, 22, 11]\n",
    "print(\"5 in my_list\", 5 in my_list)"
   ]
  },
  {
   "cell_type": "code",
   "execution_count": 80,
   "id": "dca8c7f9",
   "metadata": {},
   "outputs": [
    {
     "name": "stdout",
     "output_type": "stream",
     "text": [
      "5 in my_list True\n"
     ]
    }
   ],
   "source": [
    "my_list = [1, 154, 321, 22, 11, 5, 11, 22, 5 , 1]\n",
    "print(\"5 in my_list\", 5 in my_list)"
   ]
  },
  {
   "cell_type": "code",
   "execution_count": 81,
   "id": "ca0e0ccd",
   "metadata": {},
   "outputs": [
    {
     "data": {
      "text/plain": [
       "[1, 154, 321, 22, 11, 5, 11, 22, 5, 1]"
      ]
     },
     "execution_count": 81,
     "metadata": {},
     "output_type": "execute_result"
    }
   ],
   "source": [
    "my_list"
   ]
  },
  {
   "cell_type": "code",
   "execution_count": 83,
   "id": "c052dba9",
   "metadata": {},
   "outputs": [
    {
     "name": "stdout",
     "output_type": "stream",
     "text": [
      "5 in my_set True\n"
     ]
    }
   ],
   "source": [
    "my_set = {1, 154, 321, 22, 11, 5, 11, 22, 5 , 1}\n",
    "print(\"5 in my_set\", 5 in my_set)"
   ]
  },
  {
   "cell_type": "code",
   "execution_count": 84,
   "id": "b2e0e45c",
   "metadata": {},
   "outputs": [
    {
     "data": {
      "text/plain": [
       "{1, 5, 11, 22, 154, 321}"
      ]
     },
     "execution_count": 84,
     "metadata": {},
     "output_type": "execute_result"
    }
   ],
   "source": [
    "my_set"
   ]
  },
  {
   "cell_type": "code",
   "execution_count": 85,
   "id": "ae4ac25f",
   "metadata": {},
   "outputs": [],
   "source": [
    "# NOT IN: ¿El valor NO está presente en la secuencia?"
   ]
  },
  {
   "cell_type": "code",
   "execution_count": 86,
   "id": "b1dbf177",
   "metadata": {},
   "outputs": [
    {
     "name": "stdout",
     "output_type": "stream",
     "text": [
      "'a' not in my_string False\n"
     ]
    }
   ],
   "source": [
    "my_string = \"Backend Python\"\n",
    "print(\"'a' not in my_string\",'a' not in my_string)"
   ]
  },
  {
   "cell_type": "code",
   "execution_count": 87,
   "id": "9168e2fe",
   "metadata": {},
   "outputs": [
    {
     "name": "stdout",
     "output_type": "stream",
     "text": [
      "'i' not in my_string True\n"
     ]
    }
   ],
   "source": [
    "my_string = \"Backend Python\"\n",
    "print(\"'i' not in my_string\",'i' not in my_string)"
   ]
  },
  {
   "cell_type": "code",
   "execution_count": 88,
   "id": "a766ad6a",
   "metadata": {},
   "outputs": [
    {
     "name": "stdout",
     "output_type": "stream",
     "text": [
      "5 not in my_list True\n"
     ]
    }
   ],
   "source": [
    "my_list = [1, 154, 321, 22, 11]\n",
    "print(\"5 not in my_list\", 5 not in my_list)"
   ]
  },
  {
   "cell_type": "code",
   "execution_count": 89,
   "id": "58973d89",
   "metadata": {},
   "outputs": [
    {
     "name": "stdout",
     "output_type": "stream",
     "text": [
      "5 not in my_list False\n"
     ]
    }
   ],
   "source": [
    "my_list = [1, 154, 321, 22, 11, 5, 11, 22, 5 , 1]\n",
    "print(\"5 not in my_list\", 5 not in my_list)"
   ]
  },
  {
   "cell_type": "code",
   "execution_count": 90,
   "id": "8f354bde",
   "metadata": {},
   "outputs": [
    {
     "name": "stdout",
     "output_type": "stream",
     "text": [
      "5 not in my_set False\n"
     ]
    }
   ],
   "source": [
    "my_set = {1, 154, 321, 22, 11, 5, 11, 22, 5 , 1}\n",
    "print(\"5 not in my_set\", 5 not in my_set)"
   ]
  },
  {
   "cell_type": "markdown",
   "id": "1cb1dfda",
   "metadata": {},
   "source": [
    "### Operadores de Identidad"
   ]
  },
  {
   "cell_type": "markdown",
   "id": "9e332247",
   "metadata": {},
   "source": [
    "¿Qué son los Operadores de Identidad?\n",
    "- Son usados para comparar la ubicación en memoria de dos objetos\n",
    "- Se utilizan para validad si los valores comparten el mismo espacio en la memoria o no\n",
    "- Regresa True/Verdadero si lo comparten, y False/Falso si no lo comparten\n",
    "- Hay 2 Operadores de Identidad\n",
    "    - IS\n",
    "    - IS NOT"
   ]
  },
  {
   "cell_type": "code",
   "execution_count": 91,
   "id": "c4ff3cc6",
   "metadata": {},
   "outputs": [
    {
     "name": "stdout",
     "output_type": "stream",
     "text": [
      "num_1 is num_2 False\n"
     ]
    }
   ],
   "source": [
    "num_1 = 11\n",
    "num_2 = 55\n",
    "print(\"num_1 is num_2\",num_1 is num_2)"
   ]
  },
  {
   "cell_type": "code",
   "execution_count": 92,
   "id": "6e2d86bd",
   "metadata": {},
   "outputs": [
    {
     "name": "stdout",
     "output_type": "stream",
     "text": [
      "num_1 is num_2 True\n"
     ]
    }
   ],
   "source": [
    "num_1 = 77\n",
    "num_2 = 77\n",
    "print(\"num_1 is num_2\",num_1 is num_2)"
   ]
  },
  {
   "cell_type": "code",
   "execution_count": 93,
   "id": "dfa11dc3",
   "metadata": {},
   "outputs": [
    {
     "name": "stdout",
     "output_type": "stream",
     "text": [
      "num_1 is not num_2 True\n"
     ]
    }
   ],
   "source": [
    "num_1 = 11\n",
    "num_2 = 55\n",
    "print(\"num_1 is not num_2\",num_1 is not num_2)"
   ]
  },
  {
   "cell_type": "code",
   "execution_count": 94,
   "id": "7f43eec0",
   "metadata": {},
   "outputs": [
    {
     "name": "stdout",
     "output_type": "stream",
     "text": [
      "num_1 is not num_2 False\n"
     ]
    }
   ],
   "source": [
    "num_1 = 77\n",
    "num_2 = 77\n",
    "print(\"num_1 is not num_2\",num_1 is not num_2)"
   ]
  },
  {
   "cell_type": "markdown",
   "id": "d8271a39",
   "metadata": {},
   "source": [
    "### Conversión de Tipos"
   ]
  },
  {
   "cell_type": "markdown",
   "id": "add2db15",
   "metadata": {},
   "source": [
    "¿Qué es la conversión de tipos?\n",
    "- Es el proceso de conversión de un tipó de dato a otro tipo de dato\n",
    "- Es un paso muy importante para combinar múltiples fuentes de datos en un formato específico\n",
    "- Hay 2 tipos:\n",
    "    - Conversión implícita: hecha de forma automática por el intérprete de python\n",
    "    - Conversión explícita"
   ]
  },
  {
   "cell_type": "code",
   "execution_count": 95,
   "id": "1a5ebf9c",
   "metadata": {},
   "outputs": [],
   "source": [
    "# Conversión Implícita"
   ]
  },
  {
   "cell_type": "code",
   "execution_count": 96,
   "id": "dfdb8e54",
   "metadata": {},
   "outputs": [
    {
     "data": {
      "text/plain": [
       "16.0"
      ]
     },
     "execution_count": 96,
     "metadata": {},
     "output_type": "execute_result"
    }
   ],
   "source": [
    "14+2.0"
   ]
  },
  {
   "cell_type": "code",
   "execution_count": 97,
   "id": "9d10dd4d",
   "metadata": {},
   "outputs": [
    {
     "data": {
      "text/plain": [
       "19.0"
      ]
     },
     "execution_count": 97,
     "metadata": {},
     "output_type": "execute_result"
    }
   ],
   "source": [
    "14+2.0+3"
   ]
  },
  {
   "cell_type": "code",
   "execution_count": 98,
   "id": "39cfc3da",
   "metadata": {},
   "outputs": [],
   "source": [
    "# Conversión Explícita"
   ]
  },
  {
   "cell_type": "code",
   "execution_count": 99,
   "id": "254add2e",
   "metadata": {},
   "outputs": [
    {
     "data": {
      "text/plain": [
       "199"
      ]
     },
     "execution_count": 99,
     "metadata": {},
     "output_type": "execute_result"
    }
   ],
   "source": [
    "int(199.99)"
   ]
  },
  {
   "cell_type": "code",
   "execution_count": 100,
   "id": "1260eca9",
   "metadata": {},
   "outputs": [
    {
     "data": {
      "text/plain": [
       "58.0"
      ]
     },
     "execution_count": 100,
     "metadata": {},
     "output_type": "execute_result"
    }
   ],
   "source": [
    "float(58)"
   ]
  },
  {
   "cell_type": "code",
   "execution_count": 101,
   "id": "c50c8b0a",
   "metadata": {},
   "outputs": [
    {
     "data": {
      "text/plain": [
       "(4+0j)"
      ]
     },
     "execution_count": 101,
     "metadata": {},
     "output_type": "execute_result"
    }
   ],
   "source": [
    "complex(4)"
   ]
  },
  {
   "cell_type": "markdown",
   "id": "c9fdc4f2",
   "metadata": {},
   "source": [
    "### Conversión int"
   ]
  },
  {
   "cell_type": "code",
   "execution_count": 102,
   "id": "75caa1b3",
   "metadata": {},
   "outputs": [
    {
     "data": {
      "text/plain": [
       "10"
      ]
     },
     "execution_count": 102,
     "metadata": {},
     "output_type": "execute_result"
    }
   ],
   "source": [
    "int (10.78) # float a int"
   ]
  },
  {
   "cell_type": "code",
   "execution_count": 103,
   "id": "93d8d573",
   "metadata": {},
   "outputs": [
    {
     "data": {
      "text/plain": [
       "0"
      ]
     },
     "execution_count": 103,
     "metadata": {},
     "output_type": "execute_result"
    }
   ],
   "source": [
    "int(False) # bool a int"
   ]
  },
  {
   "cell_type": "code",
   "execution_count": 104,
   "id": "ead2ccf9",
   "metadata": {},
   "outputs": [
    {
     "data": {
      "text/plain": [
       "1"
      ]
     },
     "execution_count": 104,
     "metadata": {},
     "output_type": "execute_result"
    }
   ],
   "source": [
    "int(True) # bool a int"
   ]
  },
  {
   "cell_type": "code",
   "execution_count": 105,
   "id": "cd506ab1",
   "metadata": {},
   "outputs": [
    {
     "ename": "TypeError",
     "evalue": "int() argument must be a string, a bytes-like object or a real number, not 'complex'",
     "output_type": "error",
     "traceback": [
      "\u001b[1;31m---------------------------------------------------------------------------\u001b[0m",
      "\u001b[1;31mTypeError\u001b[0m                                 Traceback (most recent call last)",
      "Cell \u001b[1;32mIn[105], line 2\u001b[0m\n\u001b[0;32m      1\u001b[0m \u001b[38;5;66;03m# error\u001b[39;00m\n\u001b[1;32m----> 2\u001b[0m \u001b[38;5;28mint\u001b[39m(\u001b[38;5;241m5\u001b[39m\u001b[38;5;241m+\u001b[39m\u001b[38;5;241m3\u001b[39mj)\n",
      "\u001b[1;31mTypeError\u001b[0m: int() argument must be a string, a bytes-like object or a real number, not 'complex'"
     ]
    }
   ],
   "source": [
    "# error\n",
    "int(5+3j) #complex a int"
   ]
  },
  {
   "cell_type": "code",
   "execution_count": 107,
   "id": "7bc00d5f",
   "metadata": {},
   "outputs": [
    {
     "data": {
      "text/plain": [
       "120"
      ]
     },
     "execution_count": 107,
     "metadata": {},
     "output_type": "execute_result"
    }
   ],
   "source": [
    "int(\"120\") # string a entero"
   ]
  },
  {
   "cell_type": "code",
   "execution_count": 108,
   "id": "9bd20d54",
   "metadata": {},
   "outputs": [
    {
     "ename": "ValueError",
     "evalue": "invalid literal for int() with base 10: '120.5'",
     "output_type": "error",
     "traceback": [
      "\u001b[1;31m---------------------------------------------------------------------------\u001b[0m",
      "\u001b[1;31mValueError\u001b[0m                                Traceback (most recent call last)",
      "Cell \u001b[1;32mIn[108], line 2\u001b[0m\n\u001b[0;32m      1\u001b[0m \u001b[38;5;66;03m# error\u001b[39;00m\n\u001b[1;32m----> 2\u001b[0m \u001b[38;5;28mint\u001b[39m(\u001b[38;5;124m\"\u001b[39m\u001b[38;5;124m120.5\u001b[39m\u001b[38;5;124m\"\u001b[39m)\n",
      "\u001b[1;31mValueError\u001b[0m: invalid literal for int() with base 10: '120.5'"
     ]
    }
   ],
   "source": [
    "# error\n",
    "int(\"120.5\") # string a int"
   ]
  },
  {
   "cell_type": "markdown",
   "id": "a7dd59ec",
   "metadata": {},
   "source": [
    "### Conversión float"
   ]
  },
  {
   "cell_type": "code",
   "execution_count": 109,
   "id": "5bf32c11",
   "metadata": {},
   "outputs": [
    {
     "data": {
      "text/plain": [
       "23.0"
      ]
     },
     "execution_count": 109,
     "metadata": {},
     "output_type": "execute_result"
    }
   ],
   "source": [
    "float(23) # int a float"
   ]
  },
  {
   "cell_type": "code",
   "execution_count": 110,
   "id": "4f9ab963",
   "metadata": {},
   "outputs": [
    {
     "ename": "TypeError",
     "evalue": "float() argument must be a string or a real number, not 'complex'",
     "output_type": "error",
     "traceback": [
      "\u001b[1;31m---------------------------------------------------------------------------\u001b[0m",
      "\u001b[1;31mTypeError\u001b[0m                                 Traceback (most recent call last)",
      "Cell \u001b[1;32mIn[110], line 1\u001b[0m\n\u001b[1;32m----> 1\u001b[0m \u001b[38;5;28mfloat\u001b[39m(\u001b[38;5;241m23\u001b[39m\u001b[38;5;241m+\u001b[39m\u001b[38;5;241m3\u001b[39mj)\n",
      "\u001b[1;31mTypeError\u001b[0m: float() argument must be a string or a real number, not 'complex'"
     ]
    }
   ],
   "source": [
    "float(23+3j) # complex a float"
   ]
  },
  {
   "cell_type": "code",
   "execution_count": 111,
   "id": "211ea8c9",
   "metadata": {},
   "outputs": [
    {
     "data": {
      "text/plain": [
       "1.0"
      ]
     },
     "execution_count": 111,
     "metadata": {},
     "output_type": "execute_result"
    }
   ],
   "source": [
    "float(True) # bool a float"
   ]
  },
  {
   "cell_type": "code",
   "execution_count": 112,
   "id": "60bf7629",
   "metadata": {},
   "outputs": [
    {
     "data": {
      "text/plain": [
       "843.29"
      ]
     },
     "execution_count": 112,
     "metadata": {},
     "output_type": "execute_result"
    }
   ],
   "source": [
    "float(\"843.29\") # string a float"
   ]
  },
  {
   "cell_type": "code",
   "execution_count": 113,
   "id": "2092b213",
   "metadata": {},
   "outputs": [
    {
     "data": {
      "text/plain": [
       "843.0"
      ]
     },
     "execution_count": 113,
     "metadata": {},
     "output_type": "execute_result"
    }
   ],
   "source": [
    "float(\"843\") #string a float"
   ]
  },
  {
   "cell_type": "code",
   "execution_count": 114,
   "id": "df150312",
   "metadata": {},
   "outputs": [
    {
     "ename": "ValueError",
     "evalue": "could not convert string to float: '843t'",
     "output_type": "error",
     "traceback": [
      "\u001b[1;31m---------------------------------------------------------------------------\u001b[0m",
      "\u001b[1;31mValueError\u001b[0m                                Traceback (most recent call last)",
      "Cell \u001b[1;32mIn[114], line 2\u001b[0m\n\u001b[0;32m      1\u001b[0m \u001b[38;5;66;03m# error\u001b[39;00m\n\u001b[1;32m----> 2\u001b[0m \u001b[38;5;28mfloat\u001b[39m(\u001b[38;5;124m\"\u001b[39m\u001b[38;5;124m843t\u001b[39m\u001b[38;5;124m\"\u001b[39m)\n",
      "\u001b[1;31mValueError\u001b[0m: could not convert string to float: '843t'"
     ]
    }
   ],
   "source": [
    "# error\n",
    "float(\"843t\") #string a float"
   ]
  },
  {
   "cell_type": "code",
   "execution_count": 115,
   "id": "2d88a628",
   "metadata": {},
   "outputs": [
    {
     "ename": "ValueError",
     "evalue": "could not convert string to float: 'True'",
     "output_type": "error",
     "traceback": [
      "\u001b[1;31m---------------------------------------------------------------------------\u001b[0m",
      "\u001b[1;31mValueError\u001b[0m                                Traceback (most recent call last)",
      "Cell \u001b[1;32mIn[115], line 2\u001b[0m\n\u001b[0;32m      1\u001b[0m \u001b[38;5;66;03m# error\u001b[39;00m\n\u001b[1;32m----> 2\u001b[0m \u001b[38;5;28mfloat\u001b[39m(\u001b[38;5;124m\"\u001b[39m\u001b[38;5;124mTrue\u001b[39m\u001b[38;5;124m\"\u001b[39m)\n",
      "\u001b[1;31mValueError\u001b[0m: could not convert string to float: 'True'"
     ]
    }
   ],
   "source": [
    "# error\n",
    "float(\"True\") # string a float"
   ]
  },
  {
   "cell_type": "markdown",
   "id": "bd35c9d0",
   "metadata": {},
   "source": [
    "### Conversiones complex"
   ]
  },
  {
   "cell_type": "code",
   "execution_count": 116,
   "id": "7f5cf068",
   "metadata": {},
   "outputs": [
    {
     "data": {
      "text/plain": [
       "(42+0j)"
      ]
     },
     "execution_count": 116,
     "metadata": {},
     "output_type": "execute_result"
    }
   ],
   "source": [
    "complex(42) # int a complex"
   ]
  },
  {
   "cell_type": "code",
   "execution_count": 117,
   "id": "c54e4fa2",
   "metadata": {},
   "outputs": [
    {
     "data": {
      "text/plain": [
       "(92.8+0j)"
      ]
     },
     "execution_count": 117,
     "metadata": {},
     "output_type": "execute_result"
    }
   ],
   "source": [
    "complex(92.8) # float a complex"
   ]
  },
  {
   "cell_type": "code",
   "execution_count": 118,
   "id": "baaf40d3",
   "metadata": {},
   "outputs": [
    {
     "data": {
      "text/plain": [
       "(1+0j)"
      ]
     },
     "execution_count": 118,
     "metadata": {},
     "output_type": "execute_result"
    }
   ],
   "source": [
    "complex(True) # bool a complex"
   ]
  },
  {
   "cell_type": "code",
   "execution_count": 119,
   "id": "26c3c75b",
   "metadata": {},
   "outputs": [
    {
     "data": {
      "text/plain": [
       "0j"
      ]
     },
     "execution_count": 119,
     "metadata": {},
     "output_type": "execute_result"
    }
   ],
   "source": [
    "complex(False) # bool a complex"
   ]
  },
  {
   "cell_type": "code",
   "execution_count": 120,
   "id": "b728a984",
   "metadata": {},
   "outputs": [
    {
     "data": {
      "text/plain": [
       "(24+0j)"
      ]
     },
     "execution_count": 120,
     "metadata": {},
     "output_type": "execute_result"
    }
   ],
   "source": [
    "complex(\"24\") # string a complex"
   ]
  },
  {
   "cell_type": "code",
   "execution_count": 121,
   "id": "555f8d66",
   "metadata": {},
   "outputs": [
    {
     "data": {
      "text/plain": [
       "(24.67+0j)"
      ]
     },
     "execution_count": 121,
     "metadata": {},
     "output_type": "execute_result"
    }
   ],
   "source": [
    "complex(\"24.67\") # string a complex"
   ]
  },
  {
   "cell_type": "code",
   "execution_count": 122,
   "id": "7896ed5b",
   "metadata": {},
   "outputs": [
    {
     "ename": "ValueError",
     "evalue": "complex() arg is a malformed string",
     "output_type": "error",
     "traceback": [
      "\u001b[1;31m---------------------------------------------------------------------------\u001b[0m",
      "\u001b[1;31mValueError\u001b[0m                                Traceback (most recent call last)",
      "Cell \u001b[1;32mIn[122], line 2\u001b[0m\n\u001b[0;32m      1\u001b[0m \u001b[38;5;66;03m# error\u001b[39;00m\n\u001b[1;32m----> 2\u001b[0m \u001b[38;5;28mcomplex\u001b[39m(\u001b[38;5;124m\"\u001b[39m\u001b[38;5;124mBackend\u001b[39m\u001b[38;5;124m\"\u001b[39m)\n",
      "\u001b[1;31mValueError\u001b[0m: complex() arg is a malformed string"
     ]
    }
   ],
   "source": [
    "# error\n",
    "complex(\"Backend\") # string a complex"
   ]
  },
  {
   "cell_type": "code",
   "execution_count": 123,
   "id": "3c0158e4",
   "metadata": {},
   "outputs": [
    {
     "ename": "ValueError",
     "evalue": "complex() arg is a malformed string",
     "output_type": "error",
     "traceback": [
      "\u001b[1;31m---------------------------------------------------------------------------\u001b[0m",
      "\u001b[1;31mValueError\u001b[0m                                Traceback (most recent call last)",
      "Cell \u001b[1;32mIn[123], line 2\u001b[0m\n\u001b[0;32m      1\u001b[0m \u001b[38;5;66;03m# error\u001b[39;00m\n\u001b[1;32m----> 2\u001b[0m \u001b[38;5;28mcomplex\u001b[39m(\u001b[38;5;124m\"\u001b[39m\u001b[38;5;124mBackend 24\u001b[39m\u001b[38;5;124m\"\u001b[39m)\n",
      "\u001b[1;31mValueError\u001b[0m: complex() arg is a malformed string"
     ]
    }
   ],
   "source": [
    "# error\n",
    "complex(\"Backend 24\") # string a complex"
   ]
  },
  {
   "cell_type": "code",
   "execution_count": 124,
   "id": "ad72d063",
   "metadata": {},
   "outputs": [
    {
     "ename": "ValueError",
     "evalue": "complex() arg is a malformed string",
     "output_type": "error",
     "traceback": [
      "\u001b[1;31m---------------------------------------------------------------------------\u001b[0m",
      "\u001b[1;31mValueError\u001b[0m                                Traceback (most recent call last)",
      "Cell \u001b[1;32mIn[124], line 2\u001b[0m\n\u001b[0;32m      1\u001b[0m \u001b[38;5;66;03m# error\u001b[39;00m\n\u001b[1;32m----> 2\u001b[0m \u001b[38;5;28mcomplex\u001b[39m(\u001b[38;5;124m\"\u001b[39m\u001b[38;5;124m10c\u001b[39m\u001b[38;5;124m\"\u001b[39m)\n",
      "\u001b[1;31mValueError\u001b[0m: complex() arg is a malformed string"
     ]
    }
   ],
   "source": [
    "# error\n",
    "complex(\"10c\") # string a complex"
   ]
  },
  {
   "cell_type": "code",
   "execution_count": 126,
   "id": "dc2b33f0",
   "metadata": {},
   "outputs": [
    {
     "data": {
      "text/plain": [
       "10j"
      ]
     },
     "execution_count": 126,
     "metadata": {},
     "output_type": "execute_result"
    }
   ],
   "source": [
    "complex(\"10j\") # string a complex"
   ]
  },
  {
   "cell_type": "markdown",
   "id": "e0085f2f",
   "metadata": {},
   "source": [
    "### Conversiones bool"
   ]
  },
  {
   "cell_type": "code",
   "execution_count": 127,
   "id": "43b833d6",
   "metadata": {},
   "outputs": [
    {
     "data": {
      "text/plain": [
       "False"
      ]
     },
     "execution_count": 127,
     "metadata": {},
     "output_type": "execute_result"
    }
   ],
   "source": [
    "bool(0) # int a bool"
   ]
  },
  {
   "cell_type": "code",
   "execution_count": 128,
   "id": "401632b8",
   "metadata": {},
   "outputs": [
    {
     "data": {
      "text/plain": [
       "True"
      ]
     },
     "execution_count": 128,
     "metadata": {},
     "output_type": "execute_result"
    }
   ],
   "source": [
    "bool(7) # int a bool"
   ]
  },
  {
   "cell_type": "code",
   "execution_count": 129,
   "id": "99608f67",
   "metadata": {},
   "outputs": [
    {
     "data": {
      "text/plain": [
       "True"
      ]
     },
     "execution_count": 129,
     "metadata": {},
     "output_type": "execute_result"
    }
   ],
   "source": [
    "bool(7.8) # float a bool"
   ]
  },
  {
   "cell_type": "code",
   "execution_count": 130,
   "id": "3f7fb8d1",
   "metadata": {},
   "outputs": [
    {
     "data": {
      "text/plain": [
       "True"
      ]
     },
     "execution_count": 130,
     "metadata": {},
     "output_type": "execute_result"
    }
   ],
   "source": [
    "bool(-1.8) # float a bool"
   ]
  },
  {
   "cell_type": "code",
   "execution_count": 131,
   "id": "9d0066e0",
   "metadata": {},
   "outputs": [
    {
     "data": {
      "text/plain": [
       "False"
      ]
     },
     "execution_count": 131,
     "metadata": {},
     "output_type": "execute_result"
    }
   ],
   "source": [
    "bool(0.0) # float a bool"
   ]
  },
  {
   "cell_type": "code",
   "execution_count": 132,
   "id": "4494fc8d",
   "metadata": {},
   "outputs": [
    {
     "data": {
      "text/plain": [
       "True"
      ]
     },
     "execution_count": 132,
     "metadata": {},
     "output_type": "execute_result"
    }
   ],
   "source": [
    "bool(0+3j) # complex a bool"
   ]
  },
  {
   "cell_type": "code",
   "execution_count": 133,
   "id": "0bb243a3",
   "metadata": {},
   "outputs": [
    {
     "data": {
      "text/plain": [
       "False"
      ]
     },
     "execution_count": 133,
     "metadata": {},
     "output_type": "execute_result"
    }
   ],
   "source": [
    "bool(0+0j) # complex a bool"
   ]
  },
  {
   "cell_type": "code",
   "execution_count": 134,
   "id": "c48ae516",
   "metadata": {},
   "outputs": [
    {
     "data": {
      "text/plain": [
       "True"
      ]
     },
     "execution_count": 134,
     "metadata": {},
     "output_type": "execute_result"
    }
   ],
   "source": [
    "bool(2+0j) # complex a bool"
   ]
  },
  {
   "cell_type": "code",
   "execution_count": 135,
   "id": "c992a4fa",
   "metadata": {},
   "outputs": [
    {
     "data": {
      "text/plain": [
       "True"
      ]
     },
     "execution_count": 135,
     "metadata": {},
     "output_type": "execute_result"
    }
   ],
   "source": [
    "bool(\"Python\") # string a bool"
   ]
  },
  {
   "cell_type": "code",
   "execution_count": 136,
   "id": "fcab50a3",
   "metadata": {},
   "outputs": [
    {
     "data": {
      "text/plain": [
       "True"
      ]
     },
     "execution_count": 136,
     "metadata": {},
     "output_type": "execute_result"
    }
   ],
   "source": [
    "bool(\" \") # string a bool"
   ]
  },
  {
   "cell_type": "code",
   "execution_count": 137,
   "id": "b8adb3be",
   "metadata": {},
   "outputs": [
    {
     "data": {
      "text/plain": [
       "False"
      ]
     },
     "execution_count": 137,
     "metadata": {},
     "output_type": "execute_result"
    }
   ],
   "source": [
    "bool(\"\") # string a bool"
   ]
  },
  {
   "cell_type": "code",
   "execution_count": 138,
   "id": "d42aab46",
   "metadata": {},
   "outputs": [
    {
     "data": {
      "text/plain": [
       "True"
      ]
     },
     "execution_count": 138,
     "metadata": {},
     "output_type": "execute_result"
    }
   ],
   "source": [
    "bool(\"0\") # string a bool"
   ]
  },
  {
   "cell_type": "markdown",
   "id": "d6bd9c02",
   "metadata": {},
   "source": [
    "### Conversiones str"
   ]
  },
  {
   "cell_type": "code",
   "execution_count": 139,
   "id": "b69925c3",
   "metadata": {},
   "outputs": [
    {
     "data": {
      "text/plain": [
       "'25'"
      ]
     },
     "execution_count": 139,
     "metadata": {},
     "output_type": "execute_result"
    }
   ],
   "source": [
    "str(25) # int a str"
   ]
  },
  {
   "cell_type": "code",
   "execution_count": 140,
   "id": "ca3b88ab",
   "metadata": {},
   "outputs": [
    {
     "data": {
      "text/plain": [
       "'25.2'"
      ]
     },
     "execution_count": 140,
     "metadata": {},
     "output_type": "execute_result"
    }
   ],
   "source": [
    "str(25.2) # float a str"
   ]
  },
  {
   "cell_type": "code",
   "execution_count": 141,
   "id": "df98bf48",
   "metadata": {},
   "outputs": [
    {
     "data": {
      "text/plain": [
       "'(6+8j)'"
      ]
     },
     "execution_count": 141,
     "metadata": {},
     "output_type": "execute_result"
    }
   ],
   "source": [
    "str(6+8j) # complex a str"
   ]
  },
  {
   "cell_type": "code",
   "execution_count": 142,
   "id": "da4796a9",
   "metadata": {},
   "outputs": [
    {
     "data": {
      "text/plain": [
       "'True'"
      ]
     },
     "execution_count": 142,
     "metadata": {},
     "output_type": "execute_result"
    }
   ],
   "source": [
    "str(True) # bool a str"
   ]
  },
  {
   "cell_type": "markdown",
   "id": "7c7c33f1",
   "metadata": {},
   "source": [
    "# Funciones Básicas"
   ]
  },
  {
   "cell_type": "markdown",
   "id": "b5588602",
   "metadata": {},
   "source": [
    "### trunc()"
   ]
  },
  {
   "cell_type": "code",
   "execution_count": 143,
   "id": "c3fbe1dc",
   "metadata": {},
   "outputs": [
    {
     "name": "stdout",
     "output_type": "stream",
     "text": [
      "num_1:  64.99\n",
      "num_2:  64.5\n",
      "num_3:  64.51\n",
      "num_4:  64.000000001\n"
     ]
    }
   ],
   "source": [
    "num_1 = 64.99\n",
    "num_2 = 64.5\n",
    "num_3 = 64.51\n",
    "num_4 = 64.000000001\n",
    "print(\"num_1: \",num_1)\n",
    "print(\"num_2: \",num_2)\n",
    "print(\"num_3: \",num_3)\n",
    "print(\"num_4: \",num_4)"
   ]
  },
  {
   "cell_type": "code",
   "execution_count": 144,
   "id": "a08a1add",
   "metadata": {},
   "outputs": [
    {
     "name": "stdout",
     "output_type": "stream",
     "text": [
      "trunc(num_1):  64\n",
      "trunc(num_2):  64\n",
      "trunc(num_3):  64\n",
      "ntrunc(num_4):  64\n"
     ]
    }
   ],
   "source": [
    "from math import trunc\n",
    "num_1 = 64.99\n",
    "num_2 = 64.5\n",
    "num_3 = 64.51\n",
    "num_4 = 64.000000001\n",
    "print(\"trunc(num_1): \",trunc(num_1))\n",
    "print(\"trunc(num_2): \",trunc(num_2))\n",
    "print(\"trunc(num_3): \",trunc(num_3))\n",
    "print(\"trunc(num_4): \",trunc(num_4))"
   ]
  },
  {
   "cell_type": "markdown",
   "id": "c8618643",
   "metadata": {},
   "source": [
    "### round(), ceil() y floor()"
   ]
  },
  {
   "cell_type": "code",
   "execution_count": 145,
   "id": "004c1b83",
   "metadata": {},
   "outputs": [
    {
     "name": "stdout",
     "output_type": "stream",
     "text": [
      "round(num_1):  65\n",
      "round(num_2):  64\n",
      "round(num_3):  65\n",
      "round(num_4):  64\n"
     ]
    }
   ],
   "source": [
    "# round\n",
    "num_1 = 64.99\n",
    "num_2 = 64.5\n",
    "num_3 = 64.51\n",
    "num_4 = 64.000000001\n",
    "print(\"round(num_1): \",round(num_1))\n",
    "print(\"round(num_2): \",round(num_2))\n",
    "print(\"round(num_3): \",round(num_3))\n",
    "print(\"round(num_4): \",round(num_4))"
   ]
  },
  {
   "cell_type": "code",
   "execution_count": 146,
   "id": "b6dca486",
   "metadata": {},
   "outputs": [
    {
     "name": "stdout",
     "output_type": "stream",
     "text": [
      "ceil(num_1):  65\n",
      "ceil(num_2):  65\n",
      "ceil(num_3):  65\n",
      "ceil(num_4):  65\n"
     ]
    }
   ],
   "source": [
    "# ceil\n",
    "from math import ceil\n",
    "num_1 = 64.99\n",
    "num_2 = 64.5\n",
    "num_3 = 64.51\n",
    "num_4 = 64.000000001\n",
    "print(\"ceil(num_1): \",ceil(num_1))\n",
    "print(\"ceil(num_2): \",ceil(num_2))\n",
    "print(\"ceil(num_3): \",ceil(num_3))\n",
    "print(\"ceil(num_4): \",ceil(num_4))"
   ]
  },
  {
   "cell_type": "code",
   "execution_count": 151,
   "id": "7a8cf9f1",
   "metadata": {},
   "outputs": [
    {
     "name": "stdout",
     "output_type": "stream",
     "text": [
      "floor(num_1):  64\n",
      "floor(num_2):  64\n",
      "floor(num_3):  64\n",
      "floor(num_4):  64\n"
     ]
    }
   ],
   "source": [
    "# floor\n",
    "from math import floor\n",
    "num_1 = 64.99\n",
    "num_2 = 64.5\n",
    "num_3 = 64.51\n",
    "num_4 = 64.000000001\n",
    "print(\"floor(num_1): \",floor(num_1))\n",
    "print(\"floor(num_2): \",floor(num_2))\n",
    "print(\"floor(num_3): \",floor(num_3))\n",
    "print(\"floor(num_4): \",floor(num_4))"
   ]
  },
  {
   "cell_type": "markdown",
   "id": "938f5da7",
   "metadata": {},
   "source": [
    "### Función %"
   ]
  },
  {
   "cell_type": "code",
   "execution_count": 161,
   "id": "4afbf7a6",
   "metadata": {},
   "outputs": [
    {
     "name": "stdout",
     "output_type": "stream",
     "text": [
      "'%.1f' % (num_1):  65.0\n",
      "'%.3f' % (num_2):  64.500\n",
      "'%.4f' % (num_3):  64.5100\n",
      "'%.5f' % (num_4):  64.00000\n"
     ]
    }
   ],
   "source": [
    "num_1 = 64.99\n",
    "num_2 = 64.50\n",
    "num_3 = 64.51\n",
    "num_4 = 64.000000001\n",
    "print(\"'%.1f' % (num_1): \",'%.1f' % (num_1))\n",
    "print(\"'%.3f' % (num_2): \",'%.3f' % (num_2))\n",
    "print(\"'%.4f' % (num_3): \",'%.4f' % (num_3))\n",
    "print(\"'%.5f' % (num_4): \",'%.5f' % (num_4))"
   ]
  },
  {
   "cell_type": "markdown",
   "id": "f62fcc45",
   "metadata": {},
   "source": [
    "### format()"
   ]
  },
  {
   "cell_type": "code",
   "execution_count": 158,
   "id": "19689bea",
   "metadata": {},
   "outputs": [
    {
     "name": "stdout",
     "output_type": "stream",
     "text": [
      "'{:.1f}' .format(num_1):  65.0\n",
      "'{:.3f}' .format(num_1):  64.500\n",
      "'{:.4f}' .format(num_1):  64.5100\n",
      "'{:.5f}' .format(num_1):  64.00000\n"
     ]
    }
   ],
   "source": [
    "num_1 = 64.99\n",
    "num_2 = 64.5\n",
    "num_3 = 64.51\n",
    "num_4 = 64.000000001\n",
    "print(\"'{:.1f}' .format(num_1): \",'{:.1f}' .format(num_1))\n",
    "print(\"'{:.3f}' .format(num_1): \",'{:.3f}' .format(num_2))\n",
    "print(\"'{:.4f}' .format(num_1): \",'{:.4f}' .format(num_3))\n",
    "print(\"'{:.5f}' .format(num_1): \",'{:.5f}' .format(num_4))"
   ]
  },
  {
   "cell_type": "code",
   "execution_count": 162,
   "id": "f7856f2f",
   "metadata": {},
   "outputs": [
    {
     "name": "stdout",
     "output_type": "stream",
     "text": [
      "     4     16     64\n",
      "     5     25    125\n",
      "     6     36    216\n",
      "     7     49    343\n",
      "     8     64    512\n",
      "     9     81    729\n",
      "    10    100   1000\n",
      "    11    121   1331\n",
      "    12    144   1728\n",
      "    13    169   2197\n",
      "    14    196   2744\n"
     ]
    }
   ],
   "source": [
    "for i in range(4,15):\n",
    "    print(\"{:6d} {:6d} {:6d}\".format(i,i*i,i*i*i))"
   ]
  },
  {
   "cell_type": "code",
   "execution_count": 163,
   "id": "347059d3",
   "metadata": {},
   "outputs": [
    {
     "name": "stdout",
     "output_type": "stream",
     "text": [
      "4 16 64\n",
      "5 25 125\n",
      "6 36 216\n",
      "7 49 343\n",
      "8 64 512\n",
      "9 81 729\n",
      "10 100 1000\n",
      "11 121 1331\n",
      "12 144 1728\n",
      "13 169 2197\n",
      "14 196 2744\n"
     ]
    }
   ],
   "source": [
    "for i in range(4,15):\n",
    "    print(i,i*i,i*i*i)"
   ]
  },
  {
   "cell_type": "code",
   "execution_count": null,
   "id": "4e43ca7f",
   "metadata": {},
   "outputs": [],
   "source": []
  }
 ],
 "metadata": {
  "kernelspec": {
   "display_name": "Python 3 (ipykernel)",
   "language": "python",
   "name": "python3"
  },
  "language_info": {
   "codemirror_mode": {
    "name": "ipython",
    "version": 3
   },
   "file_extension": ".py",
   "mimetype": "text/x-python",
   "name": "python",
   "nbconvert_exporter": "python",
   "pygments_lexer": "ipython3",
   "version": "3.11.3"
  }
 },
 "nbformat": 4,
 "nbformat_minor": 5
}
