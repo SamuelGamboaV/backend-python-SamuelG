{
 "cells": [
  {
   "cell_type": "code",
   "execution_count": 19,
   "id": "16fd985e",
   "metadata": {},
   "outputs": [
    {
     "name": "stdout",
     "output_type": "stream",
     "text": [
      "Carrito de compras\n",
      "\n",
      "\n",
      "Productos Disponibles:\n",
      "1.- Pan\n",
      "2.- Jamón\n",
      "3.- Crema\n",
      "4.- Mayonesa\n",
      "5.- Lechuga\n",
      "6.- Helado\n",
      "7.- Aguacate\n",
      "8.- Queso\n",
      "9.- Toallas de papel\n",
      "10.- Aceite\n",
      "\n",
      "Ingresa una lista con los productos en este formato: [[Cantidad,Producto]]\n",
      "Por ejemplo: [[1,1], [3,2]] significa 1 Pan y 3 Jamón\n",
      "[[1,6], [3,7],[1,8], [3,9],[3,10]]\n",
      "\n",
      "\n",
      "Tu carrito es:\n",
      "1 Helado\n",
      "3 Aguacate\n",
      "1 Queso\n",
      "3 Toallas de papel\n",
      "3 Aceite\n"
     ]
    }
   ],
   "source": [
    "print(\"Carrito de compras\\n\")\n",
    "print(\"\"\"\n",
    "Productos Disponibles:\n",
    "1.- Pan\n",
    "2.- Jamón\n",
    "3.- Crema\n",
    "4.- Mayonesa\n",
    "5.- Lechuga\n",
    "6.- Helado\n",
    "7.- Aguacate\n",
    "8.- Queso\n",
    "9.- Toallas de papel\n",
    "10.- Aceite\n",
    "\"\"\")\n",
    "\n",
    "print(\"Ingresa una lista con los productos en este formato: [[Cantidad,Producto]]\")\n",
    "print(\"Por ejemplo: [[1,1], [3,2]] significa 1 Pan y 3 Jamón\" )\n",
    "\n",
    "my_shopping_cart = eval(input())\n",
    "\n",
    "print(\"\\n\\nTu carrito es:\")\n",
    "if type(my_shopping_cart) == list:\n",
    "    if type(my_shopping_cart[0]) == list:\n",
    "        for element in my_shopping_cart:\n",
    "            product = \"\"\n",
    "            if element[1] == 1:\n",
    "                product = \"Pan\"\n",
    "            if element[1] == 2:\n",
    "                product = \"Jamón\"\n",
    "            if element[1] == 3:\n",
    "                product = \"Crema\"\n",
    "            if element[1] == 4:\n",
    "                product = \"Mayonesa\"\n",
    "            if element[1] == 5:\n",
    "                product = \"Lechuga\"\n",
    "            if element[1] == 6:\n",
    "                product = \"Helado\"\n",
    "            if element[1] == 7:\n",
    "                product = \"Aguacate\"\n",
    "            if element[1] == 8:\n",
    "                product = \"Queso\"\n",
    "            if element[1] == 9:\n",
    "                product = \"Toallas de papel\"\n",
    "            if element[1] == 10:\n",
    "                product = \"Aceite\"\n",
    "\n",
    "            print(\"{} {}\".format(element[0], product))\n",
    "    else:\n",
    "         print(\"Formato incorrecto, debes ingresar una lista de listas\")\n",
    "else:\n",
    "     print(\"Formato incorrecto, debes ingresar una lista de listas\")"
   ]
  },
  {
   "cell_type": "code",
   "execution_count": null,
   "id": "c8aa34f0",
   "metadata": {},
   "outputs": [],
   "source": []
  }
 ],
 "metadata": {
  "kernelspec": {
   "display_name": "Python 3 (ipykernel)",
   "language": "python",
   "name": "python3"
  },
  "language_info": {
   "codemirror_mode": {
    "name": "ipython",
    "version": 3
   },
   "file_extension": ".py",
   "mimetype": "text/x-python",
   "name": "python",
   "nbconvert_exporter": "python",
   "pygments_lexer": "ipython3",
   "version": "3.11.3"
  }
 },
 "nbformat": 4,
 "nbformat_minor": 5
}
