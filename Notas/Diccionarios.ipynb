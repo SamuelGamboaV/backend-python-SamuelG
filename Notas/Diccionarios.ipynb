{
 "cells": [
  {
   "cell_type": "markdown",
   "id": "089a9899",
   "metadata": {},
   "source": [
    "## Diferentes formas de crear diccionarios"
   ]
  },
  {
   "cell_type": "code",
   "execution_count": 1,
   "id": "b6e8ada5",
   "metadata": {},
   "outputs": [
    {
     "name": "stdout",
     "output_type": "stream",
     "text": [
      "{}\n",
      "<class 'dict'>\n"
     ]
    }
   ],
   "source": [
    "my_dict = {}\n",
    "print(my_dict)\n",
    "print(type(my_dict))"
   ]
  },
  {
   "cell_type": "code",
   "execution_count": 2,
   "id": "818ae299",
   "metadata": {},
   "outputs": [
    {
     "name": "stdout",
     "output_type": "stream",
     "text": [
      "{}\n",
      "<class 'dict'>\n"
     ]
    }
   ],
   "source": [
    "my_dict = dict()\n",
    "print(my_dict)\n",
    "print(type(my_dict))"
   ]
  },
  {
   "cell_type": "code",
   "execution_count": 3,
   "id": "9e8a2471",
   "metadata": {},
   "outputs": [
    {
     "name": "stdout",
     "output_type": "stream",
     "text": [
      "{1: 'Uno', 2: 'Dos', 3: 'Tres', 4: 'Cuatro', 5: 'Cinco'}\n",
      "<class 'dict'>\n"
     ]
    }
   ],
   "source": [
    "# Representando el diccionario como tal\n",
    "\n",
    "my_dict = {\n",
    "    1:\"Uno\",\n",
    "    2:\"Dos\",\n",
    "    3:\"Tres\",\n",
    "    4:\"Cuatro\",\n",
    "    5:\"Cinco\",\n",
    "}\n",
    "print(my_dict)\n",
    "print(type(my_dict))"
   ]
  },
  {
   "cell_type": "code",
   "execution_count": 5,
   "id": "d2a608dd",
   "metadata": {},
   "outputs": [
    {
     "name": "stdout",
     "output_type": "stream",
     "text": [
      "{'Uno': 1, 'Dos': 2, 'Tres': 3, 'Cuatro': 4, 'Cinco': 5}\n",
      "<class 'dict'>\n"
     ]
    }
   ],
   "source": [
    "# Usando nombres de las llaves con valores\n",
    "my_dict = dict(Uno=1,Dos=2,Tres=3,Cuatro=4,Cinco=5)\n",
    "print(my_dict)\n",
    "print(type(my_dict))"
   ]
  },
  {
   "cell_type": "code",
   "execution_count": 6,
   "id": "ee4e89c5",
   "metadata": {},
   "outputs": [
    {
     "name": "stdout",
     "output_type": "stream",
     "text": [
      "{1: 'Uno', 2: 'Dos', 3: 'Tres', 4: 'Cuatro', 5: 'Cinco'}\n",
      "<class 'dict'>\n"
     ]
    }
   ],
   "source": [
    "# usando una lista de tuplas\n",
    "my_dict = dict([\n",
    "    (1,\"Uno\"),\n",
    "    (2,\"Dos\"),\n",
    "    (3,\"Tres\"),\n",
    "    (4,\"Cuatro\"),\n",
    "    (5,\"Cinco\"),\n",
    "])\n",
    "print(my_dict)\n",
    "print(type(my_dict))"
   ]
  },
  {
   "cell_type": "markdown",
   "id": "923acfe6",
   "metadata": {},
   "source": [
    "## Método update"
   ]
  },
  {
   "cell_type": "code",
   "execution_count": 7,
   "id": "e4cd68b6",
   "metadata": {},
   "outputs": [
    {
     "name": "stdout",
     "output_type": "stream",
     "text": [
      "{1: 'Uno', 2: 'Dos', 3: 'Tres', 4: 'Cuatro', 5: 'Cinco'}\n",
      "<class 'dict'> \n",
      "\n",
      "{6: 'Seis', 7: 'Siete', 8: 'Ocho', 9: 'Nueve', 10: 'Diez'}\n",
      "<class 'dict'>\n"
     ]
    }
   ],
   "source": [
    "my_dict = {\n",
    "    1:\"Uno\",\n",
    "    2:\"Dos\",\n",
    "    3:\"Tres\",\n",
    "    4:\"Cuatro\",\n",
    "    5:\"Cinco\",\n",
    "}\n",
    "\n",
    "my_dict_2 = {\n",
    "    6:\"Seis\",\n",
    "    7:\"Siete\",\n",
    "    8:\"Ocho\",\n",
    "    9:\"Nueve\",\n",
    "    10:\"Diez\",\n",
    "}\n",
    "print(my_dict)\n",
    "print(type(my_dict),\"\\n\")\n",
    "\n",
    "print(my_dict_2)\n",
    "print(type(my_dict_2))"
   ]
  },
  {
   "cell_type": "code",
   "execution_count": 8,
   "id": "efeaf3e6",
   "metadata": {},
   "outputs": [
    {
     "name": "stdout",
     "output_type": "stream",
     "text": [
      "{1: 'Uno', 2: 'Dos', 3: 'Tres', 4: 'Cuatro', 5: 'Cinco', 6: 'Seis', 7: 'Siete', 8: 'Ocho', 9: 'Nueve', 10: 'Diez'}\n",
      "<class 'dict'> \n",
      "\n"
     ]
    }
   ],
   "source": [
    "my_dict.update(my_dict_2)\n",
    "print(my_dict)\n",
    "print(type(my_dict),\"\\n\")"
   ]
  },
  {
   "cell_type": "code",
   "execution_count": 11,
   "id": "e98db0d3",
   "metadata": {},
   "outputs": [
    {
     "name": "stdout",
     "output_type": "stream",
     "text": [
      "{1: 'Uno', 2: 'Dos', 3: 'Tres', 4: 'Cuatro', 5: 'Cinco'}\n",
      "<class 'dict'> \n",
      "\n",
      "{1: 'UNO', 3: 'TRES', 4: 'CUATRO'}\n",
      "<class 'dict'> \n",
      "\n",
      "{1: 'UNO', 2: 'Dos', 3: 'TRES', 4: 'CUATRO', 5: 'Cinco'}\n",
      "<class 'dict'> \n",
      "\n"
     ]
    }
   ],
   "source": [
    "my_dict = {\n",
    "    1:\"Uno\",\n",
    "    2:\"Dos\",\n",
    "    3:\"Tres\",\n",
    "    4:\"Cuatro\",\n",
    "    5:\"Cinco\",\n",
    "}\n",
    "\n",
    "my_dict_2 = {\n",
    "    1:\"UNO\",\n",
    "    3:\"TRES\",\n",
    "    4:\"CUATRO\",\n",
    "}\n",
    "print(my_dict)\n",
    "print(type(my_dict),\"\\n\")\n",
    "\n",
    "print(my_dict_2)\n",
    "print(type(my_dict_2),\"\\n\")\n",
    "\n",
    "my_dict.update(my_dict_2)\n",
    "print(my_dict)\n",
    "print(type(my_dict),\"\\n\")"
   ]
  },
  {
   "cell_type": "markdown",
   "id": "1a7eb0a7",
   "metadata": {},
   "source": [
    "## Método Update"
   ]
  },
  {
   "cell_type": "code",
   "execution_count": 12,
   "id": "b6a8b0d6",
   "metadata": {},
   "outputs": [
    {
     "name": "stdout",
     "output_type": "stream",
     "text": [
      "{1: 'Uno', 2: 'Dos', 3: 'Tres', 4: 'Cuatro', 5: 'Cinco'}\n",
      "<class 'dict'> \n",
      "\n",
      "{6: 'Uno', 7: 'Dos', 8: 'Tres', 9: 'Cuatro', 10: 'Cinco'}\n",
      "<class 'dict'> \n",
      "\n",
      "{1: 'Uno', 2: 'Dos', 3: 'Tres', 4: 'Cuatro', 5: 'Cinco', 6: 'Uno', 7: 'Dos', 8: 'Tres', 9: 'Cuatro', 10: 'Cinco'}\n",
      "<class 'dict'> \n",
      "\n"
     ]
    }
   ],
   "source": [
    "my_dict = {\n",
    "    1:\"Uno\",\n",
    "    2:\"Dos\",\n",
    "    3:\"Tres\",\n",
    "    4:\"Cuatro\",\n",
    "    5:\"Cinco\",\n",
    "}\n",
    "\n",
    "my_dict_2 = {\n",
    "    6:\"Uno\",\n",
    "    7:\"Dos\",\n",
    "    8:\"Tres\",\n",
    "    9:\"Cuatro\",\n",
    "    10:\"Cinco\",\n",
    "}\n",
    "print(my_dict)\n",
    "print(type(my_dict),\"\\n\")\n",
    "\n",
    "print(my_dict_2)\n",
    "print(type(my_dict_2),\"\\n\")\n",
    "\n",
    "my_dict.update(my_dict_2)\n",
    "print(my_dict)\n",
    "print(type(my_dict),\"\\n\")"
   ]
  },
  {
   "cell_type": "markdown",
   "id": "fb551eb9",
   "metadata": {},
   "source": [
    "## Copy & Alias"
   ]
  },
  {
   "cell_type": "code",
   "execution_count": 20,
   "id": "4b1462ee",
   "metadata": {},
   "outputs": [],
   "source": [
    "laptops = {\n",
    "    \"HP\":11999.0,\n",
    "    \"Apple\":24999.0,\n",
    "    \"Acer\":12012.03,\n",
    "    \"Lenovo\":17299.0,\n",
    "    \"Dell\":15524.87,\n",
    "}\n",
    "\n",
    "alias = laptops # no es recomendable\n",
    "copy = laptops.copy() # siempre es recomendable"
   ]
  },
  {
   "cell_type": "code",
   "execution_count": 21,
   "id": "9bb50c4b",
   "metadata": {},
   "outputs": [
    {
     "name": "stdout",
     "output_type": "stream",
     "text": [
      "{'HP': 11999.0, 'Apple': 24999.0, 'Acer': 12012.03, 'Lenovo': 17299.0, 'Dell': 15524.87}\n",
      "{'HP': 9999.0, 'Apple': 24999.0, 'Acer': 12012.03, 'Lenovo': 17299.0, 'Dell': 15524.87}\n",
      "{'HP': 9999.0, 'Apple': 24999.0, 'Acer': 12012.03, 'Lenovo': 17299.0, 'Dell': 15524.87}\n"
     ]
    }
   ],
   "source": [
    "# usar un alias ca a afectrar al diccionario original\n",
    "alias = laptops # no es recomendable\n",
    "print(alias)\n",
    "alias[\"HP\"] = 9999.0\n",
    "print(alias)\n",
    "print(laptops)"
   ]
  },
  {
   "cell_type": "code",
   "execution_count": 22,
   "id": "5b9e85f5",
   "metadata": {},
   "outputs": [
    {
     "name": "stdout",
     "output_type": "stream",
     "text": [
      "{'HP': 11999.0, 'Apple': 24999.0, 'Acer': 12012.03, 'Lenovo': 17299.0, 'Dell': 15524.87}\n",
      "{'HP': 9999.0, 'Apple': 24999.0, 'Acer': 12012.03, 'Lenovo': 17299.0, 'Dell': 15524.87}\n",
      "{'HP': 11999.0, 'Apple': 24999.0, 'Acer': 12012.03, 'Lenovo': 17299.0, 'Dell': 15524.87}\n"
     ]
    }
   ],
   "source": [
    "# usar copy es la forma correcta, ya que mantiene los valores del diccionario original\n",
    "\n",
    "laptops = {\n",
    "    \"HP\":11999.0,\n",
    "    \"Apple\":24999.0,\n",
    "    \"Acer\":12012.03,\n",
    "    \"Lenovo\":17299.0,\n",
    "    \"Dell\":15524.87,\n",
    "}\n",
    "\n",
    "copy = laptops.copy() # siempre es recomendable\n",
    "\n",
    "print(copy)\n",
    "copy[\"HP\"] = 9999.0\n",
    "print(copy)\n",
    "print(laptops)"
   ]
  },
  {
   "cell_type": "markdown",
   "id": "259ae20f",
   "metadata": {},
   "source": [
    "## Obteniendo las keys/llaves y values/valores por separado"
   ]
  },
  {
   "cell_type": "markdown",
   "id": "b9ad54e9",
   "metadata": {},
   "source": [
    "### keys"
   ]
  },
  {
   "cell_type": "code",
   "execution_count": 25,
   "id": "328f47b5",
   "metadata": {},
   "outputs": [],
   "source": [
    "Laptops = {\n",
    "    \"HP\":11999.0,\n",
    "    \"Apple\":24999.0,\n",
    "    \"Acer\":12012.03,\n",
    "    \"Lenovo\":17299.0,\n",
    "    \"Dell\":15524.87,\n",
    "}"
   ]
  },
  {
   "cell_type": "code",
   "execution_count": 26,
   "id": "bd914bde",
   "metadata": {},
   "outputs": [
    {
     "name": "stdout",
     "output_type": "stream",
     "text": [
      "dict_keys(['HP', 'Apple', 'Acer', 'Lenovo', 'Dell'])\n"
     ]
    }
   ],
   "source": [
    "print(laptops.keys())"
   ]
  },
  {
   "cell_type": "code",
   "execution_count": 27,
   "id": "d7cd099f",
   "metadata": {},
   "outputs": [
    {
     "name": "stdout",
     "output_type": "stream",
     "text": [
      "Para la llave 'HP' el valor es 11999.0\n",
      "Para la llave 'Apple' el valor es 24999.0\n",
      "Para la llave 'Acer' el valor es 12012.03\n",
      "Para la llave 'Lenovo' el valor es 17299.0\n",
      "Para la llave 'Dell' el valor es 15524.87\n"
     ]
    }
   ],
   "source": [
    "for key in laptops.keys():\n",
    "    print(\"Para la llave '{}' el valor es {}\".format(key,laptops[key]))"
   ]
  },
  {
   "cell_type": "markdown",
   "id": "87429616",
   "metadata": {},
   "source": [
    "### Values"
   ]
  },
  {
   "cell_type": "code",
   "execution_count": 28,
   "id": "52eb4d22",
   "metadata": {},
   "outputs": [
    {
     "name": "stdout",
     "output_type": "stream",
     "text": [
      "dict_values([11999.0, 24999.0, 12012.03, 17299.0, 15524.87])\n"
     ]
    }
   ],
   "source": [
    "print(laptops.values())"
   ]
  },
  {
   "cell_type": "code",
   "execution_count": 31,
   "id": "80be34e6",
   "metadata": {},
   "outputs": [
    {
     "name": "stdout",
     "output_type": "stream",
     "text": [
      "el valor es 11999.0\n",
      "el valor es 24999.0\n",
      "el valor es 12012.03\n",
      "el valor es 17299.0\n",
      "el valor es 15524.87\n"
     ]
    }
   ],
   "source": [
    "for value in laptops.values():\n",
    "    print(\"el valor es {}\".format(value))"
   ]
  },
  {
   "cell_type": "code",
   "execution_count": 35,
   "id": "7b329b13",
   "metadata": {},
   "outputs": [
    {
     "name": "stdout",
     "output_type": "stream",
     "text": [
      "Para la llave 'HP' el valor es 11999.0\n",
      "Para la llave 'Apple' el valor es 24999.0\n",
      "Para la llave 'Acer' el valor es 12012.03\n",
      "Para la llave 'Lenovo' el valor es 17299.0\n",
      "Para la llave 'Dell' el valor es 15524.87\n"
     ]
    }
   ],
   "source": [
    "def get_key(d, val):\n",
    "    keys = [k for k, v in d.items() if v == val]\n",
    "    if keys:\n",
    "        return keys[0]\n",
    "    return None\n",
    "\n",
    "for value in laptops.values():\n",
    "    print(\"Para la llave '{}' el valor es {}\".format(get_key(laptops, value),value))"
   ]
  },
  {
   "cell_type": "markdown",
   "id": "a20f0d92",
   "metadata": {},
   "source": [
    "# Obteniendo las keys y values al mismo tiempo"
   ]
  },
  {
   "cell_type": "code",
   "execution_count": 15,
   "id": "fe0a7adb",
   "metadata": {},
   "outputs": [
    {
     "name": "stdout",
     "output_type": "stream",
     "text": [
      "Para la llave 'HP' el valor es 11999.0\n",
      "Para la llave 'Apple' el valor es 24999.0\n",
      "Para la llave 'Acer' el valor es 12012.03\n",
      "Para la llave 'Lenovo' el valor es 17299.0\n",
      "Para la llave 'Dell' el valor es 15524.87\n"
     ]
    }
   ],
   "source": [
    "for key, value in laptops.items():\n",
    "    print(\"Para la llave '{}' el valor es {}\".format(key, value))"
   ]
  },
  {
   "cell_type": "markdown",
   "id": "3044d440",
   "metadata": {},
   "source": [
    "## Métodos para manipulación de diccionarios"
   ]
  },
  {
   "cell_type": "markdown",
   "id": "bb943652",
   "metadata": {},
   "source": [
    "### clear\n",
    "eliminar los elementos del diccionario"
   ]
  },
  {
   "cell_type": "code",
   "execution_count": 2,
   "id": "b6f49234",
   "metadata": {},
   "outputs": [
    {
     "name": "stdout",
     "output_type": "stream",
     "text": [
      "{'HP': 11999.0, 'Apple': 24999.0, 'Acer': 12012.03, 'Lenovo': 17299.0, 'Dell': 15524.87}\n",
      "<class 'dict'>\n",
      "5 \n",
      "\n",
      "{}\n",
      "<class 'dict'>\n",
      "0 \n",
      "\n"
     ]
    }
   ],
   "source": [
    "laptops = {\n",
    "    \"HP\":11999.0,\n",
    "    \"Apple\":24999.0,\n",
    "    \"Acer\":12012.03,\n",
    "    \"Lenovo\":17299.0,\n",
    "    \"Dell\":15524.87,\n",
    "}\n",
    "\n",
    "print(laptops)\n",
    "print(type(laptops))\n",
    "print(len(laptops),\"\\n\")\n",
    "\n",
    "laptops.clear()\n",
    "print(laptops)\n",
    "print(type(laptops))\n",
    "print(len(laptops),\"\\n\")"
   ]
  },
  {
   "cell_type": "markdown",
   "id": "98bfa0ed",
   "metadata": {},
   "source": [
    "## copy\n",
    "Sirve para hacer una copia del diccionario"
   ]
  },
  {
   "cell_type": "code",
   "execution_count": 4,
   "id": "b6583cc3",
   "metadata": {},
   "outputs": [
    {
     "name": "stdout",
     "output_type": "stream",
     "text": [
      "{'HP': 11999.0, 'Apple': 24999.0, 'Acer': 12012.03, 'Lenovo': 17299.0, 'Dell': 15524.87}\n",
      "<class 'dict'>\n",
      "5 \n",
      "\n",
      "{'HP': 11999.0, 'Apple': 24999.0, 'Acer': 12012.03, 'Lenovo': 17299.0, 'Dell': 15524.87}\n",
      "<class 'dict'>\n",
      "5 \n",
      "\n",
      "{'HP': 11999.0, 'Apple': 24999.0, 'Acer': 12012.03, 'Lenovo': 17299.0, 'Dell': 15524.87}\n",
      "<class 'dict'>\n",
      "5 \n",
      "\n",
      "{}\n",
      "<class 'dict'>\n",
      "0 \n",
      "\n"
     ]
    }
   ],
   "source": [
    "laptops = {\n",
    "    \"HP\":11999.0,\n",
    "    \"Apple\":24999.0,\n",
    "    \"Acer\":12012.03,\n",
    "    \"Lenovo\":17299.0,\n",
    "    \"Dell\":15524.87,\n",
    "}\n",
    "\n",
    "print(laptops)\n",
    "print(type(laptops))\n",
    "print(len(laptops),\"\\n\")\n",
    "\n",
    "copy = laptops.copy()\n",
    "\n",
    "print(copy)\n",
    "print(type(copy))\n",
    "print(len(copy),\"\\n\")\n",
    "\n",
    "\n",
    "copy.clear()\n",
    "\n",
    "print(laptops)\n",
    "print(type(laptops))\n",
    "print(len(laptops),\"\\n\")\n",
    "\n",
    "print(copy)\n",
    "print(type(copy))\n",
    "print(len(copy),\"\\n\")"
   ]
  },
  {
   "cell_type": "markdown",
   "id": "36d7886e",
   "metadata": {},
   "source": [
    "### fromkeys\n",
    "Construir un nuevo diccionario tomando como referencia las keys/llaves en un diccionario"
   ]
  },
  {
   "cell_type": "code",
   "execution_count": 5,
   "id": "487bf8c5",
   "metadata": {},
   "outputs": [
    {
     "name": "stdout",
     "output_type": "stream",
     "text": [
      "{'HP': 'Marca de Laptop', 'Apple': 'Marca de Laptop', 'Acer': 'Marca de Laptop', 'Lenovo': 'Marca de Laptop', 'Dell': 'Marca de Laptop'}\n"
     ]
    }
   ],
   "source": [
    "laptops = {\n",
    "    \"HP\":11999.0,\n",
    "    \"Apple\":24999.0,\n",
    "    \"Acer\":12012.03,\n",
    "    \"Lenovo\":17299.0,\n",
    "    \"Dell\":15524.87,\n",
    "}\n",
    "\n",
    "category = \"Marca de Laptop\"\n",
    "new_dict = dict.fromkeys(laptops, category)\n",
    "print(new_dict)"
   ]
  },
  {
   "cell_type": "markdown",
   "id": "34a5508f",
   "metadata": {},
   "source": [
    "### get\n",
    "Obtener el valor de un diccionario de forma segura y con la opción de configurar un valor por default"
   ]
  },
  {
   "cell_type": "code",
   "execution_count": 7,
   "id": "3a101ecf",
   "metadata": {},
   "outputs": [
    {
     "name": "stdout",
     "output_type": "stream",
     "text": [
      "17299.0\n",
      "17299.0\n"
     ]
    }
   ],
   "source": [
    "laptops = {\n",
    "    \"HP\":11999.0,\n",
    "    \"Apple\":24999.0,\n",
    "    \"Acer\":12012.03,\n",
    "    \"Lenovo\":17299.0,\n",
    "    \"Dell\":15524.87,\n",
    "}\n",
    "\n",
    "print(laptops[\"Lenovo\"])\n",
    "print(laptops.get(\"Lenovo\"))"
   ]
  },
  {
   "cell_type": "code",
   "execution_count": 11,
   "id": "17449e5c",
   "metadata": {},
   "outputs": [
    {
     "ename": "KeyError",
     "evalue": "'Asus'",
     "output_type": "error",
     "traceback": [
      "\u001b[1;31m---------------------------------------------------------------------------\u001b[0m",
      "\u001b[1;31mKeyError\u001b[0m                                  Traceback (most recent call last)",
      "Cell \u001b[1;32mIn[11], line 2\u001b[0m\n\u001b[0;32m      1\u001b[0m \u001b[38;5;66;03m# Forma insegura de obtener un valor\u001b[39;00m\n\u001b[1;32m----> 2\u001b[0m \u001b[38;5;28mprint\u001b[39m(laptops[\u001b[38;5;124m\"\u001b[39m\u001b[38;5;124mAsus\u001b[39m\u001b[38;5;124m\"\u001b[39m])\n",
      "\u001b[1;31mKeyError\u001b[0m: 'Asus'"
     ]
    }
   ],
   "source": [
    "# Forma insegura de obtener un valor\n",
    "print(laptops[\"Asus\"])"
   ]
  },
  {
   "cell_type": "code",
   "execution_count": 12,
   "id": "75ee926d",
   "metadata": {},
   "outputs": [
    {
     "name": "stdout",
     "output_type": "stream",
     "text": [
      "None\n"
     ]
    }
   ],
   "source": [
    "# Forma segura de obtener un valor\n",
    "print(laptops.get(\"Asus\"))"
   ]
  },
  {
   "cell_type": "code",
   "execution_count": 13,
   "id": "e546a816",
   "metadata": {},
   "outputs": [
    {
     "name": "stdout",
     "output_type": "stream",
     "text": [
      "0\n",
      "No Disponible\n"
     ]
    }
   ],
   "source": [
    "# Forma segura de obtener un valor y configurando valor or default\n",
    "print(laptops.get(\"Asus\",0))\n",
    "print(laptops.get(\"Asus\",\"No Disponible\"))"
   ]
  },
  {
   "cell_type": "code",
   "execution_count": 14,
   "id": "e695c0dd",
   "metadata": {},
   "outputs": [
    {
     "name": "stdout",
     "output_type": "stream",
     "text": [
      "17299.0\n",
      "17299.0\n"
     ]
    }
   ],
   "source": [
    "# Forma segura de obtener un valor y configurando valor or default\n",
    "print(laptops.get(\"Lenovo\",0))\n",
    "print(laptops.get(\"Lenovo\",\"No Disponible\"))"
   ]
  },
  {
   "cell_type": "markdown",
   "id": "5edeb755",
   "metadata": {},
   "source": [
    "### items\n",
    "Obtener cada llave y valor en el diccionario de forma simultanea"
   ]
  },
  {
   "cell_type": "code",
   "execution_count": 16,
   "id": "083edc1f",
   "metadata": {},
   "outputs": [
    {
     "name": "stdout",
     "output_type": "stream",
     "text": [
      "Para la llave 'HP' el valor es 11999.0\n",
      "Para la llave 'Apple' el valor es 24999.0\n",
      "Para la llave 'Acer' el valor es 12012.03\n",
      "Para la llave 'Lenovo' el valor es 17299.0\n",
      "Para la llave 'Dell' el valor es 15524.87\n"
     ]
    }
   ],
   "source": [
    "laptops = {\n",
    "    \"HP\":11999.0,\n",
    "    \"Apple\":24999.0,\n",
    "    \"Acer\":12012.03,\n",
    "    \"Lenovo\":17299.0,\n",
    "    \"Dell\":15524.87,\n",
    "}\n",
    "\n",
    "for key, value in laptops.items():\n",
    "    print(\"Para la llave '{}' el valor es {}\".format(key, value))"
   ]
  },
  {
   "cell_type": "markdown",
   "id": "4056d2e2",
   "metadata": {},
   "source": [
    "### keys\n",
    "Obtener las llaves de un diccionario"
   ]
  },
  {
   "cell_type": "code",
   "execution_count": 18,
   "id": "499d0451",
   "metadata": {},
   "outputs": [
    {
     "name": "stdout",
     "output_type": "stream",
     "text": [
      "Una llave del diccionario es 'HP'\n",
      "Una llave del diccionario es 'Apple'\n",
      "Una llave del diccionario es 'Acer'\n",
      "Una llave del diccionario es 'Lenovo'\n",
      "Una llave del diccionario es 'Dell'\n"
     ]
    }
   ],
   "source": [
    "laptops = {\n",
    "    \"HP\":11999.0,\n",
    "    \"Apple\":24999.0,\n",
    "    \"Acer\":12012.03,\n",
    "    \"Lenovo\":17299.0,\n",
    "    \"Dell\":15524.87,\n",
    "}\n",
    "\n",
    "for key in laptops.keys():\n",
    "    print(\"Una llave del diccionario es '{}'\".format(key))"
   ]
  },
  {
   "cell_type": "markdown",
   "id": "a77595a3",
   "metadata": {},
   "source": [
    "### values\n",
    "Obtener los valores de un diccionario"
   ]
  },
  {
   "cell_type": "code",
   "execution_count": 19,
   "id": "4f3846f0",
   "metadata": {},
   "outputs": [
    {
     "name": "stdout",
     "output_type": "stream",
     "text": [
      "Un valor del diccionario es '11999.0'\n",
      "Un valor del diccionario es '24999.0'\n",
      "Un valor del diccionario es '12012.03'\n",
      "Un valor del diccionario es '17299.0'\n",
      "Un valor del diccionario es '15524.87'\n"
     ]
    }
   ],
   "source": [
    "laptops = {\n",
    "    \"HP\":11999.0,\n",
    "    \"Apple\":24999.0,\n",
    "    \"Acer\":12012.03,\n",
    "    \"Lenovo\":17299.0,\n",
    "    \"Dell\":15524.87,\n",
    "}\n",
    "\n",
    "for value in laptops.values():\n",
    "    print(\"Un valor del diccionario es '{}'\".format(value))"
   ]
  },
  {
   "cell_type": "markdown",
   "id": "0891019b",
   "metadata": {},
   "source": [
    "### pop\n",
    "Elimina la llave y valor de un diccionario pasando la llave como parámetro"
   ]
  },
  {
   "cell_type": "code",
   "execution_count": 20,
   "id": "08e7fad7",
   "metadata": {},
   "outputs": [
    {
     "name": "stdout",
     "output_type": "stream",
     "text": [
      "{'HP': 11999.0, 'Apple': 24999.0, 'Acer': 12012.03, 'Lenovo': 17299.0, 'Dell': 15524.87}\n",
      "5\n",
      "{'HP': 11999.0, 'Apple': 24999.0, 'Acer': 12012.03, 'Dell': 15524.87}\n",
      "4\n"
     ]
    }
   ],
   "source": [
    "laptops = {\n",
    "    \"HP\":11999.0,\n",
    "    \"Apple\":24999.0,\n",
    "    \"Acer\":12012.03,\n",
    "    \"Lenovo\":17299.0,\n",
    "    \"Dell\":15524.87,\n",
    "}\n",
    "\n",
    "print(laptops)\n",
    "print(len(laptops))\n",
    "\n",
    "laptops.pop(\"Lenovo\")\n",
    "print(laptops)\n",
    "print(len(laptops))"
   ]
  },
  {
   "cell_type": "code",
   "execution_count": 22,
   "id": "2e678627",
   "metadata": {},
   "outputs": [
    {
     "ename": "KeyError",
     "evalue": "'Asus'",
     "output_type": "error",
     "traceback": [
      "\u001b[1;31m---------------------------------------------------------------------------\u001b[0m",
      "\u001b[1;31mKeyError\u001b[0m                                  Traceback (most recent call last)",
      "Cell \u001b[1;32mIn[22], line 1\u001b[0m\n\u001b[1;32m----> 1\u001b[0m laptops\u001b[38;5;241m.\u001b[39mpop(\u001b[38;5;124m\"\u001b[39m\u001b[38;5;124mAsus\u001b[39m\u001b[38;5;124m\"\u001b[39m)\n\u001b[0;32m      2\u001b[0m \u001b[38;5;28mprint\u001b[39m(laptops)\n\u001b[0;32m      3\u001b[0m \u001b[38;5;28mprint\u001b[39m(\u001b[38;5;28mlen\u001b[39m(laptops))\n",
      "\u001b[1;31mKeyError\u001b[0m: 'Asus'"
     ]
    }
   ],
   "source": [
    "laptops.pop(\"Asus\")\n",
    "print(laptops)\n",
    "print(len(laptops))"
   ]
  },
  {
   "cell_type": "code",
   "execution_count": 23,
   "id": "28216310",
   "metadata": {},
   "outputs": [
    {
     "name": "stdout",
     "output_type": "stream",
     "text": [
      "{'HP': 11999.0, 'Apple': 24999.0, 'Acer': 12012.03, 'Dell': 15524.87}\n",
      "4\n",
      "La llave Asus no está en el diccionario\n"
     ]
    }
   ],
   "source": [
    "print(laptops)\n",
    "print(len(laptops))\n",
    "\n",
    "if \"Asus\" in laptops.keys():\n",
    "    laptops.pop(\"Asus\")\n",
    "    print(laptops)\n",
    "    print(len(laptops))\n",
    "else:\n",
    "    print(\"La llave Asus no está en el diccionario\")"
   ]
  },
  {
   "cell_type": "markdown",
   "id": "f1a30a5d",
   "metadata": {},
   "source": [
    "### popitem\n",
    "Elimina el índice -1 (el último elemento llave-valor)"
   ]
  },
  {
   "cell_type": "code",
   "execution_count": 26,
   "id": "cfab401f",
   "metadata": {
    "scrolled": true
   },
   "outputs": [
    {
     "name": "stdout",
     "output_type": "stream",
     "text": [
      "{'HP': 11999.0, 'Apple': 24999.0, 'Acer': 12012.03, 'Lenovo': 17299.0, 'Dell': 15524.87}\n",
      "5 \n",
      "\n",
      "{'HP': 11999.0, 'Apple': 24999.0, 'Acer': 12012.03, 'Lenovo': 17299.0}\n",
      "4 \n",
      "\n",
      "{'HP': 11999.0, 'Apple': 24999.0, 'Acer': 12012.03}\n",
      "3 \n",
      "\n",
      "{'HP': 11999.0, 'Apple': 24999.0}\n",
      "2 \n",
      "\n"
     ]
    }
   ],
   "source": [
    "laptops = {\n",
    "    \"HP\":11999.0,\n",
    "    \"Apple\":24999.0,\n",
    "    \"Acer\":12012.03,\n",
    "    \"Lenovo\":17299.0,\n",
    "    \"Dell\":15524.87,\n",
    "}\n",
    "\n",
    "print(laptops)\n",
    "print(len(laptops),\"\\n\")\n",
    "\n",
    "laptops.popitem() # el índice -1 (el último elemento llave-valor)\n",
    "print(laptops)\n",
    "print(len(laptops),\"\\n\")\n",
    "\n",
    "laptops.popitem() # el índice -1 (el último elemento llave-valor)\n",
    "print(laptops)\n",
    "print(len(laptops),\"\\n\")\n",
    "\n",
    "laptops.popitem() # el índice -1 (el último elemento llave-valor)\n",
    "print(laptops)\n",
    "print(len(laptops),\"\\n\")"
   ]
  },
  {
   "cell_type": "markdown",
   "id": "2b8503a4",
   "metadata": {},
   "source": [
    "### setdefault\n",
    "Configura un valor por default para cierta llave en caso de que no esté presente en el diccionario\n",
    "\n",
    "Si la llave está presente, no tendrá ningún efecto. Pero si la llave no está, entonces configurará el valor para esa llave"
   ]
  },
  {
   "cell_type": "code",
   "execution_count": 27,
   "id": "84a023af",
   "metadata": {},
   "outputs": [
    {
     "name": "stdout",
     "output_type": "stream",
     "text": [
      "11999.0\n",
      "10000.0\n"
     ]
    }
   ],
   "source": [
    "laptops_store_1 = {\n",
    "    \"HP\":11999.0,\n",
    "    \"Apple\":24999.0,\n",
    "    \"Acer\":12012.03,\n",
    "    \"Lenovo\":17299.0,\n",
    "    \"Dell\":15524.87,\n",
    "}\n",
    "\n",
    "laptops_store_2 = {\n",
    "    \"Apple\":24999.0,\n",
    "    \"Acer\":12012.03,\n",
    "    \"Lenovo\":17299.0,\n",
    "    \"Dell\":15524.87,\n",
    "}\n",
    "\n",
    "laptops_store_1.setdefault(\"HP\",10000.0)\n",
    "laptops_store_2.setdefault(\"HP\",10000.0)\n",
    "\n",
    "print(laptops_store_1.get(\"HP\"))\n",
    "print(laptops_store_2.get(\"HP\"))"
   ]
  },
  {
   "cell_type": "code",
   "execution_count": 28,
   "id": "304b30c1",
   "metadata": {},
   "outputs": [
    {
     "name": "stdout",
     "output_type": "stream",
     "text": [
      "Collecting pokebase\n",
      "  Downloading pokebase-1.3.0-py3-none-any.whl (11 kB)\n",
      "Requirement already satisfied: requests in c:\\users\\samig\\anaconda3\\lib\\site-packages (from pokebase) (2.31.0)\n",
      "Requirement already satisfied: charset-normalizer<4,>=2 in c:\\users\\samig\\anaconda3\\lib\\site-packages (from requests->pokebase) (2.0.4)\n",
      "Requirement already satisfied: idna<4,>=2.5 in c:\\users\\samig\\anaconda3\\lib\\site-packages (from requests->pokebase) (3.4)\n",
      "Requirement already satisfied: urllib3<3,>=1.21.1 in c:\\users\\samig\\anaconda3\\lib\\site-packages (from requests->pokebase) (1.26.16)\n",
      "Requirement already satisfied: certifi>=2017.4.17 in c:\\users\\samig\\anaconda3\\lib\\site-packages (from requests->pokebase) (2023.7.22)\n",
      "Installing collected packages: pokebase\n",
      "Successfully installed pokebase-1.3.0\n"
     ]
    }
   ],
   "source": [
    "!pip install pokebase"
   ]
  },
  {
   "cell_type": "code",
   "execution_count": null,
   "id": "9ec31ef5",
   "metadata": {},
   "outputs": [],
   "source": []
  }
 ],
 "metadata": {
  "kernelspec": {
   "display_name": "Python 3 (ipykernel)",
   "language": "python",
   "name": "python3"
  },
  "language_info": {
   "codemirror_mode": {
    "name": "ipython",
    "version": 3
   },
   "file_extension": ".py",
   "mimetype": "text/x-python",
   "name": "python",
   "nbconvert_exporter": "python",
   "pygments_lexer": "ipython3",
   "version": "3.11.3"
  }
 },
 "nbformat": 4,
 "nbformat_minor": 5
}
