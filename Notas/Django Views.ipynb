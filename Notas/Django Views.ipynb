{
 "cells": [
  {
   "cell_type": "markdown",
   "id": "1206b69d",
   "metadata": {},
   "source": [
    "## Creando una Vista hardcodeada"
   ]
  },
  {
   "cell_type": "markdown",
   "id": "12edf1d1",
   "metadata": {},
   "source": [
    "Views - vistas\n",
    "- Vistas basadas en funciones\n",
    "- Vistas basadas en clases"
   ]
  },
  {
   "cell_type": "markdown",
   "id": "d419f06b",
   "metadata": {},
   "source": [
    "### Cómo crear una aplicación en Django"
   ]
  },
  {
   "cell_type": "markdown",
   "id": "aa5f62b6",
   "metadata": {},
   "source": [
    "python manage.py startapp <nombre_de_la_app>\n",
    "\n",
    "python manage.py startapp ecommerce"
   ]
  },
  {
   "cell_type": "markdown",
   "id": "c397d07c",
   "metadata": {},
   "source": [
    "- funciones - nombrarlas con minúsculas\n",
    "- clases - nombrarlas comenzando con mayúsculas"
   ]
  },
  {
   "cell_type": "markdown",
   "id": "994604fd",
   "metadata": {},
   "source": [
    "### ecommerce / views.py"
   ]
  },
  {
   "cell_type": "code",
   "execution_count": null,
   "id": "30c70793",
   "metadata": {},
   "outputs": [],
   "source": [
    "from django.shortcuts import render\n",
    "from django.http import HttpResponse\n",
    "\n",
    "# Create your views here.\n",
    "def home(request):\n",
    "    return HttpResponse(\"<h1>Hola Mundo</h1>\")"
   ]
  },
  {
   "cell_type": "markdown",
   "id": "117d8b4d",
   "metadata": {},
   "source": [
    "### ecommerce / urls.py"
   ]
  },
  {
   "cell_type": "code",
   "execution_count": null,
   "id": "0101d44f",
   "metadata": {},
   "outputs": [],
   "source": [
    "from django.urls import path\n",
    "\n",
    "from ecommerce import views\n",
    "\n",
    "urlpatterns = [\n",
    "    path(\"\", views.home, name=\"home\"),\n",
    "]"
   ]
  },
  {
   "cell_type": "markdown",
   "id": "e1a5959f",
   "metadata": {},
   "source": [
    "### config / urls.py"
   ]
  },
  {
   "cell_type": "code",
   "execution_count": null,
   "id": "ee3a416c",
   "metadata": {},
   "outputs": [],
   "source": [
    "from django.contrib import admin\n",
    "from django.urls import include\n",
    "from django.urls import path\n",
    "\n",
    "urlpatterns = [\n",
    "    path(\"up/\", include(\"up.urls\")),\n",
    "    path(\"\", include(\"pages.urls\")),\n",
    "    path(\"ecommerce/\", include(\"ecommerce.urls\")), #<-------------------------- Lo que se agregó Django views\n",
    "    path(\"admin/\", admin.site.urls),\n",
    "    path(\"__debug__/\", include(\"debug_toolbar.urls\")),\n",
    "]"
   ]
  },
  {
   "cell_type": "markdown",
   "id": "96577327",
   "metadata": {},
   "source": [
    "## Respuesta http y redireccionamiento"
   ]
  },
  {
   "cell_type": "markdown",
   "id": "c2110d0f",
   "metadata": {},
   "source": [
    "middlewares: procesos intermedios entre un request y un response"
   ]
  },
  {
   "cell_type": "code",
   "execution_count": null,
   "id": "438de394",
   "metadata": {},
   "outputs": [],
   "source": [
    "# Create your views here.\n",
    "def home(request):\n",
    "    html = \"\"\"\n",
    "    <!DOCKTYPE html>\n",
    "    <html>\n",
    "        <head>\n",
    "            <style>\n",
    "                h1 {color: blue}\n",
    "            </style>\n",
    "        </head>\n",
    "\n",
    "        <body>\n",
    "            <h1>Hola Mundo</h1>\n",
    "        </body>\n",
    "    </html>\n",
    "    \"\"\"\n",
    "    return HttpResponse(html)\n",
    "\n",
    "# def home(request):\n",
    "#     response = HttpResponse()\n",
    "#     response.write(\"<p>Página no encontrada</p>\")\n",
    "#     response.status_code = 404\n",
    "#     return response\n",
    "\n",
    "def redirect_to_test(request):\n",
    "    return HttpResponseRedirect(\"/ecommerce/\")"
   ]
  },
  {
   "cell_type": "markdown",
   "id": "d3bdc60d",
   "metadata": {},
   "source": [
    "### CRUD y Vistas"
   ]
  },
  {
   "cell_type": "markdown",
   "id": "237afcb6",
   "metadata": {},
   "source": [
    "Forma dinámica de usar las vistas\n",
    "\n",
    "CRUD - Create, Retrieve, Update, Delete\n",
    "(Crear, Consultar, Actualizar, Eliminar)\n",
    "\n",
    "- Crear modelos\n",
    "- Agregar la app a INSTALLED_APPS\n",
    "- Crear y aplicar migraciones\n",
    "- Agregar admin"
   ]
  },
  {
   "cell_type": "markdown",
   "id": "e0718187",
   "metadata": {},
   "source": [
    "### models.py"
   ]
  },
  {
   "cell_type": "code",
   "execution_count": null,
   "id": "ade617fe",
   "metadata": {},
   "outputs": [],
   "source": [
    "from django.db import models\n",
    "\n",
    "# Create your models here.\n",
    "class ProductModel(models.Model):\n",
    "    title = models.TextField()\n",
    "    price = models.FloatField()"
   ]
  },
  {
   "cell_type": "markdown",
   "id": "616e63c8",
   "metadata": {},
   "source": [
    "### config/settings.py"
   ]
  },
  {
   "cell_type": "code",
   "execution_count": null,
   "id": "dd971763",
   "metadata": {},
   "outputs": [],
   "source": [
    "...\n",
    "# Application definitions\n",
    "INSTALLED_APPS = [\n",
    "    \"pages.apps.PagesConfig\",\n",
    "    \"ecommerce.apps.EcommerceConfig\", #<------------------\n",
    "    \"debug_toolbar\",\n",
    "    \"django.contrib.admin\",\n",
    "    \"django.contrib.auth\",\n",
    "    \"django.contrib.contenttypes\",\n",
    "    \"django.contrib.sessions\",\n",
    "    \"django.contrib.messages\",\n",
    "    \"django.contrib.staticfiles\",\n",
    "]\n",
    "\n",
    "..."
   ]
  },
  {
   "cell_type": "markdown",
   "id": "64a94f44",
   "metadata": {},
   "source": [
    "## Cómo correr migraciones\n",
    "\n",
    "- python manage.py makemigrations\n",
    "- python manage.py migrate"
   ]
  },
  {
   "cell_type": "markdown",
   "id": "8e8be80c",
   "metadata": {},
   "source": [
    "## Cómo registrar modelos en el admin"
   ]
  },
  {
   "cell_type": "code",
   "execution_count": null,
   "id": "4d1ab12b",
   "metadata": {},
   "outputs": [],
   "source": [
    "from django.contrib import admin\n",
    "\n",
    "from .models import ProductModel\n",
    "\n",
    "# Register your models here.\n",
    "admin.site.register(ProductModel)"
   ]
  },
  {
   "cell_type": "markdown",
   "id": "83739a80",
   "metadata": {},
   "source": [
    "## Cómo crear un superuser para el admin\n",
    "- python manage.py createsuperuser\n",
    "- Password: samuel1998"
   ]
  },
  {
   "cell_type": "markdown",
   "id": "a246f104",
   "metadata": {},
   "source": [
    "## Tipos básicos de Vistas\n",
    "- List View - donde ves los usuarios creados\n",
    "- Create View - donde puedes insertar los datos para crear un usuario\n",
    "- Retrieve and Update view - si le doy click an un usuario creado y lo modifico\n",
    "- Delete view - Botón rojo para eliminar y confirmar"
   ]
  },
  {
   "cell_type": "markdown",
   "id": "60194b03",
   "metadata": {},
   "source": [
    "## ecommerce/views.py"
   ]
  },
  {
   "cell_type": "code",
   "execution_count": null,
   "id": "f64660b1",
   "metadata": {},
   "outputs": [],
   "source": [
    "from django.shortcuts import render\n",
    "from django.http import HttpResponse, HttpResponseRedirect\n",
    "\n",
    "from .models import ProductModel\n",
    "\n",
    "# Create your views here.\n",
    "def product_model_list_view(request):\n",
    "    queryset = ProductModel.objects.all()\n",
    "    print(queryset)\n",
    "    return HttpResponse (\"Un ecommerce personalizado\")"
   ]
  },
  {
   "cell_type": "markdown",
   "id": "fb67ee18",
   "metadata": {},
   "source": [
    "## Usando Templates"
   ]
  },
  {
   "cell_type": "markdown",
   "id": "6eb3ac23",
   "metadata": {},
   "source": [
    "### ecommerce/views.py"
   ]
  },
  {
   "cell_type": "code",
   "execution_count": null,
   "id": "49d448b9",
   "metadata": {},
   "outputs": [],
   "source": [
    "from django.shortcuts import render\n",
    "from django.http import HttpResponse, HttpResponseRedirect\n",
    "\n",
    "from .models import ProductModel\n",
    "\n",
    "# Create your views here.\n",
    "def product_model_list_view(request):\n",
    "    queryset = ProductModel.objects.all()\n",
    "    print(queryset)\n",
    "    template = \"ecommerce/list-view.html\"\n",
    "    context = {}\n",
    "    return render(request, template, context)"
   ]
  },
  {
   "cell_type": "markdown",
   "id": "db51b563",
   "metadata": {},
   "source": [
    "### templates/ecommerce/list-view.html"
   ]
  },
  {
   "cell_type": "code",
   "execution_count": null,
   "id": "6defd68b",
   "metadata": {},
   "outputs": [],
   "source": [
    "<h1>\n",
    "Vista de Listado\n",
    "</h1>"
   ]
  },
  {
   "cell_type": "markdown",
   "id": "24131610",
   "metadata": {},
   "source": [
    "## Usando el contexto"
   ]
  },
  {
   "cell_type": "markdown",
   "id": "06de08d2",
   "metadata": {},
   "source": [
    "### ecommerce/views.py"
   ]
  },
  {
   "cell_type": "code",
   "execution_count": null,
   "id": "251ca678",
   "metadata": {},
   "outputs": [],
   "source": [
    "from django.shortcuts import render\n",
    "from django.http import HttpResponse, HttpResponseRedirect\n",
    "\n",
    "from .models import ProductModel\n",
    "\n",
    "# Create your views here.\n",
    "def product_model_list_view(request):\n",
    "    queryset = ProductModel.objects.all()\n",
    "    print(queryset)\n",
    "    template = \"ecommerce/list-view.html\"\n",
    "    context = {\n",
    "        \"products\": queryset #<---------\n",
    "    }\n",
    "    return render(request, template, context)"
   ]
  },
  {
   "cell_type": "markdown",
   "id": "0bbecf12",
   "metadata": {},
   "source": [
    "### templates/ecommerce/list-view.html"
   ]
  },
  {
   "cell_type": "code",
   "execution_count": null,
   "id": "eddd603b",
   "metadata": {},
   "outputs": [],
   "source": [
    "<h1>\n",
    "Vista de Listado\n",
    "</h1>\n",
    "\n",
    "{% for product in products %}\n",
    "    <li>\n",
    "        {{product.title}} {{product.price}}\n",
    "    </li>\n",
    "{% endfor %}"
   ]
  },
  {
   "cell_type": "markdown",
   "id": "ae472cbf",
   "metadata": {},
   "source": [
    "## Protegiendo los endpoints"
   ]
  },
  {
   "cell_type": "code",
   "execution_count": null,
   "id": "c6e27c91",
   "metadata": {},
   "outputs": [],
   "source": [
    "from django.contrib.auth.decorators import login_required\n",
    "from django.shortcuts import render\n",
    "from django.http import HttpResponse, HttpResponseRedirect\n",
    "\n",
    "from .models import ProductModel\n",
    "\n",
    "# Create your views here.\n",
    "# @login_required\n",
    "def product_model_list_view(request):\n",
    "    print(request.user)\n",
    "    queryset = ProductModel.objects.all()\n",
    "    template = \"ecommerce/list-view.html\"\n",
    "    context = {\n",
    "        \"products\": queryset #<---------\n",
    "    }\n",
    "    \n",
    "    if request.user.is_authenticated:\n",
    "        template = \"ecommerce/list-view.html\"\n",
    "    else:\n",
    "        template = \"ecommerce/list-view-public.html\"\n",
    "\n",
    "    return render(request, template, context)\n",
    "\n",
    "@login_required\n",
    "def login_required_view(request):\n",
    "    print(request.user)\n",
    "    queryset = ProductModel.objects.all()\n",
    "    template = \"ecommerce/list-view.html\"\n",
    "    context = {\n",
    "        \"products\": queryset #<---------\n",
    "    }\n",
    "    \n",
    "    if request.user.is_authenticated:\n",
    "        template = \"ecommerce/list-view.html\"\n",
    "    else:\n",
    "        template = \"ecommerce/list-view-public.html\"\n",
    "\n",
    "    return render(request, template, context)"
   ]
  },
  {
   "cell_type": "markdown",
   "id": "0316ea55",
   "metadata": {},
   "source": [
    "### ecommerce/list-view-public.html"
   ]
  },
  {
   "cell_type": "code",
   "execution_count": null,
   "id": "2b82f7bd",
   "metadata": {},
   "outputs": [],
   "source": [
    "<h1>\n",
    "    Un ecommerce genial, regístrate\n",
    "</h1>"
   ]
  },
  {
   "cell_type": "markdown",
   "id": "7be9ecd3",
   "metadata": {},
   "source": [
    "## Vista de Detalle"
   ]
  },
  {
   "cell_type": "markdown",
   "id": "b2d6a523",
   "metadata": {},
   "source": [
    "### ecommerce/views.py"
   ]
  },
  {
   "cell_type": "code",
   "execution_count": null,
   "id": "f08ce501",
   "metadata": {},
   "outputs": [],
   "source": [
    "from django.contrib.auth.decorators import login_required\n",
    "from django.shortcuts import render, get_object_or_404\n",
    "from django.http import HttpResponse, HttpResponseRedirect\n",
    "\n",
    "from .models import ProductModel\n",
    "\n",
    "# Create your views here.\n",
    "\n",
    "\n",
    "def product_model_detail_view(request, product_id):\n",
    "    instance = get_object_or_404(ProductModel, id=product_id)\n",
    "    context{\n",
    "        \"product\":instance\n",
    "    }\n",
    "    template = \"ecommerce/detail-view.html\"\n",
    "    return render(request, template, context)\n",
    "\n",
    "# las demás views"
   ]
  },
  {
   "cell_type": "markdown",
   "id": "33597876",
   "metadata": {},
   "source": [
    "### ecommerce/urls.py"
   ]
  },
  {
   "cell_type": "code",
   "execution_count": null,
   "id": "4bd27d7f",
   "metadata": {},
   "outputs": [],
   "source": [
    "from django.urls import path\n",
    "\n",
    "from ecommerce import views\n",
    "\n",
    "urlpatterns = [\n",
    "    path(\"\", views.product_model_list_view, name=\"list\"),\n",
    "    path(\"<int:product_id\", views.product_model_detail_view, name=\"detail\"), #<-----------\n",
    "]"
   ]
  },
  {
   "cell_type": "markdown",
   "id": "617c716e",
   "metadata": {},
   "source": [
    "### templates/ecommerce/detail-view.html"
   ]
  },
  {
   "cell_type": "code",
   "execution_count": null,
   "id": "50e7d6e3",
   "metadata": {},
   "outputs": [],
   "source": [
    "<h1>\n",
    "    {{ product.title }}\n",
    "    {{ product.price }}\n",
    "</h1>"
   ]
  },
  {
   "cell_type": "markdown",
   "id": "26c0fd2a",
   "metadata": {},
   "source": [
    "### templates/ecommerce/list-view.html"
   ]
  },
  {
   "cell_type": "code",
   "execution_count": null,
   "id": "3d8c48c2",
   "metadata": {},
   "outputs": [],
   "source": [
    "<h1>\n",
    "Vista de Listado\n",
    "</h1>\n",
    "    \n",
    "{% for product in products %}\n",
    "<li>\n",
    "    <a href=\"/ecommerce/{{ product.id }}\"> {{ product.title }}</a>\n",
    "</li>\n",
    "{% endfor %}"
   ]
  },
  {
   "cell_type": "markdown",
   "id": "2f1b9abf",
   "metadata": {},
   "source": [
    "## Vista de Creación"
   ]
  },
  {
   "cell_type": "markdown",
   "id": "732388c1",
   "metadata": {},
   "source": [
    "### ecommerce/views.py"
   ]
  },
  {
   "cell_type": "code",
   "execution_count": null,
   "id": "ce0e8e0e",
   "metadata": {},
   "outputs": [],
   "source": [
    "from django.contrib.auth.decorators import login_required\n",
    "from django.contrib import messages\n",
    "from django.shortcuts import render, get_object_or_404\n",
    "from django.http import HttpResponse, HttpResponseRedirect\n",
    "\n",
    "from .forms import ProductModelForm\n",
    "from .models import ProductModel\n",
    "\n",
    "# Create your views here.\n",
    "\n",
    "def product_model_create_view(request):\n",
    "    form = ProductModelForm(request.POST or None)\n",
    "    if form.is_valid():\n",
    "        instance = form.save(commit=False)\n",
    "        instance.save()\n",
    "        message.success(request, \"Producto creado con éxito\")\n",
    "        return HttpResponseRedirect(\"/ecommerce/{product_id}\".format(product_id=instance.id))\n",
    "    context = {\n",
    "        \"form\":form\n",
    "    }\n",
    "    template = \"ecommerce/create-view.html\"\n",
    "    return render(request, template, context)"
   ]
  },
  {
   "cell_type": "markdown",
   "id": "05ed54b8",
   "metadata": {},
   "source": [
    "### templates/ecommerce/messages.html"
   ]
  },
  {
   "cell_type": "code",
   "execution_count": null,
   "id": "dc3bd4a1",
   "metadata": {},
   "outputs": [],
   "source": [
    "{% if messages %}\n",
    "<ul class=\"messages\">\n",
    "    {% for message in messages %}\n",
    "    <li{% if message.tags %} class=\"{{ message.tags }}\"{% endif %}>{{ message }}</li>\n",
    "    {% endfor %}\n",
    "</ul>\n",
    "{% endif %}"
   ]
  },
  {
   "cell_type": "markdown",
   "id": "8e6837dd",
   "metadata": {},
   "source": [
    "### templates/ecommerce/create-view.html"
   ]
  },
  {
   "cell_type": "code",
   "execution_count": null,
   "id": "559af693",
   "metadata": {},
   "outputs": [],
   "source": [
    "{% include \"ecommerce/messages.html\" %}\n",
    "\n",
    "<h1>\n",
    "    Crear un nuevo producto\n",
    "</h1>\n",
    "\n",
    "<form method=\"POST\" action=\"\">\n",
    "    {% csrf_token %}\n",
    "    {{ form.as_p }}\n",
    "    <input type=\"submit\" value=\"Crear\">\n",
    "</form>"
   ]
  },
  {
   "cell_type": "markdown",
   "id": "6df7aa14",
   "metadata": {},
   "source": [
    "Nota: Agregar\n",
    "\n",
    "{% include \"ecommerce/messages.html\" %}\n",
    "\n",
    "en todos los templates"
   ]
  },
  {
   "cell_type": "markdown",
   "id": "1ed99b9d",
   "metadata": {},
   "source": [
    "### ecommerce/urls.py"
   ]
  },
  {
   "cell_type": "code",
   "execution_count": null,
   "id": "f8edce2a",
   "metadata": {},
   "outputs": [],
   "source": [
    "from django.urls import path\n",
    "\n",
    "from ecommerce import views\n",
    "\n",
    "urlpatterns = [\n",
    "    path(\"\", views.product_model_list_view, name=\"list\"),\n",
    "    path(\"<int:product_id>\", views.product_model_detail_view, name=\"detail\"),\n",
    "    path(\"create\", views.product_model_create_view, name=\"create\"), #<----------\n",
    "]"
   ]
  },
  {
   "cell_type": "markdown",
   "id": "8f0648d8",
   "metadata": {},
   "source": [
    "## Vista de Actualización"
   ]
  },
  {
   "cell_type": "markdown",
   "id": "c683ba72",
   "metadata": {},
   "source": [
    "### ecommerce/views.py"
   ]
  },
  {
   "cell_type": "code",
   "execution_count": null,
   "id": "48a134a0",
   "metadata": {},
   "outputs": [],
   "source": [
    "from django.contrib.auth.decorators import login_required\n",
    "from django.contrib import messages\n",
    "from django.shortcuts import render, get_object_or_404\n",
    "from django.http import HttpResponse, HttpResponseRedirect\n",
    "\n",
    "from .forms import ProductModelForm\n",
    "from .models import ProductModel\n",
    "\n",
    "# Create your views here.\n",
    "\n",
    "def product_model_update_view(request, product_id=None):\n",
    "    instance = get_object_or_404(ProductModel, id=product_id)\n",
    "    form = ProductModelForm(request.POST or None, instance=instance)\n",
    "    if form.is_valid():\n",
    "        instance = form.save(commit=False)\n",
    "        instance.save()\n",
    "        messages.success(request, \"Producto actualizado con éxito\")\n",
    "        return HttpResponseRedirect(\"/ecommerce/{product_id}\".format(product_id=instance.id))\n",
    "    context = {\n",
    "        \"form\":form\n",
    "    }\n",
    "    template = \"ecommerce/update-view.html\"\n",
    "    return render(request, template, context)"
   ]
  },
  {
   "cell_type": "markdown",
   "id": "76b5d888",
   "metadata": {},
   "source": [
    "### templates/ecommerce/update-view.html"
   ]
  },
  {
   "cell_type": "code",
   "execution_count": null,
   "id": "6eb4287d",
   "metadata": {},
   "outputs": [],
   "source": [
    "<h1>\n",
    "Actualización de producto {{ form.instance.title }}\n",
    "</h1>\n",
    "\n",
    "{{ form.instance.title }}\n",
    "\n",
    "<form method=\"POST\" action=\"\">\n",
    "    {% csrf_token %}\n",
    "    {{ form.as_p }}\n",
    "    <input type=\"submit\" value=\"Actualizar\">\n",
    "</form>"
   ]
  },
  {
   "cell_type": "markdown",
   "id": "6b9f0df7",
   "metadata": {},
   "source": [
    "### ecommerce/urls.py"
   ]
  },
  {
   "cell_type": "code",
   "execution_count": null,
   "id": "4281e4b5",
   "metadata": {},
   "outputs": [],
   "source": [
    "from django.urls import path\n",
    "\n",
    "from ecommerce import views\n",
    "\n",
    "urlpatterns = [\n",
    "    path(\"\", views.product_model_list_view, name=\"list\"),\n",
    "    path(\"<int:product_id>\", views.product_model_detail_view, name=\"detail\"),\n",
    "    path(\"create\", views.product_model_create_view, name=\"create\"),\n",
    "    path(\"<int:product_id>/edit/\", views.product_model_update_view, name=\"update\"),\n",
    "]"
   ]
  },
  {
   "cell_type": "markdown",
   "id": "cff94287",
   "metadata": {},
   "source": [
    "## Vista para eliminar"
   ]
  },
  {
   "cell_type": "markdown",
   "id": "e5c05dff",
   "metadata": {},
   "source": [
    "### ecommerce/views.py"
   ]
  },
  {
   "cell_type": "code",
   "execution_count": null,
   "id": "6dc5d68a",
   "metadata": {},
   "outputs": [],
   "source": [
    "from django.contrib.auth.decorators import login_required\n",
    "from django.contrib import messages\n",
    "from django.shortcuts import render, get_object_or_404\n",
    "from django.http import HttpResponse, HttpResponseRedirect\n",
    "\n",
    "from .forms import ProductModelForm\n",
    "from .models import ProductModel\n",
    "\n",
    "# Create your views here.\n",
    "\n",
    "def product_model_delete_view(request, product_id):\n",
    "    instance = get_object_or_404(ProductModel, id=product_id)\n",
    "    if request.method == \"POST\":\n",
    "        instance.delete()\n",
    "        HttpResponseRedirect(\"/ecommerce/\")\n",
    "        messages.success(\"Producto eliminado\")\n",
    "    context = {\n",
    "        \"product\":instance\n",
    "    }\n",
    "    template = \"ecommerce/delete-view.html\"\n",
    "    return render(request, template, context)"
   ]
  },
  {
   "cell_type": "markdown",
   "id": "f10793cd",
   "metadata": {},
   "source": [
    "### templates/ecommerce/delete-view.html"
   ]
  },
  {
   "cell_type": "code",
   "execution_count": null,
   "id": "84a300e2",
   "metadata": {},
   "outputs": [],
   "source": [
    "{% include \"ecommerce/messages.html\" %}\n",
    "\n",
    "<h1>\n",
    "Eliminar - {{ product.title }}\n",
    "</h1>\n",
    "\n",
    "<form method=\"POST\" action=\"\">\n",
    "    {% csrf_token %}\n",
    "    ¿Estás seguro que quieres eliminar el producto?\n",
    "    <input type=\"submit\" value=\"Eliminar\">\n",
    "    <a href=\"/ecommerce/{{ product.id }}\">Cancelar</a>\n",
    "</form>"
   ]
  },
  {
   "cell_type": "markdown",
   "id": "df19e4e7",
   "metadata": {},
   "source": [
    "### ecommerce/urls.py"
   ]
  },
  {
   "cell_type": "code",
   "execution_count": null,
   "id": "623f3f30",
   "metadata": {},
   "outputs": [],
   "source": [
    "from django.urls import path\n",
    "\n",
    "from ecommerce import views\n",
    "\n",
    "urlpatterns = [\n",
    "    path(\"\", views.product_model_list_view, name=\"list\"),\n",
    "    path(\"<int:product_id>\", views.product_model_detail_view, name=\"detail\"),\n",
    "    path(\"create\", views.product_model_create_view, name=\"create\"),\n",
    "    path(\"<int:product_id>/edit/\", views.product_model_update_view, name=\"update\"),\n",
    "    path(\"<int:product_id>/delete/\", views.product_model_delete_view, name=\"delete\"),\n",
    "]"
   ]
  },
  {
   "cell_type": "markdown",
   "id": "b6cecdc3",
   "metadata": {},
   "source": [
    "## Búsqueda en la Vista de Listado"
   ]
  },
  {
   "cell_type": "markdown",
   "id": "17e369af",
   "metadata": {},
   "source": [
    "### templates/ecommerce/search.html"
   ]
  },
  {
   "cell_type": "code",
   "execution_count": null,
   "id": "0aff94af",
   "metadata": {},
   "outputs": [],
   "source": [
    "<form method=\"GET\" action=\"/ecommerce/\">\n",
    "    <input type=\"text\" name=\"q\" placeholder=\"Buscar\">\n",
    "</form>"
   ]
  },
  {
   "cell_type": "markdown",
   "id": "1d869216",
   "metadata": {},
   "source": [
    "### templates/ecommerce/list-view.html"
   ]
  },
  {
   "cell_type": "code",
   "execution_count": null,
   "id": "12578008",
   "metadata": {},
   "outputs": [],
   "source": [
    "{% include \"ecommerce/search.html\" %}\n",
    "\n",
    "{% include \"ecommerce/messages.html\" %}\n",
    "\n",
    "<h1>\n",
    "Vista de Listado\n",
    "</h1>\n",
    "    \n",
    "{% for product in products %}\n",
    "<li>\n",
    "    <a href=\"/ecommerce/{{ product.id }}\"> {{ product.title }}</a>\n",
    "</li>\n",
    "{% endfor %}"
   ]
  },
  {
   "cell_type": "markdown",
   "id": "4c93e3fb",
   "metadata": {},
   "source": [
    "### ecommmerce/views.py"
   ]
  },
  {
   "cell_type": "code",
   "execution_count": null,
   "id": "faf70b7d",
   "metadata": {},
   "outputs": [],
   "source": [
    "from django.db.models import Q\n",
    "\n",
    "# @login_required\n",
    "def product_model_list_view(request):\n",
    "    query = request.GET.get(\"q\",None)\n",
    "    queryset = ProductModel.objects.all()\n",
    "    if query is not None:\n",
    "        queryset = queryset.filter(\n",
    "            Q(title__icontains=query) |\n",
    "            Q(price__icontains=query)\n",
    "        )\n",
    "    template = \"ecommerce/list-view.html\"\n",
    "    context = {\n",
    "        \"products\": queryset #<---------\n",
    "    }\n",
    "    \n",
    "    if request.user.is_authenticated:\n",
    "        template = \"ecommerce/list-view.html\"\n",
    "    else:\n",
    "        template = \"ecommerce/list-view-public.html\"\n",
    "\n",
    "    return render(request, template, context)"
   ]
  }
 ],
 "metadata": {
  "kernelspec": {
   "display_name": "Python 3 (ipykernel)",
   "language": "python",
   "name": "python3"
  },
  "language_info": {
   "codemirror_mode": {
    "name": "ipython",
    "version": 3
   },
   "file_extension": ".py",
   "mimetype": "text/x-python",
   "name": "python",
   "nbconvert_exporter": "python",
   "pygments_lexer": "ipython3",
   "version": "3.11.3"
  }
 },
 "nbformat": 4,
 "nbformat_minor": 5
}
