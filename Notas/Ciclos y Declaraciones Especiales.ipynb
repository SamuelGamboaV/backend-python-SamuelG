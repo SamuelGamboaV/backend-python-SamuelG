{
 "cells": [
  {
   "cell_type": "markdown",
   "id": "15756bda",
   "metadata": {},
   "source": [
    "# Ciclos\n",
    "- También son llamados Declaraciones iterativas\n",
    "- Son usados para repetir un bloque específico de código\n",
    "- Si vas a hacer un proceso una y otra vez, entonces puedes usar un ciclo para ello\n",
    "- Tipos\n",
    "    - For\n",
    "    - While"
   ]
  },
  {
   "cell_type": "markdown",
   "id": "3ae9cd04",
   "metadata": {},
   "source": [
    "## Ciclo For\n",
    "- Son usados para iterar los valores \"n\" número de veces\n",
    "- Podemos usar la palabra reservada 'for'\n",
    "- Puede iterar los valores de estructuras de datos como listas, tuplas, sets o diccionarios\n",
    "- También puede iterar sobre cada letra de una cadena\n",
    "- Itera una secuencia en orden mientras ejecuta un bloque de código"
   ]
  },
  {
   "cell_type": "code",
   "execution_count": 3,
   "id": "8372a09c",
   "metadata": {},
   "outputs": [
    {
     "name": "stdout",
     "output_type": "stream",
     "text": [
      "Backend Python\n",
      "<class 'str'>\n",
      "antes\n",
      "B\n",
      "después\n",
      "antes\n",
      "a\n",
      "después\n",
      "antes\n",
      "c\n",
      "después\n",
      "antes\n",
      "k\n",
      "después\n",
      "antes\n",
      "e\n",
      "después\n",
      "antes\n",
      "n\n",
      "después\n",
      "antes\n",
      "d\n",
      "después\n",
      "antes\n",
      " \n",
      "después\n",
      "antes\n",
      "P\n",
      "después\n",
      "antes\n",
      "y\n",
      "después\n",
      "antes\n",
      "t\n",
      "después\n",
      "antes\n",
      "h\n",
      "después\n",
      "antes\n",
      "o\n",
      "después\n",
      "antes\n",
      "n\n",
      "después\n"
     ]
    }
   ],
   "source": [
    "my_string = \"Backend Python\"\n",
    "print(my_string)\n",
    "print(type(my_string))\n",
    "\n",
    "for char in my_string:\n",
    "    print(\"antes\")\n",
    "    print(char)\n",
    "    print(\"después\")"
   ]
  },
  {
   "cell_type": "code",
   "execution_count": 5,
   "id": "d6e533ca",
   "metadata": {},
   "outputs": [
    {
     "name": "stdout",
     "output_type": "stream",
     "text": [
      "Backend Python\n",
      "<class 'str'>\n",
      "Ciclo for iterando con la letra:  B\n",
      "Ciclo for iterando con la letra:  a\n",
      "Ciclo for iterando con la letra:  c\n",
      "Ciclo for iterando con la letra:  k\n",
      "Ciclo for iterando con la letra:  e\n",
      "Ciclo for iterando con la letra:  n\n",
      "Ciclo for iterando con la letra:  d\n",
      "Ciclo for iterando con la letra:   \n",
      "Ciclo for iterando con la letra:  P\n",
      "Ciclo for iterando con la letra:  y\n",
      "Ciclo for iterando con la letra:  t\n",
      "Ciclo for iterando con la letra:  h\n",
      "Ciclo for iterando con la letra:  o\n",
      "Ciclo for iterando con la letra:  n\n"
     ]
    }
   ],
   "source": [
    "my_string = \"Backend Python\"\n",
    "print(my_string)\n",
    "print(type(my_string))\n",
    "\n",
    "for char in my_string:\n",
    "    print(\"Ciclo for iterando con la letra: \",char)\n",
    "   "
   ]
  },
  {
   "cell_type": "code",
   "execution_count": 8,
   "id": "b0935a52",
   "metadata": {},
   "outputs": [
    {
     "name": "stdout",
     "output_type": "stream",
     "text": [
      "[1, 2, 3, 4, 5]\n",
      "<class 'list'>\n",
      "ciclo for iterando con el número:  1\n",
      "ciclo for iterando con el número:  2\n",
      "ciclo for iterando con el número:  3\n",
      "ciclo for iterando con el número:  4\n",
      "ciclo for iterando con el número:  5\n"
     ]
    }
   ],
   "source": [
    "my_list = [1,2,3,4,5]\n",
    "print(my_list)\n",
    "print(type(my_list))\n",
    "\n",
    "for num in my_list:\n",
    "    print(\"ciclo for iterando con el número: \",num)"
   ]
  },
  {
   "cell_type": "code",
   "execution_count": 11,
   "id": "0f408355",
   "metadata": {},
   "outputs": [
    {
     "name": "stdout",
     "output_type": "stream",
     "text": [
      "ciclo for iterando con el número:  1\n",
      "ciclo for iterando con el número:  2\n",
      "ciclo for iterando con el número:  3\n",
      "ciclo for iterando con el número:  4\n",
      "ciclo for iterando con el número:  5\n"
     ]
    }
   ],
   "source": [
    "for num in range(1,6):\n",
    "    print(\"ciclo for iterando con el número: \",num)"
   ]
  },
  {
   "cell_type": "markdown",
   "id": "ef2f3e3a",
   "metadata": {},
   "source": [
    "### Números pares e impares con  Ciclo For"
   ]
  },
  {
   "cell_type": "code",
   "execution_count": 15,
   "id": "62b7f349",
   "metadata": {},
   "outputs": [
    {
     "name": "stdout",
     "output_type": "stream",
     "text": [
      "ciclo for iterando con el número:  1\n",
      "1 Es número impar\n",
      "ciclo for iterando con el número:  2\n",
      "ciclo for iterando con el número:  3\n",
      "3 Es número impar\n",
      "ciclo for iterando con el número:  4\n",
      "ciclo for iterando con el número:  5\n",
      "5 Es número impar\n",
      "ciclo for iterando con el número:  6\n",
      "ciclo for iterando con el número:  7\n",
      "7 Es número impar\n",
      "ciclo for iterando con el número:  8\n",
      "ciclo for iterando con el número:  9\n",
      "9 Es número impar\n",
      "ciclo for iterando con el número:  10\n",
      "ciclo for iterando con el número:  11\n",
      "11 Es número impar\n",
      "ciclo for iterando con el número:  12\n",
      "ciclo for iterando con el número:  13\n",
      "13 Es número impar\n",
      "ciclo for iterando con el número:  14\n",
      "ciclo for iterando con el número:  15\n",
      "15 Es número impar\n",
      "ciclo for iterando con el número:  16\n",
      "ciclo for iterando con el número:  17\n",
      "17 Es número impar\n",
      "ciclo for iterando con el número:  18\n",
      "ciclo for iterando con el número:  19\n",
      "19 Es número impar\n",
      "ciclo for iterando con el número:  20\n",
      "ciclo for iterando con el número:  21\n",
      "21 Es número impar\n",
      "ciclo for iterando con el número:  22\n",
      "ciclo for iterando con el número:  23\n",
      "23 Es número impar\n",
      "ciclo for iterando con el número:  24\n",
      "ciclo for iterando con el número:  25\n",
      "25 Es número impar\n",
      "ciclo for iterando con el número:  26\n",
      "ciclo for iterando con el número:  27\n",
      "27 Es número impar\n",
      "ciclo for iterando con el número:  28\n",
      "ciclo for iterando con el número:  29\n",
      "29 Es número impar\n"
     ]
    }
   ],
   "source": [
    "# Números impares\n",
    "for num in range(1,30):\n",
    "    print(\"ciclo for iterando con el número: \",num)\n",
    "    if num % 2 == 1:\n",
    "        print(num, \"Es número impar\")"
   ]
  },
  {
   "cell_type": "code",
   "execution_count": 16,
   "id": "7d4e4124",
   "metadata": {},
   "outputs": [
    {
     "name": "stdout",
     "output_type": "stream",
     "text": [
      "2 Es número par\n",
      "4 Es número par\n",
      "6 Es número par\n",
      "8 Es número par\n",
      "10 Es número par\n",
      "12 Es número par\n",
      "14 Es número par\n",
      "16 Es número par\n",
      "18 Es número par\n",
      "20 Es número par\n",
      "22 Es número par\n",
      "24 Es número par\n",
      "26 Es número par\n",
      "28 Es número par\n"
     ]
    }
   ],
   "source": [
    "# Números pares\n",
    "for num in range(1,30):\n",
    "    if num % 2 == 0:\n",
    "        print(num, \"Es número par\")"
   ]
  },
  {
   "cell_type": "markdown",
   "id": "018dcc16",
   "metadata": {},
   "source": [
    "## Ciclo For anidado\n",
    "- Significa un ciclo for dentro de un ciclo for\n",
    "- Es cuando tienes un ciclo dentro de otro ciclo\n",
    "- Recuerda, usamos el ciclo for para hacer una tarea cierta cantidad de veces basado en una condición\n",
    "- Ciclo principal\n",
    "    - Ciclo anidado"
   ]
  },
  {
   "cell_type": "code",
   "execution_count": 25,
   "id": "2233ffd7",
   "metadata": {},
   "outputs": [
    {
     "name": "stdout",
     "output_type": "stream",
     "text": [
      "balon pequeño\n",
      "balon grande\n",
      "balon redondo\n",
      "balon cuadrado\n",
      "balon rojo\n",
      "balon azul\n",
      "bote pequeño\n",
      "bote grande\n",
      "bote redondo\n",
      "bote cuadrado\n",
      "bote rojo\n",
      "bote azul\n",
      "celular pequeño\n",
      "celular grande\n",
      "celular redondo\n",
      "celular cuadrado\n",
      "celular rojo\n",
      "celular azul\n",
      "libro pequeño\n",
      "libro grande\n",
      "libro redondo\n",
      "libro cuadrado\n",
      "libro rojo\n",
      "libro azul\n"
     ]
    }
   ],
   "source": [
    "nouns = [\"balon\",\"bote\",\"celular\",\"libro\"]\n",
    "adjectives = [\"pequeño\",\"grande\",\"redondo\",\"cuadrado\",\"rojo\",\"azul\"]\n",
    "\n",
    "for noun in nouns:\n",
    "    # 0 -> balón\n",
    "    # 1 -> bote\n",
    "    for adjective in adjectives:\n",
    "        # 0 -> pequeño\n",
    "        # 1 -> grande\n",
    "        print(\"{} {}\".format(noun,adjective))"
   ]
  },
  {
   "cell_type": "code",
   "execution_count": 21,
   "id": "a9f5f5a4",
   "metadata": {},
   "outputs": [
    {
     "data": {
      "text/plain": [
       "'Hello, Eric. You are 74.'"
      ]
     },
     "execution_count": 21,
     "metadata": {},
     "output_type": "execute_result"
    }
   ],
   "source": [
    ">>> name = \"Eric\"\n",
    ">>> age = 74\n",
    ">>> f\"Hello, {name}. You are {age}.\""
   ]
  },
  {
   "cell_type": "markdown",
   "id": "705ba3a2",
   "metadata": {},
   "source": [
    "## Ciclo While\n",
    "- Solo se ejecuta si la condición es verdadera\n",
    "- Se puede usar para correr un proceso de manera perpetua\n",
    "- Consiste de una condición y un bloque de código\n",
    "- Valida la condición antes de que el bloque sea ejecutado"
   ]
  },
  {
   "cell_type": "code",
   "execution_count": 1,
   "id": "6fa86862",
   "metadata": {},
   "outputs": [],
   "source": [
    "my_number = 5\n",
    "while my_number < 5:\n",
    "    print(\"El valor de my_number es:\", my_number)"
   ]
  },
  {
   "cell_type": "code",
   "execution_count": 4,
   "id": "9b6221f4",
   "metadata": {},
   "outputs": [
    {
     "name": "stdout",
     "output_type": "stream",
     "text": [
      "Previo al ciclo while\n",
      "Final del ejemplo\n"
     ]
    }
   ],
   "source": [
    "my_number = 5\n",
    "print(\"Previo al ciclo while\")\n",
    "while my_number < 5:\n",
    "    print(\"Dentro del ciclo while\")\n",
    "    print(\"El valor de my_number es:\", my_number)\n",
    "print(\"Final del ejemplo\")"
   ]
  },
  {
   "cell_type": "code",
   "execution_count": 5,
   "id": "865b9a8c",
   "metadata": {},
   "outputs": [
    {
     "name": "stdout",
     "output_type": "stream",
     "text": [
      "Previo al ciclo while\n",
      "Dentro del ciclo while\n",
      "El valor de my_number es: 0\n",
      "Dentro del ciclo while\n",
      "El valor de my_number es: 1\n",
      "Dentro del ciclo while\n",
      "El valor de my_number es: 2\n",
      "Dentro del ciclo while\n",
      "El valor de my_number es: 3\n",
      "Dentro del ciclo while\n",
      "El valor de my_number es: 4\n",
      "Final del ejemplo\n"
     ]
    }
   ],
   "source": [
    "my_number = 0\n",
    "print(\"Previo al ciclo while\")\n",
    "while my_number < 5:\n",
    "    print(\"Dentro del ciclo while\")\n",
    "    print(\"El valor de my_number es:\", my_number)\n",
    "    my_number += 1 # my_number = my_number + 1\n",
    "print(\"Final del ejemplo\")"
   ]
  },
  {
   "cell_type": "code",
   "execution_count": 8,
   "id": "43b8d859",
   "metadata": {},
   "outputs": [
    {
     "name": "stdout",
     "output_type": "stream",
     "text": [
      "Previo al ciclo while\n",
      "Dentro del ciclo while\n",
      "El valor de my_number es: 0\n",
      "Dentro del ciclo while\n",
      "El valor de my_number es: 1\n",
      "Dentro del ciclo while\n",
      "El valor de my_number es: 2\n",
      "Dentro del ciclo while\n",
      "El valor de my_number es: 3\n",
      "Dentro del ciclo while\n",
      "El valor de my_number es: 4\n",
      "5 es un número negativo o mayor a 4\n",
      "Final del ejemplo\n"
     ]
    }
   ],
   "source": [
    "my_number = 0\n",
    "print(\"Previo al ciclo while\")\n",
    "while my_number >= 0 and my_number < 5:\n",
    "    print(\"Dentro del ciclo while\")\n",
    "    print(\"El valor de my_number es:\", my_number)\n",
    "    my_number += 1 # my_number = my_number + 1\n",
    "else:\n",
    "    print(my_number, \"es un número negativo o mayor a 4\")\n",
    "print(\"Final del ejemplo\")"
   ]
  },
  {
   "cell_type": "code",
   "execution_count": 10,
   "id": "7f6a87bc",
   "metadata": {},
   "outputs": [
    {
     "name": "stdout",
     "output_type": "stream",
     "text": [
      "Previo al ciclo while\n",
      "-3 es un número negativo o mayor a 4\n",
      "Final del ejemplo\n"
     ]
    }
   ],
   "source": [
    "my_number = -3\n",
    "print(\"Previo al ciclo while\")\n",
    "while my_number >= 0 and my_number < 5:\n",
    "    print(\"Dentro del ciclo while\")\n",
    "    print(\"El valor de my_number es:\", my_number)\n",
    "    my_number += 1 # my_number = my_number + 1\n",
    "else: # de lo contrario\n",
    "    print(my_number, \"es un número negativo o mayor a 4\")\n",
    "print(\"Final del ejemplo\")"
   ]
  },
  {
   "cell_type": "markdown",
   "id": "d234b3df",
   "metadata": {},
   "source": [
    "## Iterando en Estructuras de Datos"
   ]
  },
  {
   "cell_type": "code",
   "execution_count": 11,
   "id": "99bcdb10",
   "metadata": {},
   "outputs": [
    {
     "name": "stdout",
     "output_type": "stream",
     "text": [
      "carlos@test.com\n",
      "sofia@test.com\n",
      "alejandro@test.com\n"
     ]
    }
   ],
   "source": [
    "# Listas\n",
    "emails = [\"carlos@test.com\", \"sofia@test.com\", \"alejandro@test.com\"]\n",
    "\n",
    "for email in emails:\n",
    "    print(email)"
   ]
  },
  {
   "cell_type": "code",
   "execution_count": 13,
   "id": "9f1ed9c1",
   "metadata": {},
   "outputs": [
    {
     "name": "stdout",
     "output_type": "stream",
     "text": [
      "1825\n",
      "2561\n",
      "3740\n"
     ]
    }
   ],
   "source": [
    "# Listas\n",
    "user_ids = [1825, 2561, 3740]\n",
    "\n",
    "for user_id in user_ids:\n",
    "    print(user_id)"
   ]
  },
  {
   "cell_type": "code",
   "execution_count": 15,
   "id": "35e4004c",
   "metadata": {},
   "outputs": [
    {
     "name": "stdout",
     "output_type": "stream",
     "text": [
      "El user 1825 tiene el correo carlos@test.com\n",
      "El user 2561 tiene el correo sofia@test.com\n",
      "El user 3740 tiene el correo alejandro@test.com\n"
     ]
    }
   ],
   "source": [
    "# Diccionarios\n",
    "\n",
    "user_ids = [1825, 2561, 3740]\n",
    "emails = [\"carlos@test.com\", \"sofia@test.com\", \"alejandro@test.com\"]\n",
    "my_dict = dict(zip(user_ids, emails))\n",
    "\n",
    "for user_id, email in my_dict.items():\n",
    "    print(\"El user {} tiene el correo {}\".format(user_id,email))"
   ]
  },
  {
   "cell_type": "code",
   "execution_count": 17,
   "id": "b60ea9b1",
   "metadata": {},
   "outputs": [
    {
     "name": "stdout",
     "output_type": "stream",
     "text": [
      "(1825, 2561, 3740)\n",
      "<class 'tuple'>\n",
      "1825\n",
      "2561\n",
      "3740\n"
     ]
    }
   ],
   "source": [
    "# Tuplas\n",
    "user_ids = (1825, 2561, 3740)\n",
    "\n",
    "print(user_ids)\n",
    "print(type(user_ids))\n",
    "\n",
    "for user_id in user_ids:\n",
    "    print(user_id)"
   ]
  },
  {
   "cell_type": "code",
   "execution_count": 19,
   "id": "a54cbad2",
   "metadata": {},
   "outputs": [
    {
     "name": "stdout",
     "output_type": "stream",
     "text": [
      "{1825, 3740, 2561}\n",
      "<class 'set'>\n",
      "1825\n",
      "3740\n",
      "2561\n"
     ]
    }
   ],
   "source": [
    "# Sets\n",
    "user_ids = {1825, 2561, 3740, 1825}\n",
    "\n",
    "print(user_ids)\n",
    "print(type(user_ids))\n",
    "\n",
    "for user_id in user_ids:\n",
    "    print(user_id)"
   ]
  },
  {
   "cell_type": "markdown",
   "id": "f554b151",
   "metadata": {},
   "source": [
    "## Declaraciones Especiales\n",
    "- break: detiene el ciclo\n",
    "- continue: Se salta la iteración actual (Sin ejecutar el código posterior) y pasar a la siguiente iteración\n",
    "- pass: se usa para escribir ciclos vacíos o para escribir funciones o clases vacías"
   ]
  },
  {
   "cell_type": "markdown",
   "id": "fa805ece",
   "metadata": {},
   "source": [
    "## break\n",
    "- Es usado para detener un ciclo basado en ciertas condiciones\n",
    "- Te ayuda a reducir el número de iteraciones innecesarias"
   ]
  },
  {
   "cell_type": "code",
   "execution_count": 23,
   "id": "38830080",
   "metadata": {},
   "outputs": [
    {
     "name": "stdout",
     "output_type": "stream",
     "text": [
      "Previo al ciclo while\n",
      "Dentro del ciclo while\n",
      "El valor de my_number es: 0\n",
      "Final del ejemplo\n"
     ]
    }
   ],
   "source": [
    "my_number = 0\n",
    "past_number = None\n",
    "print(\"Previo al ciclo while\")\n",
    "while my_number < 5:\n",
    "    if past_number == my_number:\n",
    "        break\n",
    "    print(\"Dentro del ciclo while\")\n",
    "    print(\"El valor de my_number es:\", my_number)\n",
    "    past_number = my_number\n",
    "print(\"Final del ejemplo\")"
   ]
  },
  {
   "cell_type": "code",
   "execution_count": 24,
   "id": "7480e7b6",
   "metadata": {},
   "outputs": [
    {
     "name": "stdout",
     "output_type": "stream",
     "text": [
      "El valor de my_number es: 0\n",
      "El valor de my_number es: 1\n",
      "El valor de my_number es: 2\n",
      "El valor de my_number es: 3\n",
      "El valor de my_number es: 4\n",
      "Final del ejemplo\n"
     ]
    }
   ],
   "source": [
    "my_number = 0\n",
    "while my_number < 5:\n",
    "    print(\"El valor de my_number es:\", my_number)\n",
    "    my_number += 1 # my_number = my_number + 1\n",
    "print(\"Final del ejemplo\")"
   ]
  },
  {
   "cell_type": "code",
   "execution_count": 27,
   "id": "a095e5df",
   "metadata": {},
   "outputs": [
    {
     "name": "stdout",
     "output_type": "stream",
     "text": [
      "El valor de my_number es: 0\n",
      "El valor de my_number es: 1\n",
      "El valor de my_number es: 2\n",
      "antes del break\n",
      "Final del ejemplo\n"
     ]
    }
   ],
   "source": [
    "my_number = 0\n",
    "while my_number < 5:\n",
    "    if my_number == 3:\n",
    "        print(\"antes del break\")\n",
    "        break\n",
    "        print(\"después del break\")\n",
    "    print(\"El valor de my_number es:\", my_number)\n",
    "    my_number += 1 # my_number = my_number + 1\n",
    "print(\"Final del ejemplo\")"
   ]
  },
  {
   "cell_type": "markdown",
   "id": "f6cd23f7",
   "metadata": {},
   "source": [
    "## continue\n",
    "- salta la iteración actual y pasa a la siguiente iteración\n",
    "- se puede usar tanto en ciclos 'for' como ciclos 'while'"
   ]
  },
  {
   "cell_type": "code",
   "execution_count": 30,
   "id": "90f26453",
   "metadata": {},
   "outputs": [
    {
     "name": "stdout",
     "output_type": "stream",
     "text": [
      "El valor de my_number es: 0\n",
      "El valor de my_number es: 1\n",
      "El valor de my_number es: 2\n",
      "antes del continue\n",
      "El valor de my_number es: 4\n",
      "Final del ejemplo\n"
     ]
    }
   ],
   "source": [
    "my_number = 0\n",
    "while my_number < 5:\n",
    "    if my_number == 3:\n",
    "        my_number += 1\n",
    "        print(\"antes del continue\")\n",
    "        continue\n",
    "        print(\"después del continue\")\n",
    "    print(\"El valor de my_number es:\", my_number)\n",
    "    my_number += 1 # my_number = my_number + 1\n",
    "print(\"Final del ejemplo\")"
   ]
  },
  {
   "cell_type": "code",
   "execution_count": 31,
   "id": "5146d01d",
   "metadata": {},
   "outputs": [
    {
     "name": "stdout",
     "output_type": "stream",
     "text": [
      "Ciclo for iterando con el número:  1\n",
      "Ciclo for iterando con el número:  2\n",
      "Ciclo for iterando con el número:  3\n",
      "Ciclo for iterando con el número:  4\n",
      "Ciclo for iterando con el número:  5\n",
      "Ciclo for iterando con el número:  6\n",
      "Ciclo for iterando con el número:  7\n",
      "Ciclo for iterando con el número:  8\n",
      "Ciclo for iterando con el número:  9\n",
      "Ciclo for iterando con el número:  11\n",
      "Ciclo for iterando con el número:  12\n",
      "Ciclo for iterando con el número:  13\n",
      "Ciclo for iterando con el número:  14\n",
      "Ciclo for iterando con el número:  15\n",
      "Ciclo for iterando con el número:  16\n",
      "Ciclo for iterando con el número:  17\n",
      "Ciclo for iterando con el número:  18\n",
      "Ciclo for iterando con el número:  19\n",
      "Ciclo for iterando con el número:  20\n"
     ]
    }
   ],
   "source": [
    "for number in range(1,20+1): #21 - 1 = 20\n",
    "    if number == 10:\n",
    "        continue\n",
    "    print(\"Ciclo for iterando con el número: \", number)"
   ]
  },
  {
   "cell_type": "markdown",
   "id": "e0746b01",
   "metadata": {},
   "source": [
    "## pass\n",
    "- se usa para escribir ciclos vacíos o para escribir funciones o clases vacías"
   ]
  },
  {
   "cell_type": "code",
   "execution_count": 32,
   "id": "dadd273c",
   "metadata": {},
   "outputs": [
    {
     "name": "stdout",
     "output_type": "stream",
     "text": [
      "Ciclo for iterando con el número:  1\n",
      "Ciclo for iterando con el número:  2\n",
      "Ciclo for iterando con el número:  3\n",
      "Ciclo for iterando con el número:  4\n",
      "Ciclo for iterando con el número:  5\n",
      "Ciclo for iterando con el número:  6\n",
      "Ciclo for iterando con el número:  7\n",
      "Ciclo for iterando con el número:  8\n",
      "Ciclo for iterando con el número:  9\n",
      "Ciclo for iterando con el número:  10\n",
      "Ciclo for iterando con el número:  11\n",
      "Ciclo for iterando con el número:  12\n",
      "Ciclo for iterando con el número:  13\n",
      "Ciclo for iterando con el número:  14\n",
      "Ciclo for iterando con el número:  15\n",
      "Ciclo for iterando con el número:  16\n",
      "Ciclo for iterando con el número:  17\n",
      "Ciclo for iterando con el número:  18\n",
      "Ciclo for iterando con el número:  19\n",
      "Ciclo for iterando con el número:  20\n"
     ]
    }
   ],
   "source": [
    "for number in range(1,20+1): #21 - 1 = 20\n",
    "    if number == 10:\n",
    "        # TODO: agregar comportamiento especial cuando number es 10\n",
    "        pass\n",
    "    print(\"Ciclo for iterando con el número: \", number)"
   ]
  },
  {
   "cell_type": "code",
   "execution_count": 33,
   "id": "31dd1df8",
   "metadata": {},
   "outputs": [],
   "source": [
    "def my_function():\n",
    "    # TODO: agregar código del método/función my_function\n",
    "    pass\n",
    "\n",
    "my_function()"
   ]
  },
  {
   "cell_type": "code",
   "execution_count": 34,
   "id": "529cfe00",
   "metadata": {},
   "outputs": [],
   "source": [
    "# Las clases son como moldes, de forma que nos permiten crear varios elementos que tengan ciertos atributos y métodos\n",
    "class MyClass:\n",
    "    # TODO: Agregar métodos y atributos de la clase\n",
    "    pass\n",
    "\n",
    "my_object = MyClass()"
   ]
  },
  {
   "cell_type": "code",
   "execution_count": null,
   "id": "1987c8c4",
   "metadata": {},
   "outputs": [],
   "source": []
  }
 ],
 "metadata": {
  "kernelspec": {
   "display_name": "Python 3 (ipykernel)",
   "language": "python",
   "name": "python3"
  },
  "language_info": {
   "codemirror_mode": {
    "name": "ipython",
    "version": 3
   },
   "file_extension": ".py",
   "mimetype": "text/x-python",
   "name": "python",
   "nbconvert_exporter": "python",
   "pygments_lexer": "ipython3",
   "version": "3.11.3"
  }
 },
 "nbformat": 4,
 "nbformat_minor": 5
}
