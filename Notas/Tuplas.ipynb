{
 "cells": [
  {
   "cell_type": "markdown",
   "id": "0b785ac0",
   "metadata": {},
   "source": [
    "## Diferentes formas de crear Tuplas"
   ]
  },
  {
   "cell_type": "code",
   "execution_count": 1,
   "id": "ef24f278",
   "metadata": {},
   "outputs": [
    {
     "name": "stdout",
     "output_type": "stream",
     "text": [
      "<class 'tuple'>\n",
      "('Carlos', 'Test', 3000, 15.79)\n"
     ]
    }
   ],
   "source": [
    "my_tuple = (\"Carlos\",\"Test\",3000,15.79)\n",
    "print(type(my_tuple))\n",
    "print(my_tuple)"
   ]
  },
  {
   "cell_type": "code",
   "execution_count": 2,
   "id": "da86c9af",
   "metadata": {},
   "outputs": [
    {
     "name": "stdout",
     "output_type": "stream",
     "text": [
      "<class 'tuple'>\n",
      "('Carlos', 'Test', 3000, 15.79)\n"
     ]
    }
   ],
   "source": [
    "my_tuple = \"Carlos\",\"Test\",3000,15.79\n",
    "print(type(my_tuple))\n",
    "print(my_tuple)"
   ]
  },
  {
   "cell_type": "code",
   "execution_count": 3,
   "id": "a2de8155",
   "metadata": {},
   "outputs": [
    {
     "name": "stdout",
     "output_type": "stream",
     "text": [
      "<class 'tuple'>\n",
      "(100, 200, 300, 400, 500)\n"
     ]
    }
   ],
   "source": [
    "my_list = [100,200,300,400,500]\n",
    "my_tuple = tuple(my_list)\n",
    "print(type(my_tuple))\n",
    "print(my_tuple)"
   ]
  },
  {
   "cell_type": "markdown",
   "id": "a26d9cd4",
   "metadata": {},
   "source": [
    "# Método sort en tuplas"
   ]
  },
  {
   "cell_type": "code",
   "execution_count": 4,
   "id": "545a75fb",
   "metadata": {},
   "outputs": [
    {
     "name": "stdout",
     "output_type": "stream",
     "text": [
      "<class 'tuple'>\n",
      "(5, 4, 2, 7, 9, 0, 1)\n",
      "<class 'list'>\n",
      "[0, 1, 2, 4, 5, 7, 9]\n",
      "<class 'tuple'>\n",
      "(0, 1, 2, 4, 5, 7, 9)\n"
     ]
    }
   ],
   "source": [
    "my_tuple = (5, 4 ,2 ,7 ,9, 0 ,1)\n",
    "my_sorted_tuple = sorted(my_tuple)\n",
    "my_sorted_tuple2 = tuple(sorted(my_tuple))\n",
    "\n",
    "print(type(my_tuple))\n",
    "print(my_tuple)\n",
    "\n",
    "print(type(my_sorted_tuple))\n",
    "print(my_sorted_tuple)\n",
    "\n",
    "print(type(my_sorted_tuple2))\n",
    "print(my_sorted_tuple2)"
   ]
  },
  {
   "cell_type": "markdown",
   "id": "59e7326f",
   "metadata": {},
   "source": [
    "## Método all en tuplas\n",
    "\n",
    "Valida que todos los elementos sean mayor que 0"
   ]
  },
  {
   "cell_type": "code",
   "execution_count": 5,
   "id": "eb2ef313",
   "metadata": {},
   "outputs": [
    {
     "name": "stdout",
     "output_type": "stream",
     "text": [
      "True\n"
     ]
    }
   ],
   "source": [
    "my_tuple = (5, 4 ,2 ,7 ,9, 2 ,1)\n",
    "print(all(my_tuple))"
   ]
  },
  {
   "cell_type": "code",
   "execution_count": 6,
   "id": "a3dd966d",
   "metadata": {},
   "outputs": [
    {
     "name": "stdout",
     "output_type": "stream",
     "text": [
      "False\n"
     ]
    }
   ],
   "source": [
    "my_tuple = (5, 4 ,2 ,7 ,9, 0 ,1)\n",
    "print(all(my_tuple))"
   ]
  },
  {
   "cell_type": "code",
   "execution_count": 7,
   "id": "b1c3ee42",
   "metadata": {},
   "outputs": [
    {
     "name": "stdout",
     "output_type": "stream",
     "text": [
      "False\n"
     ]
    }
   ],
   "source": [
    "my_tuple = (5, 4 ,2 ,7 ,9, \"\" ,1)\n",
    "print(all(my_tuple))"
   ]
  },
  {
   "cell_type": "code",
   "execution_count": 8,
   "id": "ede91eea",
   "metadata": {},
   "outputs": [
    {
     "name": "stdout",
     "output_type": "stream",
     "text": [
      "True\n"
     ]
    }
   ],
   "source": [
    "my_tuple = (5, 4 ,2 ,7 ,9, \"Sopa\" ,1)\n",
    "print(all(my_tuple))"
   ]
  },
  {
   "cell_type": "code",
   "execution_count": 9,
   "id": "f241993d",
   "metadata": {},
   "outputs": [
    {
     "name": "stdout",
     "output_type": "stream",
     "text": [
      "False\n"
     ]
    }
   ],
   "source": [
    "my_tuple = (5, 4 ,2 ,7 ,9, None,1)\n",
    "print(all(my_tuple))"
   ]
  },
  {
   "cell_type": "code",
   "execution_count": 10,
   "id": "e24e9610",
   "metadata": {},
   "outputs": [
    {
     "name": "stdout",
     "output_type": "stream",
     "text": [
      "False\n"
     ]
    }
   ],
   "source": [
    "my_tuple = (5, 4 ,2 ,7 ,9, False,1)\n",
    "print(all(my_tuple))"
   ]
  },
  {
   "cell_type": "code",
   "execution_count": 11,
   "id": "4bb53c6b",
   "metadata": {},
   "outputs": [
    {
     "name": "stdout",
     "output_type": "stream",
     "text": [
      "True\n"
     ]
    }
   ],
   "source": [
    "my_tuple = (5, 4 ,2 ,7 ,9, 3.5,1)\n",
    "print(all(my_tuple))"
   ]
  },
  {
   "cell_type": "code",
   "execution_count": 12,
   "id": "c1e73980",
   "metadata": {},
   "outputs": [
    {
     "name": "stdout",
     "output_type": "stream",
     "text": [
      "True\n"
     ]
    }
   ],
   "source": [
    "my_tuple = (5, 4 ,2 ,7 ,9, True,1)\n",
    "print(all(my_tuple))"
   ]
  },
  {
   "cell_type": "markdown",
   "id": "f2c7e9b6",
   "metadata": {},
   "source": [
    "## Método any en tuplas"
   ]
  },
  {
   "cell_type": "code",
   "execution_count": 13,
   "id": "e5353d4d",
   "metadata": {},
   "outputs": [
    {
     "name": "stdout",
     "output_type": "stream",
     "text": [
      "True\n"
     ]
    }
   ],
   "source": [
    "my_tuple = (5, 4 ,2 ,7 ,9, 2 ,1)\n",
    "print(any(my_tuple))"
   ]
  },
  {
   "cell_type": "code",
   "execution_count": 14,
   "id": "c447cf67",
   "metadata": {},
   "outputs": [
    {
     "name": "stdout",
     "output_type": "stream",
     "text": [
      "True\n"
     ]
    }
   ],
   "source": [
    "my_tuple = (5, 4 ,2 ,7 ,9, 0 ,1)\n",
    "print(any(my_tuple))"
   ]
  },
  {
   "cell_type": "code",
   "execution_count": 15,
   "id": "de3bcae8",
   "metadata": {},
   "outputs": [
    {
     "name": "stdout",
     "output_type": "stream",
     "text": [
      "True\n"
     ]
    }
   ],
   "source": [
    "my_tuple = (0, 0 ,0 ,0 ,0, 0 ,1)\n",
    "print(any(my_tuple))"
   ]
  },
  {
   "cell_type": "code",
   "execution_count": 16,
   "id": "595f1f15",
   "metadata": {},
   "outputs": [
    {
     "name": "stdout",
     "output_type": "stream",
     "text": [
      "False\n"
     ]
    }
   ],
   "source": [
    "my_tuple = (0, 0 ,0 ,0 ,0, 0 ,False)\n",
    "print(any(my_tuple))"
   ]
  },
  {
   "cell_type": "code",
   "execution_count": 17,
   "id": "4c14b143",
   "metadata": {},
   "outputs": [
    {
     "name": "stdout",
     "output_type": "stream",
     "text": [
      "False\n"
     ]
    }
   ],
   "source": [
    "my_tuple = (\"\", \"\" ,0 ,0 ,0, 0 ,False)\n",
    "print(any(my_tuple))"
   ]
  },
  {
   "cell_type": "code",
   "execution_count": 18,
   "id": "22ff07dd",
   "metadata": {},
   "outputs": [
    {
     "name": "stdout",
     "output_type": "stream",
     "text": [
      "True\n"
     ]
    }
   ],
   "source": [
    "my_tuple = (\"\", \"t\" ,0 ,0 ,0, 0 ,False)\n",
    "print(any(my_tuple))"
   ]
  },
  {
   "cell_type": "code",
   "execution_count": 19,
   "id": "6149d581",
   "metadata": {},
   "outputs": [
    {
     "name": "stdout",
     "output_type": "stream",
     "text": [
      "False\n"
     ]
    }
   ],
   "source": [
    "my_tuple = (\"\", \"\" ,None ,None ,0, 0 ,False)\n",
    "print(any(my_tuple))"
   ]
  },
  {
   "cell_type": "markdown",
   "id": "bef5daf7",
   "metadata": {},
   "source": [
    "# Método len en Tuplas"
   ]
  },
  {
   "cell_type": "code",
   "execution_count": 20,
   "id": "19ca2d3b",
   "metadata": {},
   "outputs": [
    {
     "name": "stdout",
     "output_type": "stream",
     "text": [
      "<class 'tuple'>\n",
      "(5, 4, 2, 7, 9, 0, 1)\n",
      "7\n"
     ]
    }
   ],
   "source": [
    "my_tuple = (5, 4 ,2 ,7 ,9, 0 ,1)\n",
    "print(type(my_tuple))\n",
    "print(my_tuple)\n",
    "print(len(my_tuple))"
   ]
  },
  {
   "cell_type": "markdown",
   "id": "5919d197",
   "metadata": {},
   "source": [
    "## Indexación en tuplas"
   ]
  },
  {
   "cell_type": "code",
   "execution_count": 24,
   "id": "7af8413f",
   "metadata": {},
   "outputs": [
    {
     "name": "stdout",
     "output_type": "stream",
     "text": [
      "<class 'tuple'>\n",
      "5\n",
      "1\n",
      "7\n",
      "7\n"
     ]
    }
   ],
   "source": [
    "my_tuple = (5, 4 ,2 ,7 ,9, 0 ,1)\n",
    "print(type(my_tuple))\n",
    "print(my_tuple[0])\n",
    "print(my_tuple[-1])\n",
    "print(my_tuple[3])\n",
    "print(my_tuple[-4])"
   ]
  },
  {
   "cell_type": "markdown",
   "id": "fccc543f",
   "metadata": {},
   "source": [
    "# Conversión de tuplas"
   ]
  },
  {
   "cell_type": "markdown",
   "id": "d62b2560",
   "metadata": {},
   "source": [
    "## Cadena a tupla"
   ]
  },
  {
   "cell_type": "code",
   "execution_count": 26,
   "id": "b774daac",
   "metadata": {},
   "outputs": [
    {
     "name": "stdout",
     "output_type": "stream",
     "text": [
      "Backend Python\n",
      "('B', 'a', 'c', 'k', 'e', 'n', 'd', ' ', 'P', 'y', 't', 'h', 'o', 'n')\n"
     ]
    }
   ],
   "source": [
    "my_string = \"Backend Python\"\n",
    "my_tuple = tuple(my_string)\n",
    "print(my_string)\n",
    "print(my_tuple)"
   ]
  },
  {
   "cell_type": "markdown",
   "id": "7e0df2bb",
   "metadata": {},
   "source": [
    "## Lista a tupla"
   ]
  },
  {
   "cell_type": "code",
   "execution_count": 27,
   "id": "4b39c817",
   "metadata": {},
   "outputs": [
    {
     "name": "stdout",
     "output_type": "stream",
     "text": [
      "['Python', 'Javascript', 'Java', 'Go', 'Scala']\n",
      "('Python', 'Javascript', 'Java', 'Go', 'Scala')\n"
     ]
    }
   ],
   "source": [
    "my_list = [\"Python\",\"Javascript\",\"Java\",\"Go\",\"Scala\"]\n",
    "my_tuple = tuple(my_list)\n",
    "print(my_list)\n",
    "print(my_tuple)"
   ]
  },
  {
   "cell_type": "markdown",
   "id": "f64e0d05",
   "metadata": {},
   "source": [
    "## Tupla a Cadena"
   ]
  },
  {
   "cell_type": "code",
   "execution_count": 28,
   "id": "acdf6b0b",
   "metadata": {},
   "outputs": [
    {
     "name": "stdout",
     "output_type": "stream",
     "text": [
      "('B', 'a', 'c', 'k', 'e', 'n', 'd', ' ', 'P', 'y', 't', 'h', 'o', 'n')\n",
      "Backend Python\n"
     ]
    }
   ],
   "source": [
    "my_tuple = ('B', 'a', 'c', 'k', 'e', 'n', 'd', ' ', 'P', 'y', 't', 'h', 'o', 'n')\n",
    "my_string = \"\".join(my_tuple)\n",
    "\n",
    "print(my_tuple)\n",
    "print(my_string)"
   ]
  },
  {
   "cell_type": "markdown",
   "id": "b15a50b3",
   "metadata": {},
   "source": [
    "## Tupla a lista"
   ]
  },
  {
   "cell_type": "code",
   "execution_count": 29,
   "id": "dcb603b0",
   "metadata": {},
   "outputs": [
    {
     "name": "stdout",
     "output_type": "stream",
     "text": [
      "('Python', 'Javascript', 'Java', 'Go', 'Scala')\n",
      "['Python', 'Javascript', 'Java', 'Go', 'Scala']\n"
     ]
    }
   ],
   "source": [
    "my_tuple = (\"Python\",\"Javascript\",\"Java\",\"Go\",\"Scala\")\n",
    "my_list = list(my_tuple)\n",
    "print(my_tuple)\n",
    "print(my_list)"
   ]
  },
  {
   "cell_type": "markdown",
   "id": "ca729bb7",
   "metadata": {},
   "source": [
    "## Ventajas de la Tupla sobre la Lista"
   ]
  },
  {
   "cell_type": "markdown",
   "id": "6dc5673c",
   "metadata": {},
   "source": [
    "- Generalmente usamos tuplas para elementos heterogéneos (de diferente tipo de dato), y usamos listas para elementos homogéneos (del mismo tipo de dato)\n",
    "- Las tuplas son inmutables, iterar a través de una tupla es más rápido que con una lista. Por lo tanto hay una pequeña mejora de rendimiento.\n",
    "- Las tuplas contienen elementos inmutables, pueden ser usadas como llaves para un diccionario. Con listas no es posible\n",
    "- Si tienes data que no cambia, implementarla como tupla te garantiza que se mantendrá protegida a modificaciones"
   ]
  },
  {
   "cell_type": "code",
   "execution_count": 30,
   "id": "c650d27f",
   "metadata": {},
   "outputs": [
    {
     "ename": "TypeError",
     "evalue": "'tuple' object does not support item assignment",
     "output_type": "error",
     "traceback": [
      "\u001b[1;31m---------------------------------------------------------------------------\u001b[0m",
      "\u001b[1;31mTypeError\u001b[0m                                 Traceback (most recent call last)",
      "Cell \u001b[1;32mIn[30], line 2\u001b[0m\n\u001b[0;32m      1\u001b[0m my_tuple \u001b[38;5;241m=\u001b[39m (\u001b[38;5;124m\"\u001b[39m\u001b[38;5;124mPython\u001b[39m\u001b[38;5;124m\"\u001b[39m,\u001b[38;5;124m\"\u001b[39m\u001b[38;5;124mJavascript\u001b[39m\u001b[38;5;124m\"\u001b[39m,\u001b[38;5;124m\"\u001b[39m\u001b[38;5;124mJava\u001b[39m\u001b[38;5;124m\"\u001b[39m,\u001b[38;5;124m\"\u001b[39m\u001b[38;5;124mGo\u001b[39m\u001b[38;5;124m\"\u001b[39m,\u001b[38;5;124m\"\u001b[39m\u001b[38;5;124mScala\u001b[39m\u001b[38;5;124m\"\u001b[39m)\n\u001b[1;32m----> 2\u001b[0m my_tuple[\u001b[38;5;241m0\u001b[39m] \u001b[38;5;241m=\u001b[39m \u001b[38;5;124m\"\u001b[39m\u001b[38;5;124mvalor intruso\u001b[39m\u001b[38;5;124m\"\u001b[39m\n",
      "\u001b[1;31mTypeError\u001b[0m: 'tuple' object does not support item assignment"
     ]
    }
   ],
   "source": [
    "my_tuple = (\"Python\",\"Javascript\",\"Java\",\"Go\",\"Scala\")\n",
    "my_tuple[0] = \"valor intruso\""
   ]
  },
  {
   "cell_type": "code",
   "execution_count": 33,
   "id": "354a65e2",
   "metadata": {},
   "outputs": [
    {
     "name": "stdout",
     "output_type": "stream",
     "text": [
      "('Python', 'Javascript', 'Java', 'Go', 'Scala')\n",
      "['valor intruso', 'Javascript', 'Java', 'Go', 'Scala']\n"
     ]
    }
   ],
   "source": [
    "print(my_tuple)\n",
    "my_list[0] = \"valor intruso\"\n",
    "print(my_list)"
   ]
  },
  {
   "cell_type": "code",
   "execution_count": null,
   "id": "6c764de9",
   "metadata": {},
   "outputs": [],
   "source": []
  }
 ],
 "metadata": {
  "kernelspec": {
   "display_name": "Python 3 (ipykernel)",
   "language": "python",
   "name": "python3"
  },
  "language_info": {
   "codemirror_mode": {
    "name": "ipython",
    "version": 3
   },
   "file_extension": ".py",
   "mimetype": "text/x-python",
   "name": "python",
   "nbconvert_exporter": "python",
   "pygments_lexer": "ipython3",
   "version": "3.11.3"
  }
 },
 "nbformat": 4,
 "nbformat_minor": 5
}
