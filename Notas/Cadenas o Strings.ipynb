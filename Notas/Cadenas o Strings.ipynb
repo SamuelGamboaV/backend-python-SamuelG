{
 "cells": [
  {
   "cell_type": "markdown",
   "id": "d339fe44",
   "metadata": {},
   "source": [
    "# Indexación de Cadenas"
   ]
  },
  {
   "cell_type": "markdown",
   "id": "a74efc1a",
   "metadata": {},
   "source": [
    "- ¿Qué es un índice?\n",
    "- ¿Por qué es necesario?\n",
    "\n",
    "- Indexación significa acceder a los elementos\n",
    "- Para acceder a los elementos podemos usar los corchetes \"[]\"\n",
    "- El índice o número que pongamos se refiere a la posición dentro de la lista ordenada\n",
    "- La indexación puede usarse para extraer elementos individuales de una estructura de datos\n",
    "- En Python, toda la indexación parte desde el número 0 como primera posición\n",
    "\n",
    "- En Python, tenemos dos tipos de índices:\n",
    "    - Positivos: Comienzan desde 0; estos índices buscan de izquierda a derecha la posición solicitada\n",
    "    - Negativos: Comienzan desde -1; estos índices buscan de derecha a izquierda la posición solicitada"
   ]
  },
  {
   "cell_type": "markdown",
   "id": "76203ddf",
   "metadata": {},
   "source": [
    "# Segmentación de Cadenas"
   ]
  },
  {
   "cell_type": "code",
   "execution_count": 2,
   "id": "0c987ab9",
   "metadata": {},
   "outputs": [
    {
     "name": "stdout",
     "output_type": "stream",
     "text": [
      "Curso de EBAC de Python\n",
      "<class 'str'>\n",
      "Curso\n",
      "Curso\n",
      "Curso de EBAC de Python\n",
      "de EB\n"
     ]
    }
   ],
   "source": [
    "# Índices positivos\n",
    "my_string = \"Curso de EBAC de Python\"\n",
    "print(my_string)\n",
    "print(type(my_string))\n",
    "print(my_string[0:5]) # 0, 1, 2, 3, 4\n",
    "print(my_string[:5]) # 0, 1, 2, 3, 4\n",
    "print(my_string[:]) # todos\n",
    "print(my_string[6:11]) # 6, 7, 8, 9, 10"
   ]
  },
  {
   "cell_type": "code",
   "execution_count": 3,
   "id": "27bf4fb0",
   "metadata": {},
   "outputs": [
    {
     "ename": "IndexError",
     "evalue": "string index out of range",
     "output_type": "error",
     "traceback": [
      "\u001b[1;31m---------------------------------------------------------------------------\u001b[0m",
      "\u001b[1;31mIndexError\u001b[0m                                Traceback (most recent call last)",
      "Cell \u001b[1;32mIn[3], line 3\u001b[0m\n\u001b[0;32m      1\u001b[0m \u001b[38;5;66;03m# error\u001b[39;00m\n\u001b[0;32m      2\u001b[0m my_string \u001b[38;5;241m=\u001b[39m \u001b[38;5;124m\"\u001b[39m\u001b[38;5;124mCurso de EBAC de Python\u001b[39m\u001b[38;5;124m\"\u001b[39m\n\u001b[1;32m----> 3\u001b[0m \u001b[38;5;28mprint\u001b[39m(my_string[\u001b[38;5;241m9999\u001b[39m])\n",
      "\u001b[1;31mIndexError\u001b[0m: string index out of range"
     ]
    }
   ],
   "source": [
    "# error\n",
    "my_string = \"Curso de EBAC de Python\"\n",
    "print(my_string[9999])"
   ]
  },
  {
   "cell_type": "code",
   "execution_count": 4,
   "id": "49ff9d38",
   "metadata": {},
   "outputs": [
    {
     "name": "stdout",
     "output_type": "stream",
     "text": [
      "n\n",
      "n\n",
      "ython\n"
     ]
    }
   ],
   "source": [
    "# Índices negativos\n",
    "my_string = \"Curso de EBAC de Python\"\n",
    "print(my_string[len(my_string)-1])\n",
    "print(my_string[-1])\n",
    "print(my_string[-5:])"
   ]
  },
  {
   "cell_type": "markdown",
   "id": "ed4207b8",
   "metadata": {},
   "source": [
    "# Concatenación de cadenas"
   ]
  },
  {
   "cell_type": "code",
   "execution_count": 7,
   "id": "b1417d89",
   "metadata": {},
   "outputs": [
    {
     "name": "stdout",
     "output_type": "stream",
     "text": [
      "Curso\n",
      "Backend Python\n",
      "CursoBackend Python\n",
      "Curso Backend Python\n",
      "Curso Backend Python\n"
     ]
    }
   ],
   "source": [
    "my_string1 = \"Curso\"\n",
    "my_string2 = \"Backend Python\"\n",
    "print(my_string1)\n",
    "print(my_string2)\n",
    "print(my_string1+my_string2)\n",
    "print(my_string1+\" \"+my_string2)\n",
    "print(\"{} {}\".format(my_string1,my_string2))"
   ]
  },
  {
   "cell_type": "code",
   "execution_count": 13,
   "id": "829232f0",
   "metadata": {},
   "outputs": [
    {
     "name": "stdout",
     "output_type": "stream",
     "text": [
      "1020\n",
      "1020\n",
      "30\n",
      "30\n",
      "30\n"
     ]
    }
   ],
   "source": [
    "my_string1 = \"10\"\n",
    "my_string2 = \"20\"\n",
    "print(my_string1+my_string2)\n",
    "print(eval(my_string1+my_string2))\n",
    "print(eval(my_string1)+eval(my_string2))\n",
    "print(eval(\"{}+{}\".format(my_string1,my_string2)))\n",
    "print(int(my_string1)+int(my_string2))"
   ]
  },
  {
   "cell_type": "code",
   "execution_count": 14,
   "id": "8922bc02",
   "metadata": {},
   "outputs": [
    {
     "ename": "TypeError",
     "evalue": "unsupported operand type(s) for +: 'int' and 'str'",
     "output_type": "error",
     "traceback": [
      "\u001b[1;31m---------------------------------------------------------------------------\u001b[0m",
      "\u001b[1;31mTypeError\u001b[0m                                 Traceback (most recent call last)",
      "Cell \u001b[1;32mIn[14], line 2\u001b[0m\n\u001b[0;32m      1\u001b[0m \u001b[38;5;66;03m# error\u001b[39;00m\n\u001b[1;32m----> 2\u001b[0m \u001b[38;5;241m10\u001b[39m \u001b[38;5;241m+\u001b[39m \u001b[38;5;124m\"\u001b[39m\u001b[38;5;124m10\u001b[39m\u001b[38;5;124m\"\u001b[39m\n",
      "\u001b[1;31mTypeError\u001b[0m: unsupported operand type(s) for +: 'int' and 'str'"
     ]
    }
   ],
   "source": [
    "# error\n",
    "10 + \"10\""
   ]
  },
  {
   "cell_type": "markdown",
   "id": "baf9fdee",
   "metadata": {},
   "source": [
    "# Multiplicación de Cadenas"
   ]
  },
  {
   "cell_type": "code",
   "execution_count": 17,
   "id": "20905a7e",
   "metadata": {},
   "outputs": [
    {
     "name": "stdout",
     "output_type": "stream",
     "text": [
      "cargando ...cargando ...cargando ...cargando ...cargando ...\n"
     ]
    }
   ],
   "source": [
    "my_string = \"cargando ...\"\n",
    "print(my_string*5)"
   ]
  },
  {
   "cell_type": "code",
   "execution_count": 18,
   "id": "7fa07daf",
   "metadata": {},
   "outputs": [
    {
     "name": "stdout",
     "output_type": "stream",
     "text": [
      "cargando ...\n",
      "cargando ...\n",
      "cargando ...\n",
      "cargando ...\n",
      "cargando ...\n",
      "\n"
     ]
    }
   ],
   "source": [
    "my_string = \"cargando ...\\n\"\n",
    "print(my_string*5)"
   ]
  },
  {
   "cell_type": "code",
   "execution_count": 19,
   "id": "32b471f5",
   "metadata": {},
   "outputs": [
    {
     "name": "stdout",
     "output_type": "stream",
     "text": [
      "cargando ...\n",
      "cargando ...\n",
      "cargando ...\n",
      "cargando ...\n",
      "cargando ...\n",
      "cargando ...\n",
      "cargando ...\n",
      "cargando ...\n",
      "cargando ...\n",
      "cargando ...\n",
      "\n"
     ]
    }
   ],
   "source": [
    "my_string = \"cargando ...\\n\"\n",
    "print(my_string*10)"
   ]
  },
  {
   "cell_type": "code",
   "execution_count": 21,
   "id": "c3483796",
   "metadata": {},
   "outputs": [
    {
     "name": "stdout",
     "output_type": "stream",
     "text": [
      "\n"
     ]
    }
   ],
   "source": [
    "# vacío\n",
    "my_string = \"cargando ...\\n\"\n",
    "print(my_string*0)"
   ]
  },
  {
   "cell_type": "code",
   "execution_count": 22,
   "id": "bf58d8aa",
   "metadata": {},
   "outputs": [
    {
     "name": "stdout",
     "output_type": "stream",
     "text": [
      "\n"
     ]
    }
   ],
   "source": [
    "# vacío\n",
    "my_string = \"cargando ...\\n\"\n",
    "print(my_string*-6)"
   ]
  },
  {
   "cell_type": "code",
   "execution_count": 24,
   "id": "9280c1eb",
   "metadata": {},
   "outputs": [
    {
     "ename": "TypeError",
     "evalue": "can't multiply sequence by non-int of type 'float'",
     "output_type": "error",
     "traceback": [
      "\u001b[1;31m---------------------------------------------------------------------------\u001b[0m",
      "\u001b[1;31mTypeError\u001b[0m                                 Traceback (most recent call last)",
      "Cell \u001b[1;32mIn[24], line 3\u001b[0m\n\u001b[0;32m      1\u001b[0m \u001b[38;5;66;03m# error\u001b[39;00m\n\u001b[0;32m      2\u001b[0m my_string \u001b[38;5;241m=\u001b[39m \u001b[38;5;124m\"\u001b[39m\u001b[38;5;124mcargando ...\u001b[39m\u001b[38;5;130;01m\\n\u001b[39;00m\u001b[38;5;124m\"\u001b[39m\n\u001b[1;32m----> 3\u001b[0m \u001b[38;5;28mprint\u001b[39m(my_string\u001b[38;5;241m*\u001b[39m\u001b[38;5;241m5.0\u001b[39m)\n",
      "\u001b[1;31mTypeError\u001b[0m: can't multiply sequence by non-int of type 'float'"
     ]
    }
   ],
   "source": [
    "# error\n",
    "my_string = \"cargando ...\\n\"\n",
    "print(my_string*5.0)"
   ]
  },
  {
   "cell_type": "markdown",
   "id": "4ab01e2f",
   "metadata": {},
   "source": [
    "# Comparación de cadenas"
   ]
  },
  {
   "cell_type": "code",
   "execution_count": 25,
   "id": "42b4cb65",
   "metadata": {},
   "outputs": [
    {
     "name": "stdout",
     "output_type": "stream",
     "text": [
      "False\n"
     ]
    }
   ],
   "source": [
    "my_string_1 = \"Prueba\"\n",
    "my_string_2 = \"prueba\"\n",
    "print(my_string_1 == my_string_2)"
   ]
  },
  {
   "cell_type": "code",
   "execution_count": 26,
   "id": "c90517b9",
   "metadata": {},
   "outputs": [
    {
     "name": "stdout",
     "output_type": "stream",
     "text": [
      "True\n"
     ]
    }
   ],
   "source": [
    "my_string_1 = \"Prueba\"\n",
    "my_string_2 = \"prueba\"\n",
    "print(my_string_1 != my_string_2)"
   ]
  },
  {
   "cell_type": "code",
   "execution_count": 27,
   "id": "3efdca96",
   "metadata": {},
   "outputs": [
    {
     "name": "stdout",
     "output_type": "stream",
     "text": [
      "True\n"
     ]
    }
   ],
   "source": [
    "my_string_1 = \"Prueba\"\n",
    "my_string_2 = \"Prueba\"\n",
    "print(my_string_1 == my_string_2)"
   ]
  },
  {
   "cell_type": "code",
   "execution_count": 28,
   "id": "22f6aae7",
   "metadata": {},
   "outputs": [
    {
     "name": "stdout",
     "output_type": "stream",
     "text": [
      "False\n"
     ]
    }
   ],
   "source": [
    "my_string_1 = \"Prueba\"\n",
    "my_string_2 = \"Prueba\"\n",
    "print(my_string_1 != my_string_2)"
   ]
  },
  {
   "cell_type": "markdown",
   "id": "a9bf78c9",
   "metadata": {},
   "source": [
    "# Funciones de cadenas"
   ]
  },
  {
   "cell_type": "markdown",
   "id": "43db1365",
   "metadata": {},
   "source": [
    "### Split\n",
    "Divide la cadena basándose en el separador especificado"
   ]
  },
  {
   "cell_type": "code",
   "execution_count": 29,
   "id": "5432e994",
   "metadata": {},
   "outputs": [
    {
     "name": "stdout",
     "output_type": "stream",
     "text": [
      "['El', 'Curso', 'de', 'Backend', 'Python', 'de', 'EBAC', 'te', 'lleva', 'de', 'la', 'mano', 'para', 'que', 'aprendas', 'a', 'programar']\n"
     ]
    }
   ],
   "source": [
    "my_string = \"El Curso de Backend Python de EBAC te lleva de la mano para que aprendas a programar\"\n",
    "\n",
    "split_result = my_string.split(\" \")\n",
    "\n",
    "print(split_result)"
   ]
  },
  {
   "cell_type": "code",
   "execution_count": 33,
   "id": "a20560c8",
   "metadata": {},
   "outputs": [
    {
     "name": "stdout",
     "output_type": "stream",
     "text": [
      "user123\n",
      "gmail.com\n"
     ]
    }
   ],
   "source": [
    "my_string = \"user123@gmail.com\"\n",
    "\n",
    "username, domain = my_string.split(\"@\")\n",
    "\n",
    "print(username)\n",
    "print(domain)"
   ]
  },
  {
   "cell_type": "code",
   "execution_count": 40,
   "id": "8d051a1f",
   "metadata": {},
   "outputs": [
    {
     "name": "stdout",
     "output_type": "stream",
     "text": [
      "2022-09-28 |error| Este es un mensaje de error\n",
      "date : 2022-09-28 \n",
      "log_level : error\n",
      "message :  Este es un mensaje de error\n",
      "2022-09-27 |warning| Este es un mensaje de advertencia\n",
      "date : 2022-09-27 \n",
      "log_level : warning\n",
      "message :  Este es un mensaje de advertencia\n",
      "2022-09-25 |info| Este es un mensaje informativo\n",
      "date : 2022-09-25 \n",
      "log_level : info\n",
      "message :  Este es un mensaje informativo\n"
     ]
    }
   ],
   "source": [
    "my_string = \"\"\"2022-09-28 |error| Este es un mensaje de error\n",
    "2022-09-27 |warning| Este es un mensaje de advertencia\n",
    "2022-09-25 |info| Este es un mensaje informativo\"\"\"\n",
    "\n",
    "logs = my_string.split(\"\\n\")\n",
    "for log in logs:\n",
    "    print(log)\n",
    "    date, log_level, message = log.split(\"|\")\n",
    "    print(\"date :\", date)\n",
    "    print(\"log_level :\", log_level)\n",
    "    print(\"message :\", message)"
   ]
  },
  {
   "cell_type": "code",
   "execution_count": 38,
   "id": "7375bf7c",
   "metadata": {},
   "outputs": [
    {
     "name": "stdout",
     "output_type": "stream",
     "text": [
      "['2022-09-28 |error| Este es un mensaje de error', '2022-09-27 |warning| Este es un mensaje de advertencia', '2022-09-25 |info| Este es un mensaje informativo']\n"
     ]
    }
   ],
   "source": [
    "print(logs)"
   ]
  },
  {
   "cell_type": "markdown",
   "id": "37df421a",
   "metadata": {},
   "source": [
    "### index / find\n",
    "Busca la primer posición de la subcadena solicitada en la cadena deseada"
   ]
  },
  {
   "cell_type": "code",
   "execution_count": 5,
   "id": "5b087116",
   "metadata": {},
   "outputs": [
    {
     "name": "stdout",
     "output_type": "stream",
     "text": [
      "La primera posición de 'Python' en my_string es:  20\n",
      "La primera posición de 'Python' en my_string es:  20\n"
     ]
    }
   ],
   "source": [
    "my_string = \"El Curso de Backend Python de EBAC te lleva de la mano para que aprendas a programar\"\n",
    "\n",
    "print(\"La primera posición de 'Python' en my_string es: \", my_string.index(\"Python\"))\n",
    "print(\"La primera posición de 'Python' en my_string es: \", my_string.find(\"Python\"))"
   ]
  },
  {
   "cell_type": "code",
   "execution_count": 6,
   "id": "43066875",
   "metadata": {},
   "outputs": [
    {
     "name": "stdout",
     "output_type": "stream",
     "text": [
      "La primera posición de 'Python' en my_string es:  12\n",
      "La primera posición de 'Python' en my_string es:  12\n"
     ]
    }
   ],
   "source": [
    "my_string = \"El Curso de Backend Python de EBAC te lleva de la mano para que aprendas a programar\"\n",
    "\n",
    "print(\"La primera posición de 'Python' en my_string es: \", my_string.index(\"Backend\"))\n",
    "print(\"La primera posición de 'Python' en my_string es: \", my_string.find(\"Backend\"))"
   ]
  },
  {
   "cell_type": "code",
   "execution_count": 7,
   "id": "1c98256e",
   "metadata": {},
   "outputs": [
    {
     "name": "stdout",
     "output_type": "stream",
     "text": [
      "La primera posición de 'Python' en my_string es:  0\n",
      "La primera posición de 'Python' en my_string es:  0\n"
     ]
    }
   ],
   "source": [
    "my_string = \"El Curso de Backend Python de EBAC te lleva de la mano para que aprendas a programar\"\n",
    "\n",
    "print(\"La primera posición de 'Python' en my_string es: \", my_string.index(\"E\"))\n",
    "print(\"La primera posición de 'Python' en my_string es: \", my_string.find(\"E\"))"
   ]
  },
  {
   "cell_type": "markdown",
   "id": "63e64936",
   "metadata": {},
   "source": [
    "### Count\n",
    "Cuenta el número de apariciones de la subcadena solicitada en la cadena completa"
   ]
  },
  {
   "cell_type": "code",
   "execution_count": 9,
   "id": "8f96ad1b",
   "metadata": {},
   "outputs": [
    {
     "name": "stdout",
     "output_type": "stream",
     "text": [
      "La cantidad de 'E' en my_string es:  2\n"
     ]
    }
   ],
   "source": [
    "my_string = \"El Curso de Backend Python de EBAC te lleva de la mano para que aprendas a programar\"\n",
    "\n",
    "print(\"La cantidad de 'E' en my_string es: \", my_string.count(\"E\"))"
   ]
  },
  {
   "cell_type": "code",
   "execution_count": 10,
   "id": "3346f942",
   "metadata": {},
   "outputs": [
    {
     "name": "stdout",
     "output_type": "stream",
     "text": [
      "La cantidad de 'E' en my_string es:  3\n"
     ]
    }
   ],
   "source": [
    "my_string = \"El Curso de Backend Python de EBAC te lleva de la mano para que aprendas a programar\"\n",
    "\n",
    "print(\"La cantidad de 'E' en my_string es: \", my_string.count(\"de\"))"
   ]
  },
  {
   "cell_type": "markdown",
   "id": "19348159",
   "metadata": {},
   "source": [
    "### Len\n",
    "Cuenta la longitud, o cuántos caracteres hay"
   ]
  },
  {
   "cell_type": "code",
   "execution_count": 11,
   "id": "47e318f6",
   "metadata": {},
   "outputs": [
    {
     "name": "stdout",
     "output_type": "stream",
     "text": [
      "La cantidad de caracteres en my_string es:  84\n"
     ]
    }
   ],
   "source": [
    "my_string = \"El Curso de Backend Python de EBAC te lleva de la mano para que aprendas a programar\"\n",
    "\n",
    "print(\"La cantidad de caracteres en my_string es: \", len(my_string))"
   ]
  },
  {
   "cell_type": "code",
   "execution_count": 12,
   "id": "b433273d",
   "metadata": {},
   "outputs": [
    {
     "name": "stdout",
     "output_type": "stream",
     "text": [
      "La cantidad de caracteres en my_string es:  14\n"
     ]
    }
   ],
   "source": [
    "my_string = \"Backend Python\"\n",
    "\n",
    "print(\"La cantidad de caracteres en my_string es: \", len(my_string))"
   ]
  },
  {
   "cell_type": "markdown",
   "id": "39fd6f54",
   "metadata": {},
   "source": [
    "### strip\n",
    "Remueve espacios"
   ]
  },
  {
   "cell_type": "code",
   "execution_count": 14,
   "id": "7bbf5455",
   "metadata": {},
   "outputs": [
    {
     "name": "stdout",
     "output_type": "stream",
     "text": [
      "[     Backend Python       ]\n",
      "[Backend Python]\n"
     ]
    }
   ],
   "source": [
    "my_string = \"     Backend Python       \"\n",
    "\n",
    "print(\"[{}]\".format(my_string))\n",
    "print(\"[{}]\".format(my_string.strip()))"
   ]
  },
  {
   "cell_type": "code",
   "execution_count": 16,
   "id": "ace2cfea",
   "metadata": {},
   "outputs": [
    {
     "name": "stdout",
     "output_type": "stream",
     "text": [
      "[     \n",
      "\n",
      "\t\r",
      "Backend Python\n",
      "\n",
      "\t\r",
      "       ]\n",
      "[Backend Python]\n"
     ]
    }
   ],
   "source": [
    "my_string = \"     \\n\\n\\t\\rBackend Python\\n\\n\\t\\r       \"\n",
    "\n",
    "print(\"[{}]\".format(my_string))\n",
    "print(\"[{}]\".format(my_string.strip()))"
   ]
  },
  {
   "cell_type": "code",
   "execution_count": 18,
   "id": "e326e264",
   "metadata": {},
   "outputs": [
    {
     "name": "stdout",
     "output_type": "stream",
     "text": [
      "[Backend Python]\n",
      "[Backend Pytho]\n"
     ]
    }
   ],
   "source": [
    "my_string = \"Backend Python\"\n",
    "\n",
    "print(\"[{}]\".format(my_string))\n",
    "print(\"[{}]\".format(my_string.strip(\"n\")))"
   ]
  },
  {
   "cell_type": "markdown",
   "id": "a3cb88ea",
   "metadata": {},
   "source": [
    "### isdecimal / isnumeric / isdigit\n",
    "Analiza si la cadena contiene solamente números/enteros"
   ]
  },
  {
   "cell_type": "code",
   "execution_count": 19,
   "id": "cd662025",
   "metadata": {},
   "outputs": [
    {
     "name": "stdout",
     "output_type": "stream",
     "text": [
      "True\n",
      "True\n",
      "True\n"
     ]
    }
   ],
   "source": [
    "my_string = \"123248949491891\"\n",
    "print(my_string.isdecimal())\n",
    "print(my_string.isnumeric())\n",
    "print(my_string.isdigit())"
   ]
  },
  {
   "cell_type": "code",
   "execution_count": 20,
   "id": "8859d71c",
   "metadata": {},
   "outputs": [
    {
     "name": "stdout",
     "output_type": "stream",
     "text": [
      "False\n",
      "False\n",
      "False\n"
     ]
    }
   ],
   "source": [
    "my_string = \"1232489.49491891\"\n",
    "print(my_string.isdecimal())\n",
    "print(my_string.isnumeric())\n",
    "print(my_string.isdigit())"
   ]
  },
  {
   "cell_type": "code",
   "execution_count": 21,
   "id": "0fda25ea",
   "metadata": {},
   "outputs": [
    {
     "name": "stdout",
     "output_type": "stream",
     "text": [
      "False\n",
      "False\n",
      "False\n"
     ]
    }
   ],
   "source": [
    "my_string = \"123248949491891test\"\n",
    "print(my_string.isdecimal())\n",
    "print(my_string.isnumeric())\n",
    "print(my_string.isdigit())"
   ]
  },
  {
   "cell_type": "code",
   "execution_count": 22,
   "id": "432d211a",
   "metadata": {},
   "outputs": [
    {
     "name": "stdout",
     "output_type": "stream",
     "text": [
      "False\n",
      "False\n",
      "False\n"
     ]
    }
   ],
   "source": [
    "my_string = \"1232489494918 91\"\n",
    "print(my_string.isdecimal())\n",
    "print(my_string.isnumeric())\n",
    "print(my_string.isdigit())"
   ]
  },
  {
   "cell_type": "markdown",
   "id": "52ec7a9f",
   "metadata": {},
   "source": [
    "### isalnum\n",
    "Analiza si todos los caracteres son alfanuméricos (letras o números)"
   ]
  },
  {
   "cell_type": "code",
   "execution_count": 23,
   "id": "13289867",
   "metadata": {},
   "outputs": [
    {
     "name": "stdout",
     "output_type": "stream",
     "text": [
      "True\n"
     ]
    }
   ],
   "source": [
    "my_string = \"123248949491891test\"\n",
    "print(my_string.isalnum())"
   ]
  },
  {
   "cell_type": "code",
   "execution_count": 24,
   "id": "32d4d2de",
   "metadata": {},
   "outputs": [
    {
     "name": "stdout",
     "output_type": "stream",
     "text": [
      "False\n"
     ]
    }
   ],
   "source": [
    "my_string = \"123248949.491891\"\n",
    "print(my_string.isalnum())"
   ]
  },
  {
   "cell_type": "code",
   "execution_count": 25,
   "id": "2906ee44",
   "metadata": {},
   "outputs": [
    {
     "name": "stdout",
     "output_type": "stream",
     "text": [
      "True\n"
     ]
    }
   ],
   "source": [
    "my_string = \"123248949491891\"\n",
    "print(my_string.isalnum())"
   ]
  },
  {
   "cell_type": "code",
   "execution_count": 26,
   "id": "4aeaf4bd",
   "metadata": {},
   "outputs": [
    {
     "name": "stdout",
     "output_type": "stream",
     "text": [
      "False\n"
     ]
    }
   ],
   "source": [
    "my_string = \"123248949 491891\"\n",
    "print(my_string.isalnum())"
   ]
  },
  {
   "cell_type": "markdown",
   "id": "ab0336b5",
   "metadata": {},
   "source": [
    " ### isupper\n",
    "Analiza si todas las letras presentes en la cadena son mayúsculas"
   ]
  },
  {
   "cell_type": "code",
   "execution_count": 27,
   "id": "12102ccf",
   "metadata": {},
   "outputs": [
    {
     "name": "stdout",
     "output_type": "stream",
     "text": [
      "False\n"
     ]
    }
   ],
   "source": [
    "my_string = \"123248949 491891\"\n",
    "print(my_string.isupper())"
   ]
  },
  {
   "cell_type": "code",
   "execution_count": 28,
   "id": "58ad5c39",
   "metadata": {},
   "outputs": [
    {
     "name": "stdout",
     "output_type": "stream",
     "text": [
      "False\n"
     ]
    }
   ],
   "source": [
    "my_string = \"test\"\n",
    "print(my_string.isupper())"
   ]
  },
  {
   "cell_type": "code",
   "execution_count": 29,
   "id": "75c7a7eb",
   "metadata": {},
   "outputs": [
    {
     "name": "stdout",
     "output_type": "stream",
     "text": [
      "True\n"
     ]
    }
   ],
   "source": [
    "my_string = \"TEST\"\n",
    "print(my_string.isupper())"
   ]
  },
  {
   "cell_type": "code",
   "execution_count": 30,
   "id": "2a09039e",
   "metadata": {},
   "outputs": [
    {
     "name": "stdout",
     "output_type": "stream",
     "text": [
      "False\n"
     ]
    }
   ],
   "source": [
    "my_string = \"Test\"\n",
    "print(my_string.isupper())"
   ]
  },
  {
   "cell_type": "code",
   "execution_count": 31,
   "id": "b0ad9c39",
   "metadata": {},
   "outputs": [
    {
     "name": "stdout",
     "output_type": "stream",
     "text": [
      "True\n"
     ]
    }
   ],
   "source": [
    "my_string = \"TEST1234\"\n",
    "print(my_string.isupper())"
   ]
  },
  {
   "cell_type": "markdown",
   "id": "d0e16089",
   "metadata": {},
   "source": [
    "### islower\n",
    "Analiza si todas las letras presentes en la cadena son minúsculas"
   ]
  },
  {
   "cell_type": "code",
   "execution_count": 32,
   "id": "6c00ac0b",
   "metadata": {},
   "outputs": [
    {
     "name": "stdout",
     "output_type": "stream",
     "text": [
      "False\n"
     ]
    }
   ],
   "source": [
    "my_string = \"123248949 491891\"\n",
    "print(my_string.islower())"
   ]
  },
  {
   "cell_type": "code",
   "execution_count": 33,
   "id": "0444d8da",
   "metadata": {},
   "outputs": [
    {
     "name": "stdout",
     "output_type": "stream",
     "text": [
      "False\n"
     ]
    }
   ],
   "source": [
    "my_string = \"TEST\"\n",
    "print(my_string.islower())"
   ]
  },
  {
   "cell_type": "code",
   "execution_count": 37,
   "id": "0021abe2",
   "metadata": {},
   "outputs": [
    {
     "name": "stdout",
     "output_type": "stream",
     "text": [
      "True\n"
     ]
    }
   ],
   "source": [
    "my_string = \"test1234\"\n",
    "print(my_string.islower())"
   ]
  },
  {
   "cell_type": "code",
   "execution_count": 36,
   "id": "5cdc0427",
   "metadata": {},
   "outputs": [
    {
     "name": "stdout",
     "output_type": "stream",
     "text": [
      "False\n"
     ]
    }
   ],
   "source": [
    "my_string = \"Test1234\"\n",
    "print(my_string.islower())"
   ]
  },
  {
   "cell_type": "code",
   "execution_count": 38,
   "id": "577d34b3",
   "metadata": {},
   "outputs": [
    {
     "name": "stdout",
     "output_type": "stream",
     "text": [
      "True\n"
     ]
    }
   ],
   "source": [
    "my_string = \"test\"\n",
    "print(my_string.islower())"
   ]
  },
  {
   "cell_type": "markdown",
   "id": "d2f9987d",
   "metadata": {},
   "source": [
    "### join\n",
    "Crea una cadena de una lista, usando el separador especificado"
   ]
  },
  {
   "cell_type": "code",
   "execution_count": 41,
   "id": "304896e2",
   "metadata": {},
   "outputs": [
    {
     "name": "stdout",
     "output_type": "stream",
     "text": [
      "132|22|398\n"
     ]
    }
   ],
   "source": [
    "num_list = [\"132\", \"22\", \"398\"] #list\n",
    "separator = \"|\"\n",
    "print(separator.join(num_list))"
   ]
  },
  {
   "cell_type": "code",
   "execution_count": 42,
   "id": "ee08e302",
   "metadata": {},
   "outputs": [
    {
     "name": "stdout",
     "output_type": "stream",
     "text": [
      "132-22-398\n"
     ]
    }
   ],
   "source": [
    "num_list = [\"132\", \"22\", \"398\"] #list\n",
    "separator = \"-\"\n",
    "print(separator.join(num_list))"
   ]
  },
  {
   "cell_type": "code",
   "execution_count": 43,
   "id": "8cc9b461",
   "metadata": {},
   "outputs": [
    {
     "name": "stdout",
     "output_type": "stream",
     "text": [
      "132,22,398\n"
     ]
    }
   ],
   "source": [
    "num_list = [\"132\", \"22\", \"398\"] #list\n",
    "separator = \",\"\n",
    "print(separator.join(num_list))"
   ]
  },
  {
   "cell_type": "markdown",
   "id": "dabd5b05",
   "metadata": {},
   "source": [
    "### capitalize\n",
    "Hace mayúscula la primer letra"
   ]
  },
  {
   "cell_type": "code",
   "execution_count": 44,
   "id": "e2987267",
   "metadata": {},
   "outputs": [
    {
     "name": "stdout",
     "output_type": "stream",
     "text": [
      "Backend python\n"
     ]
    }
   ],
   "source": [
    "my_string = \"backend python\"\n",
    "print(my_string.capitalize())"
   ]
  },
  {
   "cell_type": "code",
   "execution_count": 45,
   "id": "ba362010",
   "metadata": {},
   "outputs": [
    {
     "name": "stdout",
     "output_type": "stream",
     "text": [
      "Backend python\n"
     ]
    }
   ],
   "source": [
    "my_string = \"Backend python\"\n",
    "print(my_string.capitalize())"
   ]
  },
  {
   "cell_type": "markdown",
   "id": "1e8d17ef",
   "metadata": {},
   "source": [
    "### format\n",
    "Nos ayuda a configurar valores dentro de una cadena que es nuestro molde"
   ]
  },
  {
   "cell_type": "code",
   "execution_count": 47,
   "id": "e32a1d06",
   "metadata": {},
   "outputs": [
    {
     "name": "stdout",
     "output_type": "stream",
     "text": [
      "44 es el valor\n",
      "23 es el valor\n",
      "7 es el valor\n"
     ]
    }
   ],
   "source": [
    "my_string = \"{} es el valor\"\n",
    "print(my_string.format(\"44\"))\n",
    "print(my_string.format(\"23\"))\n",
    "print(my_string.format(\"7\"))"
   ]
  },
  {
   "cell_type": "code",
   "execution_count": 48,
   "id": "c63be2f6",
   "metadata": {},
   "outputs": [
    {
     "name": "stdout",
     "output_type": "stream",
     "text": [
      "año: 1995 hora: 9:40\n",
      "año: 2000 hora: 14:30\n",
      "año: 2022 hora: 3:21\n"
     ]
    }
   ],
   "source": [
    "my_string = \"año: {} hora: {}\"\n",
    "print(my_string.format(\"1995\", \"9:40\"))\n",
    "print(my_string.format(\"2000\", \"14:30\"))\n",
    "print(my_string.format(\"2022\",\"3:21\"))"
   ]
  },
  {
   "cell_type": "code",
   "execution_count": 49,
   "id": "b099644a",
   "metadata": {},
   "outputs": [
    {
     "name": "stdout",
     "output_type": "stream",
     "text": [
      "hora: 9:40 año: 1995\n",
      "hora: 14:30 año: 2000\n",
      "hora: 3:21 año: 2022\n"
     ]
    }
   ],
   "source": [
    "my_string = \"hora: {1} año: {0}\"\n",
    "print(my_string.format(\"1995\", \"9:40\"))\n",
    "print(my_string.format(\"2000\", \"14:30\"))\n",
    "print(my_string.format(\"2022\",\"3:21\"))"
   ]
  },
  {
   "cell_type": "markdown",
   "id": "7bfb6ecb",
   "metadata": {},
   "source": [
    "### center\n",
    "Centra el texto dada cierta longitud"
   ]
  },
  {
   "cell_type": "code",
   "execution_count": 50,
   "id": "18d0c992",
   "metadata": {},
   "outputs": [
    {
     "name": "stdout",
     "output_type": "stream",
     "text": [
      "[ Probando funciones ]\n",
      "[      Probando funciones      ]\n",
      "[           Probando funciones           ]\n",
      "[                Probando funciones                ]\n"
     ]
    }
   ],
   "source": [
    "my_string = \"Probando funciones\"\n",
    "print(\"[{}]\".format(my_string.center(20)))\n",
    "print(\"[{}]\".format(my_string.center(30)))\n",
    "print(\"[{}]\".format(my_string.center(40)))\n",
    "print(\"[{}]\".format(my_string.center(50)))"
   ]
  },
  {
   "cell_type": "markdown",
   "id": "40c9840c",
   "metadata": {},
   "source": [
    "### endswith\n",
    "Evalúa si la cadena termina con el caracter, palabra o subcadena solicitada"
   ]
  },
  {
   "cell_type": "code",
   "execution_count": 51,
   "id": "e1d73984",
   "metadata": {},
   "outputs": [
    {
     "name": "stdout",
     "output_type": "stream",
     "text": [
      "True\n"
     ]
    }
   ],
   "source": [
    "my_string = \"Probando funciones\"\n",
    "print(my_string.endswith(\"s\"))"
   ]
  },
  {
   "cell_type": "code",
   "execution_count": 52,
   "id": "998dcc74",
   "metadata": {},
   "outputs": [
    {
     "name": "stdout",
     "output_type": "stream",
     "text": [
      "False\n"
     ]
    }
   ],
   "source": [
    "my_string = \"Probando funciones\"\n",
    "print(my_string.endswith(\"o\"))"
   ]
  },
  {
   "cell_type": "code",
   "execution_count": 53,
   "id": "0cb8d9c1",
   "metadata": {},
   "outputs": [
    {
     "name": "stdout",
     "output_type": "stream",
     "text": [
      "True\n"
     ]
    }
   ],
   "source": [
    "my_string = \"Probando funciones\"\n",
    "print(my_string.endswith(\"funciones\"))"
   ]
  },
  {
   "cell_type": "code",
   "execution_count": 54,
   "id": "ab622f6a",
   "metadata": {},
   "outputs": [
    {
     "name": "stdout",
     "output_type": "stream",
     "text": [
      "True\n"
     ]
    }
   ],
   "source": [
    "my_string = \"Probando funciones\"\n",
    "print(my_string.endswith(\"ando funciones\"))"
   ]
  },
  {
   "cell_type": "code",
   "execution_count": 55,
   "id": "58f56a21",
   "metadata": {},
   "outputs": [
    {
     "name": "stdout",
     "output_type": "stream",
     "text": [
      "False\n"
     ]
    }
   ],
   "source": [
    "my_string = \"Probando funciones\"\n",
    "print(my_string.endswith(\"Probando \"))"
   ]
  },
  {
   "cell_type": "markdown",
   "id": "4d16e71f",
   "metadata": {},
   "source": [
    "### swapcase\n",
    "Invierte mayúsculas y minúsculas"
   ]
  },
  {
   "cell_type": "code",
   "execution_count": 56,
   "id": "1f42615d",
   "metadata": {},
   "outputs": [
    {
     "name": "stdout",
     "output_type": "stream",
     "text": [
      "pROBANDO FUNCIONES\n"
     ]
    }
   ],
   "source": [
    "my_string = \"Probando funciones\"\n",
    "print(my_string.swapcase())"
   ]
  },
  {
   "cell_type": "code",
   "execution_count": 57,
   "id": "8fd4b400",
   "metadata": {},
   "outputs": [
    {
     "name": "stdout",
     "output_type": "stream",
     "text": [
      "probando FUNCIONES\n"
     ]
    }
   ],
   "source": [
    "my_string = \"PROBANDO funciones\"\n",
    "print(my_string.swapcase())"
   ]
  },
  {
   "cell_type": "code",
   "execution_count": 58,
   "id": "3ccd5ca1",
   "metadata": {},
   "outputs": [
    {
     "name": "stdout",
     "output_type": "stream",
     "text": [
      "pROBANDO fUNCIONES\n"
     ]
    }
   ],
   "source": [
    "my_string = \"Probando Funciones\"\n",
    "print(my_string.swapcase())"
   ]
  },
  {
   "cell_type": "markdown",
   "id": "dd69ec2a",
   "metadata": {},
   "source": [
    "### replace\n",
    "Reemplaza una cadena por otra subcadena, dentro de una cadena"
   ]
  },
  {
   "cell_type": "code",
   "execution_count": 59,
   "id": "d162f08f",
   "metadata": {},
   "outputs": [
    {
     "name": "stdout",
     "output_type": "stream",
     "text": [
      "Usando funciones\n"
     ]
    }
   ],
   "source": [
    "my_string = \"Probando funciones\"\n",
    "print(my_string.replace(\"Probando\", \"Usando\"))"
   ]
  },
  {
   "cell_type": "code",
   "execution_count": 60,
   "id": "ddb16ae7",
   "metadata": {},
   "outputs": [
    {
     "name": "stdout",
     "output_type": "stream",
     "text": [
      "Probando\n",
      "funciones\n"
     ]
    }
   ],
   "source": [
    "my_string = \"Probando funciones\"\n",
    "print(my_string.replace(\" \", \"\\n\"))"
   ]
  },
  {
   "cell_type": "code",
   "execution_count": 61,
   "id": "dc448766",
   "metadata": {},
   "outputs": [
    {
     "name": "stdout",
     "output_type": "stream",
     "text": [
      "PrObandO funciOnes\n"
     ]
    }
   ],
   "source": [
    "my_string = \"Probando funciones\"\n",
    "print(my_string.replace(\"o\", \"O\"))"
   ]
  },
  {
   "cell_type": "code",
   "execution_count": 62,
   "id": "84eecbb2",
   "metadata": {},
   "outputs": [
    {
     "name": "stdout",
     "output_type": "stream",
     "text": [
      "Probando funciones\n"
     ]
    }
   ],
   "source": [
    "my_string = \"Probando funciones\"\n",
    "print(my_string.replace(\"y\", \"O\"))"
   ]
  },
  {
   "cell_type": "markdown",
   "id": "af0da1b4",
   "metadata": {},
   "source": [
    "### Formateo de cadenas y datetime"
   ]
  },
  {
   "cell_type": "code",
   "execution_count": 64,
   "id": "2558dbec",
   "metadata": {},
   "outputs": [
    {
     "name": "stdout",
     "output_type": "stream",
     "text": [
      "2023-09-05 09:57:11.564076\n"
     ]
    }
   ],
   "source": [
    "from datetime import datetime\n",
    "now = datetime.now()\n",
    "print(now)"
   ]
  },
  {
   "cell_type": "code",
   "execution_count": 65,
   "id": "3d55c70c",
   "metadata": {},
   "outputs": [
    {
     "name": "stdout",
     "output_type": "stream",
     "text": [
      "Año:  2023\n",
      "Mes:  09\n",
      "Día:  05\n",
      "Hora:  09:57:11\n"
     ]
    }
   ],
   "source": [
    "year = now.strftime(\"%Y\")\n",
    "month = now.strftime(\"%m\")\n",
    "day = now.strftime(\"%d\")\n",
    "time = now.strftime(\"%H:%M:%S\")\n",
    "print(\"Año: \",year)\n",
    "print(\"Mes: \",month)\n",
    "print(\"Día: \",day)\n",
    "print(\"Hora: \",time)"
   ]
  },
  {
   "cell_type": "markdown",
   "id": "bdc2f209",
   "metadata": {},
   "source": [
    "### reverse / reversa\n",
    "Invertir una cadena"
   ]
  },
  {
   "cell_type": "code",
   "execution_count": 68,
   "id": "79053ee3",
   "metadata": {},
   "outputs": [
    {
     "name": "stdout",
     "output_type": "stream",
     "text": [
      "senoicnuf odnaborP\n"
     ]
    }
   ],
   "source": [
    "my_string = \"Probando funciones\"\n",
    "print(my_string [::-1])"
   ]
  },
  {
   "cell_type": "code",
   "execution_count": null,
   "id": "e5555cd6",
   "metadata": {},
   "outputs": [],
   "source": []
  }
 ],
 "metadata": {
  "kernelspec": {
   "display_name": "Python 3 (ipykernel)",
   "language": "python",
   "name": "python3"
  },
  "language_info": {
   "codemirror_mode": {
    "name": "ipython",
    "version": 3
   },
   "file_extension": ".py",
   "mimetype": "text/x-python",
   "name": "python",
   "nbconvert_exporter": "python",
   "pygments_lexer": "ipython3",
   "version": "3.11.3"
  }
 },
 "nbformat": 4,
 "nbformat_minor": 5
}
