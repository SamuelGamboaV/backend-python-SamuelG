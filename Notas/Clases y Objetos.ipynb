{
 "cells": [
  {
   "cell_type": "markdown",
   "id": "355d474b",
   "metadata": {},
   "source": [
    "# Inroducción\n",
    "\n",
    "Imagina un Carro\n",
    "\n",
    "Carro - Objeto\n",
    "Molde de Carro - Clase"
   ]
  },
  {
   "cell_type": "code",
   "execution_count": 1,
   "id": "be4d0aaa",
   "metadata": {},
   "outputs": [],
   "source": [
    "class Car: # Molde\n",
    "    make = \"Tesla\"\n",
    "    model = \"Model 3\"\n",
    "    year = \"2022\"\n",
    "    \n",
    "    def turn_on():\n",
    "        pass\n",
    "    def turn_off():\n",
    "        pass"
   ]
  },
  {
   "cell_type": "markdown",
   "id": "7becc980",
   "metadata": {},
   "source": [
    "Entonces las clases son como moldes\n",
    "De tal forma que puedes usar ese mismo molde para crear muchos objetos\n",
    "\n",
    "Clase - Molde de Objetos\n",
    "\n",
    "Objeto/Instancia = Una agrupación de métods y atributos"
   ]
  },
  {
   "cell_type": "code",
   "execution_count": 2,
   "id": "6d160952",
   "metadata": {},
   "outputs": [],
   "source": [
    "car1 = Car() #Objetos/Instancia\n",
    "car2 = Car() #Objetos/Instancia\n",
    "car3 = Car() #Objetos/Instancia"
   ]
  },
  {
   "cell_type": "code",
   "execution_count": 3,
   "id": "01acf525",
   "metadata": {},
   "outputs": [
    {
     "data": {
      "text/plain": [
       "['__class__',\n",
       " '__delattr__',\n",
       " '__dict__',\n",
       " '__dir__',\n",
       " '__doc__',\n",
       " '__eq__',\n",
       " '__format__',\n",
       " '__ge__',\n",
       " '__getattribute__',\n",
       " '__getstate__',\n",
       " '__gt__',\n",
       " '__hash__',\n",
       " '__init__',\n",
       " '__init_subclass__',\n",
       " '__le__',\n",
       " '__lt__',\n",
       " '__module__',\n",
       " '__ne__',\n",
       " '__new__',\n",
       " '__reduce__',\n",
       " '__reduce_ex__',\n",
       " '__repr__',\n",
       " '__setattr__',\n",
       " '__sizeof__',\n",
       " '__str__',\n",
       " '__subclasshook__',\n",
       " '__weakref__',\n",
       " 'make',\n",
       " 'model',\n",
       " 'turn_off',\n",
       " 'turn_on',\n",
       " 'year']"
      ]
     },
     "execution_count": 3,
     "metadata": {},
     "output_type": "execute_result"
    }
   ],
   "source": [
    "dir(car1)"
   ]
  },
  {
   "cell_type": "markdown",
   "id": "7fba0d25",
   "metadata": {},
   "source": [
    "## Creando Clases"
   ]
  },
  {
   "cell_type": "code",
   "execution_count": 7,
   "id": "e4439fb6",
   "metadata": {},
   "outputs": [],
   "source": [
    "class Car: # Molde\n",
    "    \n",
    "    def __init__(self, make, model, year): # constructor\n",
    "        self.make = make\n",
    "        self.model = model\n",
    "        self.year = year\n",
    "        print(\"Una instancia de la clase se ha creado exitosamente\")\n",
    "        \n",
    "    def print_attributes(self):\n",
    "        print(\"Marca: \", self.make)\n",
    "        print(\"Modelo: \", self.model)\n",
    "        print(\"Año: \", self.year)"
   ]
  },
  {
   "cell_type": "markdown",
   "id": "81089193",
   "metadata": {},
   "source": [
    "# Creando Objetos"
   ]
  },
  {
   "cell_type": "code",
   "execution_count": 8,
   "id": "20f848cf",
   "metadata": {},
   "outputs": [
    {
     "name": "stdout",
     "output_type": "stream",
     "text": [
      "Una instancia de la clase se ha creado exitosamente\n"
     ]
    }
   ],
   "source": [
    "car1 = Car(\"Tesla\",\" Model 3\", \"2020\")"
   ]
  },
  {
   "cell_type": "code",
   "execution_count": 9,
   "id": "3f5c4777",
   "metadata": {},
   "outputs": [
    {
     "name": "stdout",
     "output_type": "stream",
     "text": [
      "Marca:  Tesla\n",
      "Modelo:   Model 3\n",
      "Año:  2020\n"
     ]
    }
   ],
   "source": [
    "car1.print_attributes()"
   ]
  },
  {
   "cell_type": "markdown",
   "id": "5b386e0b",
   "metadata": {},
   "source": [
    "## Accediendo a los atributos"
   ]
  },
  {
   "cell_type": "code",
   "execution_count": 10,
   "id": "06c2e0ac",
   "metadata": {},
   "outputs": [
    {
     "name": "stdout",
     "output_type": "stream",
     "text": [
      "Una instancia de la clase se ha creado exitosamente\n",
      "Marca:  Tesla\n",
      "Modelo:   Model Y\n",
      "Año:  2019\n"
     ]
    }
   ],
   "source": [
    "car2 = Car(\"Tesla\",\" Model Y\", \"2019\")\n",
    "car2.print_attributes()"
   ]
  },
  {
   "cell_type": "code",
   "execution_count": 13,
   "id": "4e7e3d1c",
   "metadata": {},
   "outputs": [
    {
     "data": {
      "text/plain": [
       "['__class__',\n",
       " '__delattr__',\n",
       " '__dict__',\n",
       " '__dir__',\n",
       " '__doc__',\n",
       " '__eq__',\n",
       " '__format__',\n",
       " '__ge__',\n",
       " '__getattribute__',\n",
       " '__getstate__',\n",
       " '__gt__',\n",
       " '__hash__',\n",
       " '__init__',\n",
       " '__init_subclass__',\n",
       " '__le__',\n",
       " '__lt__',\n",
       " '__module__',\n",
       " '__ne__',\n",
       " '__new__',\n",
       " '__reduce__',\n",
       " '__reduce_ex__',\n",
       " '__repr__',\n",
       " '__setattr__',\n",
       " '__sizeof__',\n",
       " '__str__',\n",
       " '__subclasshook__',\n",
       " '__weakref__',\n",
       " 'make',\n",
       " 'model',\n",
       " 'print_attributes',\n",
       " 'year']"
      ]
     },
     "execution_count": 13,
     "metadata": {},
     "output_type": "execute_result"
    }
   ],
   "source": [
    "dir(car2)"
   ]
  },
  {
   "cell_type": "code",
   "execution_count": 14,
   "id": "ad4815f5",
   "metadata": {},
   "outputs": [
    {
     "name": "stdout",
     "output_type": "stream",
     "text": [
      "Tesla\n"
     ]
    }
   ],
   "source": [
    "print(car2.make)"
   ]
  },
  {
   "cell_type": "code",
   "execution_count": 16,
   "id": "ff433541",
   "metadata": {},
   "outputs": [
    {
     "name": "stdout",
     "output_type": "stream",
     "text": [
      " Model Y\n"
     ]
    }
   ],
   "source": [
    "print(car2.model)"
   ]
  },
  {
   "cell_type": "code",
   "execution_count": 17,
   "id": "9d5eac4d",
   "metadata": {},
   "outputs": [
    {
     "name": "stdout",
     "output_type": "stream",
     "text": [
      "2019\n"
     ]
    }
   ],
   "source": [
    "print(car2.year)"
   ]
  },
  {
   "cell_type": "markdown",
   "id": "5a8c373f",
   "metadata": {},
   "source": [
    "## Variables de clase"
   ]
  },
  {
   "cell_type": "code",
   "execution_count": 18,
   "id": "3ddbbb96",
   "metadata": {},
   "outputs": [],
   "source": [
    "class Car: # Molde\n",
    "    opus = 0\n",
    "    \n",
    "    def __init__(self, make, model, year): # constructor\n",
    "        Car.opus += 1\n",
    "        self.make = make\n",
    "        self.model = model\n",
    "        self.year = year\n",
    "        print(\"Una instancia de la clase se ha creado exitosamente\")\n",
    "        \n",
    "    def print_attributes(self):\n",
    "        print(\"Marca: \", self.make)\n",
    "        print(\"Modelo: \", self.model)\n",
    "        print(\"Año: \", self.year)"
   ]
  },
  {
   "cell_type": "code",
   "execution_count": 19,
   "id": "32b31778",
   "metadata": {},
   "outputs": [
    {
     "name": "stdout",
     "output_type": "stream",
     "text": [
      "Una instancia de la clase se ha creado exitosamente\n",
      "Una instancia de la clase se ha creado exitosamente\n"
     ]
    }
   ],
   "source": [
    "car1 = Car(\"Tesla\",\" Model 3\", \"2020\")\n",
    "car2 = Car(\"Tesla\",\" Model Y\", \"2019\")"
   ]
  },
  {
   "cell_type": "code",
   "execution_count": 20,
   "id": "25f172b3",
   "metadata": {},
   "outputs": [
    {
     "name": "stdout",
     "output_type": "stream",
     "text": [
      "Hay  2  opus creados\n"
     ]
    }
   ],
   "source": [
    "print(\"Hay \", Car.opus, \" opus creados\")"
   ]
  },
  {
   "cell_type": "code",
   "execution_count": 22,
   "id": "a13128aa",
   "metadata": {},
   "outputs": [
    {
     "name": "stdout",
     "output_type": "stream",
     "text": [
      "Una instancia de la clase se ha creado exitosamente\n"
     ]
    }
   ],
   "source": [
    "car3 = Car(\"Tesla\",\" Model X\", \"2021\")"
   ]
  },
  {
   "cell_type": "code",
   "execution_count": 23,
   "id": "56bca86e",
   "metadata": {},
   "outputs": [
    {
     "name": "stdout",
     "output_type": "stream",
     "text": [
      "Una instancia de la clase se ha creado exitosamente\n"
     ]
    }
   ],
   "source": [
    "car4 = Car(\"Tesla\",\" Model s\", \"2022\")"
   ]
  },
  {
   "cell_type": "code",
   "execution_count": 24,
   "id": "f7af2934",
   "metadata": {},
   "outputs": [
    {
     "name": "stdout",
     "output_type": "stream",
     "text": [
      "Hay  5  opus creados\n"
     ]
    }
   ],
   "source": [
    "print(\"Hay \", Car.opus, \" opus creados\")"
   ]
  },
  {
   "cell_type": "markdown",
   "id": "456f9167",
   "metadata": {},
   "source": [
    "## Garbage Collection"
   ]
  },
  {
   "cell_type": "code",
   "execution_count": 26,
   "id": "c378355a",
   "metadata": {},
   "outputs": [],
   "source": [
    "class Car: # Molde\n",
    "    total = 0\n",
    "    def __init__(self, make, model, year): # constructor\n",
    "        Car.total += 1\n",
    "        self.make = make\n",
    "        self.model = model\n",
    "        self.year = year\n",
    "        print(\"Una instancia de la clase se ha creado exitosamente\")\n",
    "        \n",
    "    def __del__(self):\n",
    "        Car.total -= 1\n",
    "        \n",
    "    def print_attributes(self):\n",
    "        print(\"Marca: \", self.make)\n",
    "        print(\"Modelo: \", self.model)\n",
    "        print(\"Año: \", self.year)"
   ]
  },
  {
   "cell_type": "code",
   "execution_count": 27,
   "id": "9c613c79",
   "metadata": {},
   "outputs": [
    {
     "name": "stdout",
     "output_type": "stream",
     "text": [
      "Una instancia de la clase se ha creado exitosamente\n",
      "Una instancia de la clase se ha creado exitosamente\n",
      "Una instancia de la clase se ha creado exitosamente\n",
      "Una instancia de la clase se ha creado exitosamente\n"
     ]
    }
   ],
   "source": [
    "car1 = Car(\"Tesla\",\" Model 3\", \"2020\")\n",
    "car2 = Car(\"Tesla\",\" Model Y\", \"2019\")\n",
    "car3 = Car(\"Tesla\",\" Model X\", \"2021\")\n",
    "car4 = Car(\"Tesla\",\" Model s\", \"2022\")"
   ]
  },
  {
   "cell_type": "code",
   "execution_count": 28,
   "id": "32c2851c",
   "metadata": {},
   "outputs": [
    {
     "name": "stdout",
     "output_type": "stream",
     "text": [
      "Hay  4  carros creados\n"
     ]
    }
   ],
   "source": [
    "print(\"Hay \", Car.total, \" carros creados\")"
   ]
  },
  {
   "cell_type": "code",
   "execution_count": 29,
   "id": "2ead0436",
   "metadata": {},
   "outputs": [],
   "source": [
    "del car4"
   ]
  },
  {
   "cell_type": "code",
   "execution_count": 30,
   "id": "580b18b2",
   "metadata": {},
   "outputs": [
    {
     "name": "stdout",
     "output_type": "stream",
     "text": [
      "Hay  3  carros creados\n"
     ]
    }
   ],
   "source": [
    "print(\"Hay \", Car.total, \" carros creados\")"
   ]
  },
  {
   "cell_type": "code",
   "execution_count": 31,
   "id": "6a4c3029",
   "metadata": {},
   "outputs": [
    {
     "ename": "NameError",
     "evalue": "name 'car4' is not defined",
     "output_type": "error",
     "traceback": [
      "\u001b[1;31m---------------------------------------------------------------------------\u001b[0m",
      "\u001b[1;31mNameError\u001b[0m                                 Traceback (most recent call last)",
      "Cell \u001b[1;32mIn[31], line 1\u001b[0m\n\u001b[1;32m----> 1\u001b[0m car4\u001b[38;5;241m.\u001b[39mmake\n",
      "\u001b[1;31mNameError\u001b[0m: name 'car4' is not defined"
     ]
    }
   ],
   "source": [
    "car4.make"
   ]
  },
  {
   "cell_type": "code",
   "execution_count": 32,
   "id": "8d048a1b",
   "metadata": {},
   "outputs": [
    {
     "data": {
      "text/plain": [
       "'Tesla'"
      ]
     },
     "execution_count": 32,
     "metadata": {},
     "output_type": "execute_result"
    }
   ],
   "source": [
    "car3.make"
   ]
  },
  {
   "cell_type": "markdown",
   "id": "0e522234",
   "metadata": {},
   "source": [
    "## Herencia"
   ]
  },
  {
   "cell_type": "code",
   "execution_count": 33,
   "id": "3854e314",
   "metadata": {},
   "outputs": [],
   "source": [
    "class Car:\n",
    "    super_attribute = \"Atributo de la súper clase/ Clase Padre\"\n",
    "    def __init__(self):\n",
    "        print(\"Inicialización de la súper clase/ Clase Padre\")\n",
    "    def super_method(self):\n",
    "        print(\"Método de la súper clase/ Clase Padre\")\n",
    "        \n",
    "class CollectionCar(Car): # Hija que va a heredar\n",
    "    sub_attribute = \"Atributo de la sub clase/ Clase Hija\"\n",
    "    def __init__(self):\n",
    "        print(\"Inicialización de la sub clase/ Clase Hija\")\n",
    "    def sub_method(self):\n",
    "        print(\"Método de la sub clase/ Clase Hija\")"
   ]
  },
  {
   "cell_type": "code",
   "execution_count": 34,
   "id": "272f02c2",
   "metadata": {},
   "outputs": [
    {
     "name": "stdout",
     "output_type": "stream",
     "text": [
      "Inicialización de la sub clase/ Clase Hija\n"
     ]
    }
   ],
   "source": [
    "sub_car = CollectionCar()"
   ]
  },
  {
   "cell_type": "code",
   "execution_count": 36,
   "id": "bb9c27aa",
   "metadata": {},
   "outputs": [
    {
     "name": "stdout",
     "output_type": "stream",
     "text": [
      "Método de la súper clase/ Clase Padre\n",
      "Método de la sub clase/ Clase Hija\n",
      "Atributo de la súper clase/ Clase Padre\n",
      "Atributo de la sub clase/ Clase Hija\n"
     ]
    }
   ],
   "source": [
    "sub_car.super_method()\n",
    "sub_car.sub_method()\n",
    "print(sub_car.super_attribute)\n",
    "print(sub_car.sub_attribute)"
   ]
  },
  {
   "cell_type": "markdown",
   "id": "06c3115c",
   "metadata": {},
   "source": [
    "## Usando una SubClase como SuperClase"
   ]
  },
  {
   "cell_type": "code",
   "execution_count": 41,
   "id": "49b75d3f",
   "metadata": {},
   "outputs": [],
   "source": [
    "class Car:\n",
    "    super_attribute = \"Atributo de la súper clase/ Clase Padre/Abuelo\"\n",
    "    def __init__(self):\n",
    "        print(\"Inicialización de la súper clase/ Clase Padre/Abuelo\")\n",
    "    def super_method(self):\n",
    "        print(\"Método de la súper clase/ Clase Padre/Abuelo\")\n",
    "        \n",
    "class CollectionCar(Car): # Hija que va a heredar\n",
    "    sub_attribute = \"Atributo de la sub clase/ Clase Hija\"\n",
    "    def __init__(self):\n",
    "        print(\"Inicialización de la sub clase/ Clase Hija\")\n",
    "    def sub_method(self):\n",
    "        print(\"Método de la sub clase/ Clase Hija\")\n",
    "        \n",
    "class SubCollectionCar(CollectionCar): # Nieta que va a heredar\n",
    "    sub_sub_attribute = \"Atributo de la sub clase/ Clase Nieta\"\n",
    "    def __init__(self):\n",
    "        print(\"Inicialización de la sub clase/ Clase Nieta\")\n",
    "    def sub_sub_method(self):\n",
    "        print(\"Método de la sub clase/ Clase Nieta\")"
   ]
  },
  {
   "cell_type": "code",
   "execution_count": 42,
   "id": "2c4ee166",
   "metadata": {},
   "outputs": [
    {
     "name": "stdout",
     "output_type": "stream",
     "text": [
      "Inicialización de la sub clase/ Clase Nieta\n"
     ]
    }
   ],
   "source": [
    "sub_sub_ccar = SubCollectionCar()"
   ]
  },
  {
   "cell_type": "code",
   "execution_count": 43,
   "id": "05d77fbd",
   "metadata": {},
   "outputs": [
    {
     "name": "stdout",
     "output_type": "stream",
     "text": [
      "Método de la súper clase/ Clase Padre/Abuelo\n",
      "Método de la sub clase/ Clase Hija\n",
      "Método de la sub clase/ Clase Nieta\n",
      "Atributo de la súper clase/ Clase Padre/Abuelo\n",
      "Atributo de la sub clase/ Clase Hija\n",
      "Atributo de la sub clase/ Clase Nieta\n"
     ]
    }
   ],
   "source": [
    "sub_sub_ccar.super_method()\n",
    "sub_sub_ccar.sub_method()\n",
    "sub_sub_ccar.sub_sub_method()\n",
    "print(sub_sub_ccar.super_attribute)\n",
    "print(sub_sub_ccar.sub_attribute)\n",
    "print(sub_sub_ccar.sub_sub_attribute)"
   ]
  },
  {
   "cell_type": "code",
   "execution_count": null,
   "id": "4f5039df",
   "metadata": {},
   "outputs": [],
   "source": []
  }
 ],
 "metadata": {
  "kernelspec": {
   "display_name": "Python 3 (ipykernel)",
   "language": "python",
   "name": "python3"
  },
  "language_info": {
   "codemirror_mode": {
    "name": "ipython",
    "version": 3
   },
   "file_extension": ".py",
   "mimetype": "text/x-python",
   "name": "python",
   "nbconvert_exporter": "python",
   "pygments_lexer": "ipython3",
   "version": "3.11.3"
  }
 },
 "nbformat": 4,
 "nbformat_minor": 5
}
