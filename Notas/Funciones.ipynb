{
 "cells": [
  {
   "cell_type": "markdown",
   "id": "cb11d78f",
   "metadata": {},
   "source": [
    "## Funciones en Python\n",
    "Una función:\n",
    "- Es un conjunto de operaciones\n",
    "- Puede ser usada como un molde reutilizable\n",
    "- Puede regresar un valor\n",
    "- Puede ahorrar mucho tiempo de desarrollo\n",
    "- Puede aceptar parámetros para mandar valores al programa/funciones"
   ]
  },
  {
   "cell_type": "markdown",
   "id": "f2ed4416",
   "metadata": {},
   "source": [
    "## Funciones definidas por el usuario\n",
    "- Las funciones son usadas comúnmente en todos los programas\n",
    "- Código reutilizable para ejecutar tareas específicas\n",
    "- Pueden regresar valores\n",
    "- Las funciones actúan como un molde para tareas repetidas\n",
    "- Las funciones pueden ser creadas con la palabra clave \"def\"\n",
    "- Podemos usar la palabra clave \"return\" para regresar un valor\n",
    "\n",
    "def my_function(parameters):\n",
    "    print(\"Paso 1\")\n",
    "    print(\"Paso 2\")\n",
    "    print(\"Paso 3\")\n",
    "    return \"Completado\"\n",
    "    \n",
    "Notas:\n",
    "- La palabra clave \"def\" es obligatoria para definir una función\n",
    "- Los parámetros/parameters son opcionales\n",
    "- Las instrucciones dentro de la función son obligatorias, en caso de no especificar estas instrucciones se deve sustituir con un \"pass\"\n",
    "- La palabra clave \"return\" es opcional en una función"
   ]
  },
  {
   "cell_type": "code",
   "execution_count": 1,
   "id": "83440e2b",
   "metadata": {},
   "outputs": [],
   "source": [
    "def my_function(parameters):\n",
    "    print(\"Paso 1\")\n",
    "    print(\"Paso 2\")\n",
    "    print(\"Paso 3\")\n",
    "    return \"Completado\""
   ]
  },
  {
   "cell_type": "code",
   "execution_count": 2,
   "id": "826db5d6",
   "metadata": {},
   "outputs": [
    {
     "ename": "NameError",
     "evalue": "name 'my_function' is not defined",
     "output_type": "error",
     "traceback": [
      "\u001b[1;31m---------------------------------------------------------------------------\u001b[0m",
      "\u001b[1;31mNameError\u001b[0m                                 Traceback (most recent call last)",
      "Cell \u001b[1;32mIn[2], line 1\u001b[0m\n\u001b[1;32m----> 1\u001b[0m my_function(\u001b[38;5;241m2\u001b[39m)\n",
      "\u001b[1;31mNameError\u001b[0m: name 'my_function' is not defined"
     ]
    }
   ],
   "source": [
    "my_function(2)"
   ]
  },
  {
   "cell_type": "markdown",
   "id": "623fd919",
   "metadata": {},
   "source": [
    "## Parámetros de Funciones\n",
    "- Los parámetros son opcionales de una función\n",
    "- Podemos declarar los parámetros en la definición de la función\n",
    "- También podemos llamarles argumentos\n",
    "- Los parámetros son usados para pasar valores dinámicamente a la función\n",
    "- Tenemos 2 tipos de parámetros\n",
    "    - Formales\n",
    "    - Reales"
   ]
  },
  {
   "cell_type": "markdown",
   "id": "82c4050f",
   "metadata": {},
   "source": [
    "## Tipos de parámetros\n",
    "Parámetros formales\n",
    "- Son los valores usados en la creación/definición de la función"
   ]
  },
  {
   "cell_type": "markdown",
   "id": "c0e2f7cc",
   "metadata": {},
   "source": [
    "Parámetros Reales\n",
    "- Son los valores usados al llamar/Invocar una función"
   ]
  },
  {
   "cell_type": "code",
   "execution_count": 2,
   "id": "cbc5868b",
   "metadata": {},
   "outputs": [],
   "source": [
    "def print_number(number): # Parámetros formales\n",
    "    print(\"El valor de number es:\", number)"
   ]
  },
  {
   "cell_type": "code",
   "execution_count": 4,
   "id": "e87b0ad8",
   "metadata": {},
   "outputs": [
    {
     "name": "stdout",
     "output_type": "stream",
     "text": [
      "El valor de number es: 3800\n"
     ]
    }
   ],
   "source": [
    "print_number(3800) # Parámetro Real"
   ]
  },
  {
   "cell_type": "markdown",
   "id": "6c193c70",
   "metadata": {},
   "source": [
    "# Invocando Funciones"
   ]
  },
  {
   "cell_type": "code",
   "execution_count": 12,
   "id": "7527c55d",
   "metadata": {},
   "outputs": [],
   "source": [
    "def plus_ten(number):\n",
    "    return number + 10\n",
    "\n",
    "def minus_ten(number):\n",
    "    return number - 10\n",
    "\n",
    "def another_function(f, number):\n",
    "    result = f(number)\n",
    "    return result"
   ]
  },
  {
   "cell_type": "code",
   "execution_count": 13,
   "id": "f5ce942a",
   "metadata": {},
   "outputs": [
    {
     "data": {
      "text/plain": [
       "210"
      ]
     },
     "execution_count": 13,
     "metadata": {},
     "output_type": "execute_result"
    }
   ],
   "source": [
    "plus_ten(200)"
   ]
  },
  {
   "cell_type": "code",
   "execution_count": 14,
   "id": "8b0ef19b",
   "metadata": {},
   "outputs": [
    {
     "data": {
      "text/plain": [
       "190"
      ]
     },
     "execution_count": 14,
     "metadata": {},
     "output_type": "execute_result"
    }
   ],
   "source": [
    "minus_ten(200)"
   ]
  },
  {
   "cell_type": "code",
   "execution_count": 15,
   "id": "ce54d76f",
   "metadata": {},
   "outputs": [
    {
     "data": {
      "text/plain": [
       "210"
      ]
     },
     "execution_count": 15,
     "metadata": {},
     "output_type": "execute_result"
    }
   ],
   "source": [
    "another_function(plus_ten, 200)"
   ]
  },
  {
   "cell_type": "markdown",
   "id": "b46d526d",
   "metadata": {},
   "source": [
    "## Funciones anidadas\n",
    "- Es una función de otra función\n",
    "- Así como hay listas anidadas o ciclos anidados\n",
    "- Las funciones internas pueden ser útiles al ejecutar tareas complejas más de una vez dentro de una función y pueden ayudar a evitar ciclos o código duplicado\n",
    "\n",
    "Usos:\n",
    "- Simplificar la lógica y estructura\n",
    "- Construir nuevas funciones basadas en parámetros\n",
    "- Pasar funciones a otras funciones para generar resultados precisos"
   ]
  },
  {
   "cell_type": "code",
   "execution_count": 17,
   "id": "7833ad03",
   "metadata": {},
   "outputs": [],
   "source": [
    "def my_function():\n",
    "    def nested_function():\n",
    "        print(\"Función Anidada\")\n",
    "    return nested_function"
   ]
  },
  {
   "cell_type": "code",
   "execution_count": 18,
   "id": "8339f135",
   "metadata": {},
   "outputs": [],
   "source": [
    "result = my_function()"
   ]
  },
  {
   "cell_type": "code",
   "execution_count": 19,
   "id": "9b583e1e",
   "metadata": {},
   "outputs": [
    {
     "data": {
      "text/plain": [
       "<function __main__.my_function.<locals>.nested_function()>"
      ]
     },
     "execution_count": 19,
     "metadata": {},
     "output_type": "execute_result"
    }
   ],
   "source": [
    "result"
   ]
  },
  {
   "cell_type": "code",
   "execution_count": 21,
   "id": "53d7f1ed",
   "metadata": {},
   "outputs": [
    {
     "ename": "NameError",
     "evalue": "name 'nested_function' is not defined",
     "output_type": "error",
     "traceback": [
      "\u001b[1;31m---------------------------------------------------------------------------\u001b[0m",
      "\u001b[1;31mNameError\u001b[0m                                 Traceback (most recent call last)",
      "Cell \u001b[1;32mIn[21], line 1\u001b[0m\n\u001b[1;32m----> 1\u001b[0m nested_function()\n",
      "\u001b[1;31mNameError\u001b[0m: name 'nested_function' is not defined"
     ]
    }
   ],
   "source": [
    "nested_function()"
   ]
  },
  {
   "cell_type": "code",
   "execution_count": 22,
   "id": "24c8351e",
   "metadata": {},
   "outputs": [],
   "source": [
    "# Caso un poco más realista"
   ]
  },
  {
   "cell_type": "code",
   "execution_count": 29,
   "id": "6b663fed",
   "metadata": {},
   "outputs": [],
   "source": [
    "def logger(func):\n",
    "    def log_func(*args):\n",
    "        print(\"Corriendo '{}' con los parámetros {}\".format(func.__name__, args))\n",
    "        print(func(*args))\n",
    "    return log_func\n",
    "\n",
    "def add(x, y):\n",
    "    return x + y\n",
    "\n",
    "def sub(x, y):\n",
    "    return x - y\n",
    "\n",
    "add_logger = logger(add)\n",
    "sub_logger = logger(sub)"
   ]
  },
  {
   "cell_type": "code",
   "execution_count": 30,
   "id": "d5cb7480",
   "metadata": {},
   "outputs": [
    {
     "data": {
      "text/plain": [
       "5"
      ]
     },
     "execution_count": 30,
     "metadata": {},
     "output_type": "execute_result"
    }
   ],
   "source": [
    "add(3,2)"
   ]
  },
  {
   "cell_type": "code",
   "execution_count": 31,
   "id": "f1e3e5e2",
   "metadata": {},
   "outputs": [
    {
     "name": "stdout",
     "output_type": "stream",
     "text": [
      "Corriendo 'add' con los parámetros (3, 2)\n",
      "5\n"
     ]
    }
   ],
   "source": [
    "add_logger(3,2)"
   ]
  },
  {
   "cell_type": "code",
   "execution_count": 32,
   "id": "207a8e26",
   "metadata": {},
   "outputs": [
    {
     "data": {
      "text/plain": [
       "1"
      ]
     },
     "execution_count": 32,
     "metadata": {},
     "output_type": "execute_result"
    }
   ],
   "source": [
    "sub(3,2)"
   ]
  },
  {
   "cell_type": "code",
   "execution_count": 33,
   "id": "953837ed",
   "metadata": {},
   "outputs": [
    {
     "name": "stdout",
     "output_type": "stream",
     "text": [
      "Corriendo 'sub' con los parámetros (3, 2)\n",
      "1\n"
     ]
    }
   ],
   "source": [
    "sub_logger(3,2)"
   ]
  },
  {
   "cell_type": "markdown",
   "id": "5d98b07b",
   "metadata": {},
   "source": [
    "# Función dir"
   ]
  },
  {
   "cell_type": "code",
   "execution_count": 35,
   "id": "317b5361",
   "metadata": {},
   "outputs": [
    {
     "data": {
      "text/plain": [
       "['__annotations__',\n",
       " '__builtins__',\n",
       " '__call__',\n",
       " '__class__',\n",
       " '__closure__',\n",
       " '__code__',\n",
       " '__defaults__',\n",
       " '__delattr__',\n",
       " '__dict__',\n",
       " '__dir__',\n",
       " '__doc__',\n",
       " '__eq__',\n",
       " '__format__',\n",
       " '__ge__',\n",
       " '__get__',\n",
       " '__getattribute__',\n",
       " '__getstate__',\n",
       " '__globals__',\n",
       " '__gt__',\n",
       " '__hash__',\n",
       " '__init__',\n",
       " '__init_subclass__',\n",
       " '__kwdefaults__',\n",
       " '__le__',\n",
       " '__lt__',\n",
       " '__module__',\n",
       " '__name__',\n",
       " '__ne__',\n",
       " '__new__',\n",
       " '__qualname__',\n",
       " '__reduce__',\n",
       " '__reduce_ex__',\n",
       " '__repr__',\n",
       " '__setattr__',\n",
       " '__sizeof__',\n",
       " '__str__',\n",
       " '__subclasshook__']"
      ]
     },
     "execution_count": 35,
     "metadata": {},
     "output_type": "execute_result"
    }
   ],
   "source": [
    "dir (add)"
   ]
  },
  {
   "cell_type": "code",
   "execution_count": 37,
   "id": "b63ac499",
   "metadata": {},
   "outputs": [
    {
     "data": {
      "text/plain": [
       "'add'"
      ]
     },
     "execution_count": 37,
     "metadata": {},
     "output_type": "execute_result"
    }
   ],
   "source": [
    "add.__name__"
   ]
  },
  {
   "cell_type": "code",
   "execution_count": 40,
   "id": "389f175d",
   "metadata": {},
   "outputs": [
    {
     "name": "stdout",
     "output_type": "stream",
     "text": [
      "<class 'dict'>\n",
      "['__class__', '__class_getitem__', '__contains__', '__delattr__', '__delitem__', '__dir__', '__doc__', '__eq__', '__format__', '__ge__', '__getattribute__', '__getitem__', '__getstate__', '__gt__', '__hash__', '__init__', '__init_subclass__', '__ior__', '__iter__', '__le__', '__len__', '__lt__', '__ne__', '__new__', '__or__', '__reduce__', '__reduce_ex__', '__repr__', '__reversed__', '__ror__', '__setattr__', '__setitem__', '__sizeof__', '__str__', '__subclasshook__', 'clear', 'copy', 'fromkeys', 'get', 'items', 'keys', 'pop', 'popitem', 'setdefault', 'update', 'values']\n"
     ]
    }
   ],
   "source": [
    "my_dictionary = {\n",
    "    \"a\":100,\n",
    "    \"b\":200,\n",
    "    \"c\":300\n",
    "}\n",
    "print(type(my_dictionary))\n",
    "print(dir(my_dictionary))"
   ]
  },
  {
   "cell_type": "code",
   "execution_count": 41,
   "id": "bdd8d8fe",
   "metadata": {},
   "outputs": [
    {
     "data": {
      "text/plain": [
       "<function dict.__sizeof__>"
      ]
     },
     "execution_count": 41,
     "metadata": {},
     "output_type": "execute_result"
    }
   ],
   "source": [
    "my_dictionary.__sizeof__"
   ]
  },
  {
   "cell_type": "code",
   "execution_count": 42,
   "id": "f437697d",
   "metadata": {},
   "outputs": [
    {
     "name": "stdout",
     "output_type": "stream",
     "text": [
      "<class 'list'>\n",
      "['__add__', '__class__', '__class_getitem__', '__contains__', '__delattr__', '__delitem__', '__dir__', '__doc__', '__eq__', '__format__', '__ge__', '__getattribute__', '__getitem__', '__getstate__', '__gt__', '__hash__', '__iadd__', '__imul__', '__init__', '__init_subclass__', '__iter__', '__le__', '__len__', '__lt__', '__mul__', '__ne__', '__new__', '__reduce__', '__reduce_ex__', '__repr__', '__reversed__', '__rmul__', '__setattr__', '__setitem__', '__sizeof__', '__str__', '__subclasshook__', 'append', 'clear', 'copy', 'count', 'extend', 'index', 'insert', 'pop', 'remove', 'reverse', 'sort']\n"
     ]
    }
   ],
   "source": [
    "my_list = [120, 53, 28]\n",
    "\n",
    "print(type(my_list))\n",
    "print(dir(my_list))"
   ]
  },
  {
   "cell_type": "code",
   "execution_count": 43,
   "id": "34e0c0cf",
   "metadata": {},
   "outputs": [
    {
     "name": "stdout",
     "output_type": "stream",
     "text": [
      "<class 'tuple'>\n",
      "['__add__', '__class__', '__class_getitem__', '__contains__', '__delattr__', '__dir__', '__doc__', '__eq__', '__format__', '__ge__', '__getattribute__', '__getitem__', '__getnewargs__', '__getstate__', '__gt__', '__hash__', '__init__', '__init_subclass__', '__iter__', '__le__', '__len__', '__lt__', '__mul__', '__ne__', '__new__', '__reduce__', '__reduce_ex__', '__repr__', '__rmul__', '__setattr__', '__sizeof__', '__str__', '__subclasshook__', 'count', 'index']\n"
     ]
    }
   ],
   "source": [
    "my_tuple = (120, 53, 28)\n",
    "\n",
    "print(type(my_tuple))\n",
    "print(dir(my_tuple))"
   ]
  },
  {
   "cell_type": "code",
   "execution_count": 44,
   "id": "b216657e",
   "metadata": {},
   "outputs": [
    {
     "name": "stdout",
     "output_type": "stream",
     "text": [
      "<class 'set'>\n",
      "['__and__', '__class__', '__class_getitem__', '__contains__', '__delattr__', '__dir__', '__doc__', '__eq__', '__format__', '__ge__', '__getattribute__', '__getstate__', '__gt__', '__hash__', '__iand__', '__init__', '__init_subclass__', '__ior__', '__isub__', '__iter__', '__ixor__', '__le__', '__len__', '__lt__', '__ne__', '__new__', '__or__', '__rand__', '__reduce__', '__reduce_ex__', '__repr__', '__ror__', '__rsub__', '__rxor__', '__setattr__', '__sizeof__', '__str__', '__sub__', '__subclasshook__', '__xor__', 'add', 'clear', 'copy', 'difference', 'difference_update', 'discard', 'intersection', 'intersection_update', 'isdisjoint', 'issubset', 'issuperset', 'pop', 'remove', 'symmetric_difference', 'symmetric_difference_update', 'union', 'update']\n"
     ]
    }
   ],
   "source": [
    "my_set = {120, 53, 28}\n",
    "\n",
    "print(type(my_set))\n",
    "print(dir(my_set))"
   ]
  },
  {
   "cell_type": "code",
   "execution_count": 45,
   "id": "af68bf1a",
   "metadata": {},
   "outputs": [
    {
     "name": "stdout",
     "output_type": "stream",
     "text": [
      "Requirement already satisfied: requests in c:\\users\\samig\\anaconda3\\lib\\site-packages (2.31.0)\n",
      "Requirement already satisfied: charset-normalizer<4,>=2 in c:\\users\\samig\\anaconda3\\lib\\site-packages (from requests) (2.0.4)\n",
      "Requirement already satisfied: idna<4,>=2.5 in c:\\users\\samig\\anaconda3\\lib\\site-packages (from requests) (3.4)\n",
      "Requirement already satisfied: urllib3<3,>=1.21.1 in c:\\users\\samig\\anaconda3\\lib\\site-packages (from requests) (1.26.16)\n",
      "Requirement already satisfied: certifi>=2017.4.17 in c:\\users\\samig\\anaconda3\\lib\\site-packages (from requests) (2023.7.22)\n"
     ]
    }
   ],
   "source": [
    "! pip install requests"
   ]
  },
  {
   "cell_type": "code",
   "execution_count": 46,
   "id": "2a7acf48",
   "metadata": {},
   "outputs": [
    {
     "name": "stdout",
     "output_type": "stream",
     "text": [
      "['ConnectTimeout', 'ConnectionError', 'DependencyWarning', 'FileModeWarning', 'HTTPError', 'JSONDecodeError', 'NullHandler', 'PreparedRequest', 'ReadTimeout', 'Request', 'RequestException', 'RequestsDependencyWarning', 'Response', 'Session', 'Timeout', 'TooManyRedirects', 'URLRequired', '__author__', '__author_email__', '__build__', '__builtins__', '__cached__', '__cake__', '__copyright__', '__description__', '__doc__', '__file__', '__license__', '__loader__', '__name__', '__package__', '__path__', '__spec__', '__title__', '__url__', '__version__', '_check_cryptography', '_internal_utils', 'adapters', 'api', 'auth', 'certs', 'chardet_version', 'charset_normalizer_version', 'check_compatibility', 'codes', 'compat', 'cookies', 'delete', 'exceptions', 'get', 'head', 'hooks', 'logging', 'models', 'options', 'packages', 'patch', 'post', 'put', 'request', 'session', 'sessions', 'ssl', 'status_codes', 'structures', 'urllib3', 'utils', 'warnings']\n"
     ]
    }
   ],
   "source": [
    "import requests\n",
    "print(dir(requests))"
   ]
  },
  {
   "cell_type": "markdown",
   "id": "156f6d5d",
   "metadata": {},
   "source": [
    "# Función format"
   ]
  },
  {
   "cell_type": "code",
   "execution_count": 47,
   "id": "106d0228",
   "metadata": {},
   "outputs": [
    {
     "name": "stdout",
     "output_type": "stream",
     "text": [
      "El tipo de dato de my_variable es <class 'int'>\n",
      "El valor de my_variable es 10\n"
     ]
    }
   ],
   "source": [
    "my_variable = 10\n",
    "print(\"El tipo de dato de my_variable es {}\".format(type(my_variable)))\n",
    "print(\"El valor de my_variable es {}\".format(my_variable))"
   ]
  },
  {
   "cell_type": "code",
   "execution_count": 48,
   "id": "a4f973bd",
   "metadata": {},
   "outputs": [
    {
     "name": "stdout",
     "output_type": "stream",
     "text": [
      "El tipo de dato de my_variable es <class 'float'>\n",
      "El valor de my_variable es 10.0\n"
     ]
    }
   ],
   "source": [
    "my_variable = 10.0\n",
    "print(\"El tipo de dato de my_variable es {}\".format(type(my_variable)))\n",
    "print(\"El valor de my_variable es {}\".format(my_variable))"
   ]
  },
  {
   "cell_type": "code",
   "execution_count": 49,
   "id": "1c1cb6f7",
   "metadata": {},
   "outputs": [
    {
     "name": "stdout",
     "output_type": "stream",
     "text": [
      "El tipo de dato de my_variable es <class 'str'>\n",
      "El valor de my_variable es 10.0\n"
     ]
    }
   ],
   "source": [
    "my_variable = \"10.0\"\n",
    "print(\"El tipo de dato de my_variable es {}\".format(type(my_variable)))\n",
    "print(\"El valor de my_variable es {}\".format(my_variable))"
   ]
  },
  {
   "cell_type": "code",
   "execution_count": 50,
   "id": "60351049",
   "metadata": {},
   "outputs": [
    {
     "name": "stdout",
     "output_type": "stream",
     "text": [
      "Valor 10.0, Tipo <class 'str'>\n"
     ]
    }
   ],
   "source": [
    "my_variable = \"10.0\"\n",
    "print(\"Valor {}, Tipo {}\".format(my_variable, type(my_variable)))"
   ]
  },
  {
   "cell_type": "code",
   "execution_count": 51,
   "id": "69a668ce",
   "metadata": {},
   "outputs": [
    {
     "name": "stdout",
     "output_type": "stream",
     "text": [
      "Tipo <class 'str'>, Valor 10.0\n"
     ]
    }
   ],
   "source": [
    "my_variable = \"10.0\"\n",
    "print(\"Tipo {1}, Valor {0}\".format(my_variable, type(my_variable)))"
   ]
  },
  {
   "cell_type": "code",
   "execution_count": 52,
   "id": "a5b685ec",
   "metadata": {},
   "outputs": [
    {
     "name": "stdout",
     "output_type": "stream",
     "text": [
      "Tipo <class 'str'>, Tipo <class 'str'>, Tipo <class 'str'>, Tipo <class 'str'>, Tipo <class 'str'>, Valor 10.0\n"
     ]
    }
   ],
   "source": [
    "my_variable = \"10.0\"\n",
    "print(\"Tipo {1}, Tipo {1}, Tipo {1}, Tipo {1}, Tipo {1}, Valor {0}\".format(my_variable, type(my_variable)))"
   ]
  },
  {
   "cell_type": "markdown",
   "id": "e282a9b9",
   "metadata": {},
   "source": [
    "# Función enumerate"
   ]
  },
  {
   "cell_type": "code",
   "execution_count": 53,
   "id": "115d73bd",
   "metadata": {},
   "outputs": [
    {
     "name": "stdout",
     "output_type": "stream",
     "text": [
      "Python\n",
      "Go\n",
      "Javascript\n",
      "Java\n",
      "Scala\n"
     ]
    }
   ],
   "source": [
    "programming_languages = [\"Python\", \"Go\", \"Javascript\", \"Java\", \"Scala\"]\n",
    "\n",
    "for language_name in programming_languages:\n",
    "    print(language_name)"
   ]
  },
  {
   "cell_type": "code",
   "execution_count": 56,
   "id": "48202296",
   "metadata": {},
   "outputs": [
    {
     "name": "stdout",
     "output_type": "stream",
     "text": [
      "El lenguaje en el índice 0 es Python\n",
      "El lenguaje en el índice 1 es Go\n",
      "El lenguaje en el índice 2 es Javascript\n",
      "El lenguaje en el índice 3 es Java\n",
      "El lenguaje en el índice 4 es Scala\n"
     ]
    }
   ],
   "source": [
    "for i, language_name in enumerate(programming_languages):\n",
    "    print(\"El lenguaje en el índice {} es {}\".format(i,language_name))"
   ]
  },
  {
   "cell_type": "code",
   "execution_count": 58,
   "id": "b4da3f84",
   "metadata": {},
   "outputs": [
    {
     "name": "stdout",
     "output_type": "stream",
     "text": [
      "El lenguaje en la posición 1 es Python\n",
      "El lenguaje en la posición 2 es Go\n",
      "El lenguaje en la posición 3 es Javascript\n",
      "El lenguaje en la posición 4 es Java\n",
      "El lenguaje en la posición 5 es Scala\n"
     ]
    }
   ],
   "source": [
    "for i, language_name in enumerate(programming_languages):\n",
    "    print(\"El lenguaje en la posición {} es {}\".format(i+1,language_name))"
   ]
  },
  {
   "cell_type": "code",
   "execution_count": 60,
   "id": "b50a8b7f",
   "metadata": {},
   "outputs": [
    {
     "name": "stdout",
     "output_type": "stream",
     "text": [
      "El lenguaje en la posición 1 es Python\n",
      "El lenguaje en la posición 2 es Go\n",
      "El lenguaje en la posición 3 es Javascript\n",
      "El lenguaje en la posición 4 es Java\n",
      "El lenguaje en la posición 5 es Scala\n"
     ]
    }
   ],
   "source": [
    "for i, language_name in enumerate(programming_languages, start=1):\n",
    "    print(\"El lenguaje en la posición {} es {}\".format(i,language_name))"
   ]
  },
  {
   "cell_type": "code",
   "execution_count": 61,
   "id": "8273cb6e",
   "metadata": {},
   "outputs": [
    {
     "name": "stdout",
     "output_type": "stream",
     "text": [
      "(1, 'Python')\n",
      "(2, 'Go')\n",
      "(3, 'Javascript')\n",
      "(4, 'Java')\n",
      "(5, 'Scala')\n"
     ]
    }
   ],
   "source": [
    "for language_name in enumerate(programming_languages, start=1):\n",
    "    print(language_name)"
   ]
  },
  {
   "cell_type": "markdown",
   "id": "b32a7dcc",
   "metadata": {},
   "source": [
    "## Funciones lambda\n",
    "\n",
    "Función Lambda\n",
    "- Es una función anónima (sin nombre)\n",
    "- Puede recibir cualquier número de argumentos pero sólo pueden tener una expresión\n",
    "- \"lambda\" es una palabra clave en Python que representa una función anónima dentro de otra función\n",
    "- La ventaja principal es usarla en combinación con built-in functions como map o filter\n",
    "- La función es regresada como valor por otra función"
   ]
  },
  {
   "cell_type": "code",
   "execution_count": 63,
   "id": "38f5f458",
   "metadata": {},
   "outputs": [],
   "source": [
    "plus_ten = lambda x:x+10"
   ]
  },
  {
   "cell_type": "code",
   "execution_count": 65,
   "id": "7de21556",
   "metadata": {},
   "outputs": [
    {
     "name": "stdout",
     "output_type": "stream",
     "text": [
      "20\n",
      "160\n",
      "130\n"
     ]
    }
   ],
   "source": [
    "print(plus_ten(10))\n",
    "print(plus_ten(150))\n",
    "print(plus_ten(120))"
   ]
  },
  {
   "cell_type": "code",
   "execution_count": 68,
   "id": "95bf6d0b",
   "metadata": {},
   "outputs": [],
   "source": [
    "my_list = [10,50,140,200,700,16,18]\n",
    "result = map(plus_ten, my_list)"
   ]
  },
  {
   "cell_type": "code",
   "execution_count": 69,
   "id": "93d94cd1",
   "metadata": {},
   "outputs": [
    {
     "data": {
      "text/plain": [
       "<map at 0x2abc8fb3670>"
      ]
     },
     "execution_count": 69,
     "metadata": {},
     "output_type": "execute_result"
    }
   ],
   "source": [
    "result"
   ]
  },
  {
   "cell_type": "code",
   "execution_count": 70,
   "id": "6eb3e767",
   "metadata": {},
   "outputs": [
    {
     "data": {
      "text/plain": [
       "[20, 60, 150, 210, 710, 26, 28]"
      ]
     },
     "execution_count": 70,
     "metadata": {},
     "output_type": "execute_result"
    }
   ],
   "source": [
    "list(result)"
   ]
  },
  {
   "cell_type": "code",
   "execution_count": null,
   "id": "9836732b",
   "metadata": {},
   "outputs": [],
   "source": []
  }
 ],
 "metadata": {
  "kernelspec": {
   "display_name": "Python 3 (ipykernel)",
   "language": "python",
   "name": "python3"
  },
  "language_info": {
   "codemirror_mode": {
    "name": "ipython",
    "version": 3
   },
   "file_extension": ".py",
   "mimetype": "text/x-python",
   "name": "python",
   "nbconvert_exporter": "python",
   "pygments_lexer": "ipython3",
   "version": "3.11.3"
  }
 },
 "nbformat": 4,
 "nbformat_minor": 5
}
