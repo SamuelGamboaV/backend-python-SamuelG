{
 "cells": [
  {
   "cell_type": "markdown",
   "id": "fa5dfc32",
   "metadata": {},
   "source": [
    "## ¿Qué es Comprehension?\n",
    "\n",
    "- Comprehension en Python nos permite construir lógica de manera corta y concisa\n",
    "- Es una forma de escribir un bloque de código para generar una secuencia que puede ser una lista, un diccionario, un set o un generador usando otra secuencia.\n",
    "- Puede involucrar múltiples pasos de conversión entre los diferentes tipos de secuecia"
   ]
  },
  {
   "cell_type": "markdown",
   "id": "21bfa399",
   "metadata": {},
   "source": [
    "## Propósito de Comprehension\n",
    "- Son construcciones que nos permiten crear secuencias de otras secuencias\n",
    "- Trabajan más rápido que un ciclo for equivalente\n",
    "- Se pueden incorporar múltiples ciclos for y condicionales if fácilmente"
   ]
  },
  {
   "cell_type": "markdown",
   "id": "7c648ce3",
   "metadata": {},
   "source": [
    "## List Comprehensions\n",
    "- Son usados para crear nuevas listas de otros iterables\n",
    "- Regresan listas\n",
    "- Consisten en expresiones en medio de corchetes\n",
    "- la expresión es usada por cada elemento junto con un ciclo 'for' para iterar en cada elemento\n",
    "- Pueden contener múltiples list comprehension anidadas"
   ]
  },
  {
   "cell_type": "code",
   "execution_count": 6,
   "id": "5107311a",
   "metadata": {},
   "outputs": [
    {
     "name": "stdout",
     "output_type": "stream",
     "text": [
      "1\n",
      "3\n",
      "5\n",
      "7\n",
      "9\n",
      "11\n",
      "13\n",
      "15\n",
      "17\n",
      "19\n"
     ]
    }
   ],
   "source": [
    "# Ciclo for convencional\n",
    "# Números impares\n",
    "\n",
    "for number in range (20):\n",
    "    if number%2==1:\n",
    "        print(number)"
   ]
  },
  {
   "cell_type": "code",
   "execution_count": 7,
   "id": "06ff84bb",
   "metadata": {},
   "outputs": [
    {
     "name": "stdout",
     "output_type": "stream",
     "text": [
      "[1, 3, 5, 7, 9, 11, 13, 15, 17, 19]\n"
     ]
    }
   ],
   "source": [
    "# List Comprehension\n",
    "# Números impares\n",
    "\n",
    "odd_numbers = [x for x in range(20) if x%2==1]\n",
    "print(odd_numbers)"
   ]
  },
  {
   "cell_type": "code",
   "execution_count": 9,
   "id": "6210dc67",
   "metadata": {},
   "outputs": [
    {
     "name": "stdout",
     "output_type": "stream",
     "text": [
      "B\n",
      "a\n",
      "c\n",
      "k\n",
      "e\n",
      "n\n",
      "d\n",
      " \n",
      "P\n",
      "y\n",
      "t\n",
      "h\n",
      "o\n",
      "n\n"
     ]
    }
   ],
   "source": [
    "# Ciclo for convencional\n",
    "# Caracteres en una cadena\n",
    "\n",
    "my_string = \"Backend Python\"\n",
    "\n",
    "for char in my_string:\n",
    "    print(char)"
   ]
  },
  {
   "cell_type": "code",
   "execution_count": 10,
   "id": "389da961",
   "metadata": {},
   "outputs": [
    {
     "name": "stdout",
     "output_type": "stream",
     "text": [
      "['B', 'a', 'c', 'k', 'e', 'n', 'd', ' ', 'P', 'y', 't', 'h', 'o', 'n']\n"
     ]
    }
   ],
   "source": [
    "# List Comprehension\n",
    "# Caracteres en una cadena\n",
    "\n",
    "my_string = \"Backend Python\"\n",
    "\n",
    "letters = [char for char in my_string]\n",
    "\n",
    "print(letters)"
   ]
  },
  {
   "cell_type": "markdown",
   "id": "d6ba3cc8",
   "metadata": {},
   "source": [
    "## Dict Comprehensions\n",
    "- Son prácticamente idénticas a list comprehensions\n",
    "- Operan de la misma forma pero usamos dos variables. La llave y el valor, en lugar de un solo valor para la iteración de las listas"
   ]
  },
  {
   "cell_type": "code",
   "execution_count": 11,
   "id": "c57daf6d",
   "metadata": {},
   "outputs": [
    {
     "name": "stdout",
     "output_type": "stream",
     "text": [
      "{0: 1, 1: 1, 2: 2, 3: 6, 4: 24, 5: 120}\n"
     ]
    }
   ],
   "source": [
    "import math\n",
    "factorials = {x:math.factorial(x) for x in range(6)}\n",
    "print(factorials)"
   ]
  },
  {
   "cell_type": "code",
   "execution_count": 14,
   "id": "6bdfae35",
   "metadata": {},
   "outputs": [
    {
     "name": "stdout",
     "output_type": "stream",
     "text": [
      "{1: 1, 3: 6, 5: 120}\n"
     ]
    }
   ],
   "source": [
    "import math\n",
    "odd_factorials = {x:math.factorial(x) for x in range(6) if x%2==1}\n",
    "print(odd_factorials)"
   ]
  },
  {
   "cell_type": "code",
   "execution_count": 15,
   "id": "06fc66ee",
   "metadata": {},
   "outputs": [
    {
     "name": "stdout",
     "output_type": "stream",
     "text": [
      "{0: 1, 2: 2, 4: 24}\n"
     ]
    }
   ],
   "source": [
    "import math\n",
    "even_factorials = {x:math.factorial(x) for x in range(6) if x%2==0}\n",
    "print(even_factorials)"
   ]
  },
  {
   "cell_type": "markdown",
   "id": "20891903",
   "metadata": {},
   "source": [
    "# Declaraciones condicionales\n",
    "\n",
    "## ¿Qué son las Declaraciones Condicionales?\n",
    "\n",
    "- Generalmente, controlan el flujo del programa\n",
    "- Si la condición es verdadera, el programa ejecuta cierta acción\n",
    "- Si la condición es falsa, el programa ejecuta otra acción\n",
    "- Se usan para evaluar si ciertas condiciones son verdaderas o falsas y decidir qué bloque de código ejecutar\n",
    "- Tenemos tres tipos de declaraciones condicionales:\n",
    "    - if\n",
    "    - if else\n",
    "    - if elif else"
   ]
  },
  {
   "cell_type": "markdown",
   "id": "042cea14",
   "metadata": {},
   "source": [
    "### ¿Por qué usar las Declaraciones Condicionales?\n",
    "- Son un concepto central común en cualquier tipo de programación\n",
    "- Se pueden usar para validaciones condicionales\n",
    "- Usamos \"if\" para revisar si una condición es verdadera o falsa\n",
    "- Las declaraciones condicionales incluyen una condición y el bloque de código para esa condición\n",
    "- Dependerá del resultado de una condición si se hace la validación de la siguiente condición\n",
    "- Si una condición es verdadera, pasará a validar la siguiente condición\n",
    "- Si la condición es falsa, irá directo al bloque correspondiente o bloque default"
   ]
  },
  {
   "cell_type": "markdown",
   "id": "31e2e152",
   "metadata": {},
   "source": [
    "# if"
   ]
  },
  {
   "cell_type": "code",
   "execution_count": 17,
   "id": "dfb1e0db",
   "metadata": {},
   "outputs": [
    {
     "name": "stdout",
     "output_type": "stream",
     "text": [
      "Dentro del bloque if\n",
      "Final del ejemplo\n"
     ]
    }
   ],
   "source": [
    "num = 3\n",
    "if num > 1 and num < 10:\n",
    "    print(\"Dentro del bloque if\")\n",
    "print(\"Final del ejemplo\")"
   ]
  },
  {
   "cell_type": "code",
   "execution_count": 19,
   "id": "84124071",
   "metadata": {},
   "outputs": [
    {
     "name": "stdout",
     "output_type": "stream",
     "text": [
      "Final del ejemplo\n"
     ]
    }
   ],
   "source": [
    "num = 0\n",
    "if num > 1 and num < 10:\n",
    "    print(\"Dentro del bloque if\")\n",
    "    print(\"test\")\n",
    "    print(\"Probando!!!\")\n",
    "print(\"Final del ejemplo\")"
   ]
  },
  {
   "cell_type": "markdown",
   "id": "3387bc37",
   "metadata": {},
   "source": [
    "# IF-ELSE"
   ]
  },
  {
   "cell_type": "code",
   "execution_count": 21,
   "id": "5c97c57a",
   "metadata": {},
   "outputs": [
    {
     "name": "stdout",
     "output_type": "stream",
     "text": [
      "Dentro del bloque if\n",
      "test\n",
      "Probando!!!\n",
      "Final del ejemplo\n"
     ]
    }
   ],
   "source": [
    "num = 3\n",
    "if num > 1 and num < 10:\n",
    "    print(\"Dentro del bloque if\")\n",
    "    print(\"test\")\n",
    "    print(\"Probando!!!\")\n",
    "else: # De lo contrario\n",
    "    print(\"Dentro del bloque else\")\n",
    "    print(\"Else\")\n",
    "    print(\"ELSE\")\n",
    "    print(\"La condición no se cumplió\")\n",
    "print(\"Final del ejemplo\")"
   ]
  },
  {
   "cell_type": "code",
   "execution_count": 23,
   "id": "a2cb4bc0",
   "metadata": {},
   "outputs": [
    {
     "name": "stdout",
     "output_type": "stream",
     "text": [
      "Dentro del bloque else\n",
      "Else\n",
      "ELSE\n",
      "La condición no se cumplió\n",
      "Final del ejemplo\n"
     ]
    }
   ],
   "source": [
    "num = 11\n",
    "if num > 1 and num < 10: # No se cumple\n",
    "    print(\"Dentro del bloque if\")\n",
    "    print(\"test\")\n",
    "    print(\"Probando!!!\")\n",
    "else: # De lo contrario\n",
    "    print(\"Dentro del bloque else\")\n",
    "    print(\"Else\")\n",
    "    print(\"ELSE\")\n",
    "    print(\"La condición no se cumplió\")\n",
    "print(\"Final del ejemplo\")"
   ]
  },
  {
   "cell_type": "markdown",
   "id": "6dbb1b2d",
   "metadata": {},
   "source": [
    "# IF - ELIF - ELSE"
   ]
  },
  {
   "cell_type": "code",
   "execution_count": 24,
   "id": "e1162bc7",
   "metadata": {},
   "outputs": [
    {
     "name": "stdout",
     "output_type": "stream",
     "text": [
      "Dentro del bloque if\n",
      "test\n",
      "Probando!!!\n",
      "Final del ejemplo\n"
     ]
    }
   ],
   "source": [
    "num = 4\n",
    "if num > 1 and num < 10: # No se cumple\n",
    "    print(\"Dentro del bloque if\")\n",
    "    print(\"test\")\n",
    "    print(\"Probando!!!\")\n",
    "elif num == 11:\n",
    "    print(\"Dentro del bloque elif\")\n",
    "    print(\"El valor de este num es 11\")\n",
    "else: # De lo contrario\n",
    "    print(\"Dentro del bloque else\")\n",
    "    print(\"Else\")\n",
    "    print(\"ELSE\")\n",
    "    print(\"La condición no se cumplió\")\n",
    "print(\"Final del ejemplo\")"
   ]
  },
  {
   "cell_type": "code",
   "execution_count": 27,
   "id": "3d779925",
   "metadata": {},
   "outputs": [
    {
     "name": "stdout",
     "output_type": "stream",
     "text": [
      "Dentro del bloque elif\n",
      "El valor de este num es 2\n",
      "Final del ejemplo\n"
     ]
    }
   ],
   "source": [
    "num = 11\n",
    "if num > 1 and num < 10: # No se cumple\n",
    "    print(\"Dentro del bloque if\")\n",
    "    print(\"test\")\n",
    "    print(\"Probando!!!\")\n",
    "elif num == 11:\n",
    "    print(\"Dentro del bloque elif\")\n",
    "    print(\"El valor de este num es 11\")\n",
    "else: # De lo contrario\n",
    "    print(\"Dentro del bloque else\")\n",
    "    print(\"Else\")\n",
    "    print(\"ELSE\")\n",
    "    print(\"La condición no se cumplió\")\n",
    "print(\"Final del ejemplo\")"
   ]
  },
  {
   "cell_type": "code",
   "execution_count": 29,
   "id": "8361b956",
   "metadata": {},
   "outputs": [
    {
     "name": "stdout",
     "output_type": "stream",
     "text": [
      "Dentro del bloque elif\n",
      "El valor de este num es 13\n",
      "Final del ejemplo\n"
     ]
    }
   ],
   "source": [
    "num = 13\n",
    "if num > 1 and num < 10: # No se cumple\n",
    "    print(\"Dentro del bloque if\")\n",
    "    print(\"test\")\n",
    "    print(\"Probando!!!\")\n",
    "elif num == 11:\n",
    "    print(\"Dentro del bloque elif\")\n",
    "    print(\"El valor de este num es 11\")\n",
    "elif num == 12:\n",
    "    print(\"Dentro del bloque elif\")\n",
    "    print(\"El valor de este num es 12\")\n",
    "elif num == 13:\n",
    "    print(\"Dentro del bloque elif\")\n",
    "    print(\"El valor de este num es 13\")\n",
    "else: # De lo contrario\n",
    "    print(\"Dentro del bloque else\")\n",
    "    print(\"Else\")\n",
    "    print(\"ELSE\")\n",
    "    print(\"La condición no se cumplió\")\n",
    "print(\"Final del ejemplo\")"
   ]
  },
  {
   "cell_type": "code",
   "execution_count": 31,
   "id": "7533fd6b",
   "metadata": {},
   "outputs": [
    {
     "name": "stdout",
     "output_type": "stream",
     "text": [
      "Dentro del bloque else\n",
      "Else\n",
      "ELSE\n",
      "Ninguna de las condiciones se cumplió\n",
      "Final del ejemplo\n"
     ]
    }
   ],
   "source": [
    "num = 14\n",
    "if num > 1 and num < 10: # No se cumple\n",
    "    print(\"Dentro del bloque if\")\n",
    "    print(\"test\")\n",
    "    print(\"Probando!!!\")\n",
    "elif num == 11:\n",
    "    print(\"Dentro del bloque elif\")\n",
    "    print(\"El valor de este num es 11\")\n",
    "elif num == 12:\n",
    "    print(\"Dentro del bloque elif\")\n",
    "    print(\"El valor de este num es 12\")\n",
    "elif num == 13:\n",
    "    print(\"Dentro del bloque elif\")\n",
    "    print(\"El valor de este num es 13\")\n",
    "else: # De lo contrario\n",
    "    print(\"Dentro del bloque else\")\n",
    "    print(\"Else\")\n",
    "    print(\"ELSE\")\n",
    "    print(\"Ninguna de las condiciones se cumplió\")\n",
    "print(\"Final del ejemplo\")"
   ]
  },
  {
   "cell_type": "markdown",
   "id": "e6be0b77",
   "metadata": {},
   "source": [
    "## IFS anidados\n",
    "- Un if anidado es un if que está dentro de otro if\n",
    "- Son bastante comunes\n",
    "- Los ifs anidados sólo se valúan si el if exterior es verdadero"
   ]
  },
  {
   "cell_type": "code",
   "execution_count": 32,
   "id": "9bc07b14",
   "metadata": {},
   "outputs": [
    {
     "name": "stdout",
     "output_type": "stream",
     "text": [
      "Dentro del bloque if\n",
      "El número es mayor o igual que 1\n",
      "Final del ejemplo\n"
     ]
    }
   ],
   "source": [
    "num = 3\n",
    "if num >= 1:\n",
    "    print(\"Dentro del bloque if\")\n",
    "    print(\"El número es mayor o igual que 1\")\n",
    "    if num >=10:\n",
    "        print(\"Dentro del bloque if anidado\")\n",
    "        print(\"El número es mayor o igual que 10\")\n",
    "print(\"Final del ejemplo\")"
   ]
  },
  {
   "cell_type": "code",
   "execution_count": 33,
   "id": "2f83d6db",
   "metadata": {},
   "outputs": [
    {
     "name": "stdout",
     "output_type": "stream",
     "text": [
      "Dentro del bloque if\n",
      "El número es mayor o igual que 1\n",
      "Dentro del bloque if anidado\n",
      "El número es mayor o igual que 10\n",
      "Final del ejemplo\n"
     ]
    }
   ],
   "source": [
    "num = 10\n",
    "if num >= 1:\n",
    "    print(\"Dentro del bloque if\")\n",
    "    print(\"El número es mayor o igual que 1\")\n",
    "    if num >=10:\n",
    "        print(\"Dentro del bloque if anidado\")\n",
    "        print(\"El número es mayor o igual que 10\")\n",
    "print(\"Final del ejemplo\")"
   ]
  },
  {
   "cell_type": "code",
   "execution_count": 34,
   "id": "655f6ff5",
   "metadata": {},
   "outputs": [
    {
     "name": "stdout",
     "output_type": "stream",
     "text": [
      "Final del ejemplo\n"
     ]
    }
   ],
   "source": [
    "num = 10\n",
    "if num >= 100:\n",
    "    print(\"Dentro del bloque if\")\n",
    "    print(\"El número es mayor o igual que 1\")\n",
    "    if num >=10:\n",
    "        print(\"Dentro del bloque if anidado\")\n",
    "        print(\"El número es mayor o igual que 10\")\n",
    "print(\"Final del ejemplo\")"
   ]
  },
  {
   "cell_type": "markdown",
   "id": "a8818172",
   "metadata": {},
   "source": [
    "## Pruebas de afiliación\n",
    "- Los operadores de afiliación son usados para verificar si un valor está presente o no en una secuencia\n",
    "- Los operadores son \"in\" y \"not in\"\n",
    "- Puedes hacer Pruebas de Afiliación para todas las estructuras de datos como Listas, Tuplas, Sets y Diccionarios\n",
    "- También se pueden hacer pruebas de Afiliación para cadenas en Python\n",
    "- Los operadores de afiliación se usan para encontrar rápidamente si ciertos valores están disponibles o no"
   ]
  },
  {
   "cell_type": "markdown",
   "id": "a3b06267",
   "metadata": {},
   "source": [
    "### Prueba de Afiliación para Cadenas/Strings"
   ]
  },
  {
   "cell_type": "code",
   "execution_count": 35,
   "id": "fa06c259",
   "metadata": {},
   "outputs": [
    {
     "name": "stdout",
     "output_type": "stream",
     "text": [
      "True\n"
     ]
    }
   ],
   "source": [
    "my=string = \"Backend Python\"\n",
    "print(\"a\" in my_string)"
   ]
  },
  {
   "cell_type": "code",
   "execution_count": 36,
   "id": "f1809a9a",
   "metadata": {},
   "outputs": [
    {
     "name": "stdout",
     "output_type": "stream",
     "text": [
      "False\n"
     ]
    }
   ],
   "source": [
    "my=string = \"Backend Python\"\n",
    "print(\"z\" in my_string)"
   ]
  },
  {
   "cell_type": "code",
   "execution_count": 37,
   "id": "00d96c09",
   "metadata": {},
   "outputs": [
    {
     "name": "stdout",
     "output_type": "stream",
     "text": [
      "False\n"
     ]
    }
   ],
   "source": [
    "my=string = \"Backend Python\"\n",
    "print(\"a\" not in my_string)"
   ]
  },
  {
   "cell_type": "code",
   "execution_count": 39,
   "id": "434335c4",
   "metadata": {},
   "outputs": [
    {
     "name": "stdout",
     "output_type": "stream",
     "text": [
      "True\n"
     ]
    }
   ],
   "source": [
    "my=string = \"Backend Python\"\n",
    "print(\"z\" not in my_string)"
   ]
  },
  {
   "cell_type": "code",
   "execution_count": 40,
   "id": "137a6b87",
   "metadata": {},
   "outputs": [
    {
     "name": "stdout",
     "output_type": "stream",
     "text": [
      "True\n"
     ]
    }
   ],
   "source": [
    "my=string = \"Backend Python\"\n",
    "print(\"Backend\" in my_string)"
   ]
  },
  {
   "cell_type": "code",
   "execution_count": 41,
   "id": "d8f03fc4",
   "metadata": {},
   "outputs": [
    {
     "name": "stdout",
     "output_type": "stream",
     "text": [
      "True\n"
     ]
    }
   ],
   "source": [
    "my=string = \"Backend Python\"\n",
    "print(\"Backend Py\" in my_string)"
   ]
  },
  {
   "cell_type": "code",
   "execution_count": 42,
   "id": "f0b7c1f0",
   "metadata": {},
   "outputs": [
    {
     "name": "stdout",
     "output_type": "stream",
     "text": [
      "False\n"
     ]
    }
   ],
   "source": [
    "my=string = \"Backend Python\"\n",
    "print(\"BackendPy\" in my_string)"
   ]
  },
  {
   "cell_type": "markdown",
   "id": "132e4c4d",
   "metadata": {},
   "source": [
    "### Prueba de Afiliación para Tuplas"
   ]
  },
  {
   "cell_type": "code",
   "execution_count": 43,
   "id": "01b1f9f8",
   "metadata": {},
   "outputs": [
    {
     "name": "stdout",
     "output_type": "stream",
     "text": [
      "True\n"
     ]
    }
   ],
   "source": [
    "my_tuple = (\"a\",\"b\",\"c\",\"d\",\"e\")\n",
    "print(\"c\" in my_tuple)"
   ]
  },
  {
   "cell_type": "code",
   "execution_count": 44,
   "id": "3b7852c5",
   "metadata": {},
   "outputs": [
    {
     "name": "stdout",
     "output_type": "stream",
     "text": [
      "False\n"
     ]
    }
   ],
   "source": [
    "my_tuple = (\"a\",\"b\",\"c\",\"d\",\"e\")\n",
    "print(\"h\" in my_tuple)"
   ]
  },
  {
   "cell_type": "code",
   "execution_count": 46,
   "id": "b9709176",
   "metadata": {},
   "outputs": [
    {
     "name": "stdout",
     "output_type": "stream",
     "text": [
      "True\n"
     ]
    }
   ],
   "source": [
    "my_tuple = (1,2,3,4,5)\n",
    "print(5 in my_tuple)"
   ]
  },
  {
   "cell_type": "code",
   "execution_count": 47,
   "id": "0b51be15",
   "metadata": {},
   "outputs": [
    {
     "name": "stdout",
     "output_type": "stream",
     "text": [
      "False\n"
     ]
    }
   ],
   "source": [
    "my_tuple = (1,2,3,4,5)\n",
    "print(6 in my_tuple)"
   ]
  },
  {
   "cell_type": "code",
   "execution_count": 48,
   "id": "a7b1294f",
   "metadata": {},
   "outputs": [
    {
     "name": "stdout",
     "output_type": "stream",
     "text": [
      "True\n"
     ]
    }
   ],
   "source": [
    "my_tuple = (1,2,3,4,5)\n",
    "print(6 not in my_tuple)"
   ]
  },
  {
   "cell_type": "markdown",
   "id": "a09c2bf4",
   "metadata": {},
   "source": [
    "### Prueba de Afiliación para Listas"
   ]
  },
  {
   "cell_type": "code",
   "execution_count": 49,
   "id": "f75d56ff",
   "metadata": {},
   "outputs": [
    {
     "name": "stdout",
     "output_type": "stream",
     "text": [
      "False\n"
     ]
    }
   ],
   "source": [
    "my_list = [\"a\",\"b\",\"c\",\"d\",\"e\"]\n",
    "print(\"h\" in my_list)"
   ]
  },
  {
   "cell_type": "code",
   "execution_count": 50,
   "id": "9b2881e0",
   "metadata": {},
   "outputs": [
    {
     "name": "stdout",
     "output_type": "stream",
     "text": [
      "True\n"
     ]
    }
   ],
   "source": [
    "my_list = [\"a\",\"b\",\"c\",\"d\",\"e\"]\n",
    "print(\"c\" in my_list)"
   ]
  },
  {
   "cell_type": "code",
   "execution_count": 51,
   "id": "9c3c095c",
   "metadata": {},
   "outputs": [
    {
     "name": "stdout",
     "output_type": "stream",
     "text": [
      "False\n"
     ]
    }
   ],
   "source": [
    "my_list = [\"a\",\"b\",\"c\",\"d\",\"e\"]\n",
    "print(\"c\" not in my_list)"
   ]
  },
  {
   "cell_type": "code",
   "execution_count": 52,
   "id": "afd99708",
   "metadata": {},
   "outputs": [
    {
     "name": "stdout",
     "output_type": "stream",
     "text": [
      "True\n"
     ]
    }
   ],
   "source": [
    "my_list = [\"a\",\"b\",\"c\",\"d\",\"e\"]\n",
    "print(\"h\" not in my_list)"
   ]
  },
  {
   "cell_type": "code",
   "execution_count": 53,
   "id": "0ad968d2",
   "metadata": {},
   "outputs": [
    {
     "name": "stdout",
     "output_type": "stream",
     "text": [
      "False\n"
     ]
    }
   ],
   "source": [
    "my_list = [1,2,3,4,5]\n",
    "print(1 not in my_list)"
   ]
  },
  {
   "cell_type": "code",
   "execution_count": 54,
   "id": "4fc94ebe",
   "metadata": {},
   "outputs": [
    {
     "name": "stdout",
     "output_type": "stream",
     "text": [
      "True\n"
     ]
    }
   ],
   "source": [
    "my_list = [1,2,3,4,5]\n",
    "print(1 in my_list)"
   ]
  },
  {
   "cell_type": "markdown",
   "id": "2b21e209",
   "metadata": {},
   "source": [
    "### Pruebas de Afiliación para Sets"
   ]
  },
  {
   "cell_type": "code",
   "execution_count": 55,
   "id": "349e13d2",
   "metadata": {},
   "outputs": [
    {
     "name": "stdout",
     "output_type": "stream",
     "text": [
      "True\n"
     ]
    }
   ],
   "source": [
    "my_set = {\"a\",\"b\",\"c\",\"d\",\"e\"}\n",
    "print(\"h\" not in my_set)"
   ]
  },
  {
   "cell_type": "code",
   "execution_count": 56,
   "id": "80332bf5",
   "metadata": {},
   "outputs": [
    {
     "name": "stdout",
     "output_type": "stream",
     "text": [
      "False\n"
     ]
    }
   ],
   "source": [
    "my_set = {\"a\",\"b\",\"c\",\"d\",\"e\"}\n",
    "print(\"h\" in my_set)"
   ]
  },
  {
   "cell_type": "code",
   "execution_count": 57,
   "id": "cc60cb20",
   "metadata": {},
   "outputs": [
    {
     "name": "stdout",
     "output_type": "stream",
     "text": [
      "False\n"
     ]
    }
   ],
   "source": [
    "my_set = {1,2,3,4,5}\n",
    "print(5 not in my_set)"
   ]
  },
  {
   "cell_type": "code",
   "execution_count": 58,
   "id": "f6f8672f",
   "metadata": {},
   "outputs": [
    {
     "name": "stdout",
     "output_type": "stream",
     "text": [
      "True\n"
     ]
    }
   ],
   "source": [
    "my_set = {1,2,3,4,5}\n",
    "print(5 in my_set)"
   ]
  },
  {
   "cell_type": "markdown",
   "id": "1efb108d",
   "metadata": {},
   "source": [
    "### Pruebas de Afiliación para Diccionarios\n",
    "- Valida si está presente en las llaves"
   ]
  },
  {
   "cell_type": "code",
   "execution_count": 60,
   "id": "8418d2b5",
   "metadata": {},
   "outputs": [
    {
     "name": "stdout",
     "output_type": "stream",
     "text": [
      "True\n"
     ]
    }
   ],
   "source": [
    "my_dict = {\"a\":100,\"b\":130,\"c\":100,\"d\":170,\"e\":200,}\n",
    "print(\"c\" in my_dict)"
   ]
  },
  {
   "cell_type": "code",
   "execution_count": 61,
   "id": "114c3335",
   "metadata": {},
   "outputs": [
    {
     "name": "stdout",
     "output_type": "stream",
     "text": [
      "False\n"
     ]
    }
   ],
   "source": [
    "my_dict = {\"a\":100,\"b\":130,\"c\":100,\"d\":170,\"e\":200,}\n",
    "print(100 in my_dict)"
   ]
  },
  {
   "cell_type": "code",
   "execution_count": 62,
   "id": "da7b67c5",
   "metadata": {},
   "outputs": [
    {
     "name": "stdout",
     "output_type": "stream",
     "text": [
      "True\n"
     ]
    }
   ],
   "source": [
    "my_dict = {\"a\":100,\"b\":130,\"c\":100,\"d\":170,\"e\":200,}\n",
    "print(100 in my_dict.values()) # Para saber el valor de las values y no las keys"
   ]
  },
  {
   "cell_type": "code",
   "execution_count": 63,
   "id": "a2cb87e0",
   "metadata": {},
   "outputs": [
    {
     "name": "stdout",
     "output_type": "stream",
     "text": [
      "False\n"
     ]
    }
   ],
   "source": [
    "my_dict = {\"a\":100,\"b\":130,\"c\":100,\"d\":170,\"e\":200,}\n",
    "print(300 in my_dict.values()) # Para saber el valor de las values y no las keys"
   ]
  },
  {
   "cell_type": "code",
   "execution_count": 64,
   "id": "58b5d5a0",
   "metadata": {},
   "outputs": [
    {
     "name": "stdout",
     "output_type": "stream",
     "text": [
      "True\n"
     ]
    }
   ],
   "source": [
    "my_dict = {\"a\":100,\"b\":130,\"c\":100,\"d\":170,\"e\":200,}\n",
    "print(300 not in my_dict.values()) # Para saber el valor de las values y no las keys"
   ]
  },
  {
   "cell_type": "code",
   "execution_count": null,
   "id": "dc041860",
   "metadata": {},
   "outputs": [],
   "source": []
  }
 ],
 "metadata": {
  "kernelspec": {
   "display_name": "Python 3 (ipykernel)",
   "language": "python",
   "name": "python3"
  },
  "language_info": {
   "codemirror_mode": {
    "name": "ipython",
    "version": 3
   },
   "file_extension": ".py",
   "mimetype": "text/x-python",
   "name": "python",
   "nbconvert_exporter": "python",
   "pygments_lexer": "ipython3",
   "version": "3.11.3"
  }
 },
 "nbformat": 4,
 "nbformat_minor": 5
}
